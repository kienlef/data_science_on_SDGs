{
 "cells": [
  {
   "cell_type": "markdown",
   "metadata": {},
   "source": [
    "# First Visualization of time series\n",
    "\n",
    "The idea of this section is to present a basic \n",
    "starting point for time-series visualization\n",
    "Two libraries are presented: pandas and plotly.\n",
    "Both come with extensive documentation and possibilities\n",
    "\n",
    "pandas: https://pandas.pydata.org/docs/index.html\n",
    "\n",
    "plotly: https://plotly.com/python/\n",
    "\n",
    "\n",
    "This script should give you a very compact starting point for further exploration.\n",
    "A minimal understanding of python is mandatory."
   ]
  },
  {
   "cell_type": "code",
   "execution_count": null,
   "metadata": {},
   "outputs": [],
   "source": []
  },
  {
   "cell_type": "code",
   "execution_count": 37,
   "metadata": {},
   "outputs": [],
   "source": [
    "import pandas as pd\n",
    "import plotly.express as px\n",
    "#https://plotly.com/\n",
    "import os"
   ]
  },
  {
   "cell_type": "code",
   "execution_count": 39,
   "metadata": {},
   "outputs": [
    {
     "name": "stdout",
     "output_type": "stream",
     "text": [
      "/Users/kienlef/Documents/Vorlesung/2022_SDG_Analytics/data/OWD_clean_indicators\r\n"
     ]
    }
   ],
   "source": [
    "!pwd"
   ]
  },
  {
   "cell_type": "code",
   "execution_count": 41,
   "metadata": {},
   "outputs": [
    {
     "name": "stdout",
     "output_type": "stream",
     "text": [
      "Current path is: /Users/kienlef/Documents/Vorlesung/2022_SDG_Analytics/data/OWD_clean_indicators\n"
     ]
    }
   ],
   "source": [
    "#\n",
    "path='../data/OWD_clean_indicators/'\n",
    "try:\n",
    "    os.chdir(path) # change path\n",
    "except:\n",
    "    print('Current path is: '+os.getcwd())\n",
    "    pass\n",
    "    \n",
    "files = os.listdir() ## which files are there"
   ]
  },
  {
   "cell_type": "code",
   "execution_count": null,
   "metadata": {},
   "outputs": [],
   "source": []
  },
  {
   "cell_type": "code",
   "execution_count": 5,
   "metadata": {},
   "outputs": [
    {
     "data": {
      "text/plain": [
       "['11.6.2 PM25-air-pollution.csv',\n",
       " '6.4.1 water-productivity.csv',\n",
       " '5.5.1 seats-held-by-women-in-national-parliaments.csv',\n",
       " '.DS_Store',\n",
       " '9.5.2 researchers-in-rd-per-million-people.csv',\n",
       " '3.8.1 healthcare-access-and-quality-index.csv',\n",
       " 'Overview_DEU_correlation.html',\n",
       " '7.3.1 energy-intensity-of-economies.csv',\n",
       " '9.4.1 cco2-intensity.csv',\n",
       " '16.1.1 intentional-homicides-per-100000-people.csv',\n",
       " '8.1.1. gdp-per-capita-worldbank.csv',\n",
       " '12.5.1 municipal-waste-recycled.csv',\n",
       " '12.2.1 material-footprint-per-capita.csv',\n",
       " '7.2.1 renewables-share-final-energy.csv',\n",
       " '9.2.2. industry-share-of-total-emplyoment.csv',\n",
       " '15.1..1 forest-area-as-share-of-land-area.csv',\n",
       " '12.2.2 domestic-material-consumption-per-capita.csv',\n",
       " '4.3.1 gross-enrollment-ratio-in-tertiary-education.csv',\n",
       " '13.2.1 co-emissions-per-capita.csv',\n",
       " '2.3.1 agriculture-value-added-per-worker-wdi.csv',\n",
       " '1.a.2 health-expenditure-government-expenditure.csv']"
      ]
     },
     "execution_count": 5,
     "metadata": {},
     "output_type": "execute_result"
    }
   ],
   "source": [
    "files = os.listdir() ## which files are there\n",
    "files"
   ]
  },
  {
   "cell_type": "code",
   "execution_count": 49,
   "metadata": {},
   "outputs": [],
   "source": [
    "df_data=pd.read_csv('8.1.1. gdp-per-capita-worldbank.csv',sep=',')"
   ]
  },
  {
   "cell_type": "code",
   "execution_count": 53,
   "metadata": {},
   "outputs": [
    {
     "data": {
      "text/html": [
       "<div>\n",
       "<style scoped>\n",
       "    .dataframe tbody tr th:only-of-type {\n",
       "        vertical-align: middle;\n",
       "    }\n",
       "\n",
       "    .dataframe tbody tr th {\n",
       "        vertical-align: top;\n",
       "    }\n",
       "\n",
       "    .dataframe thead th {\n",
       "        text-align: right;\n",
       "    }\n",
       "</style>\n",
       "<table border=\"1\" class=\"dataframe\">\n",
       "  <thead>\n",
       "    <tr style=\"text-align: right;\">\n",
       "      <th></th>\n",
       "      <th>Entity</th>\n",
       "      <th>Code</th>\n",
       "      <th>Year</th>\n",
       "      <th>GDP per capita, PPP (constant 2017 international $)</th>\n",
       "    </tr>\n",
       "  </thead>\n",
       "  <tbody>\n",
       "    <tr>\n",
       "      <th>0</th>\n",
       "      <td>Afghanistan</td>\n",
       "      <td>AFG</td>\n",
       "      <td>2002</td>\n",
       "      <td>1189.784668</td>\n",
       "    </tr>\n",
       "    <tr>\n",
       "      <th>1</th>\n",
       "      <td>Afghanistan</td>\n",
       "      <td>AFG</td>\n",
       "      <td>2003</td>\n",
       "      <td>1235.810063</td>\n",
       "    </tr>\n",
       "    <tr>\n",
       "      <th>2</th>\n",
       "      <td>Afghanistan</td>\n",
       "      <td>AFG</td>\n",
       "      <td>2004</td>\n",
       "      <td>1200.278013</td>\n",
       "    </tr>\n",
       "    <tr>\n",
       "      <th>3</th>\n",
       "      <td>Afghanistan</td>\n",
       "      <td>AFG</td>\n",
       "      <td>2005</td>\n",
       "      <td>1286.793659</td>\n",
       "    </tr>\n",
       "    <tr>\n",
       "      <th>4</th>\n",
       "      <td>Afghanistan</td>\n",
       "      <td>AFG</td>\n",
       "      <td>2006</td>\n",
       "      <td>1315.789117</td>\n",
       "    </tr>\n",
       "    <tr>\n",
       "      <th>...</th>\n",
       "      <td>...</td>\n",
       "      <td>...</td>\n",
       "      <td>...</td>\n",
       "      <td>...</td>\n",
       "    </tr>\n",
       "    <tr>\n",
       "      <th>7104</th>\n",
       "      <td>Zimbabwe</td>\n",
       "      <td>ZWE</td>\n",
       "      <td>2016</td>\n",
       "      <td>3173.610829</td>\n",
       "    </tr>\n",
       "    <tr>\n",
       "      <th>7105</th>\n",
       "      <td>Zimbabwe</td>\n",
       "      <td>ZWE</td>\n",
       "      <td>2017</td>\n",
       "      <td>3274.611198</td>\n",
       "    </tr>\n",
       "    <tr>\n",
       "      <th>7106</th>\n",
       "      <td>Zimbabwe</td>\n",
       "      <td>ZWE</td>\n",
       "      <td>2018</td>\n",
       "      <td>3341.665418</td>\n",
       "    </tr>\n",
       "    <tr>\n",
       "      <th>7107</th>\n",
       "      <td>Zimbabwe</td>\n",
       "      <td>ZWE</td>\n",
       "      <td>2019</td>\n",
       "      <td>3027.656038</td>\n",
       "    </tr>\n",
       "    <tr>\n",
       "      <th>7108</th>\n",
       "      <td>Zimbabwe</td>\n",
       "      <td>ZWE</td>\n",
       "      <td>2020</td>\n",
       "      <td>2744.690758</td>\n",
       "    </tr>\n",
       "  </tbody>\n",
       "</table>\n",
       "<p>7109 rows × 4 columns</p>\n",
       "</div>"
      ],
      "text/plain": [
       "           Entity Code  Year  \\\n",
       "0     Afghanistan  AFG  2002   \n",
       "1     Afghanistan  AFG  2003   \n",
       "2     Afghanistan  AFG  2004   \n",
       "3     Afghanistan  AFG  2005   \n",
       "4     Afghanistan  AFG  2006   \n",
       "...           ...  ...   ...   \n",
       "7104     Zimbabwe  ZWE  2016   \n",
       "7105     Zimbabwe  ZWE  2017   \n",
       "7106     Zimbabwe  ZWE  2018   \n",
       "7107     Zimbabwe  ZWE  2019   \n",
       "7108     Zimbabwe  ZWE  2020   \n",
       "\n",
       "      GDP per capita, PPP (constant 2017 international $)  \n",
       "0                                           1189.784668    \n",
       "1                                           1235.810063    \n",
       "2                                           1200.278013    \n",
       "3                                           1286.793659    \n",
       "4                                           1315.789117    \n",
       "...                                                 ...    \n",
       "7104                                        3173.610829    \n",
       "7105                                        3274.611198    \n",
       "7106                                        3341.665418    \n",
       "7107                                        3027.656038    \n",
       "7108                                        2744.690758    \n",
       "\n",
       "[7109 rows x 4 columns]"
      ]
     },
     "execution_count": 53,
     "metadata": {},
     "output_type": "execute_result"
    }
   ],
   "source": [
    "df_data"
   ]
  },
  {
   "cell_type": "code",
   "execution_count": 57,
   "metadata": {},
   "outputs": [
    {
     "data": {
      "text/plain": [
       "Index(['Entity', 'Code', 'Year',\n",
       "       'GDP per capita, PPP (constant 2017 international $)'],\n",
       "      dtype='object')"
      ]
     },
     "execution_count": 57,
     "metadata": {},
     "output_type": "execute_result"
    }
   ],
   "source": [
    "#accessing column names\n",
    "df_data.columns"
   ]
  },
  {
   "cell_type": "markdown",
   "metadata": {},
   "source": [
    "# Slice out one country"
   ]
  },
  {
   "cell_type": "code",
   "execution_count": 65,
   "metadata": {},
   "outputs": [],
   "source": [
    "my_data=df_data[df_data['Code']=='USA']\n",
    "my_data=my_data.set_index('Year')"
   ]
  },
  {
   "cell_type": "code",
   "execution_count": 67,
   "metadata": {},
   "outputs": [
    {
     "data": {
      "text/plain": [
       "<AxesSubplot:xlabel='Year'>"
      ]
     },
     "execution_count": 67,
     "metadata": {},
     "output_type": "execute_result"
    },
    {
     "data": {
      "image/png": "[encoded data removed]",
      "text/plain": [
       "<Figure size 432x288 with 1 Axes>"
      ]
     },
     "metadata": {
      "needs_background": "light"
     },
     "output_type": "display_data"
    }
   ],
   "source": [
    "my_data['GDP per capita, PPP (constant 2017 international $)'].plot()"
   ]
  },
  {
   "cell_type": "code",
   "execution_count": null,
   "metadata": {},
   "outputs": [],
   "source": []
  },
  {
   "cell_type": "markdown",
   "metadata": {},
   "source": [
    "# visualize multiple countries"
   ]
  },
  {
   "cell_type": "code",
   "execution_count": 68,
   "metadata": {},
   "outputs": [
    {
     "data": {
      "text/html": [
       "<div>\n",
       "<style scoped>\n",
       "    .dataframe tbody tr th:only-of-type {\n",
       "        vertical-align: middle;\n",
       "    }\n",
       "\n",
       "    .dataframe tbody tr th {\n",
       "        vertical-align: top;\n",
       "    }\n",
       "\n",
       "    .dataframe thead th {\n",
       "        text-align: right;\n",
       "    }\n",
       "</style>\n",
       "<table border=\"1\" class=\"dataframe\">\n",
       "  <thead>\n",
       "    <tr style=\"text-align: right;\">\n",
       "      <th></th>\n",
       "      <th>Entity</th>\n",
       "      <th>Code</th>\n",
       "      <th>Year</th>\n",
       "      <th>GDP per capita, PPP (constant 2017 international $)</th>\n",
       "    </tr>\n",
       "  </thead>\n",
       "  <tbody>\n",
       "    <tr>\n",
       "      <th>817</th>\n",
       "      <td>Brazil</td>\n",
       "      <td>BRA</td>\n",
       "      <td>1990</td>\n",
       "      <td>10521.121015</td>\n",
       "    </tr>\n",
       "    <tr>\n",
       "      <th>818</th>\n",
       "      <td>Brazil</td>\n",
       "      <td>BRA</td>\n",
       "      <td>1991</td>\n",
       "      <td>10493.928311</td>\n",
       "    </tr>\n",
       "    <tr>\n",
       "      <th>819</th>\n",
       "      <td>Brazil</td>\n",
       "      <td>BRA</td>\n",
       "      <td>1992</td>\n",
       "      <td>10268.114098</td>\n",
       "    </tr>\n",
       "    <tr>\n",
       "      <th>820</th>\n",
       "      <td>Brazil</td>\n",
       "      <td>BRA</td>\n",
       "      <td>1993</td>\n",
       "      <td>10569.695103</td>\n",
       "    </tr>\n",
       "    <tr>\n",
       "      <th>821</th>\n",
       "      <td>Brazil</td>\n",
       "      <td>BRA</td>\n",
       "      <td>1994</td>\n",
       "      <td>10953.120258</td>\n",
       "    </tr>\n",
       "  </tbody>\n",
       "</table>\n",
       "</div>"
      ],
      "text/plain": [
       "     Entity Code  Year  GDP per capita, PPP (constant 2017 international $)\n",
       "817  Brazil  BRA  1990                                       10521.121015  \n",
       "818  Brazil  BRA  1991                                       10493.928311  \n",
       "819  Brazil  BRA  1992                                       10268.114098  \n",
       "820  Brazil  BRA  1993                                       10569.695103  \n",
       "821  Brazil  BRA  1994                                       10953.120258  "
      ]
     },
     "execution_count": 68,
     "metadata": {},
     "output_type": "execute_result"
    }
   ],
   "source": [
    "## get a list of countries\n",
    "c_list=['DEU','GBR','USA','IND','ISR','ITA','BRA','RUS','CHN','EGY']\n",
    "my_countries=df_data[df_data['Code'].isin(c_list)]\n",
    "my_countries.head(5)"
   ]
  },
  {
   "cell_type": "code",
   "execution_count": 69,
   "metadata": {
    "scrolled": false
   },
   "outputs": [
    {
     "data": {
      "application/vnd.plotly.v1+json": {
       "config": {
        "plotlyServerURL": "https://plot.ly"
       },
       "data": [
        {
         "hovertemplate": "Code=BRA<br>Year=%{x}<br>GDP per capita, PPP (constant 2017 international $)=%{y}<extra></extra>",
         "legendgroup": "BRA",
         "line": {
          "color": "#636efa",
          "dash": "solid"
         },
         "mode": "lines",
         "name": "BRA",
         "orientation": "v",
         "showlegend": true,
         "type": "scatter",
         "x": [
          1990,
          1991,
          1992,
          1993,
          1994,
          1995,
          1996,
          1997,
          1998,
          1999,
          2000,
          2001,
          2002,
          2003,
          2004,
          2005,
          2006,
          2007,
          2008,
          2009,
          2010,
          2011,
          2012,
          2013,
          2014,
          2015,
          2016,
          2017,
          2018,
          2019,
          2020
         ],
         "xaxis": "x",
         "y": [
          10521.1210145068,
          10493.9283113252,
          10268.1140980509,
          10569.6951031084,
          10953.1202584745,
          11254.2631818166,
          11321.3898730692,
          11524.1110690961,
          11387.6235574879,
          11272.7068003778,
          11600.9484568395,
          11602.4996033575,
          11800.8409655572,
          11786.3337522352,
          12316.3742641535,
          12565.9413936417,
          12922.1554849938,
          13564.9941989629,
          14114.9747702043,
          13962.2588783344,
          14873.2083173363,
          15323.3317296101,
          15478.789287159,
          15805.2229104458,
          15749.5121636511,
          15064.1760689478,
          14451.1528421912,
          14524.6135408175,
          14668.2561636292,
          14763.8716968734,
          14063.9825053838
         ],
         "yaxis": "y"
        },
        {
         "hovertemplate": "Code=CHN<br>Year=%{x}<br>GDP per capita, PPP (constant 2017 international $)=%{y}<extra></extra>",
         "legendgroup": "CHN",
         "line": {
          "color": "#EF553B",
          "dash": "solid"
         },
         "mode": "lines",
         "name": "CHN",
         "orientation": "v",
         "showlegend": true,
         "type": "scatter",
         "x": [
          1990,
          1991,
          1992,
          1993,
          1994,
          1995,
          1996,
          1997,
          1998,
          1999,
          2000,
          2001,
          2002,
          2003,
          2004,
          2005,
          2006,
          2007,
          2008,
          2009,
          2010,
          2011,
          2012,
          2013,
          2014,
          2015,
          2016,
          2017,
          2018,
          2019,
          2020
         ],
         "xaxis": "x",
         "y": [
          1423.89634790711,
          1534.70527155072,
          1731.65721549507,
          1949.534268233,
          2178.9240567606,
          2391.47711558936,
          2601.36342607386,
          2812.71113459466,
          3004.42734154703,
          3206.73002570818,
          3451.67923092858,
          3712.33813234069,
          4024.35569663549,
          4400.82518341212,
          4817.21184452758,
          5334.6466393818,
          5979.78171182527,
          6795.17401237991,
          7412.87436349204,
          8069.35463837756,
          8884.58803122605,
          9686.61528974418,
          10397.5614154951,
          11149.8675587707,
          11917.3384959933,
          12691.8215526921,
          13487.8224816787,
          14344.4212394424,
          15242.9858575834,
          16092.300767051,
          16410.7977967813
         ],
         "yaxis": "y"
        },
        {
         "hovertemplate": "Code=EGY<br>Year=%{x}<br>GDP per capita, PPP (constant 2017 international $)=%{y}<extra></extra>",
         "legendgroup": "EGY",
         "line": {
          "color": "#00cc96",
          "dash": "solid"
         },
         "mode": "lines",
         "name": "EGY",
         "orientation": "v",
         "showlegend": true,
         "type": "scatter",
         "x": [
          1990,
          1991,
          1992,
          1993,
          1994,
          1995,
          1996,
          1997,
          1998,
          1999,
          2000,
          2001,
          2002,
          2003,
          2004,
          2005,
          2006,
          2007,
          2008,
          2009,
          2010,
          2011,
          2012,
          2013,
          2014,
          2015,
          2016,
          2017,
          2018,
          2019,
          2020
         ],
         "xaxis": "x",
         "y": [
          6086.68675366987,
          6016.9069690654,
          6152.92900367738,
          6203.06819620047,
          6321.25070751336,
          6483.31562051125,
          6671.08939267294,
          6897.52124163154,
          7138.21220132707,
          7422.83529863806,
          7744.71523809311,
          7867.50743983462,
          7905.41251956336,
          8007.6450292324,
          8184.06580830494,
          8397.03244402289,
          8814.14605018027,
          9274.97705396552,
          9763.50444936789,
          10031.0329555174,
          10340.0732290684,
          10302.4428451733,
          10301.1078078999,
          10290.191622314,
          10353.6668042394,
          10570.4452319757,
          10795.8087418385,
          11014.4864791744,
          11366.3355206681,
          11763.2532849551,
          11951.4475270117
         ],
         "yaxis": "y"
        },
        {
         "hovertemplate": "Code=DEU<br>Year=%{x}<br>GDP per capita, PPP (constant 2017 international $)=%{y}<extra></extra>",
         "legendgroup": "DEU",
         "line": {
          "color": "#ab63fa",
          "dash": "solid"
         },
         "mode": "lines",
         "name": "DEU",
         "orientation": "v",
         "showlegend": true,
         "type": "scatter",
         "x": [
          1990,
          1991,
          1992,
          1993,
          1994,
          1995,
          1996,
          1997,
          1998,
          1999,
          2000,
          2001,
          2002,
          2003,
          2004,
          2005,
          2006,
          2007,
          2008,
          2009,
          2010,
          2011,
          2012,
          2013,
          2014,
          2015,
          2016,
          2017,
          2018,
          2019,
          2020
         ],
         "xaxis": "x",
         "y": [
          36645.4103412106,
          38237.7340607357,
          38677.8680960784,
          38049.0880729596,
          38824.2827705785,
          39308.0884160853,
          39510.3038787611,
          40159.5902438183,
          40962.1737598441,
          41708.2702746412,
          42864.9328892862,
          43512.43267398,
          43353.3388942422,
          43025.9877312919,
          43541.0326202312,
          43884.5352789987,
          45610.7818923168,
          47031.2137894261,
          47573.0273603862,
          44978.1198711897,
          46929.9934093156,
          49684.6130740715,
          49798.9676727479,
          49880.5735214304,
          50770.6134878236,
          51083.9216615196,
          51803.2354226767,
          52952.8750212389,
          53463.4014817389,
          53639.26072156,
          50922.3580234484
         ],
         "yaxis": "y"
        },
        {
         "hovertemplate": "Code=IND<br>Year=%{x}<br>GDP per capita, PPP (constant 2017 international $)=%{y}<extra></extra>",
         "legendgroup": "IND",
         "line": {
          "color": "#FFA15A",
          "dash": "solid"
         },
         "mode": "lines",
         "name": "IND",
         "orientation": "v",
         "showlegend": true,
         "type": "scatter",
         "x": [
          1990,
          1991,
          1992,
          1993,
          1994,
          1995,
          1996,
          1997,
          1998,
          1999,
          2000,
          2001,
          2002,
          2003,
          2004,
          2005,
          2006,
          2007,
          2008,
          2009,
          2010,
          2011,
          2012,
          2013,
          2014,
          2015,
          2016,
          2017,
          2018,
          2019,
          2020
         ],
         "xaxis": "x",
         "y": [
          1813.13585285954,
          1795.30232564205,
          1856.1705823103,
          1906.41205810118,
          1994.2269155916,
          2104.50529785736,
          2220.89320250685,
          2268.04308700991,
          2364.40868741246,
          2527.50834683315,
          2578.59152976754,
          2656.65520801033,
          2711.51184643314,
          2876.74338210702,
          3054.91887624755,
          3245.29988504732,
          3453.10566102778,
          3661.95550498043,
          3720.09264848115,
          3956.35901634772,
          4234.97957334961,
          4399.88823976861,
          4583.1731985001,
          4818.52255699988,
          5116.62910485036,
          5464.39405731664,
          5851.3948804932,
          6182.92210857473,
          6518.84505546914,
          6713.93221110733,
          6118.35733018965
         ],
         "yaxis": "y"
        },
        {
         "hovertemplate": "Code=ISR<br>Year=%{x}<br>GDP per capita, PPP (constant 2017 international $)=%{y}<extra></extra>",
         "legendgroup": "ISR",
         "line": {
          "color": "#19d3f3",
          "dash": "solid"
         },
         "mode": "lines",
         "name": "ISR",
         "orientation": "v",
         "showlegend": true,
         "type": "scatter",
         "x": [
          1995,
          1996,
          1997,
          1998,
          1999,
          2000,
          2001,
          2002,
          2003,
          2004,
          2005,
          2006,
          2007,
          2008,
          2009,
          2010,
          2011,
          2012,
          2013,
          2014,
          2015,
          2016,
          2017,
          2018,
          2019,
          2020
         ],
         "xaxis": "x",
         "y": [
          28338.1521496227,
          28986.2039958294,
          29366.7720783497,
          29845.8916421087,
          29994.6000812612,
          31416.9385084502,
          30715.580461218,
          30117.8814843124,
          29911.3863825917,
          30621.9629389651,
          31239.0068599514,
          32408.3917854463,
          33666.1433274048,
          34065.412547897,
          33568.5936626863,
          34800.2474731642,
          35743.5386114596,
          35942.7148394678,
          36759.8414522889,
          37474.8491839878,
          37554.5986562961,
          38234.7244825066,
          38833.9734252986,
          39418.3453068224,
          40007.3191584114,
          38341.3075704083
         ],
         "yaxis": "y"
        },
        {
         "hovertemplate": "Code=ITA<br>Year=%{x}<br>GDP per capita, PPP (constant 2017 international $)=%{y}<extra></extra>",
         "legendgroup": "ITA",
         "line": {
          "color": "#FF6692",
          "dash": "solid"
         },
         "mode": "lines",
         "name": "ITA",
         "orientation": "v",
         "showlegend": true,
         "type": "scatter",
         "x": [
          1990,
          1991,
          1992,
          1993,
          1994,
          1995,
          1996,
          1997,
          1998,
          1999,
          2000,
          2001,
          2002,
          2003,
          2004,
          2005,
          2006,
          2007,
          2008,
          2009,
          2010,
          2011,
          2012,
          2013,
          2014,
          2015,
          2016,
          2017,
          2018,
          2019,
          2020
         ],
         "xaxis": "x",
         "y": [
          36585.6799028741,
          37122.8219323764,
          37407.1113238593,
          37065.4341248987,
          37855.0077387082,
          38947.2013118497,
          39429.4955552037,
          40129.9018819235,
          40844.745605278,
          41501.788369041,
          43053.93306429,
          43869.4279411713,
          43915.385340484,
          43781.2199783421,
          44118.0366368665,
          44260.8274173515,
          44918.1703531499,
          45356.5367193485,
          44623.6020153057,
          42074.9212455091,
          42664.3552727925,
          42892.3055641948,
          41501.7112309705,
          40268.1127892773,
          39898.5264609826,
          40247.8290437942,
          40837.7376281437,
          41581.120790548,
          42052.5563822519,
          42662.5223699096,
          38992.1483807498
         ],
         "yaxis": "y"
        },
        {
         "hovertemplate": "Code=RUS<br>Year=%{x}<br>GDP per capita, PPP (constant 2017 international $)=%{y}<extra></extra>",
         "legendgroup": "RUS",
         "line": {
          "color": "#B6E880",
          "dash": "solid"
         },
         "mode": "lines",
         "name": "RUS",
         "orientation": "v",
         "showlegend": true,
         "type": "scatter",
         "x": [
          1990,
          1991,
          1992,
          1993,
          1994,
          1995,
          1996,
          1997,
          1998,
          1999,
          2000,
          2001,
          2002,
          2003,
          2004,
          2005,
          2006,
          2007,
          2008,
          2009,
          2010,
          2011,
          2012,
          2013,
          2014,
          2015,
          2016,
          2017,
          2018,
          2019,
          2020
         ],
         "xaxis": "x",
         "y": [
          21482.7481919439,
          20340.1319146049,
          17367.6412095757,
          15870.6058774315,
          13880.4651761339,
          13308.2049086586,
          12827.1162501779,
          13028.208334597,
          12358.1524097299,
          13189.7937595989,
          14569.9365828201,
          15378.0897391906,
          16175.0971950813,
          17434.8081359685,
          18765.5185595709,
          20042.8135032629,
          21757.4651663444,
          23647.2665058004,
          24887.8527197651,
          22939.69405447,
          23961.2202930302,
          24972.0784933004,
          25933.2926590626,
          26332.3966497152,
          26057.1553085019,
          25488.0961196394,
          25490.7082574641,
          25926.4438539743,
          26656.4095416865,
          27210.5459977867,
          26456.3879381321
         ],
         "yaxis": "y"
        },
        {
         "hovertemplate": "Code=GBR<br>Year=%{x}<br>GDP per capita, PPP (constant 2017 international $)=%{y}<extra></extra>",
         "legendgroup": "GBR",
         "line": {
          "color": "#FF97FF",
          "dash": "solid"
         },
         "mode": "lines",
         "name": "GBR",
         "orientation": "v",
         "showlegend": true,
         "type": "scatter",
         "x": [
          1990,
          1991,
          1992,
          1993,
          1994,
          1995,
          1996,
          1997,
          1998,
          1999,
          2000,
          2001,
          2002,
          2003,
          2004,
          2005,
          2006,
          2007,
          2008,
          2009,
          2010,
          2011,
          2012,
          2013,
          2014,
          2015,
          2016,
          2017,
          2018,
          2019,
          2020
         ],
         "xaxis": "x",
         "y": [
          30464.9885569295,
          30035.8935201602,
          30074.9200794193,
          30749.9247568394,
          31851.3770601255,
          32571.4677887113,
          33298.1281607991,
          34864.8968331317,
          36052.3952866888,
          37116.4394859688,
          38280.8002708435,
          39174.8900239894,
          39859.3138065232,
          40992.0720379492,
          41691.3885018648,
          42629.9482187521,
          43457.7017735188,
          44138.5205042745,
          43670.4145844224,
          41558.3008322127,
          42089.0136357977,
          42294.1204630137,
          42601.828409576,
          43242.5676679488,
          44154.1056092436,
          44840.7826443684,
          45268.7304537314,
          45744.7104907571,
          46037.9005384222,
          46406.4617483484,
          41627.129269425
         ],
         "yaxis": "y"
        },
        {
         "hovertemplate": "Code=USA<br>Year=%{x}<br>GDP per capita, PPP (constant 2017 international $)=%{y}<extra></extra>",
         "legendgroup": "USA",
         "line": {
          "color": "#FECB52",
          "dash": "solid"
         },
         "mode": "lines",
         "name": "USA",
         "orientation": "v",
         "showlegend": true,
         "type": "scatter",
         "x": [
          1990,
          1991,
          1992,
          1993,
          1994,
          1995,
          1996,
          1997,
          1998,
          1999,
          2000,
          2001,
          2002,
          2003,
          2004,
          2005,
          2006,
          2007,
          2008,
          2009,
          2010,
          2011,
          2012,
          2013,
          2014,
          2015,
          2016,
          2017,
          2018,
          2019,
          2020
         ],
         "xaxis": "x",
         "y": [
          40411.1603398638,
          39831.5856925435,
          40666.7005788686,
          41238.7826060853,
          42377.3555142458,
          42999.7887136753,
          44105.8274590707,
          45516.0023303908,
          47004.6141333405,
          48676.6590175622,
          50124.8911771197,
          50126.7202222598,
          50528.7885768372,
          51529.7264039287,
          52994.5519602027,
          54353.0685764315,
          55368.3597189657,
          55873.2447409949,
          55271.6574674784,
          53399.3656316179,
          54315.9124805391,
          54758.8332734292,
          55581.4138435205,
          56214.4286771294,
          57213.2678405623,
          58540.2960929977,
          59112.2422096532,
          60109.6557260477,
          61585.7560382102,
          62630.8732765742,
          60235.7284916969
         ],
         "yaxis": "y"
        }
       ],
       "layout": {
        "legend": {
         "title": {
          "text": "Code"
         },
         "tracegroupgap": 0
        },
        "margin": {
         "t": 60
        },
        "template": {
         "data": {
          "bar": [
           {
            "error_x": {
             "color": "#2a3f5f"
            },
            "error_y": {
             "color": "#2a3f5f"
            },
            "marker": {
             "line": {
              "color": "#E5ECF6",
              "width": 0.5
             },
             "pattern": {
              "fillmode": "overlay",
              "size": 10,
              "solidity": 0.2
             }
            },
            "type": "bar"
           }
          ],
          "barpolar": [
           {
            "marker": {
             "line": {
              "color": "#E5ECF6",
              "width": 0.5
             },
             "pattern": {
              "fillmode": "overlay",
              "size": 10,
              "solidity": 0.2
             }
            },
            "type": "barpolar"
           }
          ],
          "carpet": [
           {
            "aaxis": {
             "endlinecolor": "#2a3f5f",
             "gridcolor": "white",
             "linecolor": "white",
             "minorgridcolor": "white",
             "startlinecolor": "#2a3f5f"
            },
            "baxis": {
             "endlinecolor": "#2a3f5f",
             "gridcolor": "white",
             "linecolor": "white",
             "minorgridcolor": "white",
             "startlinecolor": "#2a3f5f"
            },
            "type": "carpet"
           }
          ],
          "choropleth": [
           {
            "colorbar": {
             "outlinewidth": 0,
             "ticks": ""
            },
            "type": "choropleth"
           }
          ],
          "contour": [
           {
            "colorbar": {
             "outlinewidth": 0,
             "ticks": ""
            },
            "colorscale": [
             [
              0,
              "#0d0887"
             ],
             [
              0.1111111111111111,
              "#46039f"
             ],
             [
              0.2222222222222222,
              "#7201a8"
             ],
             [
              0.3333333333333333,
              "#9c179e"
             ],
             [
              0.4444444444444444,
              "#bd3786"
             ],
             [
              0.5555555555555556,
              "#d8576b"
             ],
             [
              0.6666666666666666,
              "#ed7953"
             ],
             [
              0.7777777777777778,
              "#fb9f3a"
             ],
             [
              0.8888888888888888,
              "#fdca26"
             ],
             [
              1,
              "#f0f921"
             ]
            ],
            "type": "contour"
           }
          ],
          "contourcarpet": [
           {
            "colorbar": {
             "outlinewidth": 0,
             "ticks": ""
            },
            "type": "contourcarpet"
           }
          ],
          "heatmap": [
           {
            "colorbar": {
             "outlinewidth": 0,
             "ticks": ""
            },
            "colorscale": [
             [
              0,
              "#0d0887"
             ],
             [
              0.1111111111111111,
              "#46039f"
             ],
             [
              0.2222222222222222,
              "#7201a8"
             ],
             [
              0.3333333333333333,
              "#9c179e"
             ],
             [
              0.4444444444444444,
              "#bd3786"
             ],
             [
              0.5555555555555556,
              "#d8576b"
             ],
             [
              0.6666666666666666,
              "#ed7953"
             ],
             [
              0.7777777777777778,
              "#fb9f3a"
             ],
             [
              0.8888888888888888,
              "#fdca26"
             ],
             [
              1,
              "#f0f921"
             ]
            ],
            "type": "heatmap"
           }
          ],
          "heatmapgl": [
           {
            "colorbar": {
             "outlinewidth": 0,
             "ticks": ""
            },
            "colorscale": [
             [
              0,
              "#0d0887"
             ],
             [
              0.1111111111111111,
              "#46039f"
             ],
             [
              0.2222222222222222,
              "#7201a8"
             ],
             [
              0.3333333333333333,
              "#9c179e"
             ],
             [
              0.4444444444444444,
              "#bd3786"
             ],
             [
              0.5555555555555556,
              "#d8576b"
             ],
             [
              0.6666666666666666,
              "#ed7953"
             ],
             [
              0.7777777777777778,
              "#fb9f3a"
             ],
             [
              0.8888888888888888,
              "#fdca26"
             ],
             [
              1,
              "#f0f921"
             ]
            ],
            "type": "heatmapgl"
           }
          ],
          "histogram": [
           {
            "marker": {
             "pattern": {
              "fillmode": "overlay",
              "size": 10,
              "solidity": 0.2
             }
            },
            "type": "histogram"
           }
          ],
          "histogram2d": [
           {
            "colorbar": {
             "outlinewidth": 0,
             "ticks": ""
            },
            "colorscale": [
             [
              0,
              "#0d0887"
             ],
             [
              0.1111111111111111,
              "#46039f"
             ],
             [
              0.2222222222222222,
              "#7201a8"
             ],
             [
              0.3333333333333333,
              "#9c179e"
             ],
             [
              0.4444444444444444,
              "#bd3786"
             ],
             [
              0.5555555555555556,
              "#d8576b"
             ],
             [
              0.6666666666666666,
              "#ed7953"
             ],
             [
              0.7777777777777778,
              "#fb9f3a"
             ],
             [
              0.8888888888888888,
              "#fdca26"
             ],
             [
              1,
              "#f0f921"
             ]
            ],
            "type": "histogram2d"
           }
          ],
          "histogram2dcontour": [
           {
            "colorbar": {
             "outlinewidth": 0,
             "ticks": ""
            },
            "colorscale": [
             [
              0,
              "#0d0887"
             ],
             [
              0.1111111111111111,
              "#46039f"
             ],
             [
              0.2222222222222222,
              "#7201a8"
             ],
             [
              0.3333333333333333,
              "#9c179e"
             ],
             [
              0.4444444444444444,
              "#bd3786"
             ],
             [
              0.5555555555555556,
              "#d8576b"
             ],
             [
              0.6666666666666666,
              "#ed7953"
             ],
             [
              0.7777777777777778,
              "#fb9f3a"
             ],
             [
              0.8888888888888888,
              "#fdca26"
             ],
             [
              1,
              "#f0f921"
             ]
            ],
            "type": "histogram2dcontour"
           }
          ],
          "mesh3d": [
           {
            "colorbar": {
             "outlinewidth": 0,
             "ticks": ""
            },
            "type": "mesh3d"
           }
          ],
          "parcoords": [
           {
            "line": {
             "colorbar": {
              "outlinewidth": 0,
              "ticks": ""
             }
            },
            "type": "parcoords"
           }
          ],
          "pie": [
           {
            "automargin": true,
            "type": "pie"
           }
          ],
          "scatter": [
           {
            "marker": {
             "colorbar": {
              "outlinewidth": 0,
              "ticks": ""
             }
            },
            "type": "scatter"
           }
          ],
          "scatter3d": [
           {
            "line": {
             "colorbar": {
              "outlinewidth": 0,
              "ticks": ""
             }
            },
            "marker": {
             "colorbar": {
              "outlinewidth": 0,
              "ticks": ""
             }
            },
            "type": "scatter3d"
           }
          ],
          "scattercarpet": [
           {
            "marker": {
             "colorbar": {
              "outlinewidth": 0,
              "ticks": ""
             }
            },
            "type": "scattercarpet"
           }
          ],
          "scattergeo": [
           {
            "marker": {
             "colorbar": {
              "outlinewidth": 0,
              "ticks": ""
             }
            },
            "type": "scattergeo"
           }
          ],
          "scattergl": [
           {
            "marker": {
             "colorbar": {
              "outlinewidth": 0,
              "ticks": ""
             }
            },
            "type": "scattergl"
           }
          ],
          "scattermapbox": [
           {
            "marker": {
             "colorbar": {
              "outlinewidth": 0,
              "ticks": ""
             }
            },
            "type": "scattermapbox"
           }
          ],
          "scatterpolar": [
           {
            "marker": {
             "colorbar": {
              "outlinewidth": 0,
              "ticks": ""
             }
            },
            "type": "scatterpolar"
           }
          ],
          "scatterpolargl": [
           {
            "marker": {
             "colorbar": {
              "outlinewidth": 0,
              "ticks": ""
             }
            },
            "type": "scatterpolargl"
           }
          ],
          "scatterternary": [
           {
            "marker": {
             "colorbar": {
              "outlinewidth": 0,
              "ticks": ""
             }
            },
            "type": "scatterternary"
           }
          ],
          "surface": [
           {
            "colorbar": {
             "outlinewidth": 0,
             "ticks": ""
            },
            "colorscale": [
             [
              0,
              "#0d0887"
             ],
             [
              0.1111111111111111,
              "#46039f"
             ],
             [
              0.2222222222222222,
              "#7201a8"
             ],
             [
              0.3333333333333333,
              "#9c179e"
             ],
             [
              0.4444444444444444,
              "#bd3786"
             ],
             [
              0.5555555555555556,
              "#d8576b"
             ],
             [
              0.6666666666666666,
              "#ed7953"
             ],
             [
              0.7777777777777778,
              "#fb9f3a"
             ],
             [
              0.8888888888888888,
              "#fdca26"
             ],
             [
              1,
              "#f0f921"
             ]
            ],
            "type": "surface"
           }
          ],
          "table": [
           {
            "cells": {
             "fill": {
              "color": "#EBF0F8"
             },
             "line": {
              "color": "white"
             }
            },
            "header": {
             "fill": {
              "color": "#C8D4E3"
             },
             "line": {
              "color": "white"
             }
            },
            "type": "table"
           }
          ]
         },
         "layout": {
          "annotationdefaults": {
           "arrowcolor": "#2a3f5f",
           "arrowhead": 0,
           "arrowwidth": 1
          },
          "autotypenumbers": "strict",
          "coloraxis": {
           "colorbar": {
            "outlinewidth": 0,
            "ticks": ""
           }
          },
          "colorscale": {
           "diverging": [
            [
             0,
             "#8e0152"
            ],
            [
             0.1,
             "#c51b7d"
            ],
            [
             0.2,
             "#de77ae"
            ],
            [
             0.3,
             "#f1b6da"
            ],
            [
             0.4,
             "#fde0ef"
            ],
            [
             0.5,
             "#f7f7f7"
            ],
            [
             0.6,
             "#e6f5d0"
            ],
            [
             0.7,
             "#b8e186"
            ],
            [
             0.8,
             "#7fbc41"
            ],
            [
             0.9,
             "#4d9221"
            ],
            [
             1,
             "#276419"
            ]
           ],
           "sequential": [
            [
             0,
             "#0d0887"
            ],
            [
             0.1111111111111111,
             "#46039f"
            ],
            [
             0.2222222222222222,
             "#7201a8"
            ],
            [
             0.3333333333333333,
             "#9c179e"
            ],
            [
             0.4444444444444444,
             "#bd3786"
            ],
            [
             0.5555555555555556,
             "#d8576b"
            ],
            [
             0.6666666666666666,
             "#ed7953"
            ],
            [
             0.7777777777777778,
             "#fb9f3a"
            ],
            [
             0.8888888888888888,
             "#fdca26"
            ],
            [
             1,
             "#f0f921"
            ]
           ],
           "sequentialminus": [
            [
             0,
             "#0d0887"
            ],
            [
             0.1111111111111111,
             "#46039f"
            ],
            [
             0.2222222222222222,
             "#7201a8"
            ],
            [
             0.3333333333333333,
             "#9c179e"
            ],
            [
             0.4444444444444444,
             "#bd3786"
            ],
            [
             0.5555555555555556,
             "#d8576b"
            ],
            [
             0.6666666666666666,
             "#ed7953"
            ],
            [
             0.7777777777777778,
             "#fb9f3a"
            ],
            [
             0.8888888888888888,
             "#fdca26"
            ],
            [
             1,
             "#f0f921"
            ]
           ]
          },
          "colorway": [
           "#636efa",
           "#EF553B",
           "#00cc96",
           "#ab63fa",
           "#FFA15A",
           "#19d3f3",
           "#FF6692",
           "#B6E880",
           "#FF97FF",
           "#FECB52"
          ],
          "font": {
           "color": "#2a3f5f"
          },
          "geo": {
           "bgcolor": "white",
           "lakecolor": "white",
           "landcolor": "#E5ECF6",
           "showlakes": true,
           "showland": true,
           "subunitcolor": "white"
          },
          "hoverlabel": {
           "align": "left"
          },
          "hovermode": "closest",
          "mapbox": {
           "style": "light"
          },
          "paper_bgcolor": "white",
          "plot_bgcolor": "#E5ECF6",
          "polar": {
           "angularaxis": {
            "gridcolor": "white",
            "linecolor": "white",
            "ticks": ""
           },
           "bgcolor": "#E5ECF6",
           "radialaxis": {
            "gridcolor": "white",
            "linecolor": "white",
            "ticks": ""
           }
          },
          "scene": {
           "xaxis": {
            "backgroundcolor": "#E5ECF6",
            "gridcolor": "white",
            "gridwidth": 2,
            "linecolor": "white",
            "showbackground": true,
            "ticks": "",
            "zerolinecolor": "white"
           },
           "yaxis": {
            "backgroundcolor": "#E5ECF6",
            "gridcolor": "white",
            "gridwidth": 2,
            "linecolor": "white",
            "showbackground": true,
            "ticks": "",
            "zerolinecolor": "white"
           },
           "zaxis": {
            "backgroundcolor": "#E5ECF6",
            "gridcolor": "white",
            "gridwidth": 2,
            "linecolor": "white",
            "showbackground": true,
            "ticks": "",
            "zerolinecolor": "white"
           }
          },
          "shapedefaults": {
           "line": {
            "color": "#2a3f5f"
           }
          },
          "ternary": {
           "aaxis": {
            "gridcolor": "white",
            "linecolor": "white",
            "ticks": ""
           },
           "baxis": {
            "gridcolor": "white",
            "linecolor": "white",
            "ticks": ""
           },
           "bgcolor": "#E5ECF6",
           "caxis": {
            "gridcolor": "white",
            "linecolor": "white",
            "ticks": ""
           }
          },
          "title": {
           "x": 0.05
          },
          "xaxis": {
           "automargin": true,
           "gridcolor": "white",
           "linecolor": "white",
           "ticks": "",
           "title": {
            "standoff": 15
           },
           "zerolinecolor": "white",
           "zerolinewidth": 2
          },
          "yaxis": {
           "automargin": true,
           "gridcolor": "white",
           "linecolor": "white",
           "ticks": "",
           "title": {
            "standoff": 15
           },
           "zerolinecolor": "white",
           "zerolinewidth": 2
          }
         }
        },
        "xaxis": {
         "anchor": "y",
         "domain": [
          0,
          1
         ],
         "title": {
          "text": "Year"
         }
        },
        "yaxis": {
         "anchor": "x",
         "domain": [
          0,
          1
         ],
         "title": {
          "text": "GDP per capita, PPP (constant 2017 international $)"
         }
        }
       }
      },
      "text/html": [
       "<div>                            <div id=\"c4d41121-2fff-49dc-9447-be9fb73edfcd\" class=\"plotly-graph-div\" style=\"height:525px; width:100%;\"></div>            <script type=\"text/javascript\">                require([\"plotly\"], function(Plotly) {                    window.PLOTLYENV=window.PLOTLYENV || {};                                    if (document.getElementById(\"c4d41121-2fff-49dc-9447-be9fb73edfcd\")) {                    Plotly.newPlot(                        \"c4d41121-2fff-49dc-9447-be9fb73edfcd\",                        [{\"hovertemplate\":\"Code=BRA<br>Year=%{x}<br>GDP per capita, PPP (constant 2017 international $)=%{y}<extra></extra>\",\"legendgroup\":\"BRA\",\"line\":{\"color\":\"#636efa\",\"dash\":\"solid\"},\"mode\":\"lines\",\"name\":\"BRA\",\"orientation\":\"v\",\"showlegend\":true,\"type\":\"scatter\",\"x\":[1990,1991,1992,1993,1994,1995,1996,1997,1998,1999,2000,2001,2002,2003,2004,2005,2006,2007,2008,2009,2010,2011,2012,2013,2014,2015,2016,2017,2018,2019,2020],\"xaxis\":\"x\",\"y\":[10521.1210145068,10493.9283113252,10268.1140980509,10569.6951031084,10953.1202584745,11254.2631818166,11321.3898730692,11524.1110690961,11387.6235574879,11272.7068003778,11600.9484568395,11602.4996033575,11800.8409655572,11786.3337522352,12316.3742641535,12565.9413936417,12922.1554849938,13564.9941989629,14114.9747702043,13962.2588783344,14873.2083173363,15323.3317296101,15478.789287159,15805.2229104458,15749.5121636511,15064.1760689478,14451.1528421912,14524.6135408175,14668.2561636292,14763.8716968734,14063.9825053838],\"yaxis\":\"y\"},{\"hovertemplate\":\"Code=CHN<br>Year=%{x}<br>GDP per capita, PPP (constant 2017 international $)=%{y}<extra></extra>\",\"legendgroup\":\"CHN\",\"line\":{\"color\":\"#EF553B\",\"dash\":\"solid\"},\"mode\":\"lines\",\"name\":\"CHN\",\"orientation\":\"v\",\"showlegend\":true,\"type\":\"scatter\",\"x\":[1990,1991,1992,1993,1994,1995,1996,1997,1998,1999,2000,2001,2002,2003,2004,2005,2006,2007,2008,2009,2010,2011,2012,2013,2014,2015,2016,2017,2018,2019,2020],\"xaxis\":\"x\",\"y\":[1423.89634790711,1534.70527155072,1731.65721549507,1949.534268233,2178.9240567606,2391.47711558936,2601.36342607386,2812.71113459466,3004.42734154703,3206.73002570818,3451.67923092858,3712.33813234069,4024.35569663549,4400.82518341212,4817.21184452758,5334.6466393818,5979.78171182527,6795.17401237991,7412.87436349204,8069.35463837756,8884.58803122605,9686.61528974418,10397.5614154951,11149.8675587707,11917.3384959933,12691.8215526921,13487.8224816787,14344.4212394424,15242.9858575834,16092.300767051,16410.7977967813],\"yaxis\":\"y\"},{\"hovertemplate\":\"Code=EGY<br>Year=%{x}<br>GDP per capita, PPP (constant 2017 international $)=%{y}<extra></extra>\",\"legendgroup\":\"EGY\",\"line\":{\"color\":\"#00cc96\",\"dash\":\"solid\"},\"mode\":\"lines\",\"name\":\"EGY\",\"orientation\":\"v\",\"showlegend\":true,\"type\":\"scatter\",\"x\":[1990,1991,1992,1993,1994,1995,1996,1997,1998,1999,2000,2001,2002,2003,2004,2005,2006,2007,2008,2009,2010,2011,2012,2013,2014,2015,2016,2017,2018,2019,2020],\"xaxis\":\"x\",\"y\":[6086.68675366987,6016.9069690654,6152.92900367738,6203.06819620047,6321.25070751336,6483.31562051125,6671.08939267294,6897.52124163154,7138.21220132707,7422.83529863806,7744.71523809311,7867.50743983462,7905.41251956336,8007.6450292324,8184.06580830494,8397.03244402289,8814.14605018027,9274.97705396552,9763.50444936789,10031.0329555174,10340.0732290684,10302.4428451733,10301.1078078999,10290.191622314,10353.6668042394,10570.4452319757,10795.8087418385,11014.4864791744,11366.3355206681,11763.2532849551,11951.4475270117],\"yaxis\":\"y\"},{\"hovertemplate\":\"Code=DEU<br>Year=%{x}<br>GDP per capita, PPP (constant 2017 international $)=%{y}<extra></extra>\",\"legendgroup\":\"DEU\",\"line\":{\"color\":\"#ab63fa\",\"dash\":\"solid\"},\"mode\":\"lines\",\"name\":\"DEU\",\"orientation\":\"v\",\"showlegend\":true,\"type\":\"scatter\",\"x\":[1990,1991,1992,1993,1994,1995,1996,1997,1998,1999,2000,2001,2002,2003,2004,2005,2006,2007,2008,2009,2010,2011,2012,2013,2014,2015,2016,2017,2018,2019,2020],\"xaxis\":\"x\",\"y\":[36645.4103412106,38237.7340607357,38677.8680960784,38049.0880729596,38824.2827705785,39308.0884160853,39510.3038787611,40159.5902438183,40962.1737598441,41708.2702746412,42864.9328892862,43512.43267398,43353.3388942422,43025.9877312919,43541.0326202312,43884.5352789987,45610.7818923168,47031.2137894261,47573.0273603862,44978.1198711897,46929.9934093156,49684.6130740715,49798.9676727479,49880.5735214304,50770.6134878236,51083.9216615196,51803.2354226767,52952.8750212389,53463.4014817389,53639.26072156,50922.3580234484],\"yaxis\":\"y\"},{\"hovertemplate\":\"Code=IND<br>Year=%{x}<br>GDP per capita, PPP (constant 2017 international $)=%{y}<extra></extra>\",\"legendgroup\":\"IND\",\"line\":{\"color\":\"#FFA15A\",\"dash\":\"solid\"},\"mode\":\"lines\",\"name\":\"IND\",\"orientation\":\"v\",\"showlegend\":true,\"type\":\"scatter\",\"x\":[1990,1991,1992,1993,1994,1995,1996,1997,1998,1999,2000,2001,2002,2003,2004,2005,2006,2007,2008,2009,2010,2011,2012,2013,2014,2015,2016,2017,2018,2019,2020],\"xaxis\":\"x\",\"y\":[1813.13585285954,1795.30232564205,1856.1705823103,1906.41205810118,1994.2269155916,2104.50529785736,2220.89320250685,2268.04308700991,2364.40868741246,2527.50834683315,2578.59152976754,2656.65520801033,2711.51184643314,2876.74338210702,3054.91887624755,3245.29988504732,3453.10566102778,3661.95550498043,3720.09264848115,3956.35901634772,4234.97957334961,4399.88823976861,4583.1731985001,4818.52255699988,5116.62910485036,5464.39405731664,5851.3948804932,6182.92210857473,6518.84505546914,6713.93221110733,6118.35733018965],\"yaxis\":\"y\"},{\"hovertemplate\":\"Code=ISR<br>Year=%{x}<br>GDP per capita, PPP (constant 2017 international $)=%{y}<extra></extra>\",\"legendgroup\":\"ISR\",\"line\":{\"color\":\"#19d3f3\",\"dash\":\"solid\"},\"mode\":\"lines\",\"name\":\"ISR\",\"orientation\":\"v\",\"showlegend\":true,\"type\":\"scatter\",\"x\":[1995,1996,1997,1998,1999,2000,2001,2002,2003,2004,2005,2006,2007,2008,2009,2010,2011,2012,2013,2014,2015,2016,2017,2018,2019,2020],\"xaxis\":\"x\",\"y\":[28338.1521496227,28986.2039958294,29366.7720783497,29845.8916421087,29994.6000812612,31416.9385084502,30715.580461218,30117.8814843124,29911.3863825917,30621.9629389651,31239.0068599514,32408.3917854463,33666.1433274048,34065.412547897,33568.5936626863,34800.2474731642,35743.5386114596,35942.7148394678,36759.8414522889,37474.8491839878,37554.5986562961,38234.7244825066,38833.9734252986,39418.3453068224,40007.3191584114,38341.3075704083],\"yaxis\":\"y\"},{\"hovertemplate\":\"Code=ITA<br>Year=%{x}<br>GDP per capita, PPP (constant 2017 international $)=%{y}<extra></extra>\",\"legendgroup\":\"ITA\",\"line\":{\"color\":\"#FF6692\",\"dash\":\"solid\"},\"mode\":\"lines\",\"name\":\"ITA\",\"orientation\":\"v\",\"showlegend\":true,\"type\":\"scatter\",\"x\":[1990,1991,1992,1993,1994,1995,1996,1997,1998,1999,2000,2001,2002,2003,2004,2005,2006,2007,2008,2009,2010,2011,2012,2013,2014,2015,2016,2017,2018,2019,2020],\"xaxis\":\"x\",\"y\":[36585.6799028741,37122.8219323764,37407.1113238593,37065.4341248987,37855.0077387082,38947.2013118497,39429.4955552037,40129.9018819235,40844.745605278,41501.788369041,43053.93306429,43869.4279411713,43915.385340484,43781.2199783421,44118.0366368665,44260.8274173515,44918.1703531499,45356.5367193485,44623.6020153057,42074.9212455091,42664.3552727925,42892.3055641948,41501.7112309705,40268.1127892773,39898.5264609826,40247.8290437942,40837.7376281437,41581.120790548,42052.5563822519,42662.5223699096,38992.1483807498],\"yaxis\":\"y\"},{\"hovertemplate\":\"Code=RUS<br>Year=%{x}<br>GDP per capita, PPP (constant 2017 international $)=%{y}<extra></extra>\",\"legendgroup\":\"RUS\",\"line\":{\"color\":\"#B6E880\",\"dash\":\"solid\"},\"mode\":\"lines\",\"name\":\"RUS\",\"orientation\":\"v\",\"showlegend\":true,\"type\":\"scatter\",\"x\":[1990,1991,1992,1993,1994,1995,1996,1997,1998,1999,2000,2001,2002,2003,2004,2005,2006,2007,2008,2009,2010,2011,2012,2013,2014,2015,2016,2017,2018,2019,2020],\"xaxis\":\"x\",\"y\":[21482.7481919439,20340.1319146049,17367.6412095757,15870.6058774315,13880.4651761339,13308.2049086586,12827.1162501779,13028.208334597,12358.1524097299,13189.7937595989,14569.9365828201,15378.0897391906,16175.0971950813,17434.8081359685,18765.5185595709,20042.8135032629,21757.4651663444,23647.2665058004,24887.8527197651,22939.69405447,23961.2202930302,24972.0784933004,25933.2926590626,26332.3966497152,26057.1553085019,25488.0961196394,25490.7082574641,25926.4438539743,26656.4095416865,27210.5459977867,26456.3879381321],\"yaxis\":\"y\"},{\"hovertemplate\":\"Code=GBR<br>Year=%{x}<br>GDP per capita, PPP (constant 2017 international $)=%{y}<extra></extra>\",\"legendgroup\":\"GBR\",\"line\":{\"color\":\"#FF97FF\",\"dash\":\"solid\"},\"mode\":\"lines\",\"name\":\"GBR\",\"orientation\":\"v\",\"showlegend\":true,\"type\":\"scatter\",\"x\":[1990,1991,1992,1993,1994,1995,1996,1997,1998,1999,2000,2001,2002,2003,2004,2005,2006,2007,2008,2009,2010,2011,2012,2013,2014,2015,2016,2017,2018,2019,2020],\"xaxis\":\"x\",\"y\":[30464.9885569295,30035.8935201602,30074.9200794193,30749.9247568394,31851.3770601255,32571.4677887113,33298.1281607991,34864.8968331317,36052.3952866888,37116.4394859688,38280.8002708435,39174.8900239894,39859.3138065232,40992.0720379492,41691.3885018648,42629.9482187521,43457.7017735188,44138.5205042745,43670.4145844224,41558.3008322127,42089.0136357977,42294.1204630137,42601.828409576,43242.5676679488,44154.1056092436,44840.7826443684,45268.7304537314,45744.7104907571,46037.9005384222,46406.4617483484,41627.129269425],\"yaxis\":\"y\"},{\"hovertemplate\":\"Code=USA<br>Year=%{x}<br>GDP per capita, PPP (constant 2017 international $)=%{y}<extra></extra>\",\"legendgroup\":\"USA\",\"line\":{\"color\":\"#FECB52\",\"dash\":\"solid\"},\"mode\":\"lines\",\"name\":\"USA\",\"orientation\":\"v\",\"showlegend\":true,\"type\":\"scatter\",\"x\":[1990,1991,1992,1993,1994,1995,1996,1997,1998,1999,2000,2001,2002,2003,2004,2005,2006,2007,2008,2009,2010,2011,2012,2013,2014,2015,2016,2017,2018,2019,2020],\"xaxis\":\"x\",\"y\":[40411.1603398638,39831.5856925435,40666.7005788686,41238.7826060853,42377.3555142458,42999.7887136753,44105.8274590707,45516.0023303908,47004.6141333405,48676.6590175622,50124.8911771197,50126.7202222598,50528.7885768372,51529.7264039287,52994.5519602027,54353.0685764315,55368.3597189657,55873.2447409949,55271.6574674784,53399.3656316179,54315.9124805391,54758.8332734292,55581.4138435205,56214.4286771294,57213.2678405623,58540.2960929977,59112.2422096532,60109.6557260477,61585.7560382102,62630.8732765742,60235.7284916969],\"yaxis\":\"y\"}],                        {\"legend\":{\"title\":{\"text\":\"Code\"},\"tracegroupgap\":0},\"margin\":{\"t\":60},\"template\":{\"data\":{\"bar\":[{\"error_x\":{\"color\":\"#2a3f5f\"},\"error_y\":{\"color\":\"#2a3f5f\"},\"marker\":{\"line\":{\"color\":\"#E5ECF6\",\"width\":0.5},\"pattern\":{\"fillmode\":\"overlay\",\"size\":10,\"solidity\":0.2}},\"type\":\"bar\"}],\"barpolar\":[{\"marker\":{\"line\":{\"color\":\"#E5ECF6\",\"width\":0.5},\"pattern\":{\"fillmode\":\"overlay\",\"size\":10,\"solidity\":0.2}},\"type\":\"barpolar\"}],\"carpet\":[{\"aaxis\":{\"endlinecolor\":\"#2a3f5f\",\"gridcolor\":\"white\",\"linecolor\":\"white\",\"minorgridcolor\":\"white\",\"startlinecolor\":\"#2a3f5f\"},\"baxis\":{\"endlinecolor\":\"#2a3f5f\",\"gridcolor\":\"white\",\"linecolor\":\"white\",\"minorgridcolor\":\"white\",\"startlinecolor\":\"#2a3f5f\"},\"type\":\"carpet\"}],\"choropleth\":[{\"colorbar\":{\"outlinewidth\":0,\"ticks\":\"\"},\"type\":\"choropleth\"}],\"contour\":[{\"colorbar\":{\"outlinewidth\":0,\"ticks\":\"\"},\"colorscale\":[[0.0,\"#0d0887\"],[0.1111111111111111,\"#46039f\"],[0.2222222222222222,\"#7201a8\"],[0.3333333333333333,\"#9c179e\"],[0.4444444444444444,\"#bd3786\"],[0.5555555555555556,\"#d8576b\"],[0.6666666666666666,\"#ed7953\"],[0.7777777777777778,\"#fb9f3a\"],[0.8888888888888888,\"#fdca26\"],[1.0,\"#f0f921\"]],\"type\":\"contour\"}],\"contourcarpet\":[{\"colorbar\":{\"outlinewidth\":0,\"ticks\":\"\"},\"type\":\"contourcarpet\"}],\"heatmap\":[{\"colorbar\":{\"outlinewidth\":0,\"ticks\":\"\"},\"colorscale\":[[0.0,\"#0d0887\"],[0.1111111111111111,\"#46039f\"],[0.2222222222222222,\"#7201a8\"],[0.3333333333333333,\"#9c179e\"],[0.4444444444444444,\"#bd3786\"],[0.5555555555555556,\"#d8576b\"],[0.6666666666666666,\"#ed7953\"],[0.7777777777777778,\"#fb9f3a\"],[0.8888888888888888,\"#fdca26\"],[1.0,\"#f0f921\"]],\"type\":\"heatmap\"}],\"heatmapgl\":[{\"colorbar\":{\"outlinewidth\":0,\"ticks\":\"\"},\"colorscale\":[[0.0,\"#0d0887\"],[0.1111111111111111,\"#46039f\"],[0.2222222222222222,\"#7201a8\"],[0.3333333333333333,\"#9c179e\"],[0.4444444444444444,\"#bd3786\"],[0.5555555555555556,\"#d8576b\"],[0.6666666666666666,\"#ed7953\"],[0.7777777777777778,\"#fb9f3a\"],[0.8888888888888888,\"#fdca26\"],[1.0,\"#f0f921\"]],\"type\":\"heatmapgl\"}],\"histogram\":[{\"marker\":{\"pattern\":{\"fillmode\":\"overlay\",\"size\":10,\"solidity\":0.2}},\"type\":\"histogram\"}],\"histogram2d\":[{\"colorbar\":{\"outlinewidth\":0,\"ticks\":\"\"},\"colorscale\":[[0.0,\"#0d0887\"],[0.1111111111111111,\"#46039f\"],[0.2222222222222222,\"#7201a8\"],[0.3333333333333333,\"#9c179e\"],[0.4444444444444444,\"#bd3786\"],[0.5555555555555556,\"#d8576b\"],[0.6666666666666666,\"#ed7953\"],[0.7777777777777778,\"#fb9f3a\"],[0.8888888888888888,\"#fdca26\"],[1.0,\"#f0f921\"]],\"type\":\"histogram2d\"}],\"histogram2dcontour\":[{\"colorbar\":{\"outlinewidth\":0,\"ticks\":\"\"},\"colorscale\":[[0.0,\"#0d0887\"],[0.1111111111111111,\"#46039f\"],[0.2222222222222222,\"#7201a8\"],[0.3333333333333333,\"#9c179e\"],[0.4444444444444444,\"#bd3786\"],[0.5555555555555556,\"#d8576b\"],[0.6666666666666666,\"#ed7953\"],[0.7777777777777778,\"#fb9f3a\"],[0.8888888888888888,\"#fdca26\"],[1.0,\"#f0f921\"]],\"type\":\"histogram2dcontour\"}],\"mesh3d\":[{\"colorbar\":{\"outlinewidth\":0,\"ticks\":\"\"},\"type\":\"mesh3d\"}],\"parcoords\":[{\"line\":{\"colorbar\":{\"outlinewidth\":0,\"ticks\":\"\"}},\"type\":\"parcoords\"}],\"pie\":[{\"automargin\":true,\"type\":\"pie\"}],\"scatter\":[{\"marker\":{\"colorbar\":{\"outlinewidth\":0,\"ticks\":\"\"}},\"type\":\"scatter\"}],\"scatter3d\":[{\"line\":{\"colorbar\":{\"outlinewidth\":0,\"ticks\":\"\"}},\"marker\":{\"colorbar\":{\"outlinewidth\":0,\"ticks\":\"\"}},\"type\":\"scatter3d\"}],\"scattercarpet\":[{\"marker\":{\"colorbar\":{\"outlinewidth\":0,\"ticks\":\"\"}},\"type\":\"scattercarpet\"}],\"scattergeo\":[{\"marker\":{\"colorbar\":{\"outlinewidth\":0,\"ticks\":\"\"}},\"type\":\"scattergeo\"}],\"scattergl\":[{\"marker\":{\"colorbar\":{\"outlinewidth\":0,\"ticks\":\"\"}},\"type\":\"scattergl\"}],\"scattermapbox\":[{\"marker\":{\"colorbar\":{\"outlinewidth\":0,\"ticks\":\"\"}},\"type\":\"scattermapbox\"}],\"scatterpolar\":[{\"marker\":{\"colorbar\":{\"outlinewidth\":0,\"ticks\":\"\"}},\"type\":\"scatterpolar\"}],\"scatterpolargl\":[{\"marker\":{\"colorbar\":{\"outlinewidth\":0,\"ticks\":\"\"}},\"type\":\"scatterpolargl\"}],\"scatterternary\":[{\"marker\":{\"colorbar\":{\"outlinewidth\":0,\"ticks\":\"\"}},\"type\":\"scatterternary\"}],\"surface\":[{\"colorbar\":{\"outlinewidth\":0,\"ticks\":\"\"},\"colorscale\":[[0.0,\"#0d0887\"],[0.1111111111111111,\"#46039f\"],[0.2222222222222222,\"#7201a8\"],[0.3333333333333333,\"#9c179e\"],[0.4444444444444444,\"#bd3786\"],[0.5555555555555556,\"#d8576b\"],[0.6666666666666666,\"#ed7953\"],[0.7777777777777778,\"#fb9f3a\"],[0.8888888888888888,\"#fdca26\"],[1.0,\"#f0f921\"]],\"type\":\"surface\"}],\"table\":[{\"cells\":{\"fill\":{\"color\":\"#EBF0F8\"},\"line\":{\"color\":\"white\"}},\"header\":{\"fill\":{\"color\":\"#C8D4E3\"},\"line\":{\"color\":\"white\"}},\"type\":\"table\"}]},\"layout\":{\"annotationdefaults\":{\"arrowcolor\":\"#2a3f5f\",\"arrowhead\":0,\"arrowwidth\":1},\"autotypenumbers\":\"strict\",\"coloraxis\":{\"colorbar\":{\"outlinewidth\":0,\"ticks\":\"\"}},\"colorscale\":{\"diverging\":[[0,\"#8e0152\"],[0.1,\"#c51b7d\"],[0.2,\"#de77ae\"],[0.3,\"#f1b6da\"],[0.4,\"#fde0ef\"],[0.5,\"#f7f7f7\"],[0.6,\"#e6f5d0\"],[0.7,\"#b8e186\"],[0.8,\"#7fbc41\"],[0.9,\"#4d9221\"],[1,\"#276419\"]],\"sequential\":[[0.0,\"#0d0887\"],[0.1111111111111111,\"#46039f\"],[0.2222222222222222,\"#7201a8\"],[0.3333333333333333,\"#9c179e\"],[0.4444444444444444,\"#bd3786\"],[0.5555555555555556,\"#d8576b\"],[0.6666666666666666,\"#ed7953\"],[0.7777777777777778,\"#fb9f3a\"],[0.8888888888888888,\"#fdca26\"],[1.0,\"#f0f921\"]],\"sequentialminus\":[[0.0,\"#0d0887\"],[0.1111111111111111,\"#46039f\"],[0.2222222222222222,\"#7201a8\"],[0.3333333333333333,\"#9c179e\"],[0.4444444444444444,\"#bd3786\"],[0.5555555555555556,\"#d8576b\"],[0.6666666666666666,\"#ed7953\"],[0.7777777777777778,\"#fb9f3a\"],[0.8888888888888888,\"#fdca26\"],[1.0,\"#f0f921\"]]},\"colorway\":[\"#636efa\",\"#EF553B\",\"#00cc96\",\"#ab63fa\",\"#FFA15A\",\"#19d3f3\",\"#FF6692\",\"#B6E880\",\"#FF97FF\",\"#FECB52\"],\"font\":{\"color\":\"#2a3f5f\"},\"geo\":{\"bgcolor\":\"white\",\"lakecolor\":\"white\",\"landcolor\":\"#E5ECF6\",\"showlakes\":true,\"showland\":true,\"subunitcolor\":\"white\"},\"hoverlabel\":{\"align\":\"left\"},\"hovermode\":\"closest\",\"mapbox\":{\"style\":\"light\"},\"paper_bgcolor\":\"white\",\"plot_bgcolor\":\"#E5ECF6\",\"polar\":{\"angularaxis\":{\"gridcolor\":\"white\",\"linecolor\":\"white\",\"ticks\":\"\"},\"bgcolor\":\"#E5ECF6\",\"radialaxis\":{\"gridcolor\":\"white\",\"linecolor\":\"white\",\"ticks\":\"\"}},\"scene\":{\"xaxis\":{\"backgroundcolor\":\"#E5ECF6\",\"gridcolor\":\"white\",\"gridwidth\":2,\"linecolor\":\"white\",\"showbackground\":true,\"ticks\":\"\",\"zerolinecolor\":\"white\"},\"yaxis\":{\"backgroundcolor\":\"#E5ECF6\",\"gridcolor\":\"white\",\"gridwidth\":2,\"linecolor\":\"white\",\"showbackground\":true,\"ticks\":\"\",\"zerolinecolor\":\"white\"},\"zaxis\":{\"backgroundcolor\":\"#E5ECF6\",\"gridcolor\":\"white\",\"gridwidth\":2,\"linecolor\":\"white\",\"showbackground\":true,\"ticks\":\"\",\"zerolinecolor\":\"white\"}},\"shapedefaults\":{\"line\":{\"color\":\"#2a3f5f\"}},\"ternary\":{\"aaxis\":{\"gridcolor\":\"white\",\"linecolor\":\"white\",\"ticks\":\"\"},\"baxis\":{\"gridcolor\":\"white\",\"linecolor\":\"white\",\"ticks\":\"\"},\"bgcolor\":\"#E5ECF6\",\"caxis\":{\"gridcolor\":\"white\",\"linecolor\":\"white\",\"ticks\":\"\"}},\"title\":{\"x\":0.05},\"xaxis\":{\"automargin\":true,\"gridcolor\":\"white\",\"linecolor\":\"white\",\"ticks\":\"\",\"title\":{\"standoff\":15},\"zerolinecolor\":\"white\",\"zerolinewidth\":2},\"yaxis\":{\"automargin\":true,\"gridcolor\":\"white\",\"linecolor\":\"white\",\"ticks\":\"\",\"title\":{\"standoff\":15},\"zerolinecolor\":\"white\",\"zerolinewidth\":2}}},\"xaxis\":{\"anchor\":\"y\",\"domain\":[0.0,1.0],\"title\":{\"text\":\"Year\"}},\"yaxis\":{\"anchor\":\"x\",\"domain\":[0.0,1.0],\"title\":{\"text\":\"GDP per capita, PPP (constant 2017 international $)\"}}},                        {\"responsive\": true}                    ).then(function(){\n",
       "                            \n",
       "var gd = document.getElementById('c4d41121-2fff-49dc-9447-be9fb73edfcd');\n",
       "var x = new MutationObserver(function (mutations, observer) {{\n",
       "        var display = window.getComputedStyle(gd).display;\n",
       "        if (!display || display === 'none') {{\n",
       "            console.log([gd, 'removed!']);\n",
       "            Plotly.purge(gd);\n",
       "            observer.disconnect();\n",
       "        }}\n",
       "}});\n",
       "\n",
       "// Listen for the removal of the full notebook cells\n",
       "var notebookContainer = gd.closest('#notebook-container');\n",
       "if (notebookContainer) {{\n",
       "    x.observe(notebookContainer, {childList: true});\n",
       "}}\n",
       "\n",
       "// Listen for the clearing of the current output cell\n",
       "var outputEl = gd.closest('.output');\n",
       "if (outputEl) {{\n",
       "    x.observe(outputEl, {childList: true});\n",
       "}}\n",
       "\n",
       "                        })                };                });            </script>        </div>"
      ]
     },
     "metadata": {},
     "output_type": "display_data"
    }
   ],
   "source": [
    "fig = px.line(my_countries, \n",
    "              x='Year', \n",
    "              y='GDP per capita, PPP (constant 2017 international $)', \n",
    "              color='Code', )#symbol=\"country\")\n",
    "fig.show()"
   ]
  },
  {
   "cell_type": "code",
   "execution_count": 70,
   "metadata": {},
   "outputs": [],
   "source": [
    "fig.write_html('my_first_time_series.html')"
   ]
  },
  {
   "cell_type": "code",
   "execution_count": null,
   "metadata": {},
   "outputs": [],
   "source": []
  }
 ],
 "metadata": {
  "kernelspec": {
   "display_name": "Python 3",
   "language": "python",
   "name": "python3"
  },
  "language_info": {
   "codemirror_mode": {
    "name": "ipython",
    "version": 3
   },
   "file_extension": ".py",
   "mimetype": "text/x-python",
   "name": "python",
   "nbconvert_exporter": "python",
   "pygments_lexer": "ipython3",
   "version": "3.7.10"
  }
 },
 "nbformat": 4,
 "nbformat_minor": 4
}
