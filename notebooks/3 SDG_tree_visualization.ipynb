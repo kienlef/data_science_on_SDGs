{
 "cells": [
  {
   "cell_type": "markdown",
   "metadata": {},
   "source": [
    "# Visualization of all Goals and indicators\n",
    "The idea of this section is to present a basic \n",
    "starting point for visualizing all SDGs in one dynamic tree graph\n",
    "Two libraries are used: pandas and plotly.\n",
    "Both come with extensive documentation and possibilities\n",
    "\n",
    "pandas: https://pandas.pydata.org/docs/index.html\n",
    "\n",
    "plotly treemaps: https://plotly.com/python/treemaps/\n",
    "\n",
    "SDGs indicator list: https://unstats.un.org/sdgs/indicators/indicators-list/\n",
    "\n",
    "\n",
    "This script should give you a very compact starting point for further exploration.\n",
    "A minimal understanding of python is mandatory.\n",
    "\n",
    "* how to handle missing data\n",
    "* tree style visualizations\n",
    "* example text processing\n"
   ]
  },
  {
   "cell_type": "code",
   "execution_count": 42,
   "metadata": {},
   "outputs": [],
   "source": [
    "import pandas as pd\n",
    "import numpy as np\n",
    "import plotly.graph_objects as go"
   ]
  },
  {
   "cell_type": "code",
   "execution_count": 43,
   "metadata": {},
   "outputs": [
    {
     "name": "stdout",
     "output_type": "stream",
     "text": [
      "/Users/kienlef/Documents/Vorlesung/2022_SDG_Analytics/notebooks\r\n"
     ]
    }
   ],
   "source": [
    "!pwd"
   ]
  },
  {
   "cell_type": "markdown",
   "metadata": {},
   "source": [
    "# Simple Treemap example"
   ]
  },
  {
   "cell_type": "code",
   "execution_count": null,
   "metadata": {},
   "outputs": [],
   "source": []
  },
  {
   "cell_type": "code",
   "execution_count": 44,
   "metadata": {},
   "outputs": [
    {
     "data": {
      "application/vnd.plotly.v1+json": {
       "config": {
        "plotlyServerURL": "https://plot.ly"
       },
       "data": [
        {
         "domain": {
          "x": [
           0,
           1
          ],
          "y": [
           0,
           1
          ]
         },
         "hovertemplate": "label=%{label}<br>parent=%{parent}<extra></extra>",
         "labels": [
          "Eve",
          "Cain",
          "Seth",
          "Enos",
          "Noam",
          "Abel",
          "Awan",
          "Enoch",
          "Azura"
         ],
         "name": "",
         "parents": [
          "",
          "Eve",
          "Eve",
          "Seth",
          "Seth",
          "Eve",
          "Eve",
          "Awan",
          "Eve"
         ],
         "root": {
          "color": "lightgrey"
         },
         "type": "treemap"
        }
       ],
       "layout": {
        "legend": {
         "tracegroupgap": 0
        },
        "margin": {
         "b": 25,
         "l": 25,
         "r": 25,
         "t": 50
        },
        "template": {
         "data": {
          "bar": [
           {
            "error_x": {
             "color": "#2a3f5f"
            },
            "error_y": {
             "color": "#2a3f5f"
            },
            "marker": {
             "line": {
              "color": "#E5ECF6",
              "width": 0.5
             },
             "pattern": {
              "fillmode": "overlay",
              "size": 10,
              "solidity": 0.2
             }
            },
            "type": "bar"
           }
          ],
          "barpolar": [
           {
            "marker": {
             "line": {
              "color": "#E5ECF6",
              "width": 0.5
             },
             "pattern": {
              "fillmode": "overlay",
              "size": 10,
              "solidity": 0.2
             }
            },
            "type": "barpolar"
           }
          ],
          "carpet": [
           {
            "aaxis": {
             "endlinecolor": "#2a3f5f",
             "gridcolor": "white",
             "linecolor": "white",
             "minorgridcolor": "white",
             "startlinecolor": "#2a3f5f"
            },
            "baxis": {
             "endlinecolor": "#2a3f5f",
             "gridcolor": "white",
             "linecolor": "white",
             "minorgridcolor": "white",
             "startlinecolor": "#2a3f5f"
            },
            "type": "carpet"
           }
          ],
          "choropleth": [
           {
            "colorbar": {
             "outlinewidth": 0,
             "ticks": ""
            },
            "type": "choropleth"
           }
          ],
          "contour": [
           {
            "colorbar": {
             "outlinewidth": 0,
             "ticks": ""
            },
            "colorscale": [
             [
              0,
              "#0d0887"
             ],
             [
              0.1111111111111111,
              "#46039f"
             ],
             [
              0.2222222222222222,
              "#7201a8"
             ],
             [
              0.3333333333333333,
              "#9c179e"
             ],
             [
              0.4444444444444444,
              "#bd3786"
             ],
             [
              0.5555555555555556,
              "#d8576b"
             ],
             [
              0.6666666666666666,
              "#ed7953"
             ],
             [
              0.7777777777777778,
              "#fb9f3a"
             ],
             [
              0.8888888888888888,
              "#fdca26"
             ],
             [
              1,
              "#f0f921"
             ]
            ],
            "type": "contour"
           }
          ],
          "contourcarpet": [
           {
            "colorbar": {
             "outlinewidth": 0,
             "ticks": ""
            },
            "type": "contourcarpet"
           }
          ],
          "heatmap": [
           {
            "colorbar": {
             "outlinewidth": 0,
             "ticks": ""
            },
            "colorscale": [
             [
              0,
              "#0d0887"
             ],
             [
              0.1111111111111111,
              "#46039f"
             ],
             [
              0.2222222222222222,
              "#7201a8"
             ],
             [
              0.3333333333333333,
              "#9c179e"
             ],
             [
              0.4444444444444444,
              "#bd3786"
             ],
             [
              0.5555555555555556,
              "#d8576b"
             ],
             [
              0.6666666666666666,
              "#ed7953"
             ],
             [
              0.7777777777777778,
              "#fb9f3a"
             ],
             [
              0.8888888888888888,
              "#fdca26"
             ],
             [
              1,
              "#f0f921"
             ]
            ],
            "type": "heatmap"
           }
          ],
          "heatmapgl": [
           {
            "colorbar": {
             "outlinewidth": 0,
             "ticks": ""
            },
            "colorscale": [
             [
              0,
              "#0d0887"
             ],
             [
              0.1111111111111111,
              "#46039f"
             ],
             [
              0.2222222222222222,
              "#7201a8"
             ],
             [
              0.3333333333333333,
              "#9c179e"
             ],
             [
              0.4444444444444444,
              "#bd3786"
             ],
             [
              0.5555555555555556,
              "#d8576b"
             ],
             [
              0.6666666666666666,
              "#ed7953"
             ],
             [
              0.7777777777777778,
              "#fb9f3a"
             ],
             [
              0.8888888888888888,
              "#fdca26"
             ],
             [
              1,
              "#f0f921"
             ]
            ],
            "type": "heatmapgl"
           }
          ],
          "histogram": [
           {
            "marker": {
             "pattern": {
              "fillmode": "overlay",
              "size": 10,
              "solidity": 0.2
             }
            },
            "type": "histogram"
           }
          ],
          "histogram2d": [
           {
            "colorbar": {
             "outlinewidth": 0,
             "ticks": ""
            },
            "colorscale": [
             [
              0,
              "#0d0887"
             ],
             [
              0.1111111111111111,
              "#46039f"
             ],
             [
              0.2222222222222222,
              "#7201a8"
             ],
             [
              0.3333333333333333,
              "#9c179e"
             ],
             [
              0.4444444444444444,
              "#bd3786"
             ],
             [
              0.5555555555555556,
              "#d8576b"
             ],
             [
              0.6666666666666666,
              "#ed7953"
             ],
             [
              0.7777777777777778,
              "#fb9f3a"
             ],
             [
              0.8888888888888888,
              "#fdca26"
             ],
             [
              1,
              "#f0f921"
             ]
            ],
            "type": "histogram2d"
           }
          ],
          "histogram2dcontour": [
           {
            "colorbar": {
             "outlinewidth": 0,
             "ticks": ""
            },
            "colorscale": [
             [
              0,
              "#0d0887"
             ],
             [
              0.1111111111111111,
              "#46039f"
             ],
             [
              0.2222222222222222,
              "#7201a8"
             ],
             [
              0.3333333333333333,
              "#9c179e"
             ],
             [
              0.4444444444444444,
              "#bd3786"
             ],
             [
              0.5555555555555556,
              "#d8576b"
             ],
             [
              0.6666666666666666,
              "#ed7953"
             ],
             [
              0.7777777777777778,
              "#fb9f3a"
             ],
             [
              0.8888888888888888,
              "#fdca26"
             ],
             [
              1,
              "#f0f921"
             ]
            ],
            "type": "histogram2dcontour"
           }
          ],
          "mesh3d": [
           {
            "colorbar": {
             "outlinewidth": 0,
             "ticks": ""
            },
            "type": "mesh3d"
           }
          ],
          "parcoords": [
           {
            "line": {
             "colorbar": {
              "outlinewidth": 0,
              "ticks": ""
             }
            },
            "type": "parcoords"
           }
          ],
          "pie": [
           {
            "automargin": true,
            "type": "pie"
           }
          ],
          "scatter": [
           {
            "marker": {
             "colorbar": {
              "outlinewidth": 0,
              "ticks": ""
             }
            },
            "type": "scatter"
           }
          ],
          "scatter3d": [
           {
            "line": {
             "colorbar": {
              "outlinewidth": 0,
              "ticks": ""
             }
            },
            "marker": {
             "colorbar": {
              "outlinewidth": 0,
              "ticks": ""
             }
            },
            "type": "scatter3d"
           }
          ],
          "scattercarpet": [
           {
            "marker": {
             "colorbar": {
              "outlinewidth": 0,
              "ticks": ""
             }
            },
            "type": "scattercarpet"
           }
          ],
          "scattergeo": [
           {
            "marker": {
             "colorbar": {
              "outlinewidth": 0,
              "ticks": ""
             }
            },
            "type": "scattergeo"
           }
          ],
          "scattergl": [
           {
            "marker": {
             "colorbar": {
              "outlinewidth": 0,
              "ticks": ""
             }
            },
            "type": "scattergl"
           }
          ],
          "scattermapbox": [
           {
            "marker": {
             "colorbar": {
              "outlinewidth": 0,
              "ticks": ""
             }
            },
            "type": "scattermapbox"
           }
          ],
          "scatterpolar": [
           {
            "marker": {
             "colorbar": {
              "outlinewidth": 0,
              "ticks": ""
             }
            },
            "type": "scatterpolar"
           }
          ],
          "scatterpolargl": [
           {
            "marker": {
             "colorbar": {
              "outlinewidth": 0,
              "ticks": ""
             }
            },
            "type": "scatterpolargl"
           }
          ],
          "scatterternary": [
           {
            "marker": {
             "colorbar": {
              "outlinewidth": 0,
              "ticks": ""
             }
            },
            "type": "scatterternary"
           }
          ],
          "surface": [
           {
            "colorbar": {
             "outlinewidth": 0,
             "ticks": ""
            },
            "colorscale": [
             [
              0,
              "#0d0887"
             ],
             [
              0.1111111111111111,
              "#46039f"
             ],
             [
              0.2222222222222222,
              "#7201a8"
             ],
             [
              0.3333333333333333,
              "#9c179e"
             ],
             [
              0.4444444444444444,
              "#bd3786"
             ],
             [
              0.5555555555555556,
              "#d8576b"
             ],
             [
              0.6666666666666666,
              "#ed7953"
             ],
             [
              0.7777777777777778,
              "#fb9f3a"
             ],
             [
              0.8888888888888888,
              "#fdca26"
             ],
             [
              1,
              "#f0f921"
             ]
            ],
            "type": "surface"
           }
          ],
          "table": [
           {
            "cells": {
             "fill": {
              "color": "#EBF0F8"
             },
             "line": {
              "color": "white"
             }
            },
            "header": {
             "fill": {
              "color": "#C8D4E3"
             },
             "line": {
              "color": "white"
             }
            },
            "type": "table"
           }
          ]
         },
         "layout": {
          "annotationdefaults": {
           "arrowcolor": "#2a3f5f",
           "arrowhead": 0,
           "arrowwidth": 1
          },
          "autotypenumbers": "strict",
          "coloraxis": {
           "colorbar": {
            "outlinewidth": 0,
            "ticks": ""
           }
          },
          "colorscale": {
           "diverging": [
            [
             0,
             "#8e0152"
            ],
            [
             0.1,
             "#c51b7d"
            ],
            [
             0.2,
             "#de77ae"
            ],
            [
             0.3,
             "#f1b6da"
            ],
            [
             0.4,
             "#fde0ef"
            ],
            [
             0.5,
             "#f7f7f7"
            ],
            [
             0.6,
             "#e6f5d0"
            ],
            [
             0.7,
             "#b8e186"
            ],
            [
             0.8,
             "#7fbc41"
            ],
            [
             0.9,
             "#4d9221"
            ],
            [
             1,
             "#276419"
            ]
           ],
           "sequential": [
            [
             0,
             "#0d0887"
            ],
            [
             0.1111111111111111,
             "#46039f"
            ],
            [
             0.2222222222222222,
             "#7201a8"
            ],
            [
             0.3333333333333333,
             "#9c179e"
            ],
            [
             0.4444444444444444,
             "#bd3786"
            ],
            [
             0.5555555555555556,
             "#d8576b"
            ],
            [
             0.6666666666666666,
             "#ed7953"
            ],
            [
             0.7777777777777778,
             "#fb9f3a"
            ],
            [
             0.8888888888888888,
             "#fdca26"
            ],
            [
             1,
             "#f0f921"
            ]
           ],
           "sequentialminus": [
            [
             0,
             "#0d0887"
            ],
            [
             0.1111111111111111,
             "#46039f"
            ],
            [
             0.2222222222222222,
             "#7201a8"
            ],
            [
             0.3333333333333333,
             "#9c179e"
            ],
            [
             0.4444444444444444,
             "#bd3786"
            ],
            [
             0.5555555555555556,
             "#d8576b"
            ],
            [
             0.6666666666666666,
             "#ed7953"
            ],
            [
             0.7777777777777778,
             "#fb9f3a"
            ],
            [
             0.8888888888888888,
             "#fdca26"
            ],
            [
             1,
             "#f0f921"
            ]
           ]
          },
          "colorway": [
           "#636efa",
           "#EF553B",
           "#00cc96",
           "#ab63fa",
           "#FFA15A",
           "#19d3f3",
           "#FF6692",
           "#B6E880",
           "#FF97FF",
           "#FECB52"
          ],
          "font": {
           "color": "#2a3f5f"
          },
          "geo": {
           "bgcolor": "white",
           "lakecolor": "white",
           "landcolor": "#E5ECF6",
           "showlakes": true,
           "showland": true,
           "subunitcolor": "white"
          },
          "hoverlabel": {
           "align": "left"
          },
          "hovermode": "closest",
          "mapbox": {
           "style": "light"
          },
          "paper_bgcolor": "white",
          "plot_bgcolor": "#E5ECF6",
          "polar": {
           "angularaxis": {
            "gridcolor": "white",
            "linecolor": "white",
            "ticks": ""
           },
           "bgcolor": "#E5ECF6",
           "radialaxis": {
            "gridcolor": "white",
            "linecolor": "white",
            "ticks": ""
           }
          },
          "scene": {
           "xaxis": {
            "backgroundcolor": "#E5ECF6",
            "gridcolor": "white",
            "gridwidth": 2,
            "linecolor": "white",
            "showbackground": true,
            "ticks": "",
            "zerolinecolor": "white"
           },
           "yaxis": {
            "backgroundcolor": "#E5ECF6",
            "gridcolor": "white",
            "gridwidth": 2,
            "linecolor": "white",
            "showbackground": true,
            "ticks": "",
            "zerolinecolor": "white"
           },
           "zaxis": {
            "backgroundcolor": "#E5ECF6",
            "gridcolor": "white",
            "gridwidth": 2,
            "linecolor": "white",
            "showbackground": true,
            "ticks": "",
            "zerolinecolor": "white"
           }
          },
          "shapedefaults": {
           "line": {
            "color": "#2a3f5f"
           }
          },
          "ternary": {
           "aaxis": {
            "gridcolor": "white",
            "linecolor": "white",
            "ticks": ""
           },
           "baxis": {
            "gridcolor": "white",
            "linecolor": "white",
            "ticks": ""
           },
           "bgcolor": "#E5ECF6",
           "caxis": {
            "gridcolor": "white",
            "linecolor": "white",
            "ticks": ""
           }
          },
          "title": {
           "x": 0.05
          },
          "xaxis": {
           "automargin": true,
           "gridcolor": "white",
           "linecolor": "white",
           "ticks": "",
           "title": {
            "standoff": 15
           },
           "zerolinecolor": "white",
           "zerolinewidth": 2
          },
          "yaxis": {
           "automargin": true,
           "gridcolor": "white",
           "linecolor": "white",
           "ticks": "",
           "title": {
            "standoff": 15
           },
           "zerolinecolor": "white",
           "zerolinewidth": 2
          }
         }
        }
       }
      },
      "text/html": [
       "<div>                            <div id=\"51ba2d7c-ead5-4e16-ae1b-8a1cf08aad90\" class=\"plotly-graph-div\" style=\"height:525px; width:100%;\"></div>            <script type=\"text/javascript\">                require([\"plotly\"], function(Plotly) {                    window.PLOTLYENV=window.PLOTLYENV || {};                                    if (document.getElementById(\"51ba2d7c-ead5-4e16-ae1b-8a1cf08aad90\")) {                    Plotly.newPlot(                        \"51ba2d7c-ead5-4e16-ae1b-8a1cf08aad90\",                        [{\"domain\":{\"x\":[0.0,1.0],\"y\":[0.0,1.0]},\"hovertemplate\":\"label=%{label}<br>parent=%{parent}<extra></extra>\",\"labels\":[\"Eve\",\"Cain\",\"Seth\",\"Enos\",\"Noam\",\"Abel\",\"Awan\",\"Enoch\",\"Azura\"],\"name\":\"\",\"parents\":[\"\",\"Eve\",\"Eve\",\"Seth\",\"Seth\",\"Eve\",\"Eve\",\"Awan\",\"Eve\"],\"root\":{\"color\":\"lightgrey\"},\"type\":\"treemap\"}],                        {\"legend\":{\"tracegroupgap\":0},\"margin\":{\"b\":25,\"l\":25,\"r\":25,\"t\":50},\"template\":{\"data\":{\"bar\":[{\"error_x\":{\"color\":\"#2a3f5f\"},\"error_y\":{\"color\":\"#2a3f5f\"},\"marker\":{\"line\":{\"color\":\"#E5ECF6\",\"width\":0.5},\"pattern\":{\"fillmode\":\"overlay\",\"size\":10,\"solidity\":0.2}},\"type\":\"bar\"}],\"barpolar\":[{\"marker\":{\"line\":{\"color\":\"#E5ECF6\",\"width\":0.5},\"pattern\":{\"fillmode\":\"overlay\",\"size\":10,\"solidity\":0.2}},\"type\":\"barpolar\"}],\"carpet\":[{\"aaxis\":{\"endlinecolor\":\"#2a3f5f\",\"gridcolor\":\"white\",\"linecolor\":\"white\",\"minorgridcolor\":\"white\",\"startlinecolor\":\"#2a3f5f\"},\"baxis\":{\"endlinecolor\":\"#2a3f5f\",\"gridcolor\":\"white\",\"linecolor\":\"white\",\"minorgridcolor\":\"white\",\"startlinecolor\":\"#2a3f5f\"},\"type\":\"carpet\"}],\"choropleth\":[{\"colorbar\":{\"outlinewidth\":0,\"ticks\":\"\"},\"type\":\"choropleth\"}],\"contour\":[{\"colorbar\":{\"outlinewidth\":0,\"ticks\":\"\"},\"colorscale\":[[0.0,\"#0d0887\"],[0.1111111111111111,\"#46039f\"],[0.2222222222222222,\"#7201a8\"],[0.3333333333333333,\"#9c179e\"],[0.4444444444444444,\"#bd3786\"],[0.5555555555555556,\"#d8576b\"],[0.6666666666666666,\"#ed7953\"],[0.7777777777777778,\"#fb9f3a\"],[0.8888888888888888,\"#fdca26\"],[1.0,\"#f0f921\"]],\"type\":\"contour\"}],\"contourcarpet\":[{\"colorbar\":{\"outlinewidth\":0,\"ticks\":\"\"},\"type\":\"contourcarpet\"}],\"heatmap\":[{\"colorbar\":{\"outlinewidth\":0,\"ticks\":\"\"},\"colorscale\":[[0.0,\"#0d0887\"],[0.1111111111111111,\"#46039f\"],[0.2222222222222222,\"#7201a8\"],[0.3333333333333333,\"#9c179e\"],[0.4444444444444444,\"#bd3786\"],[0.5555555555555556,\"#d8576b\"],[0.6666666666666666,\"#ed7953\"],[0.7777777777777778,\"#fb9f3a\"],[0.8888888888888888,\"#fdca26\"],[1.0,\"#f0f921\"]],\"type\":\"heatmap\"}],\"heatmapgl\":[{\"colorbar\":{\"outlinewidth\":0,\"ticks\":\"\"},\"colorscale\":[[0.0,\"#0d0887\"],[0.1111111111111111,\"#46039f\"],[0.2222222222222222,\"#7201a8\"],[0.3333333333333333,\"#9c179e\"],[0.4444444444444444,\"#bd3786\"],[0.5555555555555556,\"#d8576b\"],[0.6666666666666666,\"#ed7953\"],[0.7777777777777778,\"#fb9f3a\"],[0.8888888888888888,\"#fdca26\"],[1.0,\"#f0f921\"]],\"type\":\"heatmapgl\"}],\"histogram\":[{\"marker\":{\"pattern\":{\"fillmode\":\"overlay\",\"size\":10,\"solidity\":0.2}},\"type\":\"histogram\"}],\"histogram2d\":[{\"colorbar\":{\"outlinewidth\":0,\"ticks\":\"\"},\"colorscale\":[[0.0,\"#0d0887\"],[0.1111111111111111,\"#46039f\"],[0.2222222222222222,\"#7201a8\"],[0.3333333333333333,\"#9c179e\"],[0.4444444444444444,\"#bd3786\"],[0.5555555555555556,\"#d8576b\"],[0.6666666666666666,\"#ed7953\"],[0.7777777777777778,\"#fb9f3a\"],[0.8888888888888888,\"#fdca26\"],[1.0,\"#f0f921\"]],\"type\":\"histogram2d\"}],\"histogram2dcontour\":[{\"colorbar\":{\"outlinewidth\":0,\"ticks\":\"\"},\"colorscale\":[[0.0,\"#0d0887\"],[0.1111111111111111,\"#46039f\"],[0.2222222222222222,\"#7201a8\"],[0.3333333333333333,\"#9c179e\"],[0.4444444444444444,\"#bd3786\"],[0.5555555555555556,\"#d8576b\"],[0.6666666666666666,\"#ed7953\"],[0.7777777777777778,\"#fb9f3a\"],[0.8888888888888888,\"#fdca26\"],[1.0,\"#f0f921\"]],\"type\":\"histogram2dcontour\"}],\"mesh3d\":[{\"colorbar\":{\"outlinewidth\":0,\"ticks\":\"\"},\"type\":\"mesh3d\"}],\"parcoords\":[{\"line\":{\"colorbar\":{\"outlinewidth\":0,\"ticks\":\"\"}},\"type\":\"parcoords\"}],\"pie\":[{\"automargin\":true,\"type\":\"pie\"}],\"scatter\":[{\"marker\":{\"colorbar\":{\"outlinewidth\":0,\"ticks\":\"\"}},\"type\":\"scatter\"}],\"scatter3d\":[{\"line\":{\"colorbar\":{\"outlinewidth\":0,\"ticks\":\"\"}},\"marker\":{\"colorbar\":{\"outlinewidth\":0,\"ticks\":\"\"}},\"type\":\"scatter3d\"}],\"scattercarpet\":[{\"marker\":{\"colorbar\":{\"outlinewidth\":0,\"ticks\":\"\"}},\"type\":\"scattercarpet\"}],\"scattergeo\":[{\"marker\":{\"colorbar\":{\"outlinewidth\":0,\"ticks\":\"\"}},\"type\":\"scattergeo\"}],\"scattergl\":[{\"marker\":{\"colorbar\":{\"outlinewidth\":0,\"ticks\":\"\"}},\"type\":\"scattergl\"}],\"scattermapbox\":[{\"marker\":{\"colorbar\":{\"outlinewidth\":0,\"ticks\":\"\"}},\"type\":\"scattermapbox\"}],\"scatterpolar\":[{\"marker\":{\"colorbar\":{\"outlinewidth\":0,\"ticks\":\"\"}},\"type\":\"scatterpolar\"}],\"scatterpolargl\":[{\"marker\":{\"colorbar\":{\"outlinewidth\":0,\"ticks\":\"\"}},\"type\":\"scatterpolargl\"}],\"scatterternary\":[{\"marker\":{\"colorbar\":{\"outlinewidth\":0,\"ticks\":\"\"}},\"type\":\"scatterternary\"}],\"surface\":[{\"colorbar\":{\"outlinewidth\":0,\"ticks\":\"\"},\"colorscale\":[[0.0,\"#0d0887\"],[0.1111111111111111,\"#46039f\"],[0.2222222222222222,\"#7201a8\"],[0.3333333333333333,\"#9c179e\"],[0.4444444444444444,\"#bd3786\"],[0.5555555555555556,\"#d8576b\"],[0.6666666666666666,\"#ed7953\"],[0.7777777777777778,\"#fb9f3a\"],[0.8888888888888888,\"#fdca26\"],[1.0,\"#f0f921\"]],\"type\":\"surface\"}],\"table\":[{\"cells\":{\"fill\":{\"color\":\"#EBF0F8\"},\"line\":{\"color\":\"white\"}},\"header\":{\"fill\":{\"color\":\"#C8D4E3\"},\"line\":{\"color\":\"white\"}},\"type\":\"table\"}]},\"layout\":{\"annotationdefaults\":{\"arrowcolor\":\"#2a3f5f\",\"arrowhead\":0,\"arrowwidth\":1},\"autotypenumbers\":\"strict\",\"coloraxis\":{\"colorbar\":{\"outlinewidth\":0,\"ticks\":\"\"}},\"colorscale\":{\"diverging\":[[0,\"#8e0152\"],[0.1,\"#c51b7d\"],[0.2,\"#de77ae\"],[0.3,\"#f1b6da\"],[0.4,\"#fde0ef\"],[0.5,\"#f7f7f7\"],[0.6,\"#e6f5d0\"],[0.7,\"#b8e186\"],[0.8,\"#7fbc41\"],[0.9,\"#4d9221\"],[1,\"#276419\"]],\"sequential\":[[0.0,\"#0d0887\"],[0.1111111111111111,\"#46039f\"],[0.2222222222222222,\"#7201a8\"],[0.3333333333333333,\"#9c179e\"],[0.4444444444444444,\"#bd3786\"],[0.5555555555555556,\"#d8576b\"],[0.6666666666666666,\"#ed7953\"],[0.7777777777777778,\"#fb9f3a\"],[0.8888888888888888,\"#fdca26\"],[1.0,\"#f0f921\"]],\"sequentialminus\":[[0.0,\"#0d0887\"],[0.1111111111111111,\"#46039f\"],[0.2222222222222222,\"#7201a8\"],[0.3333333333333333,\"#9c179e\"],[0.4444444444444444,\"#bd3786\"],[0.5555555555555556,\"#d8576b\"],[0.6666666666666666,\"#ed7953\"],[0.7777777777777778,\"#fb9f3a\"],[0.8888888888888888,\"#fdca26\"],[1.0,\"#f0f921\"]]},\"colorway\":[\"#636efa\",\"#EF553B\",\"#00cc96\",\"#ab63fa\",\"#FFA15A\",\"#19d3f3\",\"#FF6692\",\"#B6E880\",\"#FF97FF\",\"#FECB52\"],\"font\":{\"color\":\"#2a3f5f\"},\"geo\":{\"bgcolor\":\"white\",\"lakecolor\":\"white\",\"landcolor\":\"#E5ECF6\",\"showlakes\":true,\"showland\":true,\"subunitcolor\":\"white\"},\"hoverlabel\":{\"align\":\"left\"},\"hovermode\":\"closest\",\"mapbox\":{\"style\":\"light\"},\"paper_bgcolor\":\"white\",\"plot_bgcolor\":\"#E5ECF6\",\"polar\":{\"angularaxis\":{\"gridcolor\":\"white\",\"linecolor\":\"white\",\"ticks\":\"\"},\"bgcolor\":\"#E5ECF6\",\"radialaxis\":{\"gridcolor\":\"white\",\"linecolor\":\"white\",\"ticks\":\"\"}},\"scene\":{\"xaxis\":{\"backgroundcolor\":\"#E5ECF6\",\"gridcolor\":\"white\",\"gridwidth\":2,\"linecolor\":\"white\",\"showbackground\":true,\"ticks\":\"\",\"zerolinecolor\":\"white\"},\"yaxis\":{\"backgroundcolor\":\"#E5ECF6\",\"gridcolor\":\"white\",\"gridwidth\":2,\"linecolor\":\"white\",\"showbackground\":true,\"ticks\":\"\",\"zerolinecolor\":\"white\"},\"zaxis\":{\"backgroundcolor\":\"#E5ECF6\",\"gridcolor\":\"white\",\"gridwidth\":2,\"linecolor\":\"white\",\"showbackground\":true,\"ticks\":\"\",\"zerolinecolor\":\"white\"}},\"shapedefaults\":{\"line\":{\"color\":\"#2a3f5f\"}},\"ternary\":{\"aaxis\":{\"gridcolor\":\"white\",\"linecolor\":\"white\",\"ticks\":\"\"},\"baxis\":{\"gridcolor\":\"white\",\"linecolor\":\"white\",\"ticks\":\"\"},\"bgcolor\":\"#E5ECF6\",\"caxis\":{\"gridcolor\":\"white\",\"linecolor\":\"white\",\"ticks\":\"\"}},\"title\":{\"x\":0.05},\"xaxis\":{\"automargin\":true,\"gridcolor\":\"white\",\"linecolor\":\"white\",\"ticks\":\"\",\"title\":{\"standoff\":15},\"zerolinecolor\":\"white\",\"zerolinewidth\":2},\"yaxis\":{\"automargin\":true,\"gridcolor\":\"white\",\"linecolor\":\"white\",\"ticks\":\"\",\"title\":{\"standoff\":15},\"zerolinecolor\":\"white\",\"zerolinewidth\":2}}}},                        {\"responsive\": true}                    ).then(function(){\n",
       "                            \n",
       "var gd = document.getElementById('51ba2d7c-ead5-4e16-ae1b-8a1cf08aad90');\n",
       "var x = new MutationObserver(function (mutations, observer) {{\n",
       "        var display = window.getComputedStyle(gd).display;\n",
       "        if (!display || display === 'none') {{\n",
       "            console.log([gd, 'removed!']);\n",
       "            Plotly.purge(gd);\n",
       "            observer.disconnect();\n",
       "        }}\n",
       "}});\n",
       "\n",
       "// Listen for the removal of the full notebook cells\n",
       "var notebookContainer = gd.closest('#notebook-container');\n",
       "if (notebookContainer) {{\n",
       "    x.observe(notebookContainer, {childList: true});\n",
       "}}\n",
       "\n",
       "// Listen for the clearing of the current output cell\n",
       "var outputEl = gd.closest('.output');\n",
       "if (outputEl) {{\n",
       "    x.observe(outputEl, {childList: true});\n",
       "}}\n",
       "\n",
       "                        })                };                });            </script>        </div>"
      ]
     },
     "metadata": {},
     "output_type": "display_data"
    }
   ],
   "source": [
    "import plotly.express as px\n",
    "fig = px.treemap(\n",
    "    names = [\"Eve\",\"Cain\", \"Seth\", \"Enos\", \"Noam\", \"Abel\", \"Awan\", \"Enoch\", \"Azura\"],\n",
    "    parents = [\"\", \"Eve\", \"Eve\", \"Seth\", \"Seth\", \"Eve\", \"Eve\", \"Awan\", \"Eve\"]\n",
    ")\n",
    "fig.update_traces(root_color=\"lightgrey\")\n",
    "fig.update_layout(margin = dict(t=50, l=25, r=25, b=25))\n",
    "fig.show()"
   ]
  },
  {
   "cell_type": "code",
   "execution_count": 45,
   "metadata": {},
   "outputs": [
    {
     "data": {
      "text/html": [
       "<div>\n",
       "<style scoped>\n",
       "    .dataframe tbody tr th:only-of-type {\n",
       "        vertical-align: middle;\n",
       "    }\n",
       "\n",
       "    .dataframe tbody tr th {\n",
       "        vertical-align: top;\n",
       "    }\n",
       "\n",
       "    .dataframe thead th {\n",
       "        text-align: right;\n",
       "    }\n",
       "</style>\n",
       "<table border=\"1\" class=\"dataframe\">\n",
       "  <thead>\n",
       "    <tr style=\"text-align: right;\">\n",
       "      <th></th>\n",
       "      <th>parents</th>\n",
       "      <th>names</th>\n",
       "    </tr>\n",
       "  </thead>\n",
       "  <tbody>\n",
       "    <tr>\n",
       "      <th>0</th>\n",
       "      <td></td>\n",
       "      <td>Eve</td>\n",
       "    </tr>\n",
       "    <tr>\n",
       "      <th>1</th>\n",
       "      <td>Eve</td>\n",
       "      <td>Cain</td>\n",
       "    </tr>\n",
       "    <tr>\n",
       "      <th>2</th>\n",
       "      <td>Eve</td>\n",
       "      <td>Seth</td>\n",
       "    </tr>\n",
       "    <tr>\n",
       "      <th>3</th>\n",
       "      <td>Seth</td>\n",
       "      <td>Enos</td>\n",
       "    </tr>\n",
       "    <tr>\n",
       "      <th>4</th>\n",
       "      <td>Seth</td>\n",
       "      <td>Noam</td>\n",
       "    </tr>\n",
       "    <tr>\n",
       "      <th>5</th>\n",
       "      <td>Eve</td>\n",
       "      <td>Abel</td>\n",
       "    </tr>\n",
       "    <tr>\n",
       "      <th>6</th>\n",
       "      <td>Eve</td>\n",
       "      <td>Awan</td>\n",
       "    </tr>\n",
       "    <tr>\n",
       "      <th>7</th>\n",
       "      <td>Awan</td>\n",
       "      <td>Enoch</td>\n",
       "    </tr>\n",
       "    <tr>\n",
       "      <th>8</th>\n",
       "      <td>Eve</td>\n",
       "      <td>Azura</td>\n",
       "    </tr>\n",
       "  </tbody>\n",
       "</table>\n",
       "</div>"
      ],
      "text/plain": [
       "  parents  names\n",
       "0            Eve\n",
       "1     Eve   Cain\n",
       "2     Eve   Seth\n",
       "3    Seth   Enos\n",
       "4    Seth   Noam\n",
       "5     Eve   Abel\n",
       "6     Eve   Awan\n",
       "7    Awan  Enoch\n",
       "8     Eve  Azura"
      ]
     },
     "execution_count": 45,
     "metadata": {},
     "output_type": "execute_result"
    }
   ],
   "source": [
    "names = [\"Eve\",\"Cain\", \"Seth\", \"Enos\", \"Noam\", \"Abel\", \"Awan\", \"Enoch\", \"Azura\"]\n",
    "parents = [\"\", \"Eve\", \"Eve\", \"Seth\", \"Seth\", \"Eve\", \"Eve\", \"Awan\", \"Eve\"]\n",
    "pd.DataFrame({'parents':parents,\n",
    "              'names':names})"
   ]
  },
  {
   "cell_type": "code",
   "execution_count": null,
   "metadata": {},
   "outputs": [],
   "source": [
    "# Visualize all SDG Goals and its indicators"
   ]
  },
  {
   "cell_type": "code",
   "execution_count": 46,
   "metadata": {
    "scrolled": false
   },
   "outputs": [
    {
     "name": "stderr",
     "output_type": "stream",
     "text": [
      "/opt/anaconda3/lib/python3.7/site-packages/openpyxl/worksheet/_reader.py:312: UserWarning:\n",
      "\n",
      "Unknown extension is not supported and will be removed\n",
      "\n"
     ]
    },
    {
     "data": {
      "text/html": [
       "<div>\n",
       "<style scoped>\n",
       "    .dataframe tbody tr th:only-of-type {\n",
       "        vertical-align: middle;\n",
       "    }\n",
       "\n",
       "    .dataframe tbody tr th {\n",
       "        vertical-align: top;\n",
       "    }\n",
       "\n",
       "    .dataframe thead th {\n",
       "        text-align: right;\n",
       "    }\n",
       "</style>\n",
       "<table border=\"1\" class=\"dataframe\">\n",
       "  <thead>\n",
       "    <tr style=\"text-align: right;\">\n",
       "      <th></th>\n",
       "      <th>SDGs</th>\n",
       "      <th>Goals and Targets</th>\n",
       "    </tr>\n",
       "  </thead>\n",
       "  <tbody>\n",
       "    <tr>\n",
       "      <th>0</th>\n",
       "      <td></td>\n",
       "      <td>SDGs</td>\n",
       "    </tr>\n",
       "    <tr>\n",
       "      <th>1</th>\n",
       "      <td>SDGs</td>\n",
       "      <td>Goal 1. End poverty in all its forms everywhere</td>\n",
       "    </tr>\n",
       "    <tr>\n",
       "      <th>2</th>\n",
       "      <td>SDGs</td>\n",
       "      <td>Goal 2. End hunger, achieve food security and ...</td>\n",
       "    </tr>\n",
       "    <tr>\n",
       "      <th>3</th>\n",
       "      <td>SDGs</td>\n",
       "      <td>Goal 3. Ensure healthy lives and promote well-...</td>\n",
       "    </tr>\n",
       "    <tr>\n",
       "      <th>4</th>\n",
       "      <td>SDGs</td>\n",
       "      <td>Goal 4. Ensure inclusive and equitable quality...</td>\n",
       "    </tr>\n",
       "    <tr>\n",
       "      <th>...</th>\n",
       "      <td>...</td>\n",
       "      <td>...</td>\n",
       "    </tr>\n",
       "    <tr>\n",
       "      <th>509</th>\n",
       "      <td>17.18 By 2020, enhance capacity-building suppo...</td>\n",
       "      <td>17.18.1 Statistical capacity indicator for Sus...</td>\n",
       "    </tr>\n",
       "    <tr>\n",
       "      <th>510</th>\n",
       "      <td>NaN</td>\n",
       "      <td>17.18.2 Number of countries that have national...</td>\n",
       "    </tr>\n",
       "    <tr>\n",
       "      <th>511</th>\n",
       "      <td>NaN</td>\n",
       "      <td>17.18.3 Number of countries with a national st...</td>\n",
       "    </tr>\n",
       "    <tr>\n",
       "      <th>512</th>\n",
       "      <td>17.19 By 2030, build on existing initiatives t...</td>\n",
       "      <td>17.19.1 Dollar value of all resources made ava...</td>\n",
       "    </tr>\n",
       "    <tr>\n",
       "      <th>513</th>\n",
       "      <td>NaN</td>\n",
       "      <td>17.19.2 Proportion of countries that (a) have ...</td>\n",
       "    </tr>\n",
       "  </tbody>\n",
       "</table>\n",
       "<p>514 rows × 2 columns</p>\n",
       "</div>"
      ],
      "text/plain": [
       "                                                  SDGs  \\\n",
       "0                                                        \n",
       "1                                                 SDGs   \n",
       "2                                                 SDGs   \n",
       "3                                                 SDGs   \n",
       "4                                                 SDGs   \n",
       "..                                                 ...   \n",
       "509  17.18 By 2020, enhance capacity-building suppo...   \n",
       "510                                                NaN   \n",
       "511                                                NaN   \n",
       "512  17.19 By 2030, build on existing initiatives t...   \n",
       "513                                                NaN   \n",
       "\n",
       "                                     Goals and Targets  \n",
       "0                                                 SDGs  \n",
       "1      Goal 1. End poverty in all its forms everywhere  \n",
       "2    Goal 2. End hunger, achieve food security and ...  \n",
       "3    Goal 3. Ensure healthy lives and promote well-...  \n",
       "4    Goal 4. Ensure inclusive and equitable quality...  \n",
       "..                                                 ...  \n",
       "509  17.18.1 Statistical capacity indicator for Sus...  \n",
       "510  17.18.2 Number of countries that have national...  \n",
       "511  17.18.3 Number of countries with a national st...  \n",
       "512  17.19.1 Dollar value of all resources made ava...  \n",
       "513  17.19.2 Proportion of countries that (a) have ...  \n",
       "\n",
       "[514 rows x 2 columns]"
      ]
     },
     "execution_count": 46,
     "metadata": {},
     "output_type": "execute_result"
    }
   ],
   "source": [
    "my_topics=pd.read_excel('../data/Clean_tree_list_Global Indicator Framework after 2021 refinement_English.xlsx',sheet_name='indicators_flat')\n",
    "my_topics['SDGs'][0]=''\n",
    "\n",
    "my_topics"
   ]
  },
  {
   "cell_type": "code",
   "execution_count": null,
   "metadata": {},
   "outputs": [],
   "source": []
  },
  {
   "cell_type": "code",
   "execution_count": 50,
   "metadata": {},
   "outputs": [
    {
     "data": {
      "text/plain": [
       "(514, 2)"
      ]
     },
     "execution_count": 50,
     "metadata": {},
     "output_type": "execute_result"
    }
   ],
   "source": [
    "my_topics['Goals and Targets']=my_topics['Goals and Targets'].fillna(method='ffill')\n",
    "my_topics['SDGs']=my_topics['SDGs'].fillna(method='ffill')\n",
    "my_topics.shape"
   ]
  },
  {
   "cell_type": "code",
   "execution_count": 51,
   "metadata": {},
   "outputs": [
    {
     "data": {
      "text/plain": [
       "(435, 2)"
      ]
     },
     "execution_count": 51,
     "metadata": {},
     "output_type": "execute_result"
    }
   ],
   "source": [
    "my_topics=my_topics.drop_duplicates()\n",
    "my_topics.shape"
   ]
  },
  {
   "cell_type": "markdown",
   "metadata": {},
   "source": [
    "# prepare hover text"
   ]
  },
  {
   "cell_type": "code",
   "execution_count": 55,
   "metadata": {},
   "outputs": [
    {
     "data": {
      "text/plain": [
       "['1.1 By 2030,',\n",
       " 'eradicate extreme',\n",
       " 'poverty for all',\n",
       " 'people everywhere,',\n",
       " 'currently measured',\n",
       " 'as people living on',\n",
       " 'less than $1.25 a',\n",
       " 'day']"
      ]
     },
     "execution_count": 55,
     "metadata": {},
     "output_type": "execute_result"
    }
   ],
   "source": [
    "## check for textwrap functionality\n",
    "import textwrap\n",
    "textwrap.wrap(my_topics['Goals and Targets'][18],20)"
   ]
  },
  {
   "cell_type": "code",
   "execution_count": 56,
   "metadata": {},
   "outputs": [],
   "source": [
    "def split_every_x_words(value,nr_chars):\n",
    "    ''' the function is pushing the textwrap array in a concatenated string.\n",
    "    Each element is separated by a line html line break element'''\n",
    "    my_text=''\n",
    "    #print(value)\n",
    "    text_list=textwrap.wrap(value,nr_chars)\n",
    "    for count,word in enumerate(text_list):     \n",
    "        my_text+=(word+'<br>')      \n",
    "    return my_text"
   ]
  },
  {
   "cell_type": "code",
   "execution_count": null,
   "metadata": {},
   "outputs": [],
   "source": []
  },
  {
   "cell_type": "code",
   "execution_count": 58,
   "metadata": {},
   "outputs": [],
   "source": [
    "my_labels=[split_every_x_words(each,20) for each in my_topics['Goals and Targets']]\n",
    "my_parents=[split_every_x_words(each,20) for each in my_topics['SDGs']]"
   ]
  },
  {
   "cell_type": "code",
   "execution_count": 17,
   "metadata": {},
   "outputs": [],
   "source": [
    "#example string with HTML elements to display within plotly plots\n",
    "text_string='''<b>THis is a bold text<b> <br> Hyperlink <a href=”https://plot.ly/”> Chart Studio</a><br> with some new lines'''"
   ]
  },
  {
   "cell_type": "code",
   "execution_count": 37,
   "metadata": {},
   "outputs": [],
   "source": []
  },
  {
   "cell_type": "markdown",
   "metadata": {},
   "source": [
    "# Treemap"
   ]
  },
  {
   "cell_type": "code",
   "execution_count": 60,
   "metadata": {},
   "outputs": [
    {
     "data": {
      "application/vnd.plotly.v1+json": {
       "config": {
        "plotlyServerURL": "https://plot.ly"
       },
       "data": [
        {
         "hoverinfo": "text",
         "labels": [
          "SDGs<br>",
          "Goal 1. End poverty<br>in all its forms<br>everywhere<br>",
          "Goal 2. End hunger,<br>achieve food<br>security and<br>improved nutrition<br>and promote<br>sustainable<br>agriculture<br>",
          "Goal 3. Ensure<br>healthy lives and<br>promote well-being<br>for all at all ages<br>",
          "Goal 4. Ensure<br>inclusive and<br>equitable quality<br>education and<br>promote lifelong<br>learning<br>opportunities for<br>all<br>",
          "Goal 5. Achieve<br>gender equality and<br>empower all women<br>and girls<br>",
          "Goal 6. Ensure<br>availability and<br>sustainable<br>management of water<br>and sanitation for<br>all<br>",
          "Goal 7. Ensure<br>access to<br>affordable,<br>reliable,<br>sustainable and<br>modern energy for<br>all<br>",
          "Goal 8. Promote<br>sustained, inclusive<br>and sustainable<br>economic growth,<br>full and productive<br>employment and<br>decent work for all<br>",
          "Goal 9. Build<br>resilient<br>infrastructure,<br>promote inclusive<br>and sustainable<br>industrialization<br>and foster<br>innovation<br>",
          "Goal 10. Reduce<br>inequality within<br>and among countries<br>",
          "Goal 11. Make cities<br>and human<br>settlements<br>inclusive, safe,<br>resilient and<br>sustainable<br>",
          "Goal 12. Ensure<br>sustainable<br>consumption and<br>production patterns<br>",
          "Goal 13. Take urgent<br>action to combat<br>climate change and<br>its impacts<br>",
          "Goal 14. Conserve<br>and sustainably use<br>the oceans, seas and<br>marine resources for<br>sustainable<br>development<br>",
          "Goal 15. Protect,<br>restore and promote<br>sustainable use of<br>terrestrial<br>ecosystems,<br>sustainably manage<br>forests, combat dese<br>rtification, and<br>halt and reverse<br>land degradation and<br>halt biodiversity<br>loss<br>",
          "Goal 16. Promote<br>peaceful and<br>inclusive societies<br>for sustainable<br>development, provide<br>access to justice<br>for all and build<br>effective,<br>accountable and<br>inclusive<br>institutions at all<br>levels<br>",
          "Goal 17  Strengthen<br>the means of<br>implementation and<br>revitalize the<br>Global Partnership<br>for Sustainable Deve<br>lopment<br>",
          "1.1 By 2030,<br>eradicate extreme<br>poverty for all<br>people everywhere,<br>currently measured<br>as people living on<br>less than $1.25 a<br>day<br>",
          "1.2 By 2030, reduce<br>at least by half the<br>proportion of men,<br>women and children<br>of all ages living<br>in poverty in all<br>its dimensions<br>according to<br>national definitions<br>",
          "1.3 Implement<br>nationally<br>appropriate social<br>protection systems<br>and measures for<br>all, including<br>floors, and by 2030<br>achieve substantial<br>coverage of the poor<br>and the vulnerable<br>",
          "1.4 By 2030, ensure<br>that all men and<br>women, in particular<br>the poor and the<br>vulnerable, have<br>equal rights to<br>economic resources,<br>as well as access to<br>basic services,<br>ownership and<br>control over land<br>and other forms of<br>property,<br>inheritance, natural<br>resources,<br>appropriate new<br>technology and<br>financial services,<br>including<br>microfinance<br>",
          "1.5 By 2030, build<br>the resilience of<br>the poor and those<br>in vulnerable<br>situations and<br>reduce their<br>exposure and<br>vulnerability to<br>climate-related<br>extreme events and<br>other economic,<br>social and<br>environmental shocks<br>and disasters<br>",
          "1.a Ensure<br>significant<br>mobilization of<br>resources from a<br>variety of sources,<br>including through<br>enhanced development<br>cooperation, in<br>order to provide<br>adequate and<br>predictable means<br>for developing<br>countries, in<br>particular least<br>developed countries,<br>to implement<br>programmes and<br>policies to end<br>poverty in all its<br>dimensions<br>",
          "1.b Create sound<br>policy frameworks at<br>the national,<br>regional and<br>international<br>levels, based on<br>pro-poor and gender-<br>sensitive<br>development<br>strategies, to<br>support accelerated<br>investment in<br>poverty eradication<br>actions<br>",
          "2.1 By 2030, end<br>hunger and ensure<br>access by all<br>people, in<br>particular the poor<br>and people in<br>vulnerable<br>situations,<br>including infants,<br>to safe, nutritious<br>and sufficient food<br>all year round<br>",
          "2.2 By 2030, end all<br>forms of<br>malnutrition,<br>including achieving,<br>by 2025, the<br>internationally<br>agreed targets on<br>stunting and wasting<br>in children under<br>5 years of age, and<br>address the<br>nutritional needs of<br>adolescent girls,<br>pregnant and<br>lactating women and<br>older persons<br>",
          "2.3 By 2030, double<br>the agricultural<br>productivity and<br>incomes of small-<br>scale food<br>producers, in<br>particular women,<br>indigenous peoples,<br>family farmers,<br>pastoralists and<br>fishers, including<br>through secure and<br>equal access to<br>land, other<br>productive resources<br>and inputs,<br>knowledge, financial<br>services, markets<br>and opportunities<br>for value addition<br>and non-farm<br>employment<br>",
          "2.4 By 2030, ensure<br>sustainable food<br>production systems<br>and implement<br>resilient<br>agricultural<br>practices that<br>increase<br>productivity and<br>production, that<br>help maintain<br>ecosystems, that<br>strengthen capacity<br>for adaptation to<br>climate change,<br>extreme weather,<br>drought, flooding<br>and other disasters<br>and that<br>progressively<br>improve land and<br>soil quality<br>",
          "2.5 By 2020,<br>maintain the genetic<br>diversity of seeds,<br>cultivated plants<br>and farmed and<br>domesticated animals<br>and their related<br>wild species,<br>including through<br>soundly managed and<br>diversified seed and<br>plant banks at the<br>national, regional<br>and international<br>levels, and promote<br>access to and fair<br>and equitable<br>sharing of benefits<br>arising from the<br>utilization of<br>genetic resources<br>and associated<br>traditional<br>knowledge, as<br>internationally<br>agreed<br>",
          "2.a Increase<br>investment,<br>including through<br>enhanced<br>international<br>cooperation, in<br>rural<br>infrastructure,<br>agricultural<br>research and<br>extension services,<br>technology<br>development and<br>plant and livestock<br>gene banks in order<br>to enhance<br>agricultural<br>productive capacity<br>in developing<br>countries, in<br>particular least<br>developed countries<br>",
          "2.b Correct and<br>prevent trade<br>restrictions and<br>distortions in world<br>agricultural<br>markets, including<br>through the parallel<br>elimination of all<br>forms of<br>agricultural export<br>subsidies and all<br>export measures with<br>equivalent effect,<br>in accordance with<br>the mandate of the<br>Doha Development<br>Round<br>",
          "2.c Adopt measures<br>to ensure the proper<br>functioning of food<br>commodity markets<br>and their<br>derivatives and<br>facilitate timely<br>access to market<br>information,<br>including on food<br>reserves, in order<br>to help limit<br>extreme food price<br>volatility<br>",
          "3.1 By 2030, reduce<br>the global maternal<br>mortality ratio to<br>less than 70 per<br>100,000 live births<br>",
          "3.2 By 2030, end<br>preventable deaths<br>of newborns and<br>children under<br>5 years of age, with<br>all countries aiming<br>to reduce neonatal<br>mortality to at<br>least as low as 12<br>per 1,000 live<br>births and under‑5<br>mortality to at<br>least as low as 25<br>per 1,000 live<br>births<br>",
          "3.3 By 2030, end the<br>epidemics of AIDS,<br>tuberculosis,<br>malaria and<br>neglected tropical<br>diseases and combat<br>hepatitis, water-<br>borne diseases and<br>other communicable<br>diseases<br>",
          "3.4 By 2030, reduce<br>by one third<br>premature mortality<br>from non-<br>communicable<br>diseases through<br>prevention and<br>treatment and<br>promote mental<br>health and well-<br>being<br>",
          "3.5 Strengthen the<br>prevention and<br>treatment of<br>substance abuse,<br>including narcotic<br>drug abuse and<br>harmful use of<br>alcohol<br>",
          "3.6 By 2020, halve<br>the number of global<br>deaths and injuries<br>from road traffic<br>accidents<br>",
          "3.7 By 2030, ensure<br>universal access to<br>sexual and<br>reproductive health-<br>care services,<br>including for family<br>planning,<br>information and<br>education, and the<br>integration of<br>reproductive health<br>into national<br>strategies and<br>programmes<br>",
          "3.8 Achieve<br>universal health<br>coverage, including<br>financial risk<br>protection, access<br>to quality essential<br>health-care services<br>and access to safe,<br>effective, quality<br>and affordable<br>essential medicines<br>and vaccines for all<br>",
          "3.9 By 2030,<br>substantially reduce<br>the number of deaths<br>and illnesses from<br>hazardous chemicals<br>and air, water and<br>soil pollution and<br>contamination<br>",
          "3.a Strengthen the<br>implementation of<br>the World Health<br>Organization<br>Framework Convention<br>on Tobacco Control<br>in all countries, as<br>appropriate<br>",
          "3.b Support the<br>research and<br>development of<br>vaccines and<br>medicines for the<br>communicable and<br>non‑communicable<br>diseases that<br>primarily affect<br>developing<br>countries, provide<br>access to affordable<br>essential medicines<br>and vaccines, in<br>accordance with the<br>Doha Declaration on<br>the TRIPS Agreement<br>and Public Health,<br>which affirms the<br>right of developing<br>countries to use to<br>the full the<br>provisions in the<br>Agreement on Trade-<br>Related Aspects of<br>Intellectual<br>Property Rights<br>regarding<br>flexibilities to<br>protect public<br>health, and, in<br>particular, provide<br>access to medicines<br>for all<br>",
          "3.c Substantially<br>increase health<br>financing and the<br>recruitment,<br>development,<br>training and<br>retention of the<br>health workforce in<br>developing<br>countries,<br>especially in least<br>developed countries<br>and small island<br>developing States<br>",
          "3.d Strengthen the<br>capacity of all<br>countries, in<br>particular<br>developing<br>countries, for early<br>warning, risk<br>reduction and<br>management of<br>national and global<br>health risks<br>",
          "4.1 By 2030, ensure<br>that all girls and<br>boys complete free,<br>equitable and<br>quality primary and<br>secondary education<br>leading to relevant<br>and effective<br>learning outcomes<br>",
          "4.2 By 2030, ensure<br>that all girls and<br>boys have access to<br>quality early<br>childhood<br>development, care<br>and pre‑primary<br>education so that<br>they are ready for<br>primary education<br>",
          "4.3 By 2030, ensure<br>equal access for all<br>women and men to<br>affordable and<br>quality technical,<br>vocational and<br>tertiary education,<br>including university<br>",
          "4.4 By 2030,<br>substantially<br>increase the number<br>of youth and adults<br>who have relevant<br>skills, including<br>technical and<br>vocational skills,<br>for employment,<br>decent jobs and<br>entrepreneurship<br>",
          "4.5 By 2030,<br>eliminate gender<br>disparities in<br>education and ensure<br>equal access to all<br>levels of education<br>and vocational<br>training for the<br>vulnerable,<br>including persons<br>with disabilities,<br>indigenous peoples<br>and children in<br>vulnerable<br>situations<br>",
          "4.6 By 2030, ensure<br>that all youth and a<br>substantial<br>proportion of<br>adults, both men and<br>women, achieve<br>literacy and<br>numeracy<br>",
          "4.7 By 2030, ensure<br>that all learners<br>acquire the<br>knowledge and skills<br>needed to promote<br>sustainable<br>development,<br>including, among<br>others, through<br>education for<br>sustainable<br>development and<br>sustainable<br>lifestyles, human<br>rights, gender<br>equality, promotion<br>of a culture of<br>peace and non-<br>violence, global<br>citizenship and<br>appreciation of<br>cultural diversity<br>and of culture’s<br>contribution to<br>sustainable<br>development<br>",
          "4.a Build and<br>upgrade education<br>facilities that are<br>child, disability<br>and gender sensitive<br>and provide safe,<br>non-violent,<br>inclusive and<br>effective learning<br>environments for all<br>",
          "4.b By 2020,<br>substantially expand<br>globally the number<br>of scholarships<br>available to<br>developing<br>countries, in<br>particular least<br>developed countries,<br>small island<br>developing States<br>and African<br>countries, for<br>enrolment in higher<br>education, including<br>vocational training<br>and information and<br>communications<br>technology,<br>technical,<br>engineering and<br>scientific<br>programmes, in<br>developed countries<br>and other developing<br>countries<br>",
          "4.c By 2030,<br>substantially<br>increase the supply<br>of qualified<br>teachers, including<br>through<br>international<br>cooperation for<br>teacher training in<br>developing<br>countries,<br>especially least<br>developed countries<br>and small island<br>developing States<br>",
          "5.1 End all forms of<br>discrimination<br>against all women<br>and girls everywhere<br>",
          "5.2 Eliminate all<br>forms of violence<br>against all women<br>and girls in the<br>public and private<br>spheres, including<br>trafficking and<br>sexual and other<br>types of<br>exploitation<br>",
          "5.3 Eliminate all<br>harmful practices,<br>such as child, early<br>and forced marriage<br>and female genital<br>mutilation<br>",
          "5.4 Recognize and<br>value unpaid care<br>and domestic work<br>through the<br>provision of public<br>services,<br>infrastructure and<br>social protection<br>policies and the<br>promotion of shared<br>responsibility<br>within the household<br>and the family as<br>nationally<br>appropriate<br>",
          "5.5 Ensure women’s<br>full and effective<br>participation and<br>equal opportunities<br>for leadership at<br>all levels of<br>decision-making in<br>political, economic<br>and public life<br>",
          "5.6 Ensure universal<br>access to sexual and<br>reproductive health<br>and reproductive<br>rights as agreed in<br>accordance with the<br>Programme of Action<br>of the International<br>Conference on<br>Population and<br>Development and the<br>Beijing Platform for<br>Action and the<br>outcome documents of<br>their review<br>conferences<br>",
          "5.a Undertake<br>reforms to give<br>women equal rights<br>to economic<br>resources, as well<br>as access to<br>ownership and<br>control over land<br>and other forms of<br>property, financial<br>services,<br>inheritance and<br>natural resources,<br>in accordance with<br>national laws<br>",
          "5.b Enhance the use<br>of enabling<br>technology, in<br>particular<br>information and<br>communications<br>technology, to<br>promote the<br>empowerment of women<br>",
          "5.c Adopt and<br>strengthen sound<br>policies and<br>enforceable<br>legislation for the<br>promotion of gender<br>equality and the<br>empowerment of all<br>women and girls at<br>all levels<br>",
          "6.1 By 2030, achieve<br>universal and<br>equitable access to<br>safe and affordable<br>drinking water for<br>all<br>",
          "6.2 By 2030, achieve<br>access to adequate<br>and equitable<br>sanitation and<br>hygiene for all and<br>end open defecation,<br>paying special<br>attention to the<br>needs of women and<br>girls and those in<br>vulnerable<br>situations<br>",
          "6.3 By 2030, improve<br>water quality by<br>reducing pollution,<br>eliminating dumping<br>and minimizing<br>release of hazardous<br>chemicals and<br>materials, halving<br>the proportion of<br>untreated wastewater<br>and substantially<br>increasing recycling<br>and safe reuse<br>globally<br>",
          "6.4 By 2030,<br>substantially<br>increase water-use<br>efficiency across<br>all sectors and<br>ensure sustainable<br>withdrawals and<br>supply of freshwater<br>to address water<br>scarcity and<br>substantially reduce<br>the number of people<br>suffering from water<br>scarcity<br>",
          "6.5 By 2030,<br>implement integrated<br>water resources<br>management at all<br>levels, including<br>through<br>transboundary<br>cooperation as<br>appropriate<br>",
          "6.6 By 2020, protect<br>and restore water-<br>related ecosystems,<br>including mountains,<br>forests, wetlands,<br>rivers, aquifers and<br>lakes<br>",
          "6.a By 2030, expand<br>international<br>cooperation and<br>capacity-building<br>support to<br>developing countries<br>in water- and<br>sanitation-related<br>activities and<br>programmes,<br>including water<br>harvesting,<br>desalination, water<br>efficiency,<br>wastewater<br>treatment, recycling<br>and reuse<br>technologies<br>",
          "6.b Support and<br>strengthen the<br>participation of<br>local communities in<br>improving water and<br>sanitation<br>management<br>",
          "7.1 By 2030, ensure<br>universal access to<br>affordable, reliable<br>and modern energy<br>services<br>",
          "7.2 By 2030,<br>increase<br>substantially the<br>share of renewable<br>energy in the global<br>energy mix<br>",
          "7.3 By 2030, double<br>the global rate of<br>improvement in<br>energy efficiency<br>",
          "7.a By 2030, enhance<br>international<br>cooperation to<br>facilitate access to<br>clean energy<br>research and<br>technology,<br>including renewable<br>energy, energy<br>efficiency and<br>advanced and cleaner<br>fossil-fuel<br>technology, and<br>promote investment<br>in energy<br>infrastructure and<br>clean energy<br>technology<br>",
          "7.b By 2030, expand<br>infrastructure and<br>upgrade technology<br>for supplying modern<br>and sustainable<br>energy services for<br>all in developing<br>countries, in<br>particular least<br>developed countries,<br>small island<br>developing States<br>and landlocked<br>developing<br>countries, in<br>accordance with<br>their respective<br>programmes of<br>support<br>",
          "8.1 Sustain per<br>capita economic<br>growth in accordance<br>with national<br>circumstances and,<br>in particular, at<br>least 7 per cent<br>gross domestic<br>product growth per<br>annum in the least<br>developed countries<br>",
          "8.2 Achieve higher<br>levels of economic<br>productivity through<br>diversification,<br>technological<br>upgrading and<br>innovation,<br>including through a<br>focus on high-value<br>added and labour-<br>intensive sectors<br>",
          "8.3 Promote<br>development-oriented<br>policies that<br>support productive<br>activities, decent<br>job creation,<br>entrepreneurship,<br>creativity and<br>innovation, and<br>encourage the<br>formalization and<br>growth of micro-,<br>small- and medium-<br>sized enterprises,<br>including through<br>access to financial<br>services<br>",
          "8.4 Improve<br>progressively,<br>through 2030, global<br>resource efficiency<br>in consumption and<br>production and<br>endeavour to<br>decouple economic<br>growth from<br>environmental<br>degradation, in<br>accordance with the<br>10‑Year Framework of<br>Programmes on<br>Sustainable<br>Consumption and<br>Production, with<br>developed countries<br>taking the lead<br>",
          "8.5 By 2030, achieve<br>full and productive<br>employment and<br>decent work for all<br>women and men,<br>including for young<br>people and persons<br>with disabilities,<br>and equal pay for<br>work of equal value<br>",
          "8.6 By 2020,<br>substantially reduce<br>the proportion of<br>youth not in<br>employment,<br>education or<br>training<br>",
          "8.7 Take immediate<br>and effective<br>measures to<br>eradicate forced<br>labour, end modern<br>slavery and human<br>trafficking and<br>secure the<br>prohibition and<br>elimination of the<br>worst forms of child<br>labour, including<br>recruitment and use<br>of child soldiers,<br>and by 2025 end<br>child labour in all<br>its forms<br>",
          "8.8 Protect labour<br>rights and promote<br>safe and secure<br>working environments<br>for all workers,<br>including migrant<br>workers, in<br>particular women<br>migrants, and those<br>in precarious<br>employment<br>",
          "8.9 By 2030, devise<br>and implement<br>policies to promote<br>sustainable tourism<br>that creates jobs<br>and promotes local<br>culture and products<br>",
          "8.10 Strengthen the<br>capacity of domestic<br>financial<br>institutions to<br>encourage and expand<br>access to banking,<br>insurance and<br>financial services<br>for all<br>",
          "8.a Increase Aid for<br>Trade support for<br>developing<br>countries, in<br>particular least<br>developed countries,<br>including through<br>the Enhanced<br>Integrated Framework<br>for Trade-related<br>Technical Assistance<br>to Least Developed<br>Countries<br>",
          "8.b By 2020, develop<br>and operationalize a<br>global strategy for<br>youth employment and<br>implement the Global<br>Jobs Pact of the<br>International Labour<br>Organization<br>",
          "9.1 Develop quality,<br>reliable,<br>sustainable and<br>resilient<br>infrastructure,<br>including regional<br>and transborder<br>infrastructure, to<br>support economic<br>development and<br>human well-being,<br>with a focus on<br>affordable and<br>equitable access for<br>all<br>",
          "9.2 Promote<br>inclusive and<br>sustainable<br>industrialization<br>and, by 2030,<br>significantly raise<br>industry’s share of<br>employment and gross<br>domestic product, in<br>line with national<br>circumstances, and<br>double its share in<br>least developed<br>countries<br>",
          "9.3 Increase the<br>access of small-<br>scale industrial and<br>other enterprises,<br>in particular in<br>developing<br>countries, to<br>financial services,<br>including affordable<br>credit, and their<br>integration into<br>value chains and<br>markets<br>",
          "9.4 By 2030, upgrade<br>infrastructure and<br>retrofit industries<br>to make them<br>sustainable, with<br>increased resource-<br>use efficiency and<br>greater adoption of<br>clean and<br>environmentally<br>sound technologies<br>and industrial<br>processes, with all<br>countries taking<br>action in accordance<br>with their<br>respective<br>capabilities<br>",
          "9.5 Enhance<br>scientific research,<br>upgrade the<br>technological<br>capabilities of<br>industrial sectors<br>in all countries, in<br>particular<br>developing<br>countries,<br>including, by 2030,<br>encouraging<br>innovation and<br>substantially<br>increasing the<br>number of research<br>and development<br>workers per<br>1 million people and<br>public and private<br>research and<br>development spending<br>",
          "9.a Facilitate<br>sustainable and<br>resilient<br>infrastructure<br>development in<br>developing countries<br>through enhanced<br>financial,<br>technological and<br>technical support to<br>African countries,<br>least developed<br>countries,<br>landlocked<br>developing countries<br>and small island<br>developing States<br>",
          "9.b Support domestic<br>technology<br>development,<br>research and<br>innovation in<br>developing<br>countries, including<br>by ensuring a<br>conducive policy<br>environment for,<br>inter alia,<br>industrial<br>diversification and<br>value addition to<br>commodities<br>",
          "9.c Significantly<br>increase access to<br>information and<br>communications<br>technology and<br>strive to provide<br>universal and<br>affordable access to<br>the Internet in<br>least developed<br>countries by 2020<br>",
          "10.1 By 2030,<br>progressively<br>achieve and sustain<br>income growth of the<br>bottom 40 per cent<br>of the population at<br>a rate higher than<br>the national average<br>",
          "10.2 By 2030,<br>empower and promote<br>the social, economic<br>and political<br>inclusion of all,<br>irrespective of age,<br>sex, disability,<br>race, ethnicity,<br>origin, religion or<br>economic or other<br>status<br>",
          "10.3 Ensure equal<br>opportunity and<br>reduce inequalities<br>of outcome,<br>including by<br>eliminating<br>discriminatory laws,<br>policies and<br>practices and<br>promoting<br>appropriate<br>legislation,<br>policies and action<br>in this regard<br>",
          "10.4 Adopt policies,<br>especially fiscal,<br>wage and social<br>protection policies,<br>and progressively<br>achieve greater<br>equality<br>",
          "10.5 Improve the<br>regulation and<br>monitoring of global<br>financial markets<br>and institutions and<br>strengthen the<br>implementation of<br>such regulations<br>",
          "10.6 Ensure enhanced<br>representation and<br>voice for developing<br>countries in<br>decision-making in<br>global international<br>economic and<br>financial<br>institutions in<br>order to deliver<br>more effective,<br>credible,<br>accountable and<br>legitimate<br>institutions<br>",
          "10.7 Facilitate<br>orderly, safe,<br>regular and<br>responsible<br>migration and<br>mobility of people,<br>including through<br>the implementation<br>of planned and well-<br>managed migration<br>policies<br>",
          "10.a Implement the<br>principle of special<br>and differential<br>treatment for<br>developing<br>countries, in<br>particular least<br>developed countries,<br>in accordance with<br>World Trade<br>Organization<br>agreements<br>",
          "10.b Encourage<br>official development<br>assistance and<br>financial flows,<br>including foreign<br>direct investment,<br>to States where the<br>need is greatest, in<br>particular least<br>developed countries,<br>African countries,<br>small island<br>developing States<br>and landlocked<br>developing<br>countries, in<br>accordance with<br>their national plans<br>and programmes<br>",
          "10.c By 2030, reduce<br>to less than<br>3 per cent the<br>transaction costs of<br>migrant remittances<br>and eliminate<br>remittance corridors<br>with costs higher<br>than 5 per cent<br>",
          "11.1 By 2030, ensure<br>access for all to<br>adequate, safe and<br>affordable housing<br>and basic services<br>and upgrade slums<br>",
          "11.2 By 2030,<br>provide access to<br>safe, affordable,<br>accessible and<br>sustainable<br>transport systems<br>for all, improving<br>road safety, notably<br>by expanding public<br>transport, with<br>special attention to<br>the needs of those<br>in vulnerable<br>situations, women,<br>children, persons<br>with disabilities<br>and older persons<br>",
          "11.3 By 2030,<br>enhance inclusive<br>and sustainable<br>urbanization and<br>capacity for<br>participatory,<br>integrated and<br>sustainable human<br>settlement planning<br>and management in<br>all countries<br>",
          "11.4 Strengthen<br>efforts to protect<br>and safeguard the<br>world’s cultural and<br>natural heritage<br>",
          "11.5 By 2030,<br>significantly reduce<br>the number of deaths<br>and the number of<br>people affected and<br>substantially<br>decrease the direct<br>economic losses<br>relative to global<br>gross domestic<br>product caused by<br>disasters, including<br>water-related<br>disasters, with a<br>focus on protecting<br>the poor and people<br>in vulnerable<br>situations<br>",
          "11.6 By 2030, reduce<br>the adverse per<br>capita environmental<br>impact of cities,<br>including by paying<br>special attention to<br>air quality and<br>municipal and other<br>waste management<br>",
          "11.7 By 2030,<br>provide universal<br>access to safe,<br>inclusive and<br>accessible, green<br>and public spaces,<br>in particular for<br>women and children,<br>older persons and<br>persons with<br>disabilities<br>",
          "11.a Support<br>positive economic,<br>social and<br>environmental links<br>between urban, peri-<br>urban and rural<br>areas by<br>strengthening<br>national and<br>regional development<br>planning<br>",
          "11.b By 2020,<br>substantially<br>increase the number<br>of cities and human<br>settlements adopting<br>and implementing<br>integrated policies<br>and plans towards<br>inclusion, resource<br>efficiency,<br>mitigation and<br>adaptation to<br>climate change,<br>resilience to<br>disasters, and<br>develop and<br>implement, in line<br>with the Sendai<br>Framework for<br>Disaster Risk<br>Reduction 2015–2030,<br>holistic disaster<br>risk management at<br>all levels<br>",
          "11.c Support least<br>developed countries,<br>including through<br>financial and<br>technical<br>assistance, in<br>building sustainable<br>and resilient<br>buildings utilizing<br>local materials<br>",
          "12.1 Implement the<br>10‑Year Framework of<br>Programmes on<br>Sustainable<br>Consumption and<br>Production Patterns,<br>all countries taking<br>action, with<br>developed countries<br>taking the lead,<br>taking into account<br>the development and<br>capabilities of<br>developing countries<br>",
          "12.2 By 2030,<br>achieve the<br>sustainable<br>management and<br>efficient use of<br>natural resources<br>",
          "12.3 By 2030, halve<br>per capita global<br>food waste at the<br>retail and consumer<br>levels and reduce<br>food losses along<br>production and<br>supply chains,<br>including post-<br>harvest losses<br>",
          "12.4 By 2020,<br>achieve the<br>environmentally<br>sound management of<br>chemicals and all<br>wastes throughout<br>their life cycle, in<br>accordance with<br>agreed international<br>frameworks, and<br>significantly reduce<br>their release to<br>air, water and soil<br>in order to minimize<br>their adverse<br>impacts on human<br>health and the<br>environment<br>",
          "12.5 By 2030,<br>substantially reduce<br>waste generation<br>through prevention,<br>reduction, recycling<br>and reuse<br>",
          "12.6 Encourage<br>companies,<br>especially large and<br>transnational<br>companies, to adopt<br>sustainable<br>practices and to<br>integrate<br>sustainability<br>information into<br>their reporting<br>cycle<br>",
          "12.7 Promote public<br>procurement<br>practices that are<br>sustainable, in<br>accordance with<br>national policies<br>and priorities<br>",
          "12.8 By 2030, ensure<br>that people<br>everywhere have the<br>relevant information<br>and awareness for<br>sustainable<br>development and<br>lifestyles in<br>harmony with nature<br>",
          "12.a Support<br>developing countries<br>to strengthen their<br>scientific and<br>technological<br>capacity to move<br>towards more<br>sustainable patterns<br>of consumption and<br>production<br>",
          "12.b Develop and<br>implement tools to<br>monitor sustainable<br>development impacts<br>for sustainable<br>tourism that creates<br>jobs and promotes<br>local culture and<br>products<br>",
          "12.c Rationalize<br>inefficient fossil-<br>fuel subsidies that<br>encourage wasteful<br>consumption by<br>removing market<br>distortions, in<br>accordance with<br>national<br>circumstances,<br>including by<br>restructuring<br>taxation and phasing<br>out those harmful<br>subsidies, where<br>they exist, to<br>reflect their<br>environmental<br>impacts, taking<br>fully into account<br>the specific needs<br>and conditions of<br>developing countries<br>and minimizing the<br>possible adverse<br>impacts on their<br>development in a<br>manner that protects<br>the poor and the<br>affected communities<br>",
          "13.1 Strengthen<br>resilience and<br>adaptive capacity to<br>climate-related<br>hazards and natural<br>disasters in all<br>countries<br>",
          "13.2 Integrate<br>climate change<br>measures into<br>national policies,<br>strategies and<br>planning<br>",
          "13.3 Improve<br>education,<br>awareness-raising<br>and human and<br>institutional<br>capacity on climate<br>change mitigation,<br>adaptation, impact<br>reduction and early<br>warning<br>",
          "13.a Implement the<br>commitment<br>undertaken by<br>developed-country<br>parties to the<br>United Nations<br>Framework Convention<br>on Climate Change to<br>a goal of mobilizing<br>jointly $100 billion<br>annually by 2020<br>from all sources to<br>address the needs of<br>developing countries<br>in the context of<br>meaningful<br>mitigation actions<br>and transparency on<br>implementation and<br>fully operationalize<br>the Green Climate<br>Fund through its<br>capitalization as<br>soon as possible<br>",
          "13.b Promote<br>mechanisms for<br>raising capacity for<br>effective climate<br>change-related<br>planning and<br>management in least<br>developed countries<br>and small island<br>developing States,<br>including focusing<br>on women, youth and<br>local and<br>marginalized<br>communities<br>",
          "14.1 By 2025,<br>prevent and<br>significantly reduce<br>marine pollution of<br>all kinds, in<br>particular from<br>land-based<br>activities,<br>including marine<br>debris and nutrient<br>pollution<br>",
          "14.2 By 2020,<br>sustainably manage<br>and protect marine<br>and coastal<br>ecosystems to avoid<br>significant adverse<br>impacts, including<br>by strengthening<br>their resilience,<br>and take action for<br>their restoration in<br>order to achieve<br>healthy and<br>productive oceans<br>",
          "14.3 Minimize and<br>address the impacts<br>of ocean<br>acidification,<br>including through<br>enhanced scientific<br>cooperation at all<br>levels<br>",
          "14.4 By 2020,<br>effectively regulate<br>harvesting and end<br>overfishing,<br>illegal, unreported<br>and unregulated<br>fishing and<br>destructive fishing<br>practices and<br>implement science-<br>based management<br>plans, in order to<br>restore fish stocks<br>in the shortest time<br>feasible, at least<br>to levels that can<br>produce maximum<br>sustainable yield as<br>determined by their<br>biological<br>characteristics<br>",
          "14.5 By 2020,<br>conserve at least<br>10 per cent of<br>coastal and marine<br>areas, consistent<br>with national and<br>international law<br>and based on the<br>best available<br>scientific<br>information<br>",
          "14.6 By 2020,<br>prohibit certain<br>forms of fisheries<br>subsidies which<br>contribute to<br>overcapacity and<br>overfishing,<br>eliminate subsidies<br>that contribute to<br>illegal, unreported<br>and unregulated<br>fishing and refrain<br>from introducing new<br>such subsidies,<br>recognizing that<br>appropriate and<br>effective special<br>and differential<br>treatment for<br>developing and least<br>developed countries<br>should be an<br>integral part of the<br>World Trade<br>Organization<br>fisheries subsidies<br>negotiation4<br>",
          "14.7 By 2030,<br>increase the<br>economic benefits to<br>small island<br>developing States<br>and least developed<br>countries from the<br>sustainable use of<br>marine resources,<br>including through<br>sustainable<br>management of<br>fisheries,<br>aquaculture and<br>tourism<br>",
          "14.a Increase<br>scientific<br>knowledge, develop<br>research capacity<br>and transfer marine<br>technology, taking<br>into account the<br>Intergovernmental<br>Oceanographic<br>Commission Criteria<br>and Guidelines on<br>the Transfer of<br>Marine Technology,<br>in order to improve<br>ocean health and to<br>enhance the<br>contribution of<br>marine biodiversity<br>to the development<br>of developing<br>countries, in<br>particular small<br>island developing<br>States and least<br>developed countries<br>",
          "14.b Provide access<br>for small-scale<br>artisanal fishers to<br>marine resources and<br>markets<br>",
          "14.c Enhance the<br>conservation and<br>sustainable use of<br>oceans and their<br>resources by<br>implementing<br>international law as<br>reflected in the<br>United Nations<br>Convention on the<br>Law of the Sea,<br>which provides the<br>legal framework for<br>the conservation and<br>sustainable use of<br>oceans and their<br>resources, as<br>recalled in<br>paragraph 158 of<br>“The future we want”<br>",
          "15.1 By 2020, ensure<br>the conservation,<br>restoration and<br>sustainable use of<br>terrestrial and<br>inland freshwater<br>ecosystems and their<br>services, in<br>particular forests,<br>wetlands, mountains<br>and drylands, in<br>line with<br>obligations under<br>international<br>agreements<br>",
          "15.2 By 2020,<br>promote the<br>implementation of<br>sustainable<br>management of all<br>types of forests,<br>halt deforestation,<br>restore degraded<br>forests and<br>substantially<br>increase<br>afforestation and<br>reforestation<br>globally<br>",
          "15.3 By 2030, combat<br>desertification,<br>restore degraded<br>land and soil,<br>including land<br>affected by<br>desertification,<br>drought and floods,<br>and strive to<br>achieve a land<br>degradation-neutral<br>world<br>",
          "15.4 By 2030, ensure<br>the conservation of<br>mountain ecosystems,<br>including their<br>biodiversity, in<br>order to enhance<br>their capacity to<br>provide benefits<br>that are essential<br>for sustainable<br>development<br>",
          "15.5 Take urgent and<br>significant action<br>to reduce the<br>degradation of<br>natural habitats,<br>halt the loss of<br>biodiversity and, by<br>2020, protect and<br>prevent the<br>extinction of<br>threatened species<br>",
          "15.6 Promote fair<br>and equitable<br>sharing of the<br>benefits arising<br>from the utilization<br>of genetic resources<br>and promote<br>appropriate access<br>to such resources,<br>as internationally<br>agreed<br>",
          "15.7 Take urgent<br>action to end<br>poaching and<br>trafficking of<br>protected species of<br>flora and fauna and<br>address both demand<br>and supply of<br>illegal wildlife<br>products<br>",
          "15.8 By 2020,<br>introduce measures<br>to prevent the<br>introduction and<br>significantly reduce<br>the impact of<br>invasive alien<br>species on land and<br>water ecosystems and<br>control or eradicate<br>the priority species<br>",
          "15.9 By 2020,<br>integrate ecosystem<br>and biodiversity<br>values into national<br>and local planning,<br>development<br>processes, poverty<br>reduction strategies<br>and accounts<br>",
          "15.a Mobilize and<br>significantly<br>increase financial<br>resources from all<br>sources to conserve<br>and sustainably use<br>biodiversity and<br>ecosystems<br>",
          "15.b Mobilize<br>significant<br>resources from all<br>sources and at all<br>levels to finance<br>sustainable forest<br>management and<br>provide adequate<br>incentives to<br>developing countries<br>to advance such<br>management,<br>including for<br>conservation and<br>reforestation<br>",
          "15.c Enhance global<br>support for efforts<br>to combat poaching<br>and trafficking of<br>protected species,<br>including by<br>increasing the<br>capacity of local<br>communities to<br>pursue sustainable<br>livelihood<br>opportunities<br>",
          "16.1 Significantly<br>reduce all forms of<br>violence and related<br>death rates<br>everywhere<br>",
          "16.2 End abuse,<br>exploitation,<br>trafficking and all<br>forms of violence<br>against and torture<br>of children<br>",
          "16.3 Promote the<br>rule of law at the<br>national and<br>international levels<br>and ensure equal<br>access to justice<br>for all<br>",
          "16.4 By 2030,<br>significantly reduce<br>illicit financial<br>and arms flows,<br>strengthen the<br>recovery and return<br>of stolen assets and<br>combat all forms of<br>organized crime<br>",
          "16.5 Substantially<br>reduce corruption<br>and bribery in all<br>their forms<br>",
          "16.6 Develop<br>effective,<br>accountable and<br>transparent<br>institutions at all<br>levels<br>",
          "16.7 Ensure<br>responsive,<br>inclusive,<br>participatory and<br>representative<br>decision-making at<br>all levels<br>",
          "16.8 Broaden and<br>strengthen the<br>participation of<br>developing countries<br>in the institutions<br>of global governance<br>",
          "16.9 By 2030,<br>provide legal<br>identity for all,<br>including birth<br>registration<br>",
          "16.10 Ensure public<br>access to<br>information and<br>protect fundamental<br>freedoms, in<br>accordance with<br>national legislation<br>and international<br>agreements<br>",
          "16.a Strengthen<br>relevant national<br>institutions,<br>including through<br>international<br>cooperation, for<br>building capacity at<br>all levels, in<br>particular in<br>developing<br>countries, to<br>prevent violence and<br>combat terrorism and<br>crime<br>",
          "16.b Promote and<br>enforce non-<br>discriminatory laws<br>and policies for<br>sustainable<br>development<br>",
          "17.1 Strengthen<br>domestic resource<br>mobilization,<br>including through<br>international<br>support to<br>developing<br>countries, to<br>improve domestic<br>capacity for tax and<br>other revenue<br>collection<br>",
          "17.2 Developed<br>countries to<br>implement fully<br>their official<br>development<br>assistance<br>commitments,<br>including the<br>commitment by many<br>developed countries<br>to achieve the<br>target of<br>0.7 per cent of<br>gross national<br>income for official<br>development<br>assistance (ODA/GNI)<br>to developing<br>countries and 0.15<br>to 0.20 per cent of<br>ODA/GNI to least<br>developed countries;<br>ODA providers are<br>encouraged to<br>consider setting a<br>target to provide at<br>least 0.20 per cent<br>of ODA/GNI to least<br>developed countries<br>",
          "17.3 Mobilize<br>additional financial<br>resources for<br>developing countries<br>from multiple<br>sources<br>",
          "17.4 Assist<br>developing countries<br>in attaining long-<br>term debt<br>sustainability<br>through coordinated<br>policies aimed at<br>fostering debt<br>financing, debt<br>relief and debt<br>restructuring, as<br>appropriate, and<br>address the external<br>debt of highly<br>indebted poor<br>countries to reduce<br>debt distress<br>",
          "17.5 Adopt and<br>implement investment<br>promotion regimes<br>for least developed<br>countries<br>",
          "17.6 Enhance North-<br>South, South-South<br>and triangular<br>regional and<br>international<br>cooperation on and<br>access to science,<br>technology and<br>innovation and<br>enhance knowledge-<br>sharing on mutually<br>agreed terms,<br>including through<br>improved<br>coordination among<br>existing mechanisms,<br>in particular at the<br>United Nations<br>level, and through a<br>global technology<br>facilitation<br>mechanism<br>",
          "17.7 Promote the<br>development,<br>transfer,<br>dissemination and<br>diffusion of<br>environmentally<br>sound technologies<br>to developing<br>countries on<br>favourable terms,<br>including on<br>concessional and<br>preferential terms,<br>as mutually agreed<br>",
          "17.8 Fully<br>operationalize the<br>technology bank and<br>science, technology<br>and innovation<br>capacity-building<br>mechanism for least<br>developed countries<br>by 2017 and enhance<br>the use of enabling<br>technology, in<br>particular<br>information and<br>communications<br>technology<br>",
          "17.9 Enhance<br>international<br>support for<br>implementing<br>effective and<br>targeted capacity-<br>building in<br>developing countries<br>to support national<br>plans to implement<br>all the Sustainable<br>Development Goals,<br>including through<br>North-South, South-<br>South and triangular<br>cooperation<br>",
          "17.10 Promote a<br>universal, rules-<br>based, open,<br>non‑discriminatory<br>and equitable<br>multilateral trading<br>system under the<br>World Trade<br>Organization,<br>including through<br>the conclusion of<br>negotiations under<br>its Doha Development<br>Agenda<br>",
          "17.11 Significantly<br>increase the exports<br>of developing<br>countries, in<br>particular with a<br>view to doubling the<br>least developed<br>countries’ share of<br>global exports by<br>2020<br>",
          "17.12 Realize timely<br>implementation of<br>duty-free and quota-<br>free market access<br>on a lasting basis<br>for all least<br>developed countries,<br>consistent with<br>World Trade<br>Organization<br>decisions, including<br>by ensuring that<br>preferential rules<br>of origin applicable<br>to imports from<br>least developed<br>countries are<br>transparent and<br>simple, and<br>contribute to<br>facilitating market<br>access<br>",
          "17.13 Enhance global<br>macroeconomic<br>stability, including<br>through policy<br>coordination and<br>policy coherence<br>",
          "17.14 Enhance policy<br>coherence for<br>sustainable<br>development<br>",
          "17.15 Respect each<br>country’s policy<br>space and leadership<br>to establish and<br>implement policies<br>for poverty<br>eradication and<br>sustainable<br>development<br>",
          "17.16 Enhance the<br>Global Partnership<br>for Sustainable<br>Development,<br>complemented by<br>multi-stakeholder<br>partnerships that<br>mobilize and share<br>knowledge,<br>expertise,<br>technology and<br>financial resources,<br>to support the<br>achievement of the<br>Sustainable<br>Development Goals in<br>all countries, in<br>particular<br>developing countries<br>",
          "17.17 Encourage and<br>promote effective<br>public, public-<br>private and civil<br>society<br>partnerships,<br>building on the<br>experience and<br>resourcing<br>strategies of<br>partnerships<br>",
          "17.18 By 2020,<br>enhance capacity-<br>building support to<br>developing<br>countries, including<br>for least developed<br>countries and small<br>island developing<br>States, to increase<br>significantly the<br>availability of<br>high-quality, timely<br>and reliable data<br>disaggregated by<br>income, gender, age,<br>race, ethnicity,<br>migratory status,<br>disability,<br>geographic location<br>and other<br>characteristics<br>relevant in national<br>contexts<br>",
          "17.19 By 2030, build<br>on existing<br>initiatives to<br>develop measurements<br>of progress on<br>sustainable<br>development that<br>complement gross<br>domestic product,<br>and support<br>statistical<br>capacity-building in<br>developing countries<br>",
          "1.1.1 Proportion of<br>the population<br>living below the<br>international<br>poverty line by sex,<br>age, employment<br>status and<br>geographic location<br>(urban/rural)<br>",
          "1.2.1 Proportion of<br>population living<br>below the national<br>poverty line, by sex<br>and age<br>",
          "1.2.2 Proportion of<br>men, women and<br>children of all ages<br>living in poverty in<br>all its dimensions<br>according to<br>national definitions<br>",
          "1.3.1 Proportion of<br>population covered<br>by social protection<br>floors/systems, by<br>sex, distinguishing<br>children, unemployed<br>persons, older<br>persons, persons<br>with disabilities,<br>pregnant women,<br>newborns, work-<br>injury victims and<br>the poor and the<br>vulnerable<br>",
          "1.4.1 Proportion of<br>population living in<br>households with<br>access to basic<br>services<br>",
          "1.4.2 Proportion of<br>total adult<br>population with<br>secure tenure rights<br>to land, (a) with<br>legally recognized<br>documentation, and<br>(b) who perceive<br>their rights to land<br>as secure, by sex<br>and type of tenure<br>",
          "1.5.1 Number of<br>deaths, missing<br>persons and directly<br>affected persons<br>attributed to<br>disasters per<br>100,000 population<br>",
          "1.5.2 Direct<br>economic loss<br>attributed to<br>disasters in<br>relation to global<br>gross domestic<br>product (GDP)<br>",
          "1.5.3 Number of<br>countries that adopt<br>and implement<br>national disaster<br>risk reduction<br>strategies in line<br>with the Sendai<br>Framework for<br>Disaster Risk<br>Reduction 2015–2030<br>",
          "1.5.4 Proportion of<br>local governments<br>that adopt and<br>implement local<br>disaster risk<br>reduction strategies<br>in line with<br>national disaster<br>risk reduction<br>strategies<br>",
          "1.a.1 Total official<br>development<br>assistance grants<br>from all donors that<br>focus on poverty<br>reduction as a share<br>of the recipient<br>country’s gross<br>national income<br>",
          "1.a.2 Proportion of<br>total government<br>spending on<br>essential services<br>(education, health<br>and social<br>protection)<br>",
          "1.b.1 Pro-poor<br>public social<br>spending<br>",
          "2.1.1 Prevalence of<br>undernourishment<br>",
          "2.1.2 Prevalence of<br>moderate or severe<br>food insecurity in<br>the population,<br>based on the Food<br>Insecurity<br>Experience Scale<br>(FIES)<br>",
          "2.2.1 Prevalence of<br>stunting (height for<br>age <-2 standard<br>deviation from the<br>median of the World<br>Health Organization<br>(WHO) Child Growth<br>Standards) among<br>children under<br>5 years of age<br>",
          "2.2.2 Prevalence of<br>malnutrition (weight<br>for height >+2 or<br><-2 standard<br>deviation from the<br>median of the WHO<br>Child Growth<br>Standards) among<br>children under<br>5 years of age, by<br>type (wasting and<br>overweight)<br>",
          "2.2.3 Prevalence of<br>anaemia in women<br>aged 15 to 49 years,<br>by pregnancy status<br>(percentage)<br>",
          "2.3.1 Volume of<br>production per<br>labour unit by<br>classes of farming/p<br>astoral/forestry<br>enterprise size<br>",
          "2.3.2 Average income<br>of small-scale food<br>producers, by sex<br>and indigenous<br>status<br>",
          "2.4.1 Proportion of<br>agricultural area<br>under productive and<br>sustainable<br>agriculture<br>",
          "2.5.1 Number of (a)<br>plant and (b) animal<br>genetic resources<br>for food and<br>agriculture secured<br>in either medium- or<br>long-term<br>conservation<br>facilities<br>",
          "2.5.2 Proportion of<br>local breeds<br>classified as being<br>at risk of<br>extinction<br>",
          "2.a.1 The<br>agriculture<br>orientation index<br>for government<br>expenditures<br>",
          "2.a.2 Total official<br>flows (official<br>development<br>assistance plus<br>other official<br>flows) to the<br>agriculture sector<br>",
          "2.b.1 Agricultural<br>export subsidies<br>",
          "2.c.1 Indicator of<br>food price anomalies<br>",
          "3.1.1 Maternal<br>mortality ratio<br>",
          "3.1.2 Proportion of<br>births attended by<br>skilled health<br>personnel<br>",
          "3.2.1 Under‑5<br>mortality rate<br>",
          "3.2.2 Neonatal<br>mortality rate<br>",
          "3.3.1 Number of new<br>HIV infections per<br>1,000 uninfected<br>population, by sex,<br>age and key<br>populations<br>",
          "3.3.2 Tuberculosis<br>incidence per<br>100,000 population<br>",
          "3.3.3 Malaria<br>incidence per 1,000<br>population<br>",
          "3.3.4 Hepatitis B<br>incidence per<br>100,000 population<br>",
          "3.3.5 Number of<br>people requiring<br>interventions<br>against neglected<br>tropical diseases<br>",
          "3.4.1 Mortality rate<br>attributed to<br>cardiovascular<br>disease, cancer,<br>diabetes or chronic<br>respiratory disease<br>",
          "3.4.2 Suicide<br>mortality rate<br>",
          "3.5.1 Coverage of<br>treatment<br>interventions<br>(pharmacological,<br>psychosocial and<br>rehabilitation and<br>aftercare services)<br>for substance use<br>disorders<br>",
          "3.5.2 Alcohol per<br>capita consumption<br>(aged 15 years and<br>older) within a<br>calendar year in<br>litres of pure<br>alcohol<br>",
          "3.6.1 Death rate due<br>to road traffic<br>injuries<br>",
          "3.7.1 Proportion of<br>women of<br>reproductive age<br>(aged 15–49 years)<br>who have their need<br>for family planning<br>satisfied with<br>modern methods<br>",
          "3.7.2 Adolescent<br>birth rate (aged<br>10–14 years; aged<br>15–19 years) per<br>1,000 women in that<br>age group<br>",
          "3.8.1 Coverage of<br>essential health<br>services<br>",
          "3.8.2 Proportion of<br>population with<br>large household<br>expenditures on<br>health as a share of<br>total household<br>expenditure or<br>income<br>",
          "3.9.1 Mortality rate<br>attributed to<br>household and<br>ambient air<br>pollution<br>",
          "3.9.2 Mortality rate<br>attributed to unsafe<br>water, unsafe<br>sanitation and lack<br>of hygiene (exposure<br>to unsafe Water,<br>Sanitation and<br>Hygiene for All<br>(WASH) services)<br>",
          "3.9.3 Mortality rate<br>attributed to<br>unintentional<br>poisoning<br>",
          "3.a.1 Age-<br>standardized<br>prevalence of<br>current tobacco use<br>among persons aged<br>15 years and older<br>",
          "3.b.1 Proportion of<br>the target<br>population covered<br>by all vaccines<br>included in their<br>national programme<br>",
          "3.b.2 Total net<br>official development<br>assistance to<br>medical research and<br>basic health sectors<br>",
          "3.b.3 Proportion of<br>health facilities<br>that have a core set<br>of relevant<br>essential medicines<br>available and<br>affordable on a<br>sustainable basis<br>",
          "3.c.1 Health worker<br>density and<br>distribution<br>",
          "3.d.1 International<br>Health Regulations<br>(IHR) capacity and<br>health emergency<br>preparedness<br>",
          "3.d.2 Percentage of<br>bloodstream<br>infections due to<br>selected<br>antimicrobial-<br>resistant organisms<br>",
          "4.1.1 Proportion of<br>children and young<br>people (a) in grades<br>2/3; (b) at the end<br>of primary; and (c)<br>at the end of lower<br>secondary achieving<br>at least a minimum<br>proficiency level in<br>(i) reading and (ii)<br>mathematics, by sex<br>",
          "4.1.2 Completion<br>rate (primary<br>education, lower<br>secondary education,<br>upper secondary<br>education)<br>",
          "4.2.1 Proportion of<br>children aged 24–59<br>months who are<br>developmentally on<br>track in health,<br>learning and<br>psychosocial well-<br>being, by sex<br>",
          "4.2.2 Participation<br>rate in organized<br>learning (one year<br>before the official<br>primary entry age),<br>by sex<br>",
          "4.3.1 Participation<br>rate of youth and<br>adults in formal and<br>non-formal education<br>and training in the<br>previous 12 months,<br>by sex<br>",
          "4.4.1 Proportion of<br>youth and adults<br>with information and<br>communications<br>technology (ICT)<br>skills, by type of<br>skill<br>",
          "4.5.1 Parity indices<br>(female/male,<br>rural/urban,<br>bottom/top wealth<br>quintile and others<br>such as disability<br>status, indigenous<br>peoples and<br>conflict-affected,<br>as data become<br>available) for all<br>education indicators<br>on this list that<br>can be disaggregated<br>",
          "4.6.1 Proportion of<br>population in a<br>given age group<br>achieving at least a<br>fixed level of<br>proficiency in<br>functional (a)<br>literacy and (b)<br>numeracy skills, by<br>sex<br>",
          "4.7.1 Extent to<br>which (i) global<br>citizenship<br>education and (ii)<br>education for<br>sustainable<br>development are<br>mainstreamed in (a)<br>national education<br>policies; (b)<br>curricula; (c)<br>teacher education;<br>and (d) student<br>assessment<br>",
          "4.a.1 Proportion of<br>schools offering<br>basic services, by<br>type of service<br>",
          "4.b.1 Volume of<br>official development<br>assistance flows for<br>scholarships by<br>sector and type of<br>study<br>",
          "4.c.1 Proportion of<br>teachers with the<br>minimum required<br>qualifications, by<br>education level<br>",
          "5.1.1 Whether or not<br>legal frameworks are<br>in place to promote,<br>enforce and monitor<br>equality and<br>non‑discrimination<br>on the basis of sex<br>",
          "5.2.1 Proportion of<br>ever-partnered women<br>and girls aged<br>15 years and older<br>subjected to<br>physical, sexual or<br>psychological<br>violence by a<br>current or former<br>intimate partner in<br>the previous 12<br>months, by form of<br>violence and by age<br>",
          "5.2.2 Proportion of<br>women and girls aged<br>15 years and older<br>subjected to sexual<br>violence by persons<br>other than<br>an intimate partner<br>in the previous<br>12 months, by age<br>and place of<br>occurrence<br>",
          "5.3.1 Proportion of<br>women aged<br>20–24 years who were<br>married or in a<br>union before age 15<br>and before age 18<br>",
          "5.3.2 Proportion of<br>girls and women aged<br>15–49 years who have<br>undergone female<br>genital<br>mutilation/cutting,<br>by age<br>",
          "5.4.1 Proportion of<br>time spent on unpaid<br>domestic and care<br>work, by sex, age<br>and location<br>",
          "5.5.1 Proportion of<br>seats held by women<br>in (a) national<br>parliaments and (b)<br>local governments<br>",
          "5.5.2 Proportion of<br>women in managerial<br>positions<br>",
          "5.6.1 Proportion of<br>women aged<br>15–49 years who make<br>their own informed<br>decisions regarding<br>sexual relations,<br>contraceptive use<br>and reproductive<br>health care<br>",
          "5.6.2 Number of<br>countries with laws<br>and regulations that<br>guarantee full and<br>equal access to<br>women and men aged<br>15 years and older<br>to sexual and<br>reproductive health<br>care, information<br>and education<br>",
          "5.a.1 (a) Proportion<br>of total<br>agricultural<br>population with<br>ownership or secure<br>rights over<br>agricultural land,<br>by sex; and (b)<br>share of women among<br>owners or rights-<br>bearers of<br>agricultural land,<br>by type of tenure<br>",
          "5.a.2 Proportion of<br>countries where the<br>legal framework<br>(including customary<br>law) guarantees<br>women’s equal rights<br>to land ownership<br>and/or control<br>",
          "5.b.1 Proportion of<br>individuals who own<br>a mobile telephone,<br>by sex<br>",
          "5.c.1 Proportion of<br>countries with<br>systems to track and<br>make public<br>allocations for<br>gender equality and<br>women’s empowerment<br>",
          "6.1.1 Proportion of<br>population using<br>safely managed<br>drinking water<br>services<br>",
          "6.2.1 Proportion of<br>population using (a)<br>safely managed<br>sanitation services<br>and (b) a hand-<br>washing facility<br>with soap and water<br>",
          "6.3.1 Proportion of<br>domestic and<br>industrial<br>wastewater flows<br>safely treated<br>",
          "6.3.2 Proportion of<br>bodies of water with<br>good ambient water<br>quality<br>",
          "6.4.1 Change in<br>water-use efficiency<br>over time<br>",
          "6.4.2 Level of water<br>stress: freshwater<br>withdrawal as a<br>proportion of<br>available freshwater<br>resources<br>",
          "6.5.1 Degree of<br>integrated water<br>resources management<br>",
          "6.5.2 Proportion of<br>transboundary basin<br>area with an<br>operational<br>arrangement for<br>water cooperation<br>",
          "6.6.1 Change in the<br>extent of water-<br>related ecosystems<br>over time<br>",
          "6.a.1 Amount of<br>water- and<br>sanitation-related<br>official development<br>assistance that is<br>part of a<br>government-<br>coordinated spending<br>plan<br>",
          "6.b.1 Proportion of<br>local administrative<br>units with<br>established and<br>operational policies<br>and procedures for<br>participation of<br>local communities in<br>water and sanitation<br>management<br>",
          "7.1.1 Proportion of<br>population with<br>access to<br>electricity<br>",
          "7.1.2 Proportion of<br>population with<br>primary reliance on<br>clean fuels and<br>technology<br>",
          "7.2.1 Renewable<br>energy share in the<br>total final energy<br>consumption<br>",
          "7.3.1 Energy<br>intensity measured<br>in terms of primary<br>energy and GDP<br>",
          "7.a.1 International<br>financial flows to<br>developing countries<br>in support of clean<br>energy research and<br>development and<br>renewable energy<br>production,<br>including in hybrid<br>systems<br>",
          "7.b.1 Installed<br>renewable energy-<br>generating capacity<br>in developing<br>countries (in watts<br>per capita)<br>",
          "8.1.1 Annual growth<br>rate of real GDP per<br>capita<br>",
          "8.2.1 Annual growth<br>rate of real GDP per<br>employed person<br>",
          "8.3.1 Proportion of<br>informal employment<br>in total employment,<br>by sector and sex<br>",
          "8.4.1 Material<br>footprint, material<br>footprint per<br>capita, and material<br>footprint per GDP<br>",
          "8.4.2 Domestic<br>material<br>consumption,<br>domestic material<br>consumption per<br>capita, and domestic<br>material consumption<br>per GDP<br>",
          "8.5.1 Average hourly<br>earnings of<br>employees, by sex,<br>age, occupation and<br>persons with<br>disabilities<br>",
          "8.5.2 Unemployment<br>rate, by sex, age<br>and persons with<br>disabilities<br>",
          "8.6.1 Proportion of<br>youth (aged<br>15–24 years) not in<br>education,<br>employment or<br>training<br>",
          "8.7.1 Proportion and<br>number of children<br>aged 5–17 years<br>engaged in child<br>labour, by sex and<br>age<br>",
          "8.8.1 Fatal and non-<br>fatal occupational<br>injuries per 100,000<br>workers, by sex and<br>migrant status<br>",
          "8.8.2 Level of<br>national compliance<br>with labour rights<br>(freedom of<br>association and<br>collective<br>bargaining) based on<br>International Labour<br>Organization (ILO)<br>textual sources and<br>national<br>legislation, by sex<br>and migrant status<br>",
          "8.9.1 Tourism direct<br>GDP as a proportion<br>of total GDP and in<br>growth rate<br>",
          "8.10.1 (a) Number of<br>commercial bank<br>branches per 100,000<br>adults and (b)<br>number of automated<br>teller machines<br>(ATMs) per 100,000<br>adults<br>",
          "8.10.2 Proportion of<br>adults (15 years and<br>older) with an<br>account at a bank or<br>other financial<br>institution or with<br>a mobile-money-<br>service provider<br>",
          "8.a.1 Aid for Trade<br>commitments and<br>disbursements<br>",
          "8.b.1 Existence of a<br>developed and<br>operationalized<br>national strategy<br>for youth<br>employment, as a<br>distinct strategy or<br>as part of a<br>national employment<br>strategy<br>",
          "9.1.1 Proportion of<br>the rural population<br>who live within 2 km<br>of an all-season<br>road<br>",
          "9.1.2 Passenger and<br>freight volumes, by<br>mode of transport<br>",
          "9.2.1 Manufacturing<br>value added as a<br>proportion of GDP<br>and per capita<br>",
          "9.2.2 Manufacturing<br>employment as a<br>proportion of total<br>employment<br>",
          "9.3.1 Proportion of<br>small-scale<br>industries in total<br>industry value added<br>",
          "9.3.2 Proportion of<br>small-scale<br>industries with a<br>loan or line of<br>credit<br>",
          "9.4.1 CO2 emission<br>per unit of value<br>added<br>",
          "9.5.1 Research and<br>development<br>expenditure as a<br>proportion of GDP<br>",
          "9.5.2 Researchers<br>(in full-time<br>equivalent) per<br>million inhabitants<br>",
          "9.a.1 Total official<br>international<br>support (official<br>development<br>assistance plus<br>other official<br>flows) to<br>infrastructure<br>",
          "9.b.1 Proportion of<br>medium and high-tech<br>industry value added<br>in total value added<br>",
          "9.c.1 Proportion of<br>population covered<br>by a mobile network,<br>by technology<br>",
          "10.1.1 Growth rates<br>of household<br>expenditure or<br>income per capita<br>among the bottom<br>40 per cent of the<br>population and the<br>total population<br>",
          "10.2.1 Proportion of<br>people living below<br>50 per cent of<br>median income, by<br>sex, age and persons<br>with disabilities<br>",
          "10.3.1 Proportion of<br>population reporting<br>having personally<br>felt discriminated<br>against or harassed<br>in the previous 12<br>months on the basis<br>of a ground of<br>discrimination<br>prohibited under<br>international human<br>rights law<br>",
          "10.4.1 Labour share<br>of GDP<br>",
          "10.4.2<br>Redistributive<br>impact of fiscal<br>policy4<br>",
          "10.5.1 Financial<br>Soundness Indicators<br>",
          "10.6.1 Proportion of<br>members and voting<br>rights of developing<br>countries in<br>international<br>organizations<br>",
          "10.7.1 Recruitment<br>cost borne by<br>employee as a<br>proportion of<br>monthly income<br>earned in country of<br>destination<br>",
          "10.7.2 Number of<br>countries with<br>migration policies<br>that facilitate<br>orderly, safe,<br>regular and<br>responsible<br>migration and<br>mobility of people<br>",
          "10.7.3 Number of<br>people who died or<br>disappeared in the<br>process of migration<br>towards an<br>international<br>destination<br>",
          "10.7.4 Proportion of<br>the population who<br>are refugees, by<br>country of origin<br>",
          "10.a.1 Proportion of<br>tariff lines applied<br>to imports from<br>least developed<br>countries and<br>developing countries<br>with zero-tariff<br>",
          "10.b.1 Total<br>resource flows for<br>development, by<br>recipient and donor<br>countries and type<br>of flow (e.g.<br>official development<br>assistance, foreign<br>direct investment<br>and other flows)<br>",
          "10.c.1 Remittance<br>costs as a<br>proportion of the<br>amount remitted<br>",
          "11.1.1 Proportion of<br>urban population<br>living in slums,<br>informal settlements<br>or inadequate<br>housing<br>",
          "11.2.1 Proportion of<br>population that has<br>convenient access to<br>public transport, by<br>sex, age and persons<br>with disabilities<br>",
          "11.3.1 Ratio of land<br>consumption rate to<br>population growth<br>rate<br>",
          "11.3.2 Proportion of<br>cities with a direct<br>participation<br>structure of civil<br>society in urban<br>planning and<br>management that<br>operate regularly<br>and democratically<br>",
          "11.4.1 Total per<br>capita expenditure<br>on the preservation,<br>protection and<br>conservation of all<br>cultural and natural<br>heritage, by source<br>of funding (public,<br>private), type of<br>heritage (cultural,<br>natural) and level<br>of government<br>(national, regional,<br>and local/municipal)<br>",
          "11.5.1 Number of<br>deaths, missing<br>persons and directly<br>affected persons<br>attributed to<br>disasters per<br>100,000 population<br>",
          "11.5.2 Direct<br>economic loss in<br>relation to global<br>GDP, damage to<br>critical<br>infrastructure and<br>number of<br>disruptions to basic<br>services, attributed<br>to disasters<br>",
          "11.6.1 Proportion of<br>municipal solid<br>waste collected and<br>managed in<br>controlled<br>facilities out of<br>total municipal<br>waste generated, by<br>cities<br>",
          "11.6.2 Annual mean<br>levels of fine<br>particulate matter<br>(e.g. PM2.5 and<br>PM10) in cities<br>(population<br>weighted)<br>",
          "11.7.1 Average share<br>of the built-up area<br>of cities that is<br>open space for<br>public use for all,<br>by sex, age and<br>persons with<br>disabilities<br>",
          "11.7.2 Proportion of<br>persons victim of<br>physical or sexual<br>harassment, by sex,<br>age, disability<br>status and place of<br>occurrence, in the<br>previous 12 months<br>",
          "11.a.1 Number of<br>countries that have<br>national urban<br>policies or regional<br>development plans<br>that (a) respond to<br>population dynamics;<br>(b) ensure balanced<br>territorial<br>development; and (c)<br>increase local<br>fiscal space<br>",
          "11.b.1 Number of<br>countries that adopt<br>and implement<br>national disaster<br>risk reduction<br>strategies in line<br>with the Sendai<br>Framework for<br>Disaster Risk<br>Reduction 2015–2030<br>",
          "11.b.2 Proportion of<br>local governments<br>that adopt and<br>implement local<br>disaster risk<br>reduction strategies<br>in line with<br>national disaster<br>risk reduction<br>strategies<br>",
          "No suitable<br>replacement<br>indicator was<br>proposed. The global<br>statistical<br>community is<br>encouraged to work<br>to develop an<br>indicator that could<br>be proposed for the<br>2025 comprehensive<br>review. See<br>E/CN.3/2020/2,<br>paragraph 23.<br>",
          "12.1.1 Number of<br>countries<br>developing, adopting<br>or implementing<br>policy instruments<br>aimed at supporting<br>the shift to<br>sustainable<br>consumption and<br>production<br>",
          "12.2.1 Material<br>footprint, material<br>footprint per<br>capita, and material<br>footprint per GDP<br>",
          "12.2.2 Domestic<br>material<br>consumption,<br>domestic material<br>consumption per<br>capita, and domestic<br>material consumption<br>per GDP<br>",
          "12.3.1 (a) Food loss<br>index and (b) food<br>waste index<br>",
          "12.4.1 Number of<br>parties to<br>international<br>multilateral<br>environmental<br>agreements on<br>hazardous waste, and<br>other chemicals that<br>meet their<br>commitments and<br>obligations in<br>transmitting<br>information as<br>required by each<br>relevant agreement<br>",
          "12.4.2 (a) Hazardous<br>waste generated per<br>capita; and (b)<br>proportion of<br>hazardous waste<br>treated, by type of<br>treatment<br>",
          "12.5.1 National<br>recycling rate, tons<br>of material recycled<br>",
          "12.6.1 Number of<br>companies publishing<br>sustainability<br>reports<br>",
          "12.7.1 Degree of<br>sustainable public<br>procurement policies<br>and action plan<br>implementation<br>",
          "12.8.1 Extent to<br>which (i) global<br>citizenship<br>education and (ii)<br>education for<br>sustainable<br>development are<br>mainstreamed in (a)<br>national education<br>policies; (b)<br>curricula; (c)<br>teacher education;<br>and (d) student<br>assessment<br>",
          "12.a.1 Installed<br>renewable energy-<br>generating capacity<br>in developing<br>countries (in watts<br>per capita)<br>",
          "12.b.1<br>Implementation of<br>standard accounting<br>tools to monitor the<br>economic and<br>environmental<br>aspects of tourism<br>sustainability<br>",
          "12.c.1 Amount of<br>fossil-fuel<br>subsidies<br>(production and<br>consumption) per<br>unit of GDP<br>",
          "13.1.1 Number of<br>deaths, missing<br>persons and directly<br>affected persons<br>attributed to<br>disasters per<br>100,000 population<br>",
          "13.1.2 Number of<br>countries that adopt<br>and implement<br>national disaster<br>risk reduction<br>strategies in line<br>with the Sendai<br>Framework for<br>Disaster Risk<br>Reduction 2015–2030<br>",
          "13.1.3 Proportion of<br>local governments<br>that adopt and<br>implement local<br>disaster risk<br>reduction strategies<br>in line with<br>national disaster<br>risk reduction<br>strategies<br>",
          "13.2.1 Number of<br>countries with<br>nationally<br>determined<br>contributions, long-<br>term strategies,<br>national adaptation<br>plans and adaptation<br>communications, as<br>reported to the<br>secretariat of the<br>United Nations<br>Framework Convention<br>on Climate Change<br>",
          "13.2.2 Total<br>greenhouse gas<br>emissions per year<br>",
          "13.3.1 Extent to<br>which (i) global<br>citizenship<br>education and (ii)<br>education for<br>sustainable<br>development are<br>mainstreamed in (a)<br>national education<br>policies; (b)<br>curricula; (c)<br>teacher education;<br>and (d) student<br>assessment<br>",
          "13.a.1 Amounts<br>provided and<br>mobilized in United<br>States dollars per<br>year in relation to<br>the continued<br>existing collective<br>mobilization goal of<br>the $100 billion<br>commitment through<br>to 2025<br>",
          "13.b.1 Number of<br>least developed<br>countries and small<br>island developing<br>States with<br>nationally<br>determined<br>contributions, long-<br>term strategies,<br>national adaptation<br>plans and adaptation<br>communications, as<br>reported to the<br>secretariat of the<br>United Nations<br>Framework Convention<br>on Climate Change<br>",
          "14.1.1 (a) Index of<br>coastal<br>eutrophication; and<br>(b) plastic debris<br>density<br>",
          "14.2.1 Number of<br>countries using<br>ecosystem-based<br>approaches to<br>managing marine<br>areas<br>",
          "14.3.1 Average<br>marine acidity (pH)<br>measured at agreed<br>suite of<br>representative<br>sampling stations<br>",
          "14.4.1 Proportion of<br>fish stocks within<br>biologically<br>sustainable levels<br>",
          "14.5.1 Coverage of<br>protected areas in<br>relation to marine<br>areas<br>",
          "14.6.1 Degree of<br>implementation of<br>international<br>instruments aiming<br>to combat illegal,<br>unreported and<br>unregulated fishing<br>",
          "14.7.1 Sustainable<br>fisheries as a<br>proportion of GDP in<br>small island<br>developing States,<br>least developed<br>countries and all<br>countries<br>",
          "14.a.1 Proportion of<br>total research<br>budget allocated to<br>research in the<br>field of marine<br>technology<br>",
          "14.b.1 Degree of<br>application of a<br>legal/regulatory/<br>policy/institutional<br>framework which<br>recognizes and<br>protects access<br>rights for small-<br>scale fisheries<br>",
          "14.c.1 Number of<br>countries making<br>progress in<br>ratifying, accepting<br>and implementing<br>through legal,<br>policy and<br>institutional<br>frameworks, ocean-<br>related instruments<br>that implement<br>international law,<br>as reflected in the<br>United Nations<br>Convention on the<br>Law of the Sea, for<br>the conservation and<br>sustainable use of<br>the oceans and their<br>resources<br>",
          "15.1.1 Forest area<br>as a proportion of<br>total land area<br>",
          "15.1.2 Proportion of<br>important sites for<br>terrestrial and<br>freshwater<br>biodiversity that<br>are covered by<br>protected areas, by<br>ecosystem type<br>",
          "15.2.1 Progress<br>towards sustainable<br>forest management<br>",
          "15.3.1 Proportion of<br>land that is<br>degraded over total<br>land area<br>",
          "15.4.1 Coverage by<br>protected areas of<br>important sites for<br>mountain<br>biodiversity<br>",
          "15.4.2 Mountain<br>Green Cover Index<br>",
          "15.5.1 Red List<br>Index<br>",
          "15.6.1 Number of<br>countries that have<br>adopted legislative,<br>administrative and<br>policy frameworks to<br>ensure fair and<br>equitable sharing of<br>benefits<br>",
          "15.7.1 Proportion of<br>traded wildlife that<br>was poached or<br>illicitly trafficked<br>",
          "15.8.1 Proportion of<br>countries adopting<br>relevant national<br>legislation and<br>adequately<br>resourcing the<br>prevention or<br>control of invasive<br>alien species<br>",
          "15.9.1 (a) Number of<br>countries that have<br>established national<br>targets in<br>accordance with or<br>similar to Aichi<br>Biodiversity Target<br>2 of the Strategic<br>Plan for<br>Biodiversity<br>2011–2020 in their<br>national<br>biodiversity<br>strategy and action<br>plans and the<br>progress reported<br>towards these<br>targets; and (b)<br>integration of<br>biodiversity into<br>national accounting<br>and reporting<br>systems, defined as<br>implementation of<br>the System of<br>Environmental-<br>Economic Accounting<br>",
          "15.a.1 (a) Official<br>development<br>assistance on<br>conservation and<br>sustainable use of<br>biodiversity; and<br>(b) revenue<br>generated and<br>finance mobilized<br>from biodiversity-<br>relevant economic<br>instruments<br>",
          "15.b.1 (a) Official<br>development<br>assistance on<br>conservation and<br>sustainable use of<br>biodiversity; and<br>(b) revenue<br>generated and<br>finance mobilized<br>from biodiversity-<br>relevant economic<br>instruments<br>",
          "15.c.1 Proportion of<br>traded wildlife that<br>was poached or<br>illicitly trafficked<br>",
          "16.1.1 Number of<br>victims of<br>intentional homicide<br>per 100,000<br>population, by sex<br>and age<br>",
          "16.1.2 Conflict-<br>related deaths per<br>100,000 population,<br>by sex, age and<br>cause<br>",
          "16.1.3 Proportion of<br>population subjected<br>to (a) physical<br>violence, (b)<br>psychological<br>violence and (c)<br>sexual violence in<br>the previous 12<br>months<br>",
          "16.1.4 Proportion of<br>population that feel<br>safe walking alone<br>around the area they<br>live<br>",
          "16.2.1 Proportion of<br>children aged<br>1–17 years who<br>experienced any<br>physical punishment<br>and/or psychological<br>aggression by<br>caregivers in the<br>past month<br>",
          "16.2.2 Number of<br>victims of human<br>trafficking per<br>100,000 population,<br>by sex, age and form<br>of exploitation<br>",
          "16.2.3 Proportion of<br>young women and men<br>aged 18–29 years who<br>experienced sexual<br>violence by age 18<br>",
          "16.3.1 Proportion of<br>victims of violence<br>in the previous<br>12 months who<br>reported their<br>victimization to<br>competent<br>authorities or other<br>officially<br>recognized conflict<br>resolution<br>mechanisms<br>",
          "16.3.2 Unsentenced<br>detainees as a<br>proportion of<br>overall prison<br>population<br>",
          "16.3.3 Proportion of<br>the population who<br>have experienced a<br>dispute in the past<br>two years and who<br>accessed a formal or<br>informal dispute<br>resolution<br>mechanism, by type<br>of mechanism<br>",
          "16.4.1 Total value<br>of inward and<br>outward illicit<br>financial flows (in<br>current United<br>States dollars)<br>",
          "16.4.2 Proportion of<br>seized, found or<br>surrendered arms<br>whose illicit origin<br>or context has been<br>traced or<br>established by a<br>competent authority<br>in line with<br>international<br>instruments<br>",
          "16.5.1 Proportion of<br>persons who had at<br>least one contact<br>with a public<br>official and who<br>paid a bribe to a<br>public official, or<br>were asked for a<br>bribe by those<br>public officials,<br>during the previous<br>12 months<br>",
          "16.5.2 Proportion of<br>businesses that had<br>at least one contact<br>with a public<br>official and that<br>paid a bribe to a<br>public official, or<br>were asked for a<br>bribe by those<br>public officials<br>during the previous<br>12 months<br>",
          "16.6.1 Primary<br>government<br>expenditures as a<br>proportion of<br>original approved<br>budget, by sector<br>(or by budget codes<br>or similar)<br>",
          "16.6.2 Proportion of<br>population satisfied<br>with their last<br>experience of public<br>services<br>",
          "16.7.1 Proportions<br>of positions in<br>national and local<br>institutions,<br>including (a) the<br>legislatures; (b)<br>the public service;<br>and (c) the<br>judiciary, compared<br>to national<br>distributions, by<br>sex, age, persons<br>with disabilities<br>and population<br>groups<br>",
          "16.7.2 Proportion of<br>population who<br>believe decision-<br>making is inclusive<br>and responsive, by<br>sex, age, disability<br>and population group<br>",
          "16.8.1 Proportion of<br>members and voting<br>rights of developing<br>countries in<br>international<br>organizations<br>",
          "16.9.1 Proportion of<br>children under<br>5 years of age whose<br>births have been<br>registered with a<br>civil authority, by<br>age<br>",
          "16.10.1 Number of<br>verified cases of<br>killing, kidnapping,<br>enforced<br>disappearance,<br>arbitrary detention<br>and torture of<br>journalists,<br>associated media<br>personnel, trade<br>unionists and human<br>rights advocates in<br>the previous<br>12 months<br>",
          "16.10.2 Number of<br>countries that adopt<br>and implement<br>constitutional,<br>statutory and/or<br>policy guarantees<br>for public access to<br>information<br>",
          "16.a.1 Existence of<br>independent national<br>human rights<br>institutions in<br>compliance with the<br>Paris Principles<br>",
          "16.b.1 Proportion of<br>population reporting<br>having personally<br>felt discriminated<br>against or harassed<br>in the previous 12<br>months on the basis<br>of a ground of<br>discrimination<br>prohibited under<br>international human<br>rights law<br>",
          "17.1.1 Total<br>government revenue<br>as a proportion of<br>GDP, by source<br>",
          "17.1.2 Proportion of<br>domestic budget<br>funded by domestic<br>taxes<br>",
          "17.2.1 Net official<br>development<br>assistance, total<br>and to least<br>developed countries,<br>as a proportion of<br>the Organization for<br>Economic Cooperation<br>and Development<br>(OECD) Development<br>Assistance Committee<br>donors’ gross<br>national income<br>(GNI)<br>",
          "17.3.1 Foreign<br>direct investment,<br>official development<br>assistance and<br>South-South<br>cooperation as a<br>proportion of gross<br>national income<br>",
          "17.3.2 Volume of<br>remittances (in<br>United States<br>dollars) as a<br>proportion of total<br>GDP<br>",
          "17.4.1 Debt service<br>as a proportion of<br>exports of goods and<br>services<br>",
          "17.5.1 Number of<br>countries that adopt<br>and implement<br>investment promotion<br>regimes for<br>developing<br>countries, including<br>the least developed<br>countries<br>",
          "17.6.1 Fixed<br>Internet broadband<br>subscriptions per<br>100 inhabitants, by<br>speed5<br>",
          "17.7.1 Total amount<br>of funding for<br>developing countries<br>to promote the<br>development,<br>transfer,<br>dissemination and<br>diffusion of<br>environmentally<br>sound technologies<br>",
          "17.8.1 Proportion of<br>individuals using<br>the Internet<br>",
          "17.9.1 Dollar value<br>of financial and<br>technical assistance<br>(including through<br>North-South,<br>South‑South and<br>triangular<br>cooperation)<br>committed to<br>developing countries<br>",
          "17.10.1 Worldwide<br>weighted tariff-<br>average<br>",
          "17.11.1 Developing<br>countries’ and least<br>developed countries’<br>share of global<br>exports<br>",
          "17.12.1 Weighted<br>average tariffs<br>faced by developing<br>countries, least<br>developed countries<br>and small island<br>developing States<br>",
          "17.13.1<br>Macroeconomic<br>Dashboard<br>",
          "17.14.1 Number of<br>countries with<br>mechanisms in place<br>to enhance policy<br>coherence of<br>sustainable<br>development<br>",
          "17.15.1 Extent of<br>use of country-owned<br>results frameworks<br>and planning tools<br>by providers of<br>development<br>cooperation<br>",
          "17.16.1 Number of<br>countries reporting<br>progress in multi-<br>stakeholder<br>development<br>effectiveness<br>monitoring<br>frameworks that<br>support the<br>achievement of the<br>sustainable<br>development goals<br>",
          "17.17.1 Amount in<br>United States<br>dollars committed to<br>public-private<br>partnerships for<br>infrastructure<br>",
          "17.18.1 Statistical<br>capacity indicator<br>for Sustainable<br>Development Goal<br>monitoring<br>",
          "17.18.2 Number of<br>countries that have<br>national statistical<br>legislation that<br>complies with the<br>Fundamental<br>Principles of<br>Official Statistics<br>",
          "17.18.3 Number of<br>countries with a<br>national statistical<br>plan that is fully<br>funded and under<br>implementation, by<br>source of funding<br>",
          "17.19.1 Dollar value<br>of all resources<br>made available to<br>strengthen<br>statistical capacity<br>in developing<br>countries<br>",
          "17.19.2 Proportion<br>of countries that<br>(a) have conducted<br>at least one<br>population and<br>housing census in<br>the last 10 years;<br>and (b) have<br>achieved<br>100 per cent birth<br>registration and<br>80 per cent death<br>registration<br>"
         ],
         "maxdepth": 3,
         "parents": [
          "",
          "SDGs<br>",
          "SDGs<br>",
          "SDGs<br>",
          "SDGs<br>",
          "SDGs<br>",
          "SDGs<br>",
          "SDGs<br>",
          "SDGs<br>",
          "SDGs<br>",
          "SDGs<br>",
          "SDGs<br>",
          "SDGs<br>",
          "SDGs<br>",
          "SDGs<br>",
          "SDGs<br>",
          "SDGs<br>",
          "SDGs<br>",
          "Goal 1. End poverty<br>in all its forms<br>everywhere<br>",
          "Goal 1. End poverty<br>in all its forms<br>everywhere<br>",
          "Goal 1. End poverty<br>in all its forms<br>everywhere<br>",
          "Goal 1. End poverty<br>in all its forms<br>everywhere<br>",
          "Goal 1. End poverty<br>in all its forms<br>everywhere<br>",
          "Goal 1. End poverty<br>in all its forms<br>everywhere<br>",
          "Goal 1. End poverty<br>in all its forms<br>everywhere<br>",
          "Goal 2. End hunger,<br>achieve food<br>security and<br>improved nutrition<br>and promote<br>sustainable<br>agriculture<br>",
          "Goal 2. End hunger,<br>achieve food<br>security and<br>improved nutrition<br>and promote<br>sustainable<br>agriculture<br>",
          "Goal 2. End hunger,<br>achieve food<br>security and<br>improved nutrition<br>and promote<br>sustainable<br>agriculture<br>",
          "Goal 2. End hunger,<br>achieve food<br>security and<br>improved nutrition<br>and promote<br>sustainable<br>agriculture<br>",
          "Goal 2. End hunger,<br>achieve food<br>security and<br>improved nutrition<br>and promote<br>sustainable<br>agriculture<br>",
          "Goal 2. End hunger,<br>achieve food<br>security and<br>improved nutrition<br>and promote<br>sustainable<br>agriculture<br>",
          "Goal 2. End hunger,<br>achieve food<br>security and<br>improved nutrition<br>and promote<br>sustainable<br>agriculture<br>",
          "Goal 2. End hunger,<br>achieve food<br>security and<br>improved nutrition<br>and promote<br>sustainable<br>agriculture<br>",
          "Goal 3. Ensure<br>healthy lives and<br>promote well-being<br>for all at all ages<br>",
          "Goal 3. Ensure<br>healthy lives and<br>promote well-being<br>for all at all ages<br>",
          "Goal 3. Ensure<br>healthy lives and<br>promote well-being<br>for all at all ages<br>",
          "Goal 3. Ensure<br>healthy lives and<br>promote well-being<br>for all at all ages<br>",
          "Goal 3. Ensure<br>healthy lives and<br>promote well-being<br>for all at all ages<br>",
          "Goal 3. Ensure<br>healthy lives and<br>promote well-being<br>for all at all ages<br>",
          "Goal 3. Ensure<br>healthy lives and<br>promote well-being<br>for all at all ages<br>",
          "Goal 3. Ensure<br>healthy lives and<br>promote well-being<br>for all at all ages<br>",
          "Goal 3. Ensure<br>healthy lives and<br>promote well-being<br>for all at all ages<br>",
          "Goal 3. Ensure<br>healthy lives and<br>promote well-being<br>for all at all ages<br>",
          "Goal 3. Ensure<br>healthy lives and<br>promote well-being<br>for all at all ages<br>",
          "Goal 3. Ensure<br>healthy lives and<br>promote well-being<br>for all at all ages<br>",
          "Goal 3. Ensure<br>healthy lives and<br>promote well-being<br>for all at all ages<br>",
          "Goal 4. Ensure<br>inclusive and<br>equitable quality<br>education and<br>promote lifelong<br>learning<br>opportunities for<br>all<br>",
          "Goal 4. Ensure<br>inclusive and<br>equitable quality<br>education and<br>promote lifelong<br>learning<br>opportunities for<br>all<br>",
          "Goal 4. Ensure<br>inclusive and<br>equitable quality<br>education and<br>promote lifelong<br>learning<br>opportunities for<br>all<br>",
          "Goal 4. Ensure<br>inclusive and<br>equitable quality<br>education and<br>promote lifelong<br>learning<br>opportunities for<br>all<br>",
          "Goal 4. Ensure<br>inclusive and<br>equitable quality<br>education and<br>promote lifelong<br>learning<br>opportunities for<br>all<br>",
          "Goal 4. Ensure<br>inclusive and<br>equitable quality<br>education and<br>promote lifelong<br>learning<br>opportunities for<br>all<br>",
          "Goal 4. Ensure<br>inclusive and<br>equitable quality<br>education and<br>promote lifelong<br>learning<br>opportunities for<br>all<br>",
          "Goal 4. Ensure<br>inclusive and<br>equitable quality<br>education and<br>promote lifelong<br>learning<br>opportunities for<br>all<br>",
          "Goal 4. Ensure<br>inclusive and<br>equitable quality<br>education and<br>promote lifelong<br>learning<br>opportunities for<br>all<br>",
          "Goal 4. Ensure<br>inclusive and<br>equitable quality<br>education and<br>promote lifelong<br>learning<br>opportunities for<br>all<br>",
          "Goal 5. Achieve<br>gender equality and<br>empower all women<br>and girls<br>",
          "Goal 5. Achieve<br>gender equality and<br>empower all women<br>and girls<br>",
          "Goal 5. Achieve<br>gender equality and<br>empower all women<br>and girls<br>",
          "Goal 5. Achieve<br>gender equality and<br>empower all women<br>and girls<br>",
          "Goal 5. Achieve<br>gender equality and<br>empower all women<br>and girls<br>",
          "Goal 5. Achieve<br>gender equality and<br>empower all women<br>and girls<br>",
          "Goal 5. Achieve<br>gender equality and<br>empower all women<br>and girls<br>",
          "Goal 5. Achieve<br>gender equality and<br>empower all women<br>and girls<br>",
          "Goal 5. Achieve<br>gender equality and<br>empower all women<br>and girls<br>",
          "Goal 6. Ensure<br>availability and<br>sustainable<br>management of water<br>and sanitation for<br>all<br>",
          "Goal 6. Ensure<br>availability and<br>sustainable<br>management of water<br>and sanitation for<br>all<br>",
          "Goal 6. Ensure<br>availability and<br>sustainable<br>management of water<br>and sanitation for<br>all<br>",
          "Goal 6. Ensure<br>availability and<br>sustainable<br>management of water<br>and sanitation for<br>all<br>",
          "Goal 6. Ensure<br>availability and<br>sustainable<br>management of water<br>and sanitation for<br>all<br>",
          "Goal 6. Ensure<br>availability and<br>sustainable<br>management of water<br>and sanitation for<br>all<br>",
          "Goal 6. Ensure<br>availability and<br>sustainable<br>management of water<br>and sanitation for<br>all<br>",
          "Goal 6. Ensure<br>availability and<br>sustainable<br>management of water<br>and sanitation for<br>all<br>",
          "Goal 7. Ensure<br>access to<br>affordable,<br>reliable,<br>sustainable and<br>modern energy for<br>all<br>",
          "Goal 7. Ensure<br>access to<br>affordable,<br>reliable,<br>sustainable and<br>modern energy for<br>all<br>",
          "Goal 7. Ensure<br>access to<br>affordable,<br>reliable,<br>sustainable and<br>modern energy for<br>all<br>",
          "Goal 7. Ensure<br>access to<br>affordable,<br>reliable,<br>sustainable and<br>modern energy for<br>all<br>",
          "Goal 7. Ensure<br>access to<br>affordable,<br>reliable,<br>sustainable and<br>modern energy for<br>all<br>",
          "Goal 8. Promote<br>sustained, inclusive<br>and sustainable<br>economic growth,<br>full and productive<br>employment and<br>decent work for all<br>",
          "Goal 8. Promote<br>sustained, inclusive<br>and sustainable<br>economic growth,<br>full and productive<br>employment and<br>decent work for all<br>",
          "Goal 8. Promote<br>sustained, inclusive<br>and sustainable<br>economic growth,<br>full and productive<br>employment and<br>decent work for all<br>",
          "Goal 8. Promote<br>sustained, inclusive<br>and sustainable<br>economic growth,<br>full and productive<br>employment and<br>decent work for all<br>",
          "Goal 8. Promote<br>sustained, inclusive<br>and sustainable<br>economic growth,<br>full and productive<br>employment and<br>decent work for all<br>",
          "Goal 8. Promote<br>sustained, inclusive<br>and sustainable<br>economic growth,<br>full and productive<br>employment and<br>decent work for all<br>",
          "Goal 8. Promote<br>sustained, inclusive<br>and sustainable<br>economic growth,<br>full and productive<br>employment and<br>decent work for all<br>",
          "Goal 8. Promote<br>sustained, inclusive<br>and sustainable<br>economic growth,<br>full and productive<br>employment and<br>decent work for all<br>",
          "Goal 8. Promote<br>sustained, inclusive<br>and sustainable<br>economic growth,<br>full and productive<br>employment and<br>decent work for all<br>",
          "Goal 8. Promote<br>sustained, inclusive<br>and sustainable<br>economic growth,<br>full and productive<br>employment and<br>decent work for all<br>",
          "Goal 8. Promote<br>sustained, inclusive<br>and sustainable<br>economic growth,<br>full and productive<br>employment and<br>decent work for all<br>",
          "Goal 8. Promote<br>sustained, inclusive<br>and sustainable<br>economic growth,<br>full and productive<br>employment and<br>decent work for all<br>",
          "Goal 9. Build<br>resilient<br>infrastructure,<br>promote inclusive<br>and sustainable<br>industrialization<br>and foster<br>innovation<br>",
          "Goal 9. Build<br>resilient<br>infrastructure,<br>promote inclusive<br>and sustainable<br>industrialization<br>and foster<br>innovation<br>",
          "Goal 9. Build<br>resilient<br>infrastructure,<br>promote inclusive<br>and sustainable<br>industrialization<br>and foster<br>innovation<br>",
          "Goal 9. Build<br>resilient<br>infrastructure,<br>promote inclusive<br>and sustainable<br>industrialization<br>and foster<br>innovation<br>",
          "Goal 9. Build<br>resilient<br>infrastructure,<br>promote inclusive<br>and sustainable<br>industrialization<br>and foster<br>innovation<br>",
          "Goal 9. Build<br>resilient<br>infrastructure,<br>promote inclusive<br>and sustainable<br>industrialization<br>and foster<br>innovation<br>",
          "Goal 9. Build<br>resilient<br>infrastructure,<br>promote inclusive<br>and sustainable<br>industrialization<br>and foster<br>innovation<br>",
          "Goal 9. Build<br>resilient<br>infrastructure,<br>promote inclusive<br>and sustainable<br>industrialization<br>and foster<br>innovation<br>",
          "Goal 10. Reduce<br>inequality within<br>and among countries<br>",
          "Goal 10. Reduce<br>inequality within<br>and among countries<br>",
          "Goal 10. Reduce<br>inequality within<br>and among countries<br>",
          "Goal 10. Reduce<br>inequality within<br>and among countries<br>",
          "Goal 10. Reduce<br>inequality within<br>and among countries<br>",
          "Goal 10. Reduce<br>inequality within<br>and among countries<br>",
          "Goal 10. Reduce<br>inequality within<br>and among countries<br>",
          "Goal 10. Reduce<br>inequality within<br>and among countries<br>",
          "Goal 10. Reduce<br>inequality within<br>and among countries<br>",
          "Goal 10. Reduce<br>inequality within<br>and among countries<br>",
          "Goal 11. Make cities<br>and human<br>settlements<br>inclusive, safe,<br>resilient and<br>sustainable<br>",
          "Goal 11. Make cities<br>and human<br>settlements<br>inclusive, safe,<br>resilient and<br>sustainable<br>",
          "Goal 11. Make cities<br>and human<br>settlements<br>inclusive, safe,<br>resilient and<br>sustainable<br>",
          "Goal 11. Make cities<br>and human<br>settlements<br>inclusive, safe,<br>resilient and<br>sustainable<br>",
          "Goal 11. Make cities<br>and human<br>settlements<br>inclusive, safe,<br>resilient and<br>sustainable<br>",
          "Goal 11. Make cities<br>and human<br>settlements<br>inclusive, safe,<br>resilient and<br>sustainable<br>",
          "Goal 11. Make cities<br>and human<br>settlements<br>inclusive, safe,<br>resilient and<br>sustainable<br>",
          "Goal 11. Make cities<br>and human<br>settlements<br>inclusive, safe,<br>resilient and<br>sustainable<br>",
          "Goal 11. Make cities<br>and human<br>settlements<br>inclusive, safe,<br>resilient and<br>sustainable<br>",
          "Goal 11. Make cities<br>and human<br>settlements<br>inclusive, safe,<br>resilient and<br>sustainable<br>",
          "Goal 12. Ensure<br>sustainable<br>consumption and<br>production patterns<br>",
          "Goal 12. Ensure<br>sustainable<br>consumption and<br>production patterns<br>",
          "Goal 12. Ensure<br>sustainable<br>consumption and<br>production patterns<br>",
          "Goal 12. Ensure<br>sustainable<br>consumption and<br>production patterns<br>",
          "Goal 12. Ensure<br>sustainable<br>consumption and<br>production patterns<br>",
          "Goal 12. Ensure<br>sustainable<br>consumption and<br>production patterns<br>",
          "Goal 12. Ensure<br>sustainable<br>consumption and<br>production patterns<br>",
          "Goal 12. Ensure<br>sustainable<br>consumption and<br>production patterns<br>",
          "Goal 12. Ensure<br>sustainable<br>consumption and<br>production patterns<br>",
          "Goal 12. Ensure<br>sustainable<br>consumption and<br>production patterns<br>",
          "Goal 12. Ensure<br>sustainable<br>consumption and<br>production patterns<br>",
          "Goal 13. Take urgent<br>action to combat<br>climate change and<br>its impacts<br>",
          "Goal 13. Take urgent<br>action to combat<br>climate change and<br>its impacts<br>",
          "Goal 13. Take urgent<br>action to combat<br>climate change and<br>its impacts<br>",
          "Goal 13. Take urgent<br>action to combat<br>climate change and<br>its impacts<br>",
          "Goal 13. Take urgent<br>action to combat<br>climate change and<br>its impacts<br>",
          "Goal 14. Conserve<br>and sustainably use<br>the oceans, seas and<br>marine resources for<br>sustainable<br>development<br>",
          "Goal 14. Conserve<br>and sustainably use<br>the oceans, seas and<br>marine resources for<br>sustainable<br>development<br>",
          "Goal 14. Conserve<br>and sustainably use<br>the oceans, seas and<br>marine resources for<br>sustainable<br>development<br>",
          "Goal 14. Conserve<br>and sustainably use<br>the oceans, seas and<br>marine resources for<br>sustainable<br>development<br>",
          "Goal 14. Conserve<br>and sustainably use<br>the oceans, seas and<br>marine resources for<br>sustainable<br>development<br>",
          "Goal 14. Conserve<br>and sustainably use<br>the oceans, seas and<br>marine resources for<br>sustainable<br>development<br>",
          "Goal 14. Conserve<br>and sustainably use<br>the oceans, seas and<br>marine resources for<br>sustainable<br>development<br>",
          "Goal 14. Conserve<br>and sustainably use<br>the oceans, seas and<br>marine resources for<br>sustainable<br>development<br>",
          "Goal 14. Conserve<br>and sustainably use<br>the oceans, seas and<br>marine resources for<br>sustainable<br>development<br>",
          "Goal 14. Conserve<br>and sustainably use<br>the oceans, seas and<br>marine resources for<br>sustainable<br>development<br>",
          "Goal 15. Protect,<br>restore and promote<br>sustainable use of<br>terrestrial<br>ecosystems,<br>sustainably manage<br>forests, combat dese<br>rtification, and<br>halt and reverse<br>land degradation and<br>halt biodiversity<br>loss<br>",
          "Goal 15. Protect,<br>restore and promote<br>sustainable use of<br>terrestrial<br>ecosystems,<br>sustainably manage<br>forests, combat dese<br>rtification, and<br>halt and reverse<br>land degradation and<br>halt biodiversity<br>loss<br>",
          "Goal 15. Protect,<br>restore and promote<br>sustainable use of<br>terrestrial<br>ecosystems,<br>sustainably manage<br>forests, combat dese<br>rtification, and<br>halt and reverse<br>land degradation and<br>halt biodiversity<br>loss<br>",
          "Goal 15. Protect,<br>restore and promote<br>sustainable use of<br>terrestrial<br>ecosystems,<br>sustainably manage<br>forests, combat dese<br>rtification, and<br>halt and reverse<br>land degradation and<br>halt biodiversity<br>loss<br>",
          "Goal 15. Protect,<br>restore and promote<br>sustainable use of<br>terrestrial<br>ecosystems,<br>sustainably manage<br>forests, combat dese<br>rtification, and<br>halt and reverse<br>land degradation and<br>halt biodiversity<br>loss<br>",
          "Goal 15. Protect,<br>restore and promote<br>sustainable use of<br>terrestrial<br>ecosystems,<br>sustainably manage<br>forests, combat dese<br>rtification, and<br>halt and reverse<br>land degradation and<br>halt biodiversity<br>loss<br>",
          "Goal 15. Protect,<br>restore and promote<br>sustainable use of<br>terrestrial<br>ecosystems,<br>sustainably manage<br>forests, combat dese<br>rtification, and<br>halt and reverse<br>land degradation and<br>halt biodiversity<br>loss<br>",
          "Goal 15. Protect,<br>restore and promote<br>sustainable use of<br>terrestrial<br>ecosystems,<br>sustainably manage<br>forests, combat dese<br>rtification, and<br>halt and reverse<br>land degradation and<br>halt biodiversity<br>loss<br>",
          "Goal 15. Protect,<br>restore and promote<br>sustainable use of<br>terrestrial<br>ecosystems,<br>sustainably manage<br>forests, combat dese<br>rtification, and<br>halt and reverse<br>land degradation and<br>halt biodiversity<br>loss<br>",
          "Goal 15. Protect,<br>restore and promote<br>sustainable use of<br>terrestrial<br>ecosystems,<br>sustainably manage<br>forests, combat dese<br>rtification, and<br>halt and reverse<br>land degradation and<br>halt biodiversity<br>loss<br>",
          "Goal 15. Protect,<br>restore and promote<br>sustainable use of<br>terrestrial<br>ecosystems,<br>sustainably manage<br>forests, combat dese<br>rtification, and<br>halt and reverse<br>land degradation and<br>halt biodiversity<br>loss<br>",
          "Goal 15. Protect,<br>restore and promote<br>sustainable use of<br>terrestrial<br>ecosystems,<br>sustainably manage<br>forests, combat dese<br>rtification, and<br>halt and reverse<br>land degradation and<br>halt biodiversity<br>loss<br>",
          "Goal 16. Promote<br>peaceful and<br>inclusive societies<br>for sustainable<br>development, provide<br>access to justice<br>for all and build<br>effective,<br>accountable and<br>inclusive<br>institutions at all<br>levels<br>",
          "Goal 16. Promote<br>peaceful and<br>inclusive societies<br>for sustainable<br>development, provide<br>access to justice<br>for all and build<br>effective,<br>accountable and<br>inclusive<br>institutions at all<br>levels<br>",
          "Goal 16. Promote<br>peaceful and<br>inclusive societies<br>for sustainable<br>development, provide<br>access to justice<br>for all and build<br>effective,<br>accountable and<br>inclusive<br>institutions at all<br>levels<br>",
          "Goal 16. Promote<br>peaceful and<br>inclusive societies<br>for sustainable<br>development, provide<br>access to justice<br>for all and build<br>effective,<br>accountable and<br>inclusive<br>institutions at all<br>levels<br>",
          "Goal 16. Promote<br>peaceful and<br>inclusive societies<br>for sustainable<br>development, provide<br>access to justice<br>for all and build<br>effective,<br>accountable and<br>inclusive<br>institutions at all<br>levels<br>",
          "Goal 16. Promote<br>peaceful and<br>inclusive societies<br>for sustainable<br>development, provide<br>access to justice<br>for all and build<br>effective,<br>accountable and<br>inclusive<br>institutions at all<br>levels<br>",
          "Goal 16. Promote<br>peaceful and<br>inclusive societies<br>for sustainable<br>development, provide<br>access to justice<br>for all and build<br>effective,<br>accountable and<br>inclusive<br>institutions at all<br>levels<br>",
          "Goal 16. Promote<br>peaceful and<br>inclusive societies<br>for sustainable<br>development, provide<br>access to justice<br>for all and build<br>effective,<br>accountable and<br>inclusive<br>institutions at all<br>levels<br>",
          "Goal 16. Promote<br>peaceful and<br>inclusive societies<br>for sustainable<br>development, provide<br>access to justice<br>for all and build<br>effective,<br>accountable and<br>inclusive<br>institutions at all<br>levels<br>",
          "Goal 16. Promote<br>peaceful and<br>inclusive societies<br>for sustainable<br>development, provide<br>access to justice<br>for all and build<br>effective,<br>accountable and<br>inclusive<br>institutions at all<br>levels<br>",
          "Goal 16. Promote<br>peaceful and<br>inclusive societies<br>for sustainable<br>development, provide<br>access to justice<br>for all and build<br>effective,<br>accountable and<br>inclusive<br>institutions at all<br>levels<br>",
          "Goal 16. Promote<br>peaceful and<br>inclusive societies<br>for sustainable<br>development, provide<br>access to justice<br>for all and build<br>effective,<br>accountable and<br>inclusive<br>institutions at all<br>levels<br>",
          "Goal 17  Strengthen<br>the means of<br>implementation and<br>revitalize the<br>Global Partnership<br>for Sustainable Deve<br>lopment<br>",
          "Goal 17  Strengthen<br>the means of<br>implementation and<br>revitalize the<br>Global Partnership<br>for Sustainable Deve<br>lopment<br>",
          "Goal 17  Strengthen<br>the means of<br>implementation and<br>revitalize the<br>Global Partnership<br>for Sustainable Deve<br>lopment<br>",
          "Goal 17  Strengthen<br>the means of<br>implementation and<br>revitalize the<br>Global Partnership<br>for Sustainable Deve<br>lopment<br>",
          "Goal 17  Strengthen<br>the means of<br>implementation and<br>revitalize the<br>Global Partnership<br>for Sustainable Deve<br>lopment<br>",
          "Goal 17  Strengthen<br>the means of<br>implementation and<br>revitalize the<br>Global Partnership<br>for Sustainable Deve<br>lopment<br>",
          "Goal 17  Strengthen<br>the means of<br>implementation and<br>revitalize the<br>Global Partnership<br>for Sustainable Deve<br>lopment<br>",
          "Goal 17  Strengthen<br>the means of<br>implementation and<br>revitalize the<br>Global Partnership<br>for Sustainable Deve<br>lopment<br>",
          "Goal 17  Strengthen<br>the means of<br>implementation and<br>revitalize the<br>Global Partnership<br>for Sustainable Deve<br>lopment<br>",
          "Goal 17  Strengthen<br>the means of<br>implementation and<br>revitalize the<br>Global Partnership<br>for Sustainable Deve<br>lopment<br>",
          "Goal 17  Strengthen<br>the means of<br>implementation and<br>revitalize the<br>Global Partnership<br>for Sustainable Deve<br>lopment<br>",
          "Goal 17  Strengthen<br>the means of<br>implementation and<br>revitalize the<br>Global Partnership<br>for Sustainable Deve<br>lopment<br>",
          "Goal 17  Strengthen<br>the means of<br>implementation and<br>revitalize the<br>Global Partnership<br>for Sustainable Deve<br>lopment<br>",
          "Goal 17  Strengthen<br>the means of<br>implementation and<br>revitalize the<br>Global Partnership<br>for Sustainable Deve<br>lopment<br>",
          "Goal 17  Strengthen<br>the means of<br>implementation and<br>revitalize the<br>Global Partnership<br>for Sustainable Deve<br>lopment<br>",
          "Goal 17  Strengthen<br>the means of<br>implementation and<br>revitalize the<br>Global Partnership<br>for Sustainable Deve<br>lopment<br>",
          "Goal 17  Strengthen<br>the means of<br>implementation and<br>revitalize the<br>Global Partnership<br>for Sustainable Deve<br>lopment<br>",
          "Goal 17  Strengthen<br>the means of<br>implementation and<br>revitalize the<br>Global Partnership<br>for Sustainable Deve<br>lopment<br>",
          "Goal 17  Strengthen<br>the means of<br>implementation and<br>revitalize the<br>Global Partnership<br>for Sustainable Deve<br>lopment<br>",
          "1.1 By 2030,<br>eradicate extreme<br>poverty for all<br>people everywhere,<br>currently measured<br>as people living on<br>less than $1.25 a<br>day<br>",
          "1.2 By 2030, reduce<br>at least by half the<br>proportion of men,<br>women and children<br>of all ages living<br>in poverty in all<br>its dimensions<br>according to<br>national definitions<br>",
          "1.2 By 2030, reduce<br>at least by half the<br>proportion of men,<br>women and children<br>of all ages living<br>in poverty in all<br>its dimensions<br>according to<br>national definitions<br>",
          "1.3 Implement<br>nationally<br>appropriate social<br>protection systems<br>and measures for<br>all, including<br>floors, and by 2030<br>achieve substantial<br>coverage of the poor<br>and the vulnerable<br>",
          "1.4 By 2030, ensure<br>that all men and<br>women, in particular<br>the poor and the<br>vulnerable, have<br>equal rights to<br>economic resources,<br>as well as access to<br>basic services,<br>ownership and<br>control over land<br>and other forms of<br>property,<br>inheritance, natural<br>resources,<br>appropriate new<br>technology and<br>financial services,<br>including<br>microfinance<br>",
          "1.4 By 2030, ensure<br>that all men and<br>women, in particular<br>the poor and the<br>vulnerable, have<br>equal rights to<br>economic resources,<br>as well as access to<br>basic services,<br>ownership and<br>control over land<br>and other forms of<br>property,<br>inheritance, natural<br>resources,<br>appropriate new<br>technology and<br>financial services,<br>including<br>microfinance<br>",
          "1.5 By 2030, build<br>the resilience of<br>the poor and those<br>in vulnerable<br>situations and<br>reduce their<br>exposure and<br>vulnerability to<br>climate-related<br>extreme events and<br>other economic,<br>social and<br>environmental shocks<br>and disasters<br>",
          "1.5 By 2030, build<br>the resilience of<br>the poor and those<br>in vulnerable<br>situations and<br>reduce their<br>exposure and<br>vulnerability to<br>climate-related<br>extreme events and<br>other economic,<br>social and<br>environmental shocks<br>and disasters<br>",
          "1.5 By 2030, build<br>the resilience of<br>the poor and those<br>in vulnerable<br>situations and<br>reduce their<br>exposure and<br>vulnerability to<br>climate-related<br>extreme events and<br>other economic,<br>social and<br>environmental shocks<br>and disasters<br>",
          "1.5 By 2030, build<br>the resilience of<br>the poor and those<br>in vulnerable<br>situations and<br>reduce their<br>exposure and<br>vulnerability to<br>climate-related<br>extreme events and<br>other economic,<br>social and<br>environmental shocks<br>and disasters<br>",
          "1.a Ensure<br>significant<br>mobilization of<br>resources from a<br>variety of sources,<br>including through<br>enhanced development<br>cooperation, in<br>order to provide<br>adequate and<br>predictable means<br>for developing<br>countries, in<br>particular least<br>developed countries,<br>to implement<br>programmes and<br>policies to end<br>poverty in all its<br>dimensions<br>",
          "1.a Ensure<br>significant<br>mobilization of<br>resources from a<br>variety of sources,<br>including through<br>enhanced development<br>cooperation, in<br>order to provide<br>adequate and<br>predictable means<br>for developing<br>countries, in<br>particular least<br>developed countries,<br>to implement<br>programmes and<br>policies to end<br>poverty in all its<br>dimensions<br>",
          "1.b Create sound<br>policy frameworks at<br>the national,<br>regional and<br>international<br>levels, based on<br>pro-poor and gender-<br>sensitive<br>development<br>strategies, to<br>support accelerated<br>investment in<br>poverty eradication<br>actions<br>",
          "2.1 By 2030, end<br>hunger and ensure<br>access by all<br>people, in<br>particular the poor<br>and people in<br>vulnerable<br>situations,<br>including infants,<br>to safe, nutritious<br>and sufficient food<br>all year round<br>",
          "2.1 By 2030, end<br>hunger and ensure<br>access by all<br>people, in<br>particular the poor<br>and people in<br>vulnerable<br>situations,<br>including infants,<br>to safe, nutritious<br>and sufficient food<br>all year round<br>",
          "2.2 By 2030, end all<br>forms of<br>malnutrition,<br>including achieving,<br>by 2025, the<br>internationally<br>agreed targets on<br>stunting and wasting<br>in children under<br>5 years of age, and<br>address the<br>nutritional needs of<br>adolescent girls,<br>pregnant and<br>lactating women and<br>older persons<br>",
          "2.2 By 2030, end all<br>forms of<br>malnutrition,<br>including achieving,<br>by 2025, the<br>internationally<br>agreed targets on<br>stunting and wasting<br>in children under<br>5 years of age, and<br>address the<br>nutritional needs of<br>adolescent girls,<br>pregnant and<br>lactating women and<br>older persons<br>",
          "2.2 By 2030, end all<br>forms of<br>malnutrition,<br>including achieving,<br>by 2025, the<br>internationally<br>agreed targets on<br>stunting and wasting<br>in children under<br>5 years of age, and<br>address the<br>nutritional needs of<br>adolescent girls,<br>pregnant and<br>lactating women and<br>older persons<br>",
          "2.3 By 2030, double<br>the agricultural<br>productivity and<br>incomes of small-<br>scale food<br>producers, in<br>particular women,<br>indigenous peoples,<br>family farmers,<br>pastoralists and<br>fishers, including<br>through secure and<br>equal access to<br>land, other<br>productive resources<br>and inputs,<br>knowledge, financial<br>services, markets<br>and opportunities<br>for value addition<br>and non-farm<br>employment<br>",
          "2.3 By 2030, double<br>the agricultural<br>productivity and<br>incomes of small-<br>scale food<br>producers, in<br>particular women,<br>indigenous peoples,<br>family farmers,<br>pastoralists and<br>fishers, including<br>through secure and<br>equal access to<br>land, other<br>productive resources<br>and inputs,<br>knowledge, financial<br>services, markets<br>and opportunities<br>for value addition<br>and non-farm<br>employment<br>",
          "2.4 By 2030, ensure<br>sustainable food<br>production systems<br>and implement<br>resilient<br>agricultural<br>practices that<br>increase<br>productivity and<br>production, that<br>help maintain<br>ecosystems, that<br>strengthen capacity<br>for adaptation to<br>climate change,<br>extreme weather,<br>drought, flooding<br>and other disasters<br>and that<br>progressively<br>improve land and<br>soil quality<br>",
          "2.5 By 2020,<br>maintain the genetic<br>diversity of seeds,<br>cultivated plants<br>and farmed and<br>domesticated animals<br>and their related<br>wild species,<br>including through<br>soundly managed and<br>diversified seed and<br>plant banks at the<br>national, regional<br>and international<br>levels, and promote<br>access to and fair<br>and equitable<br>sharing of benefits<br>arising from the<br>utilization of<br>genetic resources<br>and associated<br>traditional<br>knowledge, as<br>internationally<br>agreed<br>",
          "2.5 By 2020,<br>maintain the genetic<br>diversity of seeds,<br>cultivated plants<br>and farmed and<br>domesticated animals<br>and their related<br>wild species,<br>including through<br>soundly managed and<br>diversified seed and<br>plant banks at the<br>national, regional<br>and international<br>levels, and promote<br>access to and fair<br>and equitable<br>sharing of benefits<br>arising from the<br>utilization of<br>genetic resources<br>and associated<br>traditional<br>knowledge, as<br>internationally<br>agreed<br>",
          "2.a Increase<br>investment,<br>including through<br>enhanced<br>international<br>cooperation, in<br>rural<br>infrastructure,<br>agricultural<br>research and<br>extension services,<br>technology<br>development and<br>plant and livestock<br>gene banks in order<br>to enhance<br>agricultural<br>productive capacity<br>in developing<br>countries, in<br>particular least<br>developed countries<br>",
          "2.a Increase<br>investment,<br>including through<br>enhanced<br>international<br>cooperation, in<br>rural<br>infrastructure,<br>agricultural<br>research and<br>extension services,<br>technology<br>development and<br>plant and livestock<br>gene banks in order<br>to enhance<br>agricultural<br>productive capacity<br>in developing<br>countries, in<br>particular least<br>developed countries<br>",
          "2.b Correct and<br>prevent trade<br>restrictions and<br>distortions in world<br>agricultural<br>markets, including<br>through the parallel<br>elimination of all<br>forms of<br>agricultural export<br>subsidies and all<br>export measures with<br>equivalent effect,<br>in accordance with<br>the mandate of the<br>Doha Development<br>Round<br>",
          "2.c Adopt measures<br>to ensure the proper<br>functioning of food<br>commodity markets<br>and their<br>derivatives and<br>facilitate timely<br>access to market<br>information,<br>including on food<br>reserves, in order<br>to help limit<br>extreme food price<br>volatility<br>",
          "3.1 By 2030, reduce<br>the global maternal<br>mortality ratio to<br>less than 70 per<br>100,000 live births<br>",
          "3.1 By 2030, reduce<br>the global maternal<br>mortality ratio to<br>less than 70 per<br>100,000 live births<br>",
          "3.2 By 2030, end<br>preventable deaths<br>of newborns and<br>children under<br>5 years of age, with<br>all countries aiming<br>to reduce neonatal<br>mortality to at<br>least as low as 12<br>per 1,000 live<br>births and under‑5<br>mortality to at<br>least as low as 25<br>per 1,000 live<br>births<br>",
          "3.2 By 2030, end<br>preventable deaths<br>of newborns and<br>children under<br>5 years of age, with<br>all countries aiming<br>to reduce neonatal<br>mortality to at<br>least as low as 12<br>per 1,000 live<br>births and under‑5<br>mortality to at<br>least as low as 25<br>per 1,000 live<br>births<br>",
          "3.3 By 2030, end the<br>epidemics of AIDS,<br>tuberculosis,<br>malaria and<br>neglected tropical<br>diseases and combat<br>hepatitis, water-<br>borne diseases and<br>other communicable<br>diseases<br>",
          "3.3 By 2030, end the<br>epidemics of AIDS,<br>tuberculosis,<br>malaria and<br>neglected tropical<br>diseases and combat<br>hepatitis, water-<br>borne diseases and<br>other communicable<br>diseases<br>",
          "3.3 By 2030, end the<br>epidemics of AIDS,<br>tuberculosis,<br>malaria and<br>neglected tropical<br>diseases and combat<br>hepatitis, water-<br>borne diseases and<br>other communicable<br>diseases<br>",
          "3.3 By 2030, end the<br>epidemics of AIDS,<br>tuberculosis,<br>malaria and<br>neglected tropical<br>diseases and combat<br>hepatitis, water-<br>borne diseases and<br>other communicable<br>diseases<br>",
          "3.3 By 2030, end the<br>epidemics of AIDS,<br>tuberculosis,<br>malaria and<br>neglected tropical<br>diseases and combat<br>hepatitis, water-<br>borne diseases and<br>other communicable<br>diseases<br>",
          "3.4 By 2030, reduce<br>by one third<br>premature mortality<br>from non-<br>communicable<br>diseases through<br>prevention and<br>treatment and<br>promote mental<br>health and well-<br>being<br>",
          "3.4 By 2030, reduce<br>by one third<br>premature mortality<br>from non-<br>communicable<br>diseases through<br>prevention and<br>treatment and<br>promote mental<br>health and well-<br>being<br>",
          "3.5 Strengthen the<br>prevention and<br>treatment of<br>substance abuse,<br>including narcotic<br>drug abuse and<br>harmful use of<br>alcohol<br>",
          "3.5 Strengthen the<br>prevention and<br>treatment of<br>substance abuse,<br>including narcotic<br>drug abuse and<br>harmful use of<br>alcohol<br>",
          "3.6 By 2020, halve<br>the number of global<br>deaths and injuries<br>from road traffic<br>accidents<br>",
          "3.7 By 2030, ensure<br>universal access to<br>sexual and<br>reproductive health-<br>care services,<br>including for family<br>planning,<br>information and<br>education, and the<br>integration of<br>reproductive health<br>into national<br>strategies and<br>programmes<br>",
          "3.7 By 2030, ensure<br>universal access to<br>sexual and<br>reproductive health-<br>care services,<br>including for family<br>planning,<br>information and<br>education, and the<br>integration of<br>reproductive health<br>into national<br>strategies and<br>programmes<br>",
          "3.8 Achieve<br>universal health<br>coverage, including<br>financial risk<br>protection, access<br>to quality essential<br>health-care services<br>and access to safe,<br>effective, quality<br>and affordable<br>essential medicines<br>and vaccines for all<br>",
          "3.8 Achieve<br>universal health<br>coverage, including<br>financial risk<br>protection, access<br>to quality essential<br>health-care services<br>and access to safe,<br>effective, quality<br>and affordable<br>essential medicines<br>and vaccines for all<br>",
          "3.9 By 2030,<br>substantially reduce<br>the number of deaths<br>and illnesses from<br>hazardous chemicals<br>and air, water and<br>soil pollution and<br>contamination<br>",
          "3.9 By 2030,<br>substantially reduce<br>the number of deaths<br>and illnesses from<br>hazardous chemicals<br>and air, water and<br>soil pollution and<br>contamination<br>",
          "3.9 By 2030,<br>substantially reduce<br>the number of deaths<br>and illnesses from<br>hazardous chemicals<br>and air, water and<br>soil pollution and<br>contamination<br>",
          "3.a Strengthen the<br>implementation of<br>the World Health<br>Organization<br>Framework Convention<br>on Tobacco Control<br>in all countries, as<br>appropriate<br>",
          "3.b Support the<br>research and<br>development of<br>vaccines and<br>medicines for the<br>communicable and<br>non‑communicable<br>diseases that<br>primarily affect<br>developing<br>countries, provide<br>access to affordable<br>essential medicines<br>and vaccines, in<br>accordance with the<br>Doha Declaration on<br>the TRIPS Agreement<br>and Public Health,<br>which affirms the<br>right of developing<br>countries to use to<br>the full the<br>provisions in the<br>Agreement on Trade-<br>Related Aspects of<br>Intellectual<br>Property Rights<br>regarding<br>flexibilities to<br>protect public<br>health, and, in<br>particular, provide<br>access to medicines<br>for all<br>",
          "3.b Support the<br>research and<br>development of<br>vaccines and<br>medicines for the<br>communicable and<br>non‑communicable<br>diseases that<br>primarily affect<br>developing<br>countries, provide<br>access to affordable<br>essential medicines<br>and vaccines, in<br>accordance with the<br>Doha Declaration on<br>the TRIPS Agreement<br>and Public Health,<br>which affirms the<br>right of developing<br>countries to use to<br>the full the<br>provisions in the<br>Agreement on Trade-<br>Related Aspects of<br>Intellectual<br>Property Rights<br>regarding<br>flexibilities to<br>protect public<br>health, and, in<br>particular, provide<br>access to medicines<br>for all<br>",
          "3.b Support the<br>research and<br>development of<br>vaccines and<br>medicines for the<br>communicable and<br>non‑communicable<br>diseases that<br>primarily affect<br>developing<br>countries, provide<br>access to affordable<br>essential medicines<br>and vaccines, in<br>accordance with the<br>Doha Declaration on<br>the TRIPS Agreement<br>and Public Health,<br>which affirms the<br>right of developing<br>countries to use to<br>the full the<br>provisions in the<br>Agreement on Trade-<br>Related Aspects of<br>Intellectual<br>Property Rights<br>regarding<br>flexibilities to<br>protect public<br>health, and, in<br>particular, provide<br>access to medicines<br>for all<br>",
          "3.c Substantially<br>increase health<br>financing and the<br>recruitment,<br>development,<br>training and<br>retention of the<br>health workforce in<br>developing<br>countries,<br>especially in least<br>developed countries<br>and small island<br>developing States<br>",
          "3.d Strengthen the<br>capacity of all<br>countries, in<br>particular<br>developing<br>countries, for early<br>warning, risk<br>reduction and<br>management of<br>national and global<br>health risks<br>",
          "3.d Strengthen the<br>capacity of all<br>countries, in<br>particular<br>developing<br>countries, for early<br>warning, risk<br>reduction and<br>management of<br>national and global<br>health risks<br>",
          "4.1 By 2030, ensure<br>that all girls and<br>boys complete free,<br>equitable and<br>quality primary and<br>secondary education<br>leading to relevant<br>and effective<br>learning outcomes<br>",
          "4.1 By 2030, ensure<br>that all girls and<br>boys complete free,<br>equitable and<br>quality primary and<br>secondary education<br>leading to relevant<br>and effective<br>learning outcomes<br>",
          "4.2 By 2030, ensure<br>that all girls and<br>boys have access to<br>quality early<br>childhood<br>development, care<br>and pre‑primary<br>education so that<br>they are ready for<br>primary education<br>",
          "4.2 By 2030, ensure<br>that all girls and<br>boys have access to<br>quality early<br>childhood<br>development, care<br>and pre‑primary<br>education so that<br>they are ready for<br>primary education<br>",
          "4.3 By 2030, ensure<br>equal access for all<br>women and men to<br>affordable and<br>quality technical,<br>vocational and<br>tertiary education,<br>including university<br>",
          "4.4 By 2030,<br>substantially<br>increase the number<br>of youth and adults<br>who have relevant<br>skills, including<br>technical and<br>vocational skills,<br>for employment,<br>decent jobs and<br>entrepreneurship<br>",
          "4.5 By 2030,<br>eliminate gender<br>disparities in<br>education and ensure<br>equal access to all<br>levels of education<br>and vocational<br>training for the<br>vulnerable,<br>including persons<br>with disabilities,<br>indigenous peoples<br>and children in<br>vulnerable<br>situations<br>",
          "4.6 By 2030, ensure<br>that all youth and a<br>substantial<br>proportion of<br>adults, both men and<br>women, achieve<br>literacy and<br>numeracy<br>",
          "4.7 By 2030, ensure<br>that all learners<br>acquire the<br>knowledge and skills<br>needed to promote<br>sustainable<br>development,<br>including, among<br>others, through<br>education for<br>sustainable<br>development and<br>sustainable<br>lifestyles, human<br>rights, gender<br>equality, promotion<br>of a culture of<br>peace and non-<br>violence, global<br>citizenship and<br>appreciation of<br>cultural diversity<br>and of culture’s<br>contribution to<br>sustainable<br>development<br>",
          "4.a Build and<br>upgrade education<br>facilities that are<br>child, disability<br>and gender sensitive<br>and provide safe,<br>non-violent,<br>inclusive and<br>effective learning<br>environments for all<br>",
          "4.b By 2020,<br>substantially expand<br>globally the number<br>of scholarships<br>available to<br>developing<br>countries, in<br>particular least<br>developed countries,<br>small island<br>developing States<br>and African<br>countries, for<br>enrolment in higher<br>education, including<br>vocational training<br>and information and<br>communications<br>technology,<br>technical,<br>engineering and<br>scientific<br>programmes, in<br>developed countries<br>and other developing<br>countries<br>",
          "4.c By 2030,<br>substantially<br>increase the supply<br>of qualified<br>teachers, including<br>through<br>international<br>cooperation for<br>teacher training in<br>developing<br>countries,<br>especially least<br>developed countries<br>and small island<br>developing States<br>",
          "5.1 End all forms of<br>discrimination<br>against all women<br>and girls everywhere<br>",
          "5.2 Eliminate all<br>forms of violence<br>against all women<br>and girls in the<br>public and private<br>spheres, including<br>trafficking and<br>sexual and other<br>types of<br>exploitation<br>",
          "5.2 Eliminate all<br>forms of violence<br>against all women<br>and girls in the<br>public and private<br>spheres, including<br>trafficking and<br>sexual and other<br>types of<br>exploitation<br>",
          "5.3 Eliminate all<br>harmful practices,<br>such as child, early<br>and forced marriage<br>and female genital<br>mutilation<br>",
          "5.3 Eliminate all<br>harmful practices,<br>such as child, early<br>and forced marriage<br>and female genital<br>mutilation<br>",
          "5.4 Recognize and<br>value unpaid care<br>and domestic work<br>through the<br>provision of public<br>services,<br>infrastructure and<br>social protection<br>policies and the<br>promotion of shared<br>responsibility<br>within the household<br>and the family as<br>nationally<br>appropriate<br>",
          "5.5 Ensure women’s<br>full and effective<br>participation and<br>equal opportunities<br>for leadership at<br>all levels of<br>decision-making in<br>political, economic<br>and public life<br>",
          "5.5 Ensure women’s<br>full and effective<br>participation and<br>equal opportunities<br>for leadership at<br>all levels of<br>decision-making in<br>political, economic<br>and public life<br>",
          "5.6 Ensure universal<br>access to sexual and<br>reproductive health<br>and reproductive<br>rights as agreed in<br>accordance with the<br>Programme of Action<br>of the International<br>Conference on<br>Population and<br>Development and the<br>Beijing Platform for<br>Action and the<br>outcome documents of<br>their review<br>conferences<br>",
          "5.6 Ensure universal<br>access to sexual and<br>reproductive health<br>and reproductive<br>rights as agreed in<br>accordance with the<br>Programme of Action<br>of the International<br>Conference on<br>Population and<br>Development and the<br>Beijing Platform for<br>Action and the<br>outcome documents of<br>their review<br>conferences<br>",
          "5.a Undertake<br>reforms to give<br>women equal rights<br>to economic<br>resources, as well<br>as access to<br>ownership and<br>control over land<br>and other forms of<br>property, financial<br>services,<br>inheritance and<br>natural resources,<br>in accordance with<br>national laws<br>",
          "5.a Undertake<br>reforms to give<br>women equal rights<br>to economic<br>resources, as well<br>as access to<br>ownership and<br>control over land<br>and other forms of<br>property, financial<br>services,<br>inheritance and<br>natural resources,<br>in accordance with<br>national laws<br>",
          "5.b Enhance the use<br>of enabling<br>technology, in<br>particular<br>information and<br>communications<br>technology, to<br>promote the<br>empowerment of women<br>",
          "5.c Adopt and<br>strengthen sound<br>policies and<br>enforceable<br>legislation for the<br>promotion of gender<br>equality and the<br>empowerment of all<br>women and girls at<br>all levels<br>",
          "6.1 By 2030, achieve<br>universal and<br>equitable access to<br>safe and affordable<br>drinking water for<br>all<br>",
          "6.2 By 2030, achieve<br>access to adequate<br>and equitable<br>sanitation and<br>hygiene for all and<br>end open defecation,<br>paying special<br>attention to the<br>needs of women and<br>girls and those in<br>vulnerable<br>situations<br>",
          "6.3 By 2030, improve<br>water quality by<br>reducing pollution,<br>eliminating dumping<br>and minimizing<br>release of hazardous<br>chemicals and<br>materials, halving<br>the proportion of<br>untreated wastewater<br>and substantially<br>increasing recycling<br>and safe reuse<br>globally<br>",
          "6.3 By 2030, improve<br>water quality by<br>reducing pollution,<br>eliminating dumping<br>and minimizing<br>release of hazardous<br>chemicals and<br>materials, halving<br>the proportion of<br>untreated wastewater<br>and substantially<br>increasing recycling<br>and safe reuse<br>globally<br>",
          "6.4 By 2030,<br>substantially<br>increase water-use<br>efficiency across<br>all sectors and<br>ensure sustainable<br>withdrawals and<br>supply of freshwater<br>to address water<br>scarcity and<br>substantially reduce<br>the number of people<br>suffering from water<br>scarcity<br>",
          "6.4 By 2030,<br>substantially<br>increase water-use<br>efficiency across<br>all sectors and<br>ensure sustainable<br>withdrawals and<br>supply of freshwater<br>to address water<br>scarcity and<br>substantially reduce<br>the number of people<br>suffering from water<br>scarcity<br>",
          "6.5 By 2030,<br>implement integrated<br>water resources<br>management at all<br>levels, including<br>through<br>transboundary<br>cooperation as<br>appropriate<br>",
          "6.5 By 2030,<br>implement integrated<br>water resources<br>management at all<br>levels, including<br>through<br>transboundary<br>cooperation as<br>appropriate<br>",
          "6.6 By 2020, protect<br>and restore water-<br>related ecosystems,<br>including mountains,<br>forests, wetlands,<br>rivers, aquifers and<br>lakes<br>",
          "6.a By 2030, expand<br>international<br>cooperation and<br>capacity-building<br>support to<br>developing countries<br>in water- and<br>sanitation-related<br>activities and<br>programmes,<br>including water<br>harvesting,<br>desalination, water<br>efficiency,<br>wastewater<br>treatment, recycling<br>and reuse<br>technologies<br>",
          "6.b Support and<br>strengthen the<br>participation of<br>local communities in<br>improving water and<br>sanitation<br>management<br>",
          "7.1 By 2030, ensure<br>universal access to<br>affordable, reliable<br>and modern energy<br>services<br>",
          "7.1 By 2030, ensure<br>universal access to<br>affordable, reliable<br>and modern energy<br>services<br>",
          "7.2 By 2030,<br>increase<br>substantially the<br>share of renewable<br>energy in the global<br>energy mix<br>",
          "7.3 By 2030, double<br>the global rate of<br>improvement in<br>energy efficiency<br>",
          "7.a By 2030, enhance<br>international<br>cooperation to<br>facilitate access to<br>clean energy<br>research and<br>technology,<br>including renewable<br>energy, energy<br>efficiency and<br>advanced and cleaner<br>fossil-fuel<br>technology, and<br>promote investment<br>in energy<br>infrastructure and<br>clean energy<br>technology<br>",
          "7.b By 2030, expand<br>infrastructure and<br>upgrade technology<br>for supplying modern<br>and sustainable<br>energy services for<br>all in developing<br>countries, in<br>particular least<br>developed countries,<br>small island<br>developing States<br>and landlocked<br>developing<br>countries, in<br>accordance with<br>their respective<br>programmes of<br>support<br>",
          "8.1 Sustain per<br>capita economic<br>growth in accordance<br>with national<br>circumstances and,<br>in particular, at<br>least 7 per cent<br>gross domestic<br>product growth per<br>annum in the least<br>developed countries<br>",
          "8.2 Achieve higher<br>levels of economic<br>productivity through<br>diversification,<br>technological<br>upgrading and<br>innovation,<br>including through a<br>focus on high-value<br>added and labour-<br>intensive sectors<br>",
          "8.3 Promote<br>development-oriented<br>policies that<br>support productive<br>activities, decent<br>job creation,<br>entrepreneurship,<br>creativity and<br>innovation, and<br>encourage the<br>formalization and<br>growth of micro-,<br>small- and medium-<br>sized enterprises,<br>including through<br>access to financial<br>services<br>",
          "8.4 Improve<br>progressively,<br>through 2030, global<br>resource efficiency<br>in consumption and<br>production and<br>endeavour to<br>decouple economic<br>growth from<br>environmental<br>degradation, in<br>accordance with the<br>10‑Year Framework of<br>Programmes on<br>Sustainable<br>Consumption and<br>Production, with<br>developed countries<br>taking the lead<br>",
          "8.4 Improve<br>progressively,<br>through 2030, global<br>resource efficiency<br>in consumption and<br>production and<br>endeavour to<br>decouple economic<br>growth from<br>environmental<br>degradation, in<br>accordance with the<br>10‑Year Framework of<br>Programmes on<br>Sustainable<br>Consumption and<br>Production, with<br>developed countries<br>taking the lead<br>",
          "8.5 By 2030, achieve<br>full and productive<br>employment and<br>decent work for all<br>women and men,<br>including for young<br>people and persons<br>with disabilities,<br>and equal pay for<br>work of equal value<br>",
          "8.5 By 2030, achieve<br>full and productive<br>employment and<br>decent work for all<br>women and men,<br>including for young<br>people and persons<br>with disabilities,<br>and equal pay for<br>work of equal value<br>",
          "8.6 By 2020,<br>substantially reduce<br>the proportion of<br>youth not in<br>employment,<br>education or<br>training<br>",
          "8.7 Take immediate<br>and effective<br>measures to<br>eradicate forced<br>labour, end modern<br>slavery and human<br>trafficking and<br>secure the<br>prohibition and<br>elimination of the<br>worst forms of child<br>labour, including<br>recruitment and use<br>of child soldiers,<br>and by 2025 end<br>child labour in all<br>its forms<br>",
          "8.8 Protect labour<br>rights and promote<br>safe and secure<br>working environments<br>for all workers,<br>including migrant<br>workers, in<br>particular women<br>migrants, and those<br>in precarious<br>employment<br>",
          "8.8 Protect labour<br>rights and promote<br>safe and secure<br>working environments<br>for all workers,<br>including migrant<br>workers, in<br>particular women<br>migrants, and those<br>in precarious<br>employment<br>",
          "8.9 By 2030, devise<br>and implement<br>policies to promote<br>sustainable tourism<br>that creates jobs<br>and promotes local<br>culture and products<br>",
          "8.10 Strengthen the<br>capacity of domestic<br>financial<br>institutions to<br>encourage and expand<br>access to banking,<br>insurance and<br>financial services<br>for all<br>",
          "8.10 Strengthen the<br>capacity of domestic<br>financial<br>institutions to<br>encourage and expand<br>access to banking,<br>insurance and<br>financial services<br>for all<br>",
          "8.a Increase Aid for<br>Trade support for<br>developing<br>countries, in<br>particular least<br>developed countries,<br>including through<br>the Enhanced<br>Integrated Framework<br>for Trade-related<br>Technical Assistance<br>to Least Developed<br>Countries<br>",
          "8.b By 2020, develop<br>and operationalize a<br>global strategy for<br>youth employment and<br>implement the Global<br>Jobs Pact of the<br>International Labour<br>Organization<br>",
          "9.1 Develop quality,<br>reliable,<br>sustainable and<br>resilient<br>infrastructure,<br>including regional<br>and transborder<br>infrastructure, to<br>support economic<br>development and<br>human well-being,<br>with a focus on<br>affordable and<br>equitable access for<br>all<br>",
          "9.1 Develop quality,<br>reliable,<br>sustainable and<br>resilient<br>infrastructure,<br>including regional<br>and transborder<br>infrastructure, to<br>support economic<br>development and<br>human well-being,<br>with a focus on<br>affordable and<br>equitable access for<br>all<br>",
          "9.2 Promote<br>inclusive and<br>sustainable<br>industrialization<br>and, by 2030,<br>significantly raise<br>industry’s share of<br>employment and gross<br>domestic product, in<br>line with national<br>circumstances, and<br>double its share in<br>least developed<br>countries<br>",
          "9.2 Promote<br>inclusive and<br>sustainable<br>industrialization<br>and, by 2030,<br>significantly raise<br>industry’s share of<br>employment and gross<br>domestic product, in<br>line with national<br>circumstances, and<br>double its share in<br>least developed<br>countries<br>",
          "9.3 Increase the<br>access of small-<br>scale industrial and<br>other enterprises,<br>in particular in<br>developing<br>countries, to<br>financial services,<br>including affordable<br>credit, and their<br>integration into<br>value chains and<br>markets<br>",
          "9.3 Increase the<br>access of small-<br>scale industrial and<br>other enterprises,<br>in particular in<br>developing<br>countries, to<br>financial services,<br>including affordable<br>credit, and their<br>integration into<br>value chains and<br>markets<br>",
          "9.4 By 2030, upgrade<br>infrastructure and<br>retrofit industries<br>to make them<br>sustainable, with<br>increased resource-<br>use efficiency and<br>greater adoption of<br>clean and<br>environmentally<br>sound technologies<br>and industrial<br>processes, with all<br>countries taking<br>action in accordance<br>with their<br>respective<br>capabilities<br>",
          "9.5 Enhance<br>scientific research,<br>upgrade the<br>technological<br>capabilities of<br>industrial sectors<br>in all countries, in<br>particular<br>developing<br>countries,<br>including, by 2030,<br>encouraging<br>innovation and<br>substantially<br>increasing the<br>number of research<br>and development<br>workers per<br>1 million people and<br>public and private<br>research and<br>development spending<br>",
          "9.5 Enhance<br>scientific research,<br>upgrade the<br>technological<br>capabilities of<br>industrial sectors<br>in all countries, in<br>particular<br>developing<br>countries,<br>including, by 2030,<br>encouraging<br>innovation and<br>substantially<br>increasing the<br>number of research<br>and development<br>workers per<br>1 million people and<br>public and private<br>research and<br>development spending<br>",
          "9.a Facilitate<br>sustainable and<br>resilient<br>infrastructure<br>development in<br>developing countries<br>through enhanced<br>financial,<br>technological and<br>technical support to<br>African countries,<br>least developed<br>countries,<br>landlocked<br>developing countries<br>and small island<br>developing States<br>",
          "9.b Support domestic<br>technology<br>development,<br>research and<br>innovation in<br>developing<br>countries, including<br>by ensuring a<br>conducive policy<br>environment for,<br>inter alia,<br>industrial<br>diversification and<br>value addition to<br>commodities<br>",
          "9.c Significantly<br>increase access to<br>information and<br>communications<br>technology and<br>strive to provide<br>universal and<br>affordable access to<br>the Internet in<br>least developed<br>countries by 2020<br>",
          "10.1 By 2030,<br>progressively<br>achieve and sustain<br>income growth of the<br>bottom 40 per cent<br>of the population at<br>a rate higher than<br>the national average<br>",
          "10.2 By 2030,<br>empower and promote<br>the social, economic<br>and political<br>inclusion of all,<br>irrespective of age,<br>sex, disability,<br>race, ethnicity,<br>origin, religion or<br>economic or other<br>status<br>",
          "10.3 Ensure equal<br>opportunity and<br>reduce inequalities<br>of outcome,<br>including by<br>eliminating<br>discriminatory laws,<br>policies and<br>practices and<br>promoting<br>appropriate<br>legislation,<br>policies and action<br>in this regard<br>",
          "10.4 Adopt policies,<br>especially fiscal,<br>wage and social<br>protection policies,<br>and progressively<br>achieve greater<br>equality<br>",
          "10.4 Adopt policies,<br>especially fiscal,<br>wage and social<br>protection policies,<br>and progressively<br>achieve greater<br>equality<br>",
          "10.5 Improve the<br>regulation and<br>monitoring of global<br>financial markets<br>and institutions and<br>strengthen the<br>implementation of<br>such regulations<br>",
          "10.6 Ensure enhanced<br>representation and<br>voice for developing<br>countries in<br>decision-making in<br>global international<br>economic and<br>financial<br>institutions in<br>order to deliver<br>more effective,<br>credible,<br>accountable and<br>legitimate<br>institutions<br>",
          "10.7 Facilitate<br>orderly, safe,<br>regular and<br>responsible<br>migration and<br>mobility of people,<br>including through<br>the implementation<br>of planned and well-<br>managed migration<br>policies<br>",
          "10.7 Facilitate<br>orderly, safe,<br>regular and<br>responsible<br>migration and<br>mobility of people,<br>including through<br>the implementation<br>of planned and well-<br>managed migration<br>policies<br>",
          "10.7 Facilitate<br>orderly, safe,<br>regular and<br>responsible<br>migration and<br>mobility of people,<br>including through<br>the implementation<br>of planned and well-<br>managed migration<br>policies<br>",
          "10.7 Facilitate<br>orderly, safe,<br>regular and<br>responsible<br>migration and<br>mobility of people,<br>including through<br>the implementation<br>of planned and well-<br>managed migration<br>policies<br>",
          "10.a Implement the<br>principle of special<br>and differential<br>treatment for<br>developing<br>countries, in<br>particular least<br>developed countries,<br>in accordance with<br>World Trade<br>Organization<br>agreements<br>",
          "10.b Encourage<br>official development<br>assistance and<br>financial flows,<br>including foreign<br>direct investment,<br>to States where the<br>need is greatest, in<br>particular least<br>developed countries,<br>African countries,<br>small island<br>developing States<br>and landlocked<br>developing<br>countries, in<br>accordance with<br>their national plans<br>and programmes<br>",
          "10.c By 2030, reduce<br>to less than<br>3 per cent the<br>transaction costs of<br>migrant remittances<br>and eliminate<br>remittance corridors<br>with costs higher<br>than 5 per cent<br>",
          "11.1 By 2030, ensure<br>access for all to<br>adequate, safe and<br>affordable housing<br>and basic services<br>and upgrade slums<br>",
          "11.2 By 2030,<br>provide access to<br>safe, affordable,<br>accessible and<br>sustainable<br>transport systems<br>for all, improving<br>road safety, notably<br>by expanding public<br>transport, with<br>special attention to<br>the needs of those<br>in vulnerable<br>situations, women,<br>children, persons<br>with disabilities<br>and older persons<br>",
          "11.3 By 2030,<br>enhance inclusive<br>and sustainable<br>urbanization and<br>capacity for<br>participatory,<br>integrated and<br>sustainable human<br>settlement planning<br>and management in<br>all countries<br>",
          "11.3 By 2030,<br>enhance inclusive<br>and sustainable<br>urbanization and<br>capacity for<br>participatory,<br>integrated and<br>sustainable human<br>settlement planning<br>and management in<br>all countries<br>",
          "11.4 Strengthen<br>efforts to protect<br>and safeguard the<br>world’s cultural and<br>natural heritage<br>",
          "11.5 By 2030,<br>significantly reduce<br>the number of deaths<br>and the number of<br>people affected and<br>substantially<br>decrease the direct<br>economic losses<br>relative to global<br>gross domestic<br>product caused by<br>disasters, including<br>water-related<br>disasters, with a<br>focus on protecting<br>the poor and people<br>in vulnerable<br>situations<br>",
          "11.5 By 2030,<br>significantly reduce<br>the number of deaths<br>and the number of<br>people affected and<br>substantially<br>decrease the direct<br>economic losses<br>relative to global<br>gross domestic<br>product caused by<br>disasters, including<br>water-related<br>disasters, with a<br>focus on protecting<br>the poor and people<br>in vulnerable<br>situations<br>",
          "11.6 By 2030, reduce<br>the adverse per<br>capita environmental<br>impact of cities,<br>including by paying<br>special attention to<br>air quality and<br>municipal and other<br>waste management<br>",
          "11.6 By 2030, reduce<br>the adverse per<br>capita environmental<br>impact of cities,<br>including by paying<br>special attention to<br>air quality and<br>municipal and other<br>waste management<br>",
          "11.7 By 2030,<br>provide universal<br>access to safe,<br>inclusive and<br>accessible, green<br>and public spaces,<br>in particular for<br>women and children,<br>older persons and<br>persons with<br>disabilities<br>",
          "11.7 By 2030,<br>provide universal<br>access to safe,<br>inclusive and<br>accessible, green<br>and public spaces,<br>in particular for<br>women and children,<br>older persons and<br>persons with<br>disabilities<br>",
          "11.a Support<br>positive economic,<br>social and<br>environmental links<br>between urban, peri-<br>urban and rural<br>areas by<br>strengthening<br>national and<br>regional development<br>planning<br>",
          "11.b By 2020,<br>substantially<br>increase the number<br>of cities and human<br>settlements adopting<br>and implementing<br>integrated policies<br>and plans towards<br>inclusion, resource<br>efficiency,<br>mitigation and<br>adaptation to<br>climate change,<br>resilience to<br>disasters, and<br>develop and<br>implement, in line<br>with the Sendai<br>Framework for<br>Disaster Risk<br>Reduction 2015–2030,<br>holistic disaster<br>risk management at<br>all levels<br>",
          "11.b By 2020,<br>substantially<br>increase the number<br>of cities and human<br>settlements adopting<br>and implementing<br>integrated policies<br>and plans towards<br>inclusion, resource<br>efficiency,<br>mitigation and<br>adaptation to<br>climate change,<br>resilience to<br>disasters, and<br>develop and<br>implement, in line<br>with the Sendai<br>Framework for<br>Disaster Risk<br>Reduction 2015–2030,<br>holistic disaster<br>risk management at<br>all levels<br>",
          "11.c Support least<br>developed countries,<br>including through<br>financial and<br>technical<br>assistance, in<br>building sustainable<br>and resilient<br>buildings utilizing<br>local materials<br>",
          "12.1 Implement the<br>10‑Year Framework of<br>Programmes on<br>Sustainable<br>Consumption and<br>Production Patterns,<br>all countries taking<br>action, with<br>developed countries<br>taking the lead,<br>taking into account<br>the development and<br>capabilities of<br>developing countries<br>",
          "12.2 By 2030,<br>achieve the<br>sustainable<br>management and<br>efficient use of<br>natural resources<br>",
          "12.2 By 2030,<br>achieve the<br>sustainable<br>management and<br>efficient use of<br>natural resources<br>",
          "12.3 By 2030, halve<br>per capita global<br>food waste at the<br>retail and consumer<br>levels and reduce<br>food losses along<br>production and<br>supply chains,<br>including post-<br>harvest losses<br>",
          "12.4 By 2020,<br>achieve the<br>environmentally<br>sound management of<br>chemicals and all<br>wastes throughout<br>their life cycle, in<br>accordance with<br>agreed international<br>frameworks, and<br>significantly reduce<br>their release to<br>air, water and soil<br>in order to minimize<br>their adverse<br>impacts on human<br>health and the<br>environment<br>",
          "12.4 By 2020,<br>achieve the<br>environmentally<br>sound management of<br>chemicals and all<br>wastes throughout<br>their life cycle, in<br>accordance with<br>agreed international<br>frameworks, and<br>significantly reduce<br>their release to<br>air, water and soil<br>in order to minimize<br>their adverse<br>impacts on human<br>health and the<br>environment<br>",
          "12.5 By 2030,<br>substantially reduce<br>waste generation<br>through prevention,<br>reduction, recycling<br>and reuse<br>",
          "12.6 Encourage<br>companies,<br>especially large and<br>transnational<br>companies, to adopt<br>sustainable<br>practices and to<br>integrate<br>sustainability<br>information into<br>their reporting<br>cycle<br>",
          "12.7 Promote public<br>procurement<br>practices that are<br>sustainable, in<br>accordance with<br>national policies<br>and priorities<br>",
          "12.8 By 2030, ensure<br>that people<br>everywhere have the<br>relevant information<br>and awareness for<br>sustainable<br>development and<br>lifestyles in<br>harmony with nature<br>",
          "12.a Support<br>developing countries<br>to strengthen their<br>scientific and<br>technological<br>capacity to move<br>towards more<br>sustainable patterns<br>of consumption and<br>production<br>",
          "12.b Develop and<br>implement tools to<br>monitor sustainable<br>development impacts<br>for sustainable<br>tourism that creates<br>jobs and promotes<br>local culture and<br>products<br>",
          "12.c Rationalize<br>inefficient fossil-<br>fuel subsidies that<br>encourage wasteful<br>consumption by<br>removing market<br>distortions, in<br>accordance with<br>national<br>circumstances,<br>including by<br>restructuring<br>taxation and phasing<br>out those harmful<br>subsidies, where<br>they exist, to<br>reflect their<br>environmental<br>impacts, taking<br>fully into account<br>the specific needs<br>and conditions of<br>developing countries<br>and minimizing the<br>possible adverse<br>impacts on their<br>development in a<br>manner that protects<br>the poor and the<br>affected communities<br>",
          "13.1 Strengthen<br>resilience and<br>adaptive capacity to<br>climate-related<br>hazards and natural<br>disasters in all<br>countries<br>",
          "13.1 Strengthen<br>resilience and<br>adaptive capacity to<br>climate-related<br>hazards and natural<br>disasters in all<br>countries<br>",
          "13.1 Strengthen<br>resilience and<br>adaptive capacity to<br>climate-related<br>hazards and natural<br>disasters in all<br>countries<br>",
          "13.2 Integrate<br>climate change<br>measures into<br>national policies,<br>strategies and<br>planning<br>",
          "13.2 Integrate<br>climate change<br>measures into<br>national policies,<br>strategies and<br>planning<br>",
          "13.3 Improve<br>education,<br>awareness-raising<br>and human and<br>institutional<br>capacity on climate<br>change mitigation,<br>adaptation, impact<br>reduction and early<br>warning<br>",
          "13.a Implement the<br>commitment<br>undertaken by<br>developed-country<br>parties to the<br>United Nations<br>Framework Convention<br>on Climate Change to<br>a goal of mobilizing<br>jointly $100 billion<br>annually by 2020<br>from all sources to<br>address the needs of<br>developing countries<br>in the context of<br>meaningful<br>mitigation actions<br>and transparency on<br>implementation and<br>fully operationalize<br>the Green Climate<br>Fund through its<br>capitalization as<br>soon as possible<br>",
          "13.b Promote<br>mechanisms for<br>raising capacity for<br>effective climate<br>change-related<br>planning and<br>management in least<br>developed countries<br>and small island<br>developing States,<br>including focusing<br>on women, youth and<br>local and<br>marginalized<br>communities<br>",
          "14.1 By 2025,<br>prevent and<br>significantly reduce<br>marine pollution of<br>all kinds, in<br>particular from<br>land-based<br>activities,<br>including marine<br>debris and nutrient<br>pollution<br>",
          "14.2 By 2020,<br>sustainably manage<br>and protect marine<br>and coastal<br>ecosystems to avoid<br>significant adverse<br>impacts, including<br>by strengthening<br>their resilience,<br>and take action for<br>their restoration in<br>order to achieve<br>healthy and<br>productive oceans<br>",
          "14.3 Minimize and<br>address the impacts<br>of ocean<br>acidification,<br>including through<br>enhanced scientific<br>cooperation at all<br>levels<br>",
          "14.4 By 2020,<br>effectively regulate<br>harvesting and end<br>overfishing,<br>illegal, unreported<br>and unregulated<br>fishing and<br>destructive fishing<br>practices and<br>implement science-<br>based management<br>plans, in order to<br>restore fish stocks<br>in the shortest time<br>feasible, at least<br>to levels that can<br>produce maximum<br>sustainable yield as<br>determined by their<br>biological<br>characteristics<br>",
          "14.5 By 2020,<br>conserve at least<br>10 per cent of<br>coastal and marine<br>areas, consistent<br>with national and<br>international law<br>and based on the<br>best available<br>scientific<br>information<br>",
          "14.6 By 2020,<br>prohibit certain<br>forms of fisheries<br>subsidies which<br>contribute to<br>overcapacity and<br>overfishing,<br>eliminate subsidies<br>that contribute to<br>illegal, unreported<br>and unregulated<br>fishing and refrain<br>from introducing new<br>such subsidies,<br>recognizing that<br>appropriate and<br>effective special<br>and differential<br>treatment for<br>developing and least<br>developed countries<br>should be an<br>integral part of the<br>World Trade<br>Organization<br>fisheries subsidies<br>negotiation4<br>",
          "14.7 By 2030,<br>increase the<br>economic benefits to<br>small island<br>developing States<br>and least developed<br>countries from the<br>sustainable use of<br>marine resources,<br>including through<br>sustainable<br>management of<br>fisheries,<br>aquaculture and<br>tourism<br>",
          "14.a Increase<br>scientific<br>knowledge, develop<br>research capacity<br>and transfer marine<br>technology, taking<br>into account the<br>Intergovernmental<br>Oceanographic<br>Commission Criteria<br>and Guidelines on<br>the Transfer of<br>Marine Technology,<br>in order to improve<br>ocean health and to<br>enhance the<br>contribution of<br>marine biodiversity<br>to the development<br>of developing<br>countries, in<br>particular small<br>island developing<br>States and least<br>developed countries<br>",
          "14.b Provide access<br>for small-scale<br>artisanal fishers to<br>marine resources and<br>markets<br>",
          "14.c Enhance the<br>conservation and<br>sustainable use of<br>oceans and their<br>resources by<br>implementing<br>international law as<br>reflected in the<br>United Nations<br>Convention on the<br>Law of the Sea,<br>which provides the<br>legal framework for<br>the conservation and<br>sustainable use of<br>oceans and their<br>resources, as<br>recalled in<br>paragraph 158 of<br>“The future we want”<br>",
          "15.1 By 2020, ensure<br>the conservation,<br>restoration and<br>sustainable use of<br>terrestrial and<br>inland freshwater<br>ecosystems and their<br>services, in<br>particular forests,<br>wetlands, mountains<br>and drylands, in<br>line with<br>obligations under<br>international<br>agreements<br>",
          "15.1 By 2020, ensure<br>the conservation,<br>restoration and<br>sustainable use of<br>terrestrial and<br>inland freshwater<br>ecosystems and their<br>services, in<br>particular forests,<br>wetlands, mountains<br>and drylands, in<br>line with<br>obligations under<br>international<br>agreements<br>",
          "15.2 By 2020,<br>promote the<br>implementation of<br>sustainable<br>management of all<br>types of forests,<br>halt deforestation,<br>restore degraded<br>forests and<br>substantially<br>increase<br>afforestation and<br>reforestation<br>globally<br>",
          "15.3 By 2030, combat<br>desertification,<br>restore degraded<br>land and soil,<br>including land<br>affected by<br>desertification,<br>drought and floods,<br>and strive to<br>achieve a land<br>degradation-neutral<br>world<br>",
          "15.4 By 2030, ensure<br>the conservation of<br>mountain ecosystems,<br>including their<br>biodiversity, in<br>order to enhance<br>their capacity to<br>provide benefits<br>that are essential<br>for sustainable<br>development<br>",
          "15.4 By 2030, ensure<br>the conservation of<br>mountain ecosystems,<br>including their<br>biodiversity, in<br>order to enhance<br>their capacity to<br>provide benefits<br>that are essential<br>for sustainable<br>development<br>",
          "15.5 Take urgent and<br>significant action<br>to reduce the<br>degradation of<br>natural habitats,<br>halt the loss of<br>biodiversity and, by<br>2020, protect and<br>prevent the<br>extinction of<br>threatened species<br>",
          "15.6 Promote fair<br>and equitable<br>sharing of the<br>benefits arising<br>from the utilization<br>of genetic resources<br>and promote<br>appropriate access<br>to such resources,<br>as internationally<br>agreed<br>",
          "15.7 Take urgent<br>action to end<br>poaching and<br>trafficking of<br>protected species of<br>flora and fauna and<br>address both demand<br>and supply of<br>illegal wildlife<br>products<br>",
          "15.8 By 2020,<br>introduce measures<br>to prevent the<br>introduction and<br>significantly reduce<br>the impact of<br>invasive alien<br>species on land and<br>water ecosystems and<br>control or eradicate<br>the priority species<br>",
          "15.9 By 2020,<br>integrate ecosystem<br>and biodiversity<br>values into national<br>and local planning,<br>development<br>processes, poverty<br>reduction strategies<br>and accounts<br>",
          "15.a Mobilize and<br>significantly<br>increase financial<br>resources from all<br>sources to conserve<br>and sustainably use<br>biodiversity and<br>ecosystems<br>",
          "15.b Mobilize<br>significant<br>resources from all<br>sources and at all<br>levels to finance<br>sustainable forest<br>management and<br>provide adequate<br>incentives to<br>developing countries<br>to advance such<br>management,<br>including for<br>conservation and<br>reforestation<br>",
          "15.c Enhance global<br>support for efforts<br>to combat poaching<br>and trafficking of<br>protected species,<br>including by<br>increasing the<br>capacity of local<br>communities to<br>pursue sustainable<br>livelihood<br>opportunities<br>",
          "16.1 Significantly<br>reduce all forms of<br>violence and related<br>death rates<br>everywhere<br>",
          "16.1 Significantly<br>reduce all forms of<br>violence and related<br>death rates<br>everywhere<br>",
          "16.1 Significantly<br>reduce all forms of<br>violence and related<br>death rates<br>everywhere<br>",
          "16.1 Significantly<br>reduce all forms of<br>violence and related<br>death rates<br>everywhere<br>",
          "16.2 End abuse,<br>exploitation,<br>trafficking and all<br>forms of violence<br>against and torture<br>of children<br>",
          "16.2 End abuse,<br>exploitation,<br>trafficking and all<br>forms of violence<br>against and torture<br>of children<br>",
          "16.2 End abuse,<br>exploitation,<br>trafficking and all<br>forms of violence<br>against and torture<br>of children<br>",
          "16.3 Promote the<br>rule of law at the<br>national and<br>international levels<br>and ensure equal<br>access to justice<br>for all<br>",
          "16.3 Promote the<br>rule of law at the<br>national and<br>international levels<br>and ensure equal<br>access to justice<br>for all<br>",
          "16.3 Promote the<br>rule of law at the<br>national and<br>international levels<br>and ensure equal<br>access to justice<br>for all<br>",
          "16.4 By 2030,<br>significantly reduce<br>illicit financial<br>and arms flows,<br>strengthen the<br>recovery and return<br>of stolen assets and<br>combat all forms of<br>organized crime<br>",
          "16.4 By 2030,<br>significantly reduce<br>illicit financial<br>and arms flows,<br>strengthen the<br>recovery and return<br>of stolen assets and<br>combat all forms of<br>organized crime<br>",
          "16.5 Substantially<br>reduce corruption<br>and bribery in all<br>their forms<br>",
          "16.5 Substantially<br>reduce corruption<br>and bribery in all<br>their forms<br>",
          "16.6 Develop<br>effective,<br>accountable and<br>transparent<br>institutions at all<br>levels<br>",
          "16.6 Develop<br>effective,<br>accountable and<br>transparent<br>institutions at all<br>levels<br>",
          "16.7 Ensure<br>responsive,<br>inclusive,<br>participatory and<br>representative<br>decision-making at<br>all levels<br>",
          "16.7 Ensure<br>responsive,<br>inclusive,<br>participatory and<br>representative<br>decision-making at<br>all levels<br>",
          "16.8 Broaden and<br>strengthen the<br>participation of<br>developing countries<br>in the institutions<br>of global governance<br>",
          "16.9 By 2030,<br>provide legal<br>identity for all,<br>including birth<br>registration<br>",
          "16.10 Ensure public<br>access to<br>information and<br>protect fundamental<br>freedoms, in<br>accordance with<br>national legislation<br>and international<br>agreements<br>",
          "16.10 Ensure public<br>access to<br>information and<br>protect fundamental<br>freedoms, in<br>accordance with<br>national legislation<br>and international<br>agreements<br>",
          "16.a Strengthen<br>relevant national<br>institutions,<br>including through<br>international<br>cooperation, for<br>building capacity at<br>all levels, in<br>particular in<br>developing<br>countries, to<br>prevent violence and<br>combat terrorism and<br>crime<br>",
          "16.b Promote and<br>enforce non-<br>discriminatory laws<br>and policies for<br>sustainable<br>development<br>",
          "17.1 Strengthen<br>domestic resource<br>mobilization,<br>including through<br>international<br>support to<br>developing<br>countries, to<br>improve domestic<br>capacity for tax and<br>other revenue<br>collection<br>",
          "17.1 Strengthen<br>domestic resource<br>mobilization,<br>including through<br>international<br>support to<br>developing<br>countries, to<br>improve domestic<br>capacity for tax and<br>other revenue<br>collection<br>",
          "17.2 Developed<br>countries to<br>implement fully<br>their official<br>development<br>assistance<br>commitments,<br>including the<br>commitment by many<br>developed countries<br>to achieve the<br>target of<br>0.7 per cent of<br>gross national<br>income for official<br>development<br>assistance (ODA/GNI)<br>to developing<br>countries and 0.15<br>to 0.20 per cent of<br>ODA/GNI to least<br>developed countries;<br>ODA providers are<br>encouraged to<br>consider setting a<br>target to provide at<br>least 0.20 per cent<br>of ODA/GNI to least<br>developed countries<br>",
          "17.3 Mobilize<br>additional financial<br>resources for<br>developing countries<br>from multiple<br>sources<br>",
          "17.3 Mobilize<br>additional financial<br>resources for<br>developing countries<br>from multiple<br>sources<br>",
          "17.4 Assist<br>developing countries<br>in attaining long-<br>term debt<br>sustainability<br>through coordinated<br>policies aimed at<br>fostering debt<br>financing, debt<br>relief and debt<br>restructuring, as<br>appropriate, and<br>address the external<br>debt of highly<br>indebted poor<br>countries to reduce<br>debt distress<br>",
          "17.5 Adopt and<br>implement investment<br>promotion regimes<br>for least developed<br>countries<br>",
          "17.6 Enhance North-<br>South, South-South<br>and triangular<br>regional and<br>international<br>cooperation on and<br>access to science,<br>technology and<br>innovation and<br>enhance knowledge-<br>sharing on mutually<br>agreed terms,<br>including through<br>improved<br>coordination among<br>existing mechanisms,<br>in particular at the<br>United Nations<br>level, and through a<br>global technology<br>facilitation<br>mechanism<br>",
          "17.7 Promote the<br>development,<br>transfer,<br>dissemination and<br>diffusion of<br>environmentally<br>sound technologies<br>to developing<br>countries on<br>favourable terms,<br>including on<br>concessional and<br>preferential terms,<br>as mutually agreed<br>",
          "17.8 Fully<br>operationalize the<br>technology bank and<br>science, technology<br>and innovation<br>capacity-building<br>mechanism for least<br>developed countries<br>by 2017 and enhance<br>the use of enabling<br>technology, in<br>particular<br>information and<br>communications<br>technology<br>",
          "17.9 Enhance<br>international<br>support for<br>implementing<br>effective and<br>targeted capacity-<br>building in<br>developing countries<br>to support national<br>plans to implement<br>all the Sustainable<br>Development Goals,<br>including through<br>North-South, South-<br>South and triangular<br>cooperation<br>",
          "17.10 Promote a<br>universal, rules-<br>based, open,<br>non‑discriminatory<br>and equitable<br>multilateral trading<br>system under the<br>World Trade<br>Organization,<br>including through<br>the conclusion of<br>negotiations under<br>its Doha Development<br>Agenda<br>",
          "17.11 Significantly<br>increase the exports<br>of developing<br>countries, in<br>particular with a<br>view to doubling the<br>least developed<br>countries’ share of<br>global exports by<br>2020<br>",
          "17.12 Realize timely<br>implementation of<br>duty-free and quota-<br>free market access<br>on a lasting basis<br>for all least<br>developed countries,<br>consistent with<br>World Trade<br>Organization<br>decisions, including<br>by ensuring that<br>preferential rules<br>of origin applicable<br>to imports from<br>least developed<br>countries are<br>transparent and<br>simple, and<br>contribute to<br>facilitating market<br>access<br>",
          "17.13 Enhance global<br>macroeconomic<br>stability, including<br>through policy<br>coordination and<br>policy coherence<br>",
          "17.14 Enhance policy<br>coherence for<br>sustainable<br>development<br>",
          "17.15 Respect each<br>country’s policy<br>space and leadership<br>to establish and<br>implement policies<br>for poverty<br>eradication and<br>sustainable<br>development<br>",
          "17.16 Enhance the<br>Global Partnership<br>for Sustainable<br>Development,<br>complemented by<br>multi-stakeholder<br>partnerships that<br>mobilize and share<br>knowledge,<br>expertise,<br>technology and<br>financial resources,<br>to support the<br>achievement of the<br>Sustainable<br>Development Goals in<br>all countries, in<br>particular<br>developing countries<br>",
          "17.17 Encourage and<br>promote effective<br>public, public-<br>private and civil<br>society<br>partnerships,<br>building on the<br>experience and<br>resourcing<br>strategies of<br>partnerships<br>",
          "17.18 By 2020,<br>enhance capacity-<br>building support to<br>developing<br>countries, including<br>for least developed<br>countries and small<br>island developing<br>States, to increase<br>significantly the<br>availability of<br>high-quality, timely<br>and reliable data<br>disaggregated by<br>income, gender, age,<br>race, ethnicity,<br>migratory status,<br>disability,<br>geographic location<br>and other<br>characteristics<br>relevant in national<br>contexts<br>",
          "17.18 By 2020,<br>enhance capacity-<br>building support to<br>developing<br>countries, including<br>for least developed<br>countries and small<br>island developing<br>States, to increase<br>significantly the<br>availability of<br>high-quality, timely<br>and reliable data<br>disaggregated by<br>income, gender, age,<br>race, ethnicity,<br>migratory status,<br>disability,<br>geographic location<br>and other<br>characteristics<br>relevant in national<br>contexts<br>",
          "17.18 By 2020,<br>enhance capacity-<br>building support to<br>developing<br>countries, including<br>for least developed<br>countries and small<br>island developing<br>States, to increase<br>significantly the<br>availability of<br>high-quality, timely<br>and reliable data<br>disaggregated by<br>income, gender, age,<br>race, ethnicity,<br>migratory status,<br>disability,<br>geographic location<br>and other<br>characteristics<br>relevant in national<br>contexts<br>",
          "17.19 By 2030, build<br>on existing<br>initiatives to<br>develop measurements<br>of progress on<br>sustainable<br>development that<br>complement gross<br>domestic product,<br>and support<br>statistical<br>capacity-building in<br>developing countries<br>",
          "17.19 By 2030, build<br>on existing<br>initiatives to<br>develop measurements<br>of progress on<br>sustainable<br>development that<br>complement gross<br>domestic product,<br>and support<br>statistical<br>capacity-building in<br>developing countries<br>"
         ],
         "type": "treemap"
        }
       ],
       "layout": {
        "height": 800,
        "margin": {
         "b": 0,
         "l": 0,
         "r": 0,
         "t": 0
        },
        "template": {
         "data": {
          "bar": [
           {
            "error_x": {
             "color": "#2a3f5f"
            },
            "error_y": {
             "color": "#2a3f5f"
            },
            "marker": {
             "line": {
              "color": "#E5ECF6",
              "width": 0.5
             },
             "pattern": {
              "fillmode": "overlay",
              "size": 10,
              "solidity": 0.2
             }
            },
            "type": "bar"
           }
          ],
          "barpolar": [
           {
            "marker": {
             "line": {
              "color": "#E5ECF6",
              "width": 0.5
             },
             "pattern": {
              "fillmode": "overlay",
              "size": 10,
              "solidity": 0.2
             }
            },
            "type": "barpolar"
           }
          ],
          "carpet": [
           {
            "aaxis": {
             "endlinecolor": "#2a3f5f",
             "gridcolor": "white",
             "linecolor": "white",
             "minorgridcolor": "white",
             "startlinecolor": "#2a3f5f"
            },
            "baxis": {
             "endlinecolor": "#2a3f5f",
             "gridcolor": "white",
             "linecolor": "white",
             "minorgridcolor": "white",
             "startlinecolor": "#2a3f5f"
            },
            "type": "carpet"
           }
          ],
          "choropleth": [
           {
            "colorbar": {
             "outlinewidth": 0,
             "ticks": ""
            },
            "type": "choropleth"
           }
          ],
          "contour": [
           {
            "colorbar": {
             "outlinewidth": 0,
             "ticks": ""
            },
            "colorscale": [
             [
              0,
              "#0d0887"
             ],
             [
              0.1111111111111111,
              "#46039f"
             ],
             [
              0.2222222222222222,
              "#7201a8"
             ],
             [
              0.3333333333333333,
              "#9c179e"
             ],
             [
              0.4444444444444444,
              "#bd3786"
             ],
             [
              0.5555555555555556,
              "#d8576b"
             ],
             [
              0.6666666666666666,
              "#ed7953"
             ],
             [
              0.7777777777777778,
              "#fb9f3a"
             ],
             [
              0.8888888888888888,
              "#fdca26"
             ],
             [
              1,
              "#f0f921"
             ]
            ],
            "type": "contour"
           }
          ],
          "contourcarpet": [
           {
            "colorbar": {
             "outlinewidth": 0,
             "ticks": ""
            },
            "type": "contourcarpet"
           }
          ],
          "heatmap": [
           {
            "colorbar": {
             "outlinewidth": 0,
             "ticks": ""
            },
            "colorscale": [
             [
              0,
              "#0d0887"
             ],
             [
              0.1111111111111111,
              "#46039f"
             ],
             [
              0.2222222222222222,
              "#7201a8"
             ],
             [
              0.3333333333333333,
              "#9c179e"
             ],
             [
              0.4444444444444444,
              "#bd3786"
             ],
             [
              0.5555555555555556,
              "#d8576b"
             ],
             [
              0.6666666666666666,
              "#ed7953"
             ],
             [
              0.7777777777777778,
              "#fb9f3a"
             ],
             [
              0.8888888888888888,
              "#fdca26"
             ],
             [
              1,
              "#f0f921"
             ]
            ],
            "type": "heatmap"
           }
          ],
          "heatmapgl": [
           {
            "colorbar": {
             "outlinewidth": 0,
             "ticks": ""
            },
            "colorscale": [
             [
              0,
              "#0d0887"
             ],
             [
              0.1111111111111111,
              "#46039f"
             ],
             [
              0.2222222222222222,
              "#7201a8"
             ],
             [
              0.3333333333333333,
              "#9c179e"
             ],
             [
              0.4444444444444444,
              "#bd3786"
             ],
             [
              0.5555555555555556,
              "#d8576b"
             ],
             [
              0.6666666666666666,
              "#ed7953"
             ],
             [
              0.7777777777777778,
              "#fb9f3a"
             ],
             [
              0.8888888888888888,
              "#fdca26"
             ],
             [
              1,
              "#f0f921"
             ]
            ],
            "type": "heatmapgl"
           }
          ],
          "histogram": [
           {
            "marker": {
             "pattern": {
              "fillmode": "overlay",
              "size": 10,
              "solidity": 0.2
             }
            },
            "type": "histogram"
           }
          ],
          "histogram2d": [
           {
            "colorbar": {
             "outlinewidth": 0,
             "ticks": ""
            },
            "colorscale": [
             [
              0,
              "#0d0887"
             ],
             [
              0.1111111111111111,
              "#46039f"
             ],
             [
              0.2222222222222222,
              "#7201a8"
             ],
             [
              0.3333333333333333,
              "#9c179e"
             ],
             [
              0.4444444444444444,
              "#bd3786"
             ],
             [
              0.5555555555555556,
              "#d8576b"
             ],
             [
              0.6666666666666666,
              "#ed7953"
             ],
             [
              0.7777777777777778,
              "#fb9f3a"
             ],
             [
              0.8888888888888888,
              "#fdca26"
             ],
             [
              1,
              "#f0f921"
             ]
            ],
            "type": "histogram2d"
           }
          ],
          "histogram2dcontour": [
           {
            "colorbar": {
             "outlinewidth": 0,
             "ticks": ""
            },
            "colorscale": [
             [
              0,
              "#0d0887"
             ],
             [
              0.1111111111111111,
              "#46039f"
             ],
             [
              0.2222222222222222,
              "#7201a8"
             ],
             [
              0.3333333333333333,
              "#9c179e"
             ],
             [
              0.4444444444444444,
              "#bd3786"
             ],
             [
              0.5555555555555556,
              "#d8576b"
             ],
             [
              0.6666666666666666,
              "#ed7953"
             ],
             [
              0.7777777777777778,
              "#fb9f3a"
             ],
             [
              0.8888888888888888,
              "#fdca26"
             ],
             [
              1,
              "#f0f921"
             ]
            ],
            "type": "histogram2dcontour"
           }
          ],
          "mesh3d": [
           {
            "colorbar": {
             "outlinewidth": 0,
             "ticks": ""
            },
            "type": "mesh3d"
           }
          ],
          "parcoords": [
           {
            "line": {
             "colorbar": {
              "outlinewidth": 0,
              "ticks": ""
             }
            },
            "type": "parcoords"
           }
          ],
          "pie": [
           {
            "automargin": true,
            "type": "pie"
           }
          ],
          "scatter": [
           {
            "marker": {
             "colorbar": {
              "outlinewidth": 0,
              "ticks": ""
             }
            },
            "type": "scatter"
           }
          ],
          "scatter3d": [
           {
            "line": {
             "colorbar": {
              "outlinewidth": 0,
              "ticks": ""
             }
            },
            "marker": {
             "colorbar": {
              "outlinewidth": 0,
              "ticks": ""
             }
            },
            "type": "scatter3d"
           }
          ],
          "scattercarpet": [
           {
            "marker": {
             "colorbar": {
              "outlinewidth": 0,
              "ticks": ""
             }
            },
            "type": "scattercarpet"
           }
          ],
          "scattergeo": [
           {
            "marker": {
             "colorbar": {
              "outlinewidth": 0,
              "ticks": ""
             }
            },
            "type": "scattergeo"
           }
          ],
          "scattergl": [
           {
            "marker": {
             "colorbar": {
              "outlinewidth": 0,
              "ticks": ""
             }
            },
            "type": "scattergl"
           }
          ],
          "scattermapbox": [
           {
            "marker": {
             "colorbar": {
              "outlinewidth": 0,
              "ticks": ""
             }
            },
            "type": "scattermapbox"
           }
          ],
          "scatterpolar": [
           {
            "marker": {
             "colorbar": {
              "outlinewidth": 0,
              "ticks": ""
             }
            },
            "type": "scatterpolar"
           }
          ],
          "scatterpolargl": [
           {
            "marker": {
             "colorbar": {
              "outlinewidth": 0,
              "ticks": ""
             }
            },
            "type": "scatterpolargl"
           }
          ],
          "scatterternary": [
           {
            "marker": {
             "colorbar": {
              "outlinewidth": 0,
              "ticks": ""
             }
            },
            "type": "scatterternary"
           }
          ],
          "surface": [
           {
            "colorbar": {
             "outlinewidth": 0,
             "ticks": ""
            },
            "colorscale": [
             [
              0,
              "#0d0887"
             ],
             [
              0.1111111111111111,
              "#46039f"
             ],
             [
              0.2222222222222222,
              "#7201a8"
             ],
             [
              0.3333333333333333,
              "#9c179e"
             ],
             [
              0.4444444444444444,
              "#bd3786"
             ],
             [
              0.5555555555555556,
              "#d8576b"
             ],
             [
              0.6666666666666666,
              "#ed7953"
             ],
             [
              0.7777777777777778,
              "#fb9f3a"
             ],
             [
              0.8888888888888888,
              "#fdca26"
             ],
             [
              1,
              "#f0f921"
             ]
            ],
            "type": "surface"
           }
          ],
          "table": [
           {
            "cells": {
             "fill": {
              "color": "#EBF0F8"
             },
             "line": {
              "color": "white"
             }
            },
            "header": {
             "fill": {
              "color": "#C8D4E3"
             },
             "line": {
              "color": "white"
             }
            },
            "type": "table"
           }
          ]
         },
         "layout": {
          "annotationdefaults": {
           "arrowcolor": "#2a3f5f",
           "arrowhead": 0,
           "arrowwidth": 1
          },
          "autotypenumbers": "strict",
          "coloraxis": {
           "colorbar": {
            "outlinewidth": 0,
            "ticks": ""
           }
          },
          "colorscale": {
           "diverging": [
            [
             0,
             "#8e0152"
            ],
            [
             0.1,
             "#c51b7d"
            ],
            [
             0.2,
             "#de77ae"
            ],
            [
             0.3,
             "#f1b6da"
            ],
            [
             0.4,
             "#fde0ef"
            ],
            [
             0.5,
             "#f7f7f7"
            ],
            [
             0.6,
             "#e6f5d0"
            ],
            [
             0.7,
             "#b8e186"
            ],
            [
             0.8,
             "#7fbc41"
            ],
            [
             0.9,
             "#4d9221"
            ],
            [
             1,
             "#276419"
            ]
           ],
           "sequential": [
            [
             0,
             "#0d0887"
            ],
            [
             0.1111111111111111,
             "#46039f"
            ],
            [
             0.2222222222222222,
             "#7201a8"
            ],
            [
             0.3333333333333333,
             "#9c179e"
            ],
            [
             0.4444444444444444,
             "#bd3786"
            ],
            [
             0.5555555555555556,
             "#d8576b"
            ],
            [
             0.6666666666666666,
             "#ed7953"
            ],
            [
             0.7777777777777778,
             "#fb9f3a"
            ],
            [
             0.8888888888888888,
             "#fdca26"
            ],
            [
             1,
             "#f0f921"
            ]
           ],
           "sequentialminus": [
            [
             0,
             "#0d0887"
            ],
            [
             0.1111111111111111,
             "#46039f"
            ],
            [
             0.2222222222222222,
             "#7201a8"
            ],
            [
             0.3333333333333333,
             "#9c179e"
            ],
            [
             0.4444444444444444,
             "#bd3786"
            ],
            [
             0.5555555555555556,
             "#d8576b"
            ],
            [
             0.6666666666666666,
             "#ed7953"
            ],
            [
             0.7777777777777778,
             "#fb9f3a"
            ],
            [
             0.8888888888888888,
             "#fdca26"
            ],
            [
             1,
             "#f0f921"
            ]
           ]
          },
          "colorway": [
           "#636efa",
           "#EF553B",
           "#00cc96",
           "#ab63fa",
           "#FFA15A",
           "#19d3f3",
           "#FF6692",
           "#B6E880",
           "#FF97FF",
           "#FECB52"
          ],
          "font": {
           "color": "#2a3f5f"
          },
          "geo": {
           "bgcolor": "white",
           "lakecolor": "white",
           "landcolor": "#E5ECF6",
           "showlakes": true,
           "showland": true,
           "subunitcolor": "white"
          },
          "hoverlabel": {
           "align": "left"
          },
          "hovermode": "closest",
          "mapbox": {
           "style": "light"
          },
          "paper_bgcolor": "white",
          "plot_bgcolor": "#E5ECF6",
          "polar": {
           "angularaxis": {
            "gridcolor": "white",
            "linecolor": "white",
            "ticks": ""
           },
           "bgcolor": "#E5ECF6",
           "radialaxis": {
            "gridcolor": "white",
            "linecolor": "white",
            "ticks": ""
           }
          },
          "scene": {
           "xaxis": {
            "backgroundcolor": "#E5ECF6",
            "gridcolor": "white",
            "gridwidth": 2,
            "linecolor": "white",
            "showbackground": true,
            "ticks": "",
            "zerolinecolor": "white"
           },
           "yaxis": {
            "backgroundcolor": "#E5ECF6",
            "gridcolor": "white",
            "gridwidth": 2,
            "linecolor": "white",
            "showbackground": true,
            "ticks": "",
            "zerolinecolor": "white"
           },
           "zaxis": {
            "backgroundcolor": "#E5ECF6",
            "gridcolor": "white",
            "gridwidth": 2,
            "linecolor": "white",
            "showbackground": true,
            "ticks": "",
            "zerolinecolor": "white"
           }
          },
          "shapedefaults": {
           "line": {
            "color": "#2a3f5f"
           }
          },
          "ternary": {
           "aaxis": {
            "gridcolor": "white",
            "linecolor": "white",
            "ticks": ""
           },
           "baxis": {
            "gridcolor": "white",
            "linecolor": "white",
            "ticks": ""
           },
           "bgcolor": "#E5ECF6",
           "caxis": {
            "gridcolor": "white",
            "linecolor": "white",
            "ticks": ""
           }
          },
          "title": {
           "x": 0.05
          },
          "xaxis": {
           "automargin": true,
           "gridcolor": "white",
           "linecolor": "white",
           "ticks": "",
           "title": {
            "standoff": 15
           },
           "zerolinecolor": "white",
           "zerolinewidth": 2
          },
          "yaxis": {
           "automargin": true,
           "gridcolor": "white",
           "linecolor": "white",
           "ticks": "",
           "title": {
            "standoff": 15
           },
           "zerolinecolor": "white",
           "zerolinewidth": 2
          }
         }
        },
        "uniformtext": {
         "minsize": 12
        },
        "width": 1200
       }
      },
      "text/html": [
       "<div>                            <div id=\"3001da5b-76ed-42a7-8458-1a8c40c19c3d\" class=\"plotly-graph-div\" style=\"height:800px; width:1200px;\"></div>            <script type=\"text/javascript\">                require([\"plotly\"], function(Plotly) {                    window.PLOTLYENV=window.PLOTLYENV || {};                                    if (document.getElementById(\"3001da5b-76ed-42a7-8458-1a8c40c19c3d\")) {                    Plotly.newPlot(                        \"3001da5b-76ed-42a7-8458-1a8c40c19c3d\",                        [{\"hoverinfo\":\"text\",\"labels\":[\"SDGs<br>\",\"Goal 1. End poverty<br>in all its forms<br>everywhere<br>\",\"Goal 2. End hunger,<br>achieve food<br>security and<br>improved nutrition<br>and promote<br>sustainable<br>agriculture<br>\",\"Goal 3. Ensure<br>healthy lives and<br>promote well-being<br>for all at all ages<br>\",\"Goal 4. Ensure<br>inclusive and<br>equitable quality<br>education and<br>promote lifelong<br>learning<br>opportunities for<br>all<br>\",\"Goal 5. Achieve<br>gender equality and<br>empower all women<br>and girls<br>\",\"Goal 6. Ensure<br>availability and<br>sustainable<br>management of water<br>and sanitation for<br>all<br>\",\"Goal 7. Ensure<br>access to<br>affordable,<br>reliable,<br>sustainable and<br>modern energy for<br>all<br>\",\"Goal 8. Promote<br>sustained, inclusive<br>and sustainable<br>economic growth,<br>full and productive<br>employment and<br>decent work for all<br>\",\"Goal 9. Build<br>resilient<br>infrastructure,<br>promote inclusive<br>and sustainable<br>industrialization<br>and foster<br>innovation<br>\",\"Goal 10. Reduce<br>inequality within<br>and among countries<br>\",\"Goal 11. Make cities<br>and human<br>settlements<br>inclusive, safe,<br>resilient and<br>sustainable<br>\",\"Goal 12. Ensure<br>sustainable<br>consumption and<br>production patterns<br>\",\"Goal 13. Take urgent<br>action to combat<br>climate change and<br>its impacts<br>\",\"Goal 14. Conserve<br>and sustainably use<br>the oceans, seas and<br>marine resources for<br>sustainable<br>development<br>\",\"Goal 15. Protect,<br>restore and promote<br>sustainable use of<br>terrestrial<br>ecosystems,<br>sustainably manage<br>forests, combat\\u00a0dese<br>rtification, and<br>halt and reverse<br>land degradation and<br>halt biodiversity<br>loss<br>\",\"Goal 16. Promote<br>peaceful and<br>inclusive societies<br>for sustainable<br>development, provide<br>access to justice<br>for all and\\u00a0build<br>effective,<br>accountable and<br>inclusive<br>institutions at all<br>levels<br>\",\"Goal 17  Strengthen<br>the means of<br>implementation and<br>revitalize the<br>Global Partnership<br>for Sustainable\\u00a0Deve<br>lopment<br>\",\"1.1 By 2030,<br>eradicate extreme<br>poverty for all<br>people everywhere,<br>currently measured<br>as people living on<br>less than $1.25 a<br>day<br>\",\"1.2 By 2030, reduce<br>at least by half the<br>proportion of men,<br>women and children<br>of all ages living<br>in poverty in all<br>its dimensions<br>according to<br>national definitions<br>\",\"1.3 Implement<br>nationally<br>appropriate social<br>protection systems<br>and measures for<br>all, including<br>floors, and by 2030<br>achieve substantial<br>coverage of the poor<br>and the vulnerable<br>\",\"1.4 By 2030, ensure<br>that all men and<br>women, in particular<br>the poor and the<br>vulnerable, have<br>equal rights to<br>economic resources,<br>as well as access to<br>basic services,<br>ownership and<br>control over land<br>and other forms of<br>property,<br>inheritance, natural<br>resources,<br>appropriate new<br>technology and<br>financial services,<br>including<br>microfinance<br>\",\"1.5 By 2030, build<br>the resilience of<br>the poor and those<br>in vulnerable<br>situations and<br>reduce their<br>exposure and<br>vulnerability to<br>climate-related<br>extreme events and<br>other economic,<br>social and<br>environmental shocks<br>and disasters<br>\",\"1.a Ensure<br>significant<br>mobilization of<br>resources from a<br>variety of sources,<br>including through<br>enhanced development<br>cooperation, in<br>order to provide<br>adequate and<br>predictable means<br>for developing<br>countries, in<br>particular least<br>developed countries,<br>to implement<br>programmes and<br>policies to end<br>poverty in all its<br>dimensions<br>\",\"1.b Create sound<br>policy frameworks at<br>the national,<br>regional and<br>international<br>levels, based on<br>pro-poor and gender-<br>sensitive<br>development<br>strategies, to<br>support accelerated<br>investment in<br>poverty eradication<br>actions<br>\",\"2.1 By 2030, end<br>hunger and ensure<br>access by all<br>people, in<br>particular the poor<br>and people in<br>vulnerable<br>situations,<br>including infants,<br>to safe, nutritious<br>and sufficient food<br>all year round<br>\",\"2.2 By 2030, end all<br>forms of<br>malnutrition,<br>including achieving,<br>by 2025, the<br>internationally<br>agreed targets on<br>stunting and wasting<br>in children under<br>5\\u00a0years of age, and<br>address the<br>nutritional needs of<br>adolescent girls,<br>pregnant and<br>lactating women and<br>older persons<br>\",\"2.3 By 2030, double<br>the agricultural<br>productivity and<br>incomes of small-<br>scale food<br>producers, in<br>particular women,<br>indigenous peoples,<br>family farmers,<br>pastoralists and<br>fishers, including<br>through secure and<br>equal access to<br>land, other<br>productive resources<br>and inputs,<br>knowledge, financial<br>services, markets<br>and opportunities<br>for value addition<br>and non-farm<br>employment<br>\",\"2.4 By 2030, ensure<br>sustainable food<br>production systems<br>and implement<br>resilient<br>agricultural<br>practices that<br>increase<br>productivity and<br>production, that<br>help maintain<br>ecosystems, that<br>strengthen capacity<br>for adaptation to<br>climate change,<br>extreme weather,<br>drought, flooding<br>and other disasters<br>and that<br>progressively<br>improve land and<br>soil quality<br>\",\"2.5 By 2020,<br>maintain the genetic<br>diversity of seeds,<br>cultivated plants<br>and farmed and<br>domesticated animals<br>and their related<br>wild species,<br>including through<br>soundly managed and<br>diversified seed and<br>plant banks at the<br>national, regional<br>and international<br>levels, and promote<br>access to and fair<br>and equitable<br>sharing of benefits<br>arising from the<br>utilization of<br>genetic resources<br>and associated<br>traditional<br>knowledge, as<br>internationally<br>agreed<br>\",\"2.a Increase<br>investment,<br>including through<br>enhanced<br>international<br>cooperation, in<br>rural<br>infrastructure,<br>agricultural<br>research and<br>extension services,<br>technology<br>development and<br>plant and livestock<br>gene banks in order<br>to enhance<br>agricultural<br>productive capacity<br>in developing<br>countries, in<br>particular least<br>developed countries<br>\",\"2.b Correct and<br>prevent trade<br>restrictions and<br>distortions in world<br>agricultural<br>markets, including<br>through the parallel<br>elimination of all<br>forms of<br>agricultural export<br>subsidies and all<br>export measures with<br>equivalent effect,<br>in accordance with<br>the mandate of the<br>Doha Development<br>Round<br>\",\"2.c Adopt measures<br>to ensure the proper<br>functioning of food<br>commodity markets<br>and their<br>derivatives and<br>facilitate timely<br>access to market<br>information,<br>including on food<br>reserves, in order<br>to help limit<br>extreme food price<br>volatility<br>\",\"3.1 By 2030, reduce<br>the global maternal<br>mortality ratio to<br>less than 70 per<br>100,000 live births<br>\",\"3.2 By 2030, end<br>preventable deaths<br>of newborns and<br>children under<br>5\\u00a0years of age, with<br>all countries aiming<br>to reduce neonatal<br>mortality to at<br>least as low as 12<br>per 1,000 live<br>births and under\\u20115<br>mortality to at<br>least as low as 25<br>per 1,000 live<br>births<br>\",\"3.3 By 2030, end the<br>epidemics of AIDS,<br>tuberculosis,<br>malaria and<br>neglected tropical<br>diseases and combat<br>hepatitis, water-<br>borne diseases and<br>other communicable<br>diseases<br>\",\"3.4 By 2030, reduce<br>by one third<br>premature mortality<br>from non-<br>communicable<br>diseases through<br>prevention and<br>treatment and<br>promote mental<br>health and well-<br>being<br>\",\"3.5 Strengthen the<br>prevention and<br>treatment of<br>substance abuse,<br>including narcotic<br>drug abuse and<br>harmful use of<br>alcohol<br>\",\"3.6 By 2020, halve<br>the number of global<br>deaths and injuries<br>from road traffic<br>accidents<br>\",\"3.7 By 2030, ensure<br>universal access to<br>sexual and<br>reproductive health-<br>care services,<br>including for family<br>planning,<br>information and<br>education, and the<br>integration of<br>reproductive health<br>into national<br>strategies and<br>programmes<br>\",\"3.8 Achieve<br>universal health<br>coverage, including<br>financial risk<br>protection, access<br>to quality essential<br>health-care services<br>and access to safe,<br>effective, quality<br>and affordable<br>essential medicines<br>and vaccines for all<br>\",\"3.9 By 2030,<br>substantially reduce<br>the number of deaths<br>and illnesses from<br>hazardous chemicals<br>and air, water and<br>soil pollution and<br>contamination<br>\",\"3.a Strengthen the<br>implementation of<br>the World Health<br>Organization<br>Framework Convention<br>on Tobacco Control<br>in all countries, as<br>appropriate<br>\",\"3.b Support the<br>research and<br>development of<br>vaccines and<br>medicines for the<br>communicable and<br>non\\u2011communicable<br>diseases that<br>primarily affect<br>developing<br>countries, provide<br>access to affordable<br>essential medicines<br>and vaccines, in<br>accordance with the<br>Doha Declaration on<br>the TRIPS Agreement<br>and Public Health,<br>which affirms the<br>right of developing<br>countries to use to<br>the full the<br>provisions in the<br>Agreement on Trade-<br>Related Aspects of<br>Intellectual<br>Property Rights<br>regarding<br>flexibilities to<br>protect public<br>health, and, in<br>particular, provide<br>access to medicines<br>for all<br>\",\"3.c Substantially<br>increase health<br>financing and the<br>recruitment,<br>development,<br>training and<br>retention of the<br>health workforce in<br>developing<br>countries,<br>especially in least<br>developed countries<br>and small island<br>developing States<br>\",\"3.d Strengthen the<br>capacity of all<br>countries, in<br>particular<br>developing<br>countries, for early<br>warning, risk<br>reduction and<br>management of<br>national and global<br>health risks<br>\",\"4.1 By 2030, ensure<br>that all girls and<br>boys complete free,<br>equitable and<br>quality primary and<br>secondary education<br>leading to relevant<br>and effective<br>learning outcomes<br>\",\"4.2 By 2030, ensure<br>that all girls and<br>boys have access to<br>quality early<br>childhood<br>development, care<br>and pre\\u2011primary<br>education so that<br>they are ready for<br>primary education<br>\",\"4.3 By 2030, ensure<br>equal access for all<br>women and men to<br>affordable and<br>quality technical,<br>vocational and<br>tertiary education,<br>including university<br>\",\"4.4 By 2030,<br>substantially<br>increase the number<br>of youth and adults<br>who have relevant<br>skills, including<br>technical and<br>vocational skills,<br>for employment,<br>decent jobs and<br>entrepreneurship<br>\",\"4.5 By 2030,<br>eliminate gender<br>disparities in<br>education and ensure<br>equal access to all<br>levels of education<br>and vocational<br>training for the<br>vulnerable,<br>including persons<br>with disabilities,<br>indigenous peoples<br>and children in<br>vulnerable<br>situations<br>\",\"4.6 By 2030, ensure<br>that all youth and a<br>substantial<br>proportion of<br>adults, both men and<br>women, achieve<br>literacy and<br>numeracy<br>\",\"4.7 By 2030, ensure<br>that all learners<br>acquire the<br>knowledge and skills<br>needed to promote<br>sustainable<br>development,<br>including, among<br>others, through<br>education for<br>sustainable<br>development and<br>sustainable<br>lifestyles, human<br>rights, gender<br>equality, promotion<br>of a culture of<br>peace and non-<br>violence, global<br>citizenship and<br>appreciation of<br>cultural diversity<br>and of culture\\u2019s<br>contribution to<br>sustainable<br>development<br>\",\"4.a Build and<br>upgrade education<br>facilities that are<br>child, disability<br>and gender sensitive<br>and provide safe,<br>non-violent,<br>inclusive and<br>effective learning<br>environments for all<br>\",\"4.b By 2020,<br>substantially expand<br>globally the number<br>of scholarships<br>available to<br>developing<br>countries, in<br>particular least<br>developed countries,<br>small island<br>developing States<br>and African<br>countries, for<br>enrolment in higher<br>education, including<br>vocational training<br>and information and<br>communications<br>technology,<br>technical,<br>engineering and<br>scientific<br>programmes, in<br>developed countries<br>and other developing<br>countries<br>\",\"4.c By 2030,<br>substantially<br>increase the supply<br>of qualified<br>teachers, including<br>through<br>international<br>cooperation for<br>teacher training in<br>developing<br>countries,<br>especially least<br>developed countries<br>and small island<br>developing States<br>\",\"5.1 End all forms of<br>discrimination<br>against all women<br>and girls everywhere<br>\",\"5.2 Eliminate all<br>forms of violence<br>against all women<br>and girls in the<br>public and private<br>spheres, including<br>trafficking and<br>sexual and other<br>types of<br>exploitation<br>\",\"5.3 Eliminate all<br>harmful practices,<br>such as child, early<br>and forced marriage<br>and female genital<br>mutilation<br>\",\"5.4 Recognize and<br>value unpaid care<br>and domestic work<br>through the<br>provision of public<br>services,<br>infrastructure and<br>social protection<br>policies and the<br>promotion of shared<br>responsibility<br>within the household<br>and the family as<br>nationally<br>appropriate<br>\",\"5.5 Ensure women\\u2019s<br>full and effective<br>participation and<br>equal opportunities<br>for leadership at<br>all levels of<br>decision-making in<br>political, economic<br>and public life<br>\",\"5.6 Ensure universal<br>access to sexual and<br>reproductive health<br>and reproductive<br>rights as agreed in<br>accordance with the<br>Programme of Action<br>of the International<br>Conference on<br>Population and<br>Development and the<br>Beijing Platform for<br>Action and the<br>outcome documents of<br>their review<br>conferences<br>\",\"5.a Undertake<br>reforms to give<br>women equal rights<br>to economic<br>resources, as well<br>as access to<br>ownership and<br>control over land<br>and other forms of<br>property, financial<br>services,<br>inheritance and<br>natural resources,<br>in accordance with<br>national laws<br>\",\"5.b Enhance the use<br>of enabling<br>technology, in<br>particular<br>information and<br>communications<br>technology, to<br>promote the<br>empowerment of women<br>\",\"5.c Adopt and<br>strengthen sound<br>policies and<br>enforceable<br>legislation for the<br>promotion of gender<br>equality and the<br>empowerment of all<br>women and girls at<br>all levels<br>\",\"6.1 By 2030, achieve<br>universal and<br>equitable access to<br>safe and affordable<br>drinking water for<br>all<br>\",\"6.2 By 2030, achieve<br>access to adequate<br>and equitable<br>sanitation and<br>hygiene for all and<br>end open defecation,<br>paying special<br>attention to the<br>needs of women and<br>girls and those in<br>vulnerable<br>situations<br>\",\"6.3 By 2030, improve<br>water quality by<br>reducing pollution,<br>eliminating dumping<br>and minimizing<br>release of hazardous<br>chemicals and<br>materials, halving<br>the proportion of<br>untreated wastewater<br>and substantially<br>increasing recycling<br>and safe reuse<br>globally<br>\",\"6.4 By 2030,<br>substantially<br>increase water-use<br>efficiency across<br>all sectors and<br>ensure sustainable<br>withdrawals and<br>supply of freshwater<br>to address water<br>scarcity and<br>substantially reduce<br>the number of people<br>suffering from water<br>scarcity<br>\",\"6.5 By 2030,<br>implement integrated<br>water resources<br>management at all<br>levels, including<br>through<br>transboundary<br>cooperation as<br>appropriate<br>\",\"6.6 By 2020, protect<br>and restore water-<br>related ecosystems,<br>including mountains,<br>forests, wetlands,<br>rivers, aquifers and<br>lakes<br>\",\"6.a By 2030, expand<br>international<br>cooperation and<br>capacity-building<br>support to<br>developing countries<br>in water- and<br>sanitation-related<br>activities and<br>programmes,<br>including water<br>harvesting,<br>desalination, water<br>efficiency,<br>wastewater<br>treatment, recycling<br>and reuse<br>technologies<br>\",\"6.b Support and<br>strengthen the<br>participation of<br>local communities in<br>improving water and<br>sanitation<br>management<br>\",\"7.1 By 2030, ensure<br>universal access to<br>affordable, reliable<br>and modern energy<br>services<br>\",\"7.2 By 2030,<br>increase<br>substantially the<br>share of renewable<br>energy in the global<br>energy mix<br>\",\"7.3 By 2030, double<br>the global rate of<br>improvement in<br>energy efficiency<br>\",\"7.a By 2030, enhance<br>international<br>cooperation to<br>facilitate access to<br>clean energy<br>research and<br>technology,<br>including renewable<br>energy, energy<br>efficiency and<br>advanced and cleaner<br>fossil-fuel<br>technology, and<br>promote investment<br>in energy<br>infrastructure and<br>clean energy<br>technology<br>\",\"7.b By 2030, expand<br>infrastructure and<br>upgrade technology<br>for supplying modern<br>and sustainable<br>energy services for<br>all in developing<br>countries, in<br>particular least<br>developed countries,<br>small island<br>developing States<br>and landlocked<br>developing<br>countries, in<br>accordance with<br>their respective<br>programmes of<br>support<br>\",\"8.1 Sustain per<br>capita economic<br>growth in accordance<br>with national<br>circumstances and,<br>in particular, at<br>least 7\\u00a0per\\u00a0cent<br>gross domestic<br>product growth per<br>annum in the least<br>developed countries<br>\",\"8.2 Achieve higher<br>levels of economic<br>productivity through<br>diversification,<br>technological<br>upgrading and<br>innovation,<br>including through a<br>focus on high-value<br>added and labour-<br>intensive sectors<br>\",\"8.3 Promote<br>development-oriented<br>policies that<br>support productive<br>activities, decent<br>job creation,<br>entrepreneurship,<br>creativity and<br>innovation, and<br>encourage the<br>formalization and<br>growth of micro-,<br>small- and medium-<br>sized enterprises,<br>including through<br>access to financial<br>services<br>\",\"8.4 Improve<br>progressively,<br>through 2030, global<br>resource efficiency<br>in consumption and<br>production and<br>endeavour to<br>decouple economic<br>growth from<br>environmental<br>degradation, in<br>accordance with the<br>10\\u2011Year Framework of<br>Programmes on<br>Sustainable<br>Consumption and<br>Production, with<br>developed countries<br>taking the lead<br>\",\"8.5 By 2030, achieve<br>full and productive<br>employment and<br>decent work for all<br>women and men,<br>including for young<br>people and persons<br>with disabilities,<br>and equal pay for<br>work of equal value<br>\",\"8.6 By 2020,<br>substantially reduce<br>the proportion of<br>youth not in<br>employment,<br>education or<br>training<br>\",\"8.7 Take immediate<br>and effective<br>measures to<br>eradicate forced<br>labour, end modern<br>slavery and human<br>trafficking and<br>secure the<br>prohibition and<br>elimination of the<br>worst forms of child<br>labour, including<br>recruitment and use<br>of child soldiers,<br>and by 2025 end<br>child labour in all<br>its forms<br>\",\"8.8 Protect labour<br>rights and promote<br>safe and secure<br>working environments<br>for all workers,<br>including migrant<br>workers, in<br>particular women<br>migrants, and those<br>in precarious<br>employment<br>\",\"8.9 By 2030, devise<br>and implement<br>policies to promote<br>sustainable tourism<br>that creates jobs<br>and promotes local<br>culture and products<br>\",\"8.10 Strengthen the<br>capacity of domestic<br>financial<br>institutions to<br>encourage and expand<br>access to banking,<br>insurance and<br>financial services<br>for all<br>\",\"8.a Increase Aid for<br>Trade support for<br>developing<br>countries, in<br>particular least<br>developed countries,<br>including through<br>the Enhanced<br>Integrated Framework<br>for Trade-related<br>Technical Assistance<br>to Least Developed<br>Countries<br>\",\"8.b By 2020, develop<br>and operationalize a<br>global strategy for<br>youth employment and<br>implement the Global<br>Jobs Pact of the<br>International Labour<br>Organization<br>\",\"9.1 Develop quality,<br>reliable,<br>sustainable and<br>resilient<br>infrastructure,<br>including regional<br>and transborder<br>infrastructure, to<br>support economic<br>development and<br>human well-being,<br>with a focus on<br>affordable and<br>equitable access for<br>all<br>\",\"9.2 Promote<br>inclusive and<br>sustainable<br>industrialization<br>and, by 2030,<br>significantly raise<br>industry\\u2019s share of<br>employment and gross<br>domestic product, in<br>line with national<br>circumstances, and<br>double its share in<br>least developed<br>countries<br>\",\"9.3 Increase the<br>access of small-<br>scale industrial and<br>other enterprises,<br>in particular in<br>developing<br>countries, to<br>financial services,<br>including affordable<br>credit, and their<br>integration into<br>value chains and<br>markets<br>\",\"9.4 By 2030, upgrade<br>infrastructure and<br>retrofit industries<br>to make them<br>sustainable, with<br>increased resource-<br>use efficiency and<br>greater adoption of<br>clean and<br>environmentally<br>sound technologies<br>and industrial<br>processes, with all<br>countries taking<br>action in accordance<br>with their<br>respective<br>capabilities<br>\",\"9.5 Enhance<br>scientific research,<br>upgrade the<br>technological<br>capabilities of<br>industrial sectors<br>in all countries, in<br>particular<br>developing<br>countries,<br>including, by 2030,<br>encouraging<br>innovation and<br>substantially<br>increasing the<br>number of research<br>and development<br>workers per<br>1\\u00a0million people and<br>public and private<br>research and<br>development spending<br>\",\"9.a Facilitate<br>sustainable and<br>resilient<br>infrastructure<br>development in<br>developing countries<br>through enhanced<br>financial,<br>technological and<br>technical support to<br>African countries,<br>least developed<br>countries,<br>landlocked<br>developing countries<br>and small island<br>developing States<br>\",\"9.b Support domestic<br>technology<br>development,<br>research and<br>innovation in<br>developing<br>countries, including<br>by ensuring a<br>conducive policy<br>environment for,<br>inter alia,<br>industrial<br>diversification and<br>value addition to<br>commodities<br>\",\"9.c Significantly<br>increase access to<br>information and<br>communications<br>technology and<br>strive to provide<br>universal and<br>affordable access to<br>the Internet in<br>least developed<br>countries by 2020<br>\",\"10.1 By 2030,<br>progressively<br>achieve and sustain<br>income growth of the<br>bottom 40\\u00a0per\\u00a0cent<br>of the population at<br>a rate higher than<br>the national average<br>\",\"10.2 By 2030,<br>empower and promote<br>the social, economic<br>and political<br>inclusion of all,<br>irrespective of age,<br>sex, disability,<br>race, ethnicity,<br>origin, religion or<br>economic or other<br>status<br>\",\"10.3 Ensure equal<br>opportunity and<br>reduce inequalities<br>of outcome,<br>including by<br>eliminating<br>discriminatory laws,<br>policies and<br>practices and<br>promoting<br>appropriate<br>legislation,<br>policies and action<br>in this regard<br>\",\"10.4 Adopt policies,<br>especially fiscal,<br>wage and social<br>protection policies,<br>and progressively<br>achieve greater<br>equality<br>\",\"10.5 Improve the<br>regulation and<br>monitoring of global<br>financial markets<br>and institutions and<br>strengthen the<br>implementation of<br>such regulations<br>\",\"10.6 Ensure enhanced<br>representation and<br>voice for developing<br>countries in<br>decision-making in<br>global international<br>economic and<br>financial<br>institutions in<br>order to deliver<br>more effective,<br>credible,<br>accountable and<br>legitimate<br>institutions<br>\",\"10.7 Facilitate<br>orderly, safe,<br>regular and<br>responsible<br>migration and<br>mobility of people,<br>including through<br>the implementation<br>of planned and well-<br>managed migration<br>policies<br>\",\"10.a Implement the<br>principle of special<br>and differential<br>treatment for<br>developing<br>countries, in<br>particular least<br>developed countries,<br>in accordance with<br>World Trade<br>Organization<br>agreements<br>\",\"10.b Encourage<br>official development<br>assistance and<br>financial flows,<br>including foreign<br>direct investment,<br>to States where the<br>need is greatest, in<br>particular least<br>developed countries,<br>African countries,<br>small island<br>developing States<br>and landlocked<br>developing<br>countries, in<br>accordance with<br>their national plans<br>and programmes<br>\",\"10.c By 2030, reduce<br>to less than<br>3\\u00a0per\\u00a0cent the<br>transaction costs of<br>migrant remittances<br>and eliminate<br>remittance corridors<br>with costs higher<br>than 5\\u00a0per\\u00a0cent<br>\",\"11.1 By 2030, ensure<br>access for all to<br>adequate, safe and<br>affordable housing<br>and basic services<br>and upgrade slums<br>\",\"11.2 By 2030,<br>provide access to<br>safe, affordable,<br>accessible and<br>sustainable<br>transport systems<br>for all, improving<br>road safety, notably<br>by expanding public<br>transport, with<br>special attention to<br>the needs of those<br>in vulnerable<br>situations, women,<br>children, persons<br>with disabilities<br>and older persons<br>\",\"11.3 By 2030,<br>enhance inclusive<br>and sustainable<br>urbanization and<br>capacity for<br>participatory,<br>integrated and<br>sustainable human<br>settlement planning<br>and management in<br>all countries<br>\",\"11.4 Strengthen<br>efforts to protect<br>and safeguard the<br>world\\u2019s cultural and<br>natural heritage<br>\",\"11.5 By 2030,<br>significantly reduce<br>the number of deaths<br>and the number of<br>people affected and<br>substantially<br>decrease the direct<br>economic losses<br>relative to global<br>gross domestic<br>product caused by<br>disasters, including<br>water-related<br>disasters, with a<br>focus on protecting<br>the poor and people<br>in vulnerable<br>situations<br>\",\"11.6 By 2030, reduce<br>the adverse per<br>capita environmental<br>impact of cities,<br>including by paying<br>special attention to<br>air quality and<br>municipal and other<br>waste management<br>\",\"11.7 By 2030,<br>provide universal<br>access to safe,<br>inclusive and<br>accessible, green<br>and public spaces,<br>in particular for<br>women and children,<br>older persons and<br>persons with<br>disabilities<br>\",\"11.a Support<br>positive economic,<br>social and<br>environmental links<br>between urban, peri-<br>urban and rural<br>areas by<br>strengthening<br>national and<br>regional development<br>planning<br>\",\"11.b By 2020,<br>substantially<br>increase the number<br>of cities and human<br>settlements adopting<br>and implementing<br>integrated policies<br>and plans towards<br>inclusion, resource<br>efficiency,<br>mitigation and<br>adaptation to<br>climate change,<br>resilience to<br>disasters, and<br>develop and<br>implement, in line<br>with the Sendai<br>Framework for<br>Disaster Risk<br>Reduction 2015\\u20132030,<br>holistic disaster<br>risk management at<br>all levels<br>\",\"11.c Support least<br>developed countries,<br>including through<br>financial and<br>technical<br>assistance, in<br>building sustainable<br>and resilient<br>buildings utilizing<br>local materials<br>\",\"12.1 Implement the<br>10\\u2011Year Framework of<br>Programmes on<br>Sustainable<br>Consumption and<br>Production Patterns,<br>all countries taking<br>action, with<br>developed countries<br>taking the lead,<br>taking into account<br>the development and<br>capabilities of<br>developing countries<br>\",\"12.2 By 2030,<br>achieve the<br>sustainable<br>management and<br>efficient use of<br>natural resources<br>\",\"12.3 By 2030, halve<br>per capita global<br>food waste at the<br>retail and consumer<br>levels and reduce<br>food losses along<br>production and<br>supply chains,<br>including post-<br>harvest losses<br>\",\"12.4 By 2020,<br>achieve the<br>environmentally<br>sound management of<br>chemicals and all<br>wastes throughout<br>their life cycle, in<br>accordance with<br>agreed international<br>frameworks, and<br>significantly reduce<br>their release to<br>air, water and soil<br>in order to minimize<br>their adverse<br>impacts on human<br>health and the<br>environment<br>\",\"12.5 By 2030,<br>substantially reduce<br>waste generation<br>through prevention,<br>reduction, recycling<br>and reuse<br>\",\"12.6 Encourage<br>companies,<br>especially large and<br>transnational<br>companies, to adopt<br>sustainable<br>practices and to<br>integrate<br>sustainability<br>information into<br>their reporting<br>cycle<br>\",\"12.7 Promote public<br>procurement<br>practices that are<br>sustainable, in<br>accordance with<br>national policies<br>and priorities<br>\",\"12.8 By 2030, ensure<br>that people<br>everywhere have the<br>relevant information<br>and awareness for<br>sustainable<br>development and<br>lifestyles in<br>harmony with nature<br>\",\"12.a Support<br>developing countries<br>to strengthen their<br>scientific and<br>technological<br>capacity to move<br>towards more<br>sustainable patterns<br>of consumption and<br>production<br>\",\"12.b Develop and<br>implement tools to<br>monitor sustainable<br>development impacts<br>for sustainable<br>tourism that creates<br>jobs and promotes<br>local culture and<br>products<br>\",\"12.c Rationalize<br>inefficient fossil-<br>fuel subsidies that<br>encourage wasteful<br>consumption by<br>removing market<br>distortions, in<br>accordance with<br>national<br>circumstances,<br>including by<br>restructuring<br>taxation and phasing<br>out those harmful<br>subsidies, where<br>they exist, to<br>reflect their<br>environmental<br>impacts, taking<br>fully into account<br>the specific needs<br>and conditions of<br>developing countries<br>and minimizing the<br>possible adverse<br>impacts on their<br>development in a<br>manner that protects<br>the poor and the<br>affected communities<br>\",\"13.1 Strengthen<br>resilience and<br>adaptive capacity to<br>climate-related<br>hazards and natural<br>disasters in all<br>countries<br>\",\"13.2 Integrate<br>climate change<br>measures into<br>national policies,<br>strategies and<br>planning<br>\",\"13.3 Improve<br>education,<br>awareness-raising<br>and human and<br>institutional<br>capacity on climate<br>change mitigation,<br>adaptation, impact<br>reduction and early<br>warning<br>\",\"13.a Implement the<br>commitment<br>undertaken by<br>developed-country<br>parties to the<br>United Nations<br>Framework Convention<br>on Climate Change to<br>a goal of mobilizing<br>jointly $100\\u00a0billion<br>annually by 2020<br>from all sources to<br>address the needs of<br>developing countries<br>in the context of<br>meaningful<br>mitigation actions<br>and transparency on<br>implementation and<br>fully operationalize<br>the Green Climate<br>Fund through its<br>capitalization as<br>soon as possible<br>\",\"13.b Promote<br>mechanisms for<br>raising capacity for<br>effective climate<br>change-related<br>planning and<br>management in least<br>developed countries<br>and small island<br>developing States,<br>including focusing<br>on women, youth and<br>local and<br>marginalized<br>communities<br>\",\"14.1 By 2025,<br>prevent and<br>significantly reduce<br>marine pollution of<br>all kinds, in<br>particular from<br>land-based<br>activities,<br>including marine<br>debris and nutrient<br>pollution<br>\",\"14.2 By 2020,<br>sustainably manage<br>and protect marine<br>and coastal<br>ecosystems to avoid<br>significant adverse<br>impacts, including<br>by strengthening<br>their resilience,<br>and take action for<br>their restoration in<br>order to achieve<br>healthy and<br>productive oceans<br>\",\"14.3 Minimize and<br>address the impacts<br>of ocean<br>acidification,<br>including through<br>enhanced scientific<br>cooperation at all<br>levels<br>\",\"14.4 By 2020,<br>effectively regulate<br>harvesting and end<br>overfishing,<br>illegal, unreported<br>and unregulated<br>fishing and<br>destructive fishing<br>practices and<br>implement science-<br>based management<br>plans, in order to<br>restore fish stocks<br>in the shortest time<br>feasible, at least<br>to levels that can<br>produce maximum<br>sustainable yield as<br>determined by their<br>biological<br>characteristics<br>\",\"14.5 By 2020,<br>conserve at least<br>10\\u00a0per\\u00a0cent of<br>coastal and marine<br>areas, consistent<br>with national and<br>international law<br>and based on the<br>best available<br>scientific<br>information<br>\",\"14.6 By 2020,<br>prohibit certain<br>forms of fisheries<br>subsidies which<br>contribute to<br>overcapacity and<br>overfishing,<br>eliminate subsidies<br>that contribute to<br>illegal, unreported<br>and unregulated<br>fishing and refrain<br>from introducing new<br>such subsidies,<br>recognizing that<br>appropriate and<br>effective special<br>and differential<br>treatment for<br>developing and least<br>developed countries<br>should be an<br>integral part of the<br>World Trade<br>Organization<br>fisheries subsidies<br>negotiation4<br>\",\"14.7 By 2030,<br>increase the<br>economic benefits to<br>small island<br>developing States<br>and least developed<br>countries from the<br>sustainable use of<br>marine resources,<br>including through<br>sustainable<br>management of<br>fisheries,<br>aquaculture and<br>tourism<br>\",\"14.a Increase<br>scientific<br>knowledge, develop<br>research capacity<br>and transfer marine<br>technology, taking<br>into account the<br>Intergovernmental<br>Oceanographic<br>Commission Criteria<br>and Guidelines on<br>the Transfer of<br>Marine Technology,<br>in order to improve<br>ocean health and to<br>enhance the<br>contribution of<br>marine biodiversity<br>to the development<br>of developing<br>countries, in<br>particular small<br>island developing<br>States and least<br>developed countries<br>\",\"14.b Provide access<br>for small-scale<br>artisanal fishers to<br>marine resources and<br>markets<br>\",\"14.c Enhance the<br>conservation and<br>sustainable use of<br>oceans and their<br>resources by<br>implementing<br>international law as<br>reflected in the<br>United Nations<br>Convention on the<br>Law of the Sea,<br>which provides the<br>legal framework for<br>the conservation and<br>sustainable use of<br>oceans and their<br>resources, as<br>recalled in<br>paragraph\\u00a0158 of<br>\\u201cThe future we want\\u201d<br>\",\"15.1 By 2020, ensure<br>the conservation,<br>restoration and<br>sustainable use of<br>terrestrial and<br>inland freshwater<br>ecosystems and their<br>services, in<br>particular forests,<br>wetlands, mountains<br>and drylands, in<br>line with<br>obligations under<br>international<br>agreements<br>\",\"15.2 By 2020,<br>promote the<br>implementation of<br>sustainable<br>management of all<br>types of forests,<br>halt deforestation,<br>restore degraded<br>forests and<br>substantially<br>increase<br>afforestation and<br>reforestation<br>globally<br>\",\"15.3 By 2030, combat<br>desertification,<br>restore degraded<br>land and soil,<br>including land<br>affected by<br>desertification,<br>drought and floods,<br>and strive to<br>achieve a land<br>degradation-neutral<br>world<br>\",\"15.4 By 2030, ensure<br>the conservation of<br>mountain ecosystems,<br>including their<br>biodiversity, in<br>order to enhance<br>their capacity to<br>provide benefits<br>that are essential<br>for sustainable<br>development<br>\",\"15.5 Take urgent and<br>significant action<br>to reduce the<br>degradation of<br>natural habitats,<br>halt the loss of<br>biodiversity and, by<br>2020, protect and<br>prevent the<br>extinction of<br>threatened species<br>\",\"15.6 Promote fair<br>and equitable<br>sharing of the<br>benefits arising<br>from the utilization<br>of genetic resources<br>and promote<br>appropriate access<br>to such resources,<br>as internationally<br>agreed<br>\",\"15.7 Take urgent<br>action to end<br>poaching and<br>trafficking of<br>protected species of<br>flora and fauna and<br>address both demand<br>and supply of<br>illegal wildlife<br>products<br>\",\"15.8 By 2020,<br>introduce measures<br>to prevent the<br>introduction and<br>significantly reduce<br>the impact of<br>invasive alien<br>species on land and<br>water ecosystems and<br>control or eradicate<br>the priority species<br>\",\"15.9 By 2020,<br>integrate ecosystem<br>and biodiversity<br>values into national<br>and local planning,<br>development<br>processes, poverty<br>reduction strategies<br>and accounts<br>\",\"15.a Mobilize and<br>significantly<br>increase financial<br>resources from all<br>sources to conserve<br>and sustainably use<br>biodiversity and<br>ecosystems<br>\",\"15.b Mobilize<br>significant<br>resources from all<br>sources and at all<br>levels to finance<br>sustainable forest<br>management and<br>provide adequate<br>incentives to<br>developing countries<br>to advance such<br>management,<br>including for<br>conservation and<br>reforestation<br>\",\"15.c Enhance global<br>support for efforts<br>to combat poaching<br>and trafficking of<br>protected species,<br>including by<br>increasing the<br>capacity of local<br>communities to<br>pursue sustainable<br>livelihood<br>opportunities<br>\",\"16.1 Significantly<br>reduce all forms of<br>violence and related<br>death rates<br>everywhere<br>\",\"16.2 End abuse,<br>exploitation,<br>trafficking and all<br>forms of violence<br>against and torture<br>of children<br>\",\"16.3 Promote the<br>rule of law at the<br>national and<br>international levels<br>and ensure equal<br>access to justice<br>for all<br>\",\"16.4 By 2030,<br>significantly reduce<br>illicit financial<br>and arms flows,<br>strengthen the<br>recovery and return<br>of stolen assets and<br>combat all forms of<br>organized crime<br>\",\"16.5 Substantially<br>reduce corruption<br>and bribery in all<br>their forms<br>\",\"16.6 Develop<br>effective,<br>accountable and<br>transparent<br>institutions at all<br>levels<br>\",\"16.7 Ensure<br>responsive,<br>inclusive,<br>participatory and<br>representative<br>decision-making at<br>all levels<br>\",\"16.8 Broaden and<br>strengthen the<br>participation of<br>developing countries<br>in the institutions<br>of global governance<br>\",\"16.9 By 2030,<br>provide legal<br>identity for all,<br>including birth<br>registration<br>\",\"16.10 Ensure public<br>access to<br>information and<br>protect fundamental<br>freedoms, in<br>accordance with<br>national legislation<br>and international<br>agreements<br>\",\"16.a Strengthen<br>relevant national<br>institutions,<br>including through<br>international<br>cooperation, for<br>building capacity at<br>all levels, in<br>particular in<br>developing<br>countries, to<br>prevent violence and<br>combat terrorism and<br>crime<br>\",\"16.b Promote and<br>enforce non-<br>discriminatory laws<br>and policies for<br>sustainable<br>development<br>\",\"17.1 Strengthen<br>domestic resource<br>mobilization,<br>including through<br>international<br>support to<br>developing<br>countries, to<br>improve domestic<br>capacity for tax and<br>other revenue<br>collection<br>\",\"17.2 Developed<br>countries to<br>implement fully<br>their official<br>development<br>assistance<br>commitments,<br>including the<br>commitment by many<br>developed countries<br>to achieve the<br>target of<br>0.7\\u00a0per\\u00a0cent of<br>gross national<br>income for official<br>development<br>assistance (ODA/GNI)<br>to developing<br>countries and 0.15<br>to 0.20\\u00a0per\\u00a0cent of<br>ODA/GNI to least<br>developed countries;<br>ODA providers are<br>encouraged to<br>consider setting a<br>target to provide at<br>least 0.20\\u00a0per\\u00a0cent<br>of ODA/GNI to least<br>developed countries<br>\",\"17.3 Mobilize<br>additional financial<br>resources for<br>developing countries<br>from multiple<br>sources<br>\",\"17.4 Assist<br>developing countries<br>in attaining long-<br>term debt<br>sustainability<br>through coordinated<br>policies aimed at<br>fostering debt<br>financing, debt<br>relief and debt<br>restructuring, as<br>appropriate, and<br>address the external<br>debt of highly<br>indebted poor<br>countries to reduce<br>debt distress<br>\",\"17.5 Adopt and<br>implement investment<br>promotion regimes<br>for least developed<br>countries<br>\",\"17.6 Enhance North-<br>South, South-South<br>and triangular<br>regional and<br>international<br>cooperation on and<br>access to science,<br>technology and<br>innovation and<br>enhance knowledge-<br>sharing on mutually<br>agreed terms,<br>including through<br>improved<br>coordination among<br>existing mechanisms,<br>in particular at the<br>United Nations<br>level, and through a<br>global technology<br>facilitation<br>mechanism<br>\",\"17.7 Promote the<br>development,<br>transfer,<br>dissemination and<br>diffusion of<br>environmentally<br>sound technologies<br>to developing<br>countries on<br>favourable terms,<br>including on<br>concessional and<br>preferential terms,<br>as mutually agreed<br>\",\"17.8 Fully<br>operationalize the<br>technology bank and<br>science, technology<br>and innovation<br>capacity-building<br>mechanism for least<br>developed countries<br>by 2017 and enhance<br>the use of enabling<br>technology, in<br>particular<br>information and<br>communications<br>technology<br>\",\"17.9 Enhance<br>international<br>support for<br>implementing<br>effective and<br>targeted capacity-<br>building in<br>developing countries<br>to support national<br>plans to implement<br>all the Sustainable<br>Development Goals,<br>including through<br>North-South, South-<br>South and triangular<br>cooperation<br>\",\"17.10 Promote a<br>universal, rules-<br>based, open,<br>non\\u2011discriminatory<br>and equitable<br>multilateral trading<br>system under the<br>World Trade<br>Organization,<br>including through<br>the conclusion of<br>negotiations under<br>its Doha Development<br>Agenda<br>\",\"17.11 Significantly<br>increase the exports<br>of developing<br>countries, in<br>particular with a<br>view to doubling the<br>least developed<br>countries\\u2019 share of<br>global exports by<br>2020<br>\",\"17.12 Realize timely<br>implementation of<br>duty-free and quota-<br>free market access<br>on a lasting basis<br>for all least<br>developed countries,<br>consistent with<br>World Trade<br>Organization<br>decisions, including<br>by ensuring that<br>preferential rules<br>of origin applicable<br>to imports from<br>least developed<br>countries are<br>transparent and<br>simple, and<br>contribute to<br>facilitating market<br>access<br>\",\"17.13 Enhance global<br>macroeconomic<br>stability, including<br>through policy<br>coordination and<br>policy coherence<br>\",\"17.14 Enhance policy<br>coherence for<br>sustainable<br>development<br>\",\"17.15 Respect each<br>country\\u2019s policy<br>space and leadership<br>to establish and<br>implement policies<br>for poverty<br>eradication and<br>sustainable<br>development<br>\",\"17.16 Enhance the<br>Global Partnership<br>for Sustainable<br>Development,<br>complemented by<br>multi-stakeholder<br>partnerships that<br>mobilize and share<br>knowledge,<br>expertise,<br>technology and<br>financial resources,<br>to support the<br>achievement of the<br>Sustainable<br>Development Goals in<br>all countries, in<br>particular<br>developing countries<br>\",\"17.17 Encourage and<br>promote effective<br>public, public-<br>private and civil<br>society<br>partnerships,<br>building on the<br>experience and<br>resourcing<br>strategies of<br>partnerships<br>\",\"17.18 By 2020,<br>enhance capacity-<br>building support to<br>developing<br>countries, including<br>for least developed<br>countries and small<br>island developing<br>States, to increase<br>significantly the<br>availability of<br>high-quality, timely<br>and reliable data<br>disaggregated by<br>income, gender, age,<br>race, ethnicity,<br>migratory status,<br>disability,<br>geographic location<br>and other<br>characteristics<br>relevant in national<br>contexts<br>\",\"17.19 By 2030, build<br>on existing<br>initiatives to<br>develop measurements<br>of progress on<br>sustainable<br>development that<br>complement gross<br>domestic product,<br>and support<br>statistical<br>capacity-building in<br>developing countries<br>\",\"1.1.1 Proportion of<br>the population<br>living below the<br>international<br>poverty line by sex,<br>age, employment<br>status and<br>geographic location<br>(urban/rural)<br>\",\"1.2.1 Proportion of<br>population living<br>below the national<br>poverty line, by sex<br>and age<br>\",\"1.2.2 Proportion of<br>men, women and<br>children of all ages<br>living in poverty in<br>all its dimensions<br>according to<br>national definitions<br>\",\"1.3.1 Proportion of<br>population covered<br>by social protection<br>floors/systems, by<br>sex, distinguishing<br>children, unemployed<br>persons, older<br>persons, persons<br>with disabilities,<br>pregnant women,<br>newborns, work-<br>injury victims and<br>the poor and the<br>vulnerable<br>\",\"1.4.1 Proportion of<br>population living in<br>households with<br>access to basic<br>services<br>\",\"1.4.2 Proportion of<br>total adult<br>population with<br>secure tenure rights<br>to land, (a) with<br>legally recognized<br>documentation, and<br>(b) who perceive<br>their rights to land<br>as secure, by sex<br>and type of tenure<br>\",\"1.5.1 Number of<br>deaths, missing<br>persons and directly<br>affected persons<br>attributed to<br>disasters per<br>100,000 population<br>\",\"1.5.2 Direct<br>economic loss<br>attributed to<br>disasters in<br>relation to global<br>gross domestic<br>product (GDP)<br>\",\"1.5.3 Number of<br>countries that adopt<br>and implement<br>national disaster<br>risk reduction<br>strategies in line<br>with the Sendai<br>Framework for<br>Disaster Risk<br>Reduction 2015\\u20132030<br>\",\"1.5.4 Proportion of<br>local governments<br>that adopt and<br>implement local<br>disaster risk<br>reduction strategies<br>in line with<br>national disaster<br>risk reduction<br>strategies<br>\",\"1.a.1 Total official<br>development<br>assistance grants<br>from all donors that<br>focus on poverty<br>reduction as a share<br>of the recipient<br>country\\u2019s gross<br>national income<br>\",\"1.a.2 Proportion of<br>total government<br>spending on<br>essential services<br>(education, health<br>and social<br>protection)<br>\",\"1.b.1 Pro-poor<br>public social<br>spending<br>\",\"2.1.1 Prevalence of<br>undernourishment<br>\",\"2.1.2 Prevalence of<br>moderate or severe<br>food insecurity in<br>the population,<br>based on the Food<br>Insecurity<br>Experience Scale<br>(FIES)<br>\",\"2.2.1 Prevalence of<br>stunting (height for<br>age <-2 standard<br>deviation from the<br>median of the World<br>Health Organization<br>(WHO) Child Growth<br>Standards) among<br>children under<br>5\\u00a0years of age<br>\",\"2.2.2 Prevalence of<br>malnutrition (weight<br>for height >+2 or<br><-2 standard<br>deviation from the<br>median of the WHO<br>Child Growth<br>Standards) among<br>children under<br>5\\u00a0years of age, by<br>type (wasting and<br>overweight)<br>\",\"2.2.3 Prevalence of<br>anaemia in women<br>aged 15 to 49 years,<br>by pregnancy status<br>(percentage)<br>\",\"2.3.1 Volume of<br>production per<br>labour unit by<br>classes of farming/p<br>astoral/forestry<br>enterprise size<br>\",\"2.3.2 Average income<br>of small-scale food<br>producers, by sex<br>and indigenous<br>status<br>\",\"2.4.1 Proportion of<br>agricultural area<br>under productive and<br>sustainable<br>agriculture<br>\",\"2.5.1 Number of (a)<br>plant and (b) animal<br>genetic resources<br>for food and<br>agriculture secured<br>in either medium- or<br>long-term<br>conservation<br>facilities<br>\",\"2.5.2 Proportion of<br>local breeds<br>classified as being<br>at risk of<br>extinction<br>\",\"2.a.1 The<br>agriculture<br>orientation index<br>for government<br>expenditures<br>\",\"2.a.2 Total official<br>flows (official<br>development<br>assistance plus<br>other official<br>flows) to the<br>agriculture sector<br>\",\"2.b.1 Agricultural<br>export subsidies<br>\",\"2.c.1 Indicator of<br>food price anomalies<br>\",\"3.1.1 Maternal<br>mortality ratio<br>\",\"3.1.2 Proportion of<br>births attended by<br>skilled health<br>personnel<br>\",\"3.2.1 Under\\u20115<br>mortality rate<br>\",\"3.2.2 Neonatal<br>mortality rate<br>\",\"3.3.1 Number of new<br>HIV infections per<br>1,000 uninfected<br>population, by sex,<br>age and key<br>populations<br>\",\"3.3.2 Tuberculosis<br>incidence per<br>100,000 population<br>\",\"3.3.3 Malaria<br>incidence per 1,000<br>population<br>\",\"3.3.4 Hepatitis B<br>incidence per<br>100,000 population<br>\",\"3.3.5 Number of<br>people requiring<br>interventions<br>against neglected<br>tropical diseases<br>\",\"3.4.1 Mortality rate<br>attributed to<br>cardiovascular<br>disease, cancer,<br>diabetes or chronic<br>respiratory disease<br>\",\"3.4.2 Suicide<br>mortality rate<br>\",\"3.5.1 Coverage of<br>treatment<br>interventions<br>(pharmacological,<br>psychosocial and<br>rehabilitation and<br>aftercare services)<br>for substance use<br>disorders<br>\",\"3.5.2 Alcohol per<br>capita consumption<br>(aged 15 years and<br>older) within a<br>calendar year in<br>litres of pure<br>alcohol<br>\",\"3.6.1 Death rate due<br>to road traffic<br>injuries<br>\",\"3.7.1 Proportion of<br>women of<br>reproductive age<br>(aged 15\\u201349\\u00a0years)<br>who have their need<br>for family planning<br>satisfied with<br>modern methods<br>\",\"3.7.2 Adolescent<br>birth rate (aged<br>10\\u201314 years; aged<br>15\\u201319\\u00a0years) per<br>1,000 women in that<br>age group<br>\",\"3.8.1 Coverage of<br>essential health<br>services<br>\",\"3.8.2 Proportion of<br>population with<br>large household<br>expenditures on<br>health as a share of<br>total household<br>expenditure or<br>income<br>\",\"3.9.1 Mortality rate<br>attributed to<br>household and<br>ambient air<br>pollution<br>\",\"3.9.2 Mortality rate<br>attributed to unsafe<br>water, unsafe<br>sanitation and lack<br>of hygiene (exposure<br>to unsafe Water,<br>Sanitation and<br>Hygiene for All<br>(WASH) services)<br>\",\"3.9.3 Mortality rate<br>attributed to<br>unintentional<br>poisoning<br>\",\"3.a.1 Age-<br>standardized<br>prevalence of<br>current tobacco use<br>among persons aged<br>15\\u00a0years and older<br>\",\"3.b.1 Proportion of<br>the target<br>population covered<br>by all vaccines<br>included in their<br>national programme<br>\",\"3.b.2 Total net<br>official development<br>assistance to<br>medical research and<br>basic health sectors<br>\",\"3.b.3 Proportion of<br>health facilities<br>that have a core set<br>of relevant<br>essential medicines<br>available and<br>affordable on a<br>sustainable basis<br>\",\"3.c.1 Health worker<br>density and<br>distribution<br>\",\"3.d.1 International<br>Health Regulations<br>(IHR) capacity and<br>health emergency<br>preparedness<br>\",\"3.d.2 Percentage of<br>bloodstream<br>infections due to<br>selected<br>antimicrobial-<br>resistant organisms<br>\",\"4.1.1 Proportion of<br>children and young<br>people (a) in grades<br>2/3; (b) at the end<br>of primary; and (c)<br>at the end of lower<br>secondary achieving<br>at least a minimum<br>proficiency level in<br>(i) reading and (ii)<br>mathematics, by sex<br>\",\"4.1.2 Completion<br>rate (primary<br>education, lower<br>secondary education,<br>upper secondary<br>education)<br>\",\"4.2.1 Proportion of<br>children aged 24\\u201359<br>months who are<br>developmentally on<br>track in health,<br>learning and<br>psychosocial well-<br>being, by sex<br>\",\"4.2.2 Participation<br>rate in organized<br>learning (one year<br>before the official<br>primary entry age),<br>by sex<br>\",\"4.3.1 Participation<br>rate of youth and<br>adults in formal and<br>non-formal education<br>and training in the<br>previous 12\\u00a0months,<br>by sex<br>\",\"4.4.1 Proportion of<br>youth and adults<br>with information and<br>communications<br>technology (ICT)<br>skills, by type of<br>skill<br>\",\"4.5.1 Parity indices<br>(female/male,<br>rural/urban,<br>bottom/top wealth<br>quintile and others<br>such as disability<br>status, indigenous<br>peoples and<br>conflict-affected,<br>as data become<br>available) for all<br>education indicators<br>on this list that<br>can be disaggregated<br>\",\"4.6.1 Proportion of<br>population in a<br>given age group<br>achieving at least a<br>fixed level of<br>proficiency in<br>functional (a)<br>literacy and (b)<br>numeracy skills, by<br>sex<br>\",\"4.7.1 Extent to<br>which (i) global<br>citizenship<br>education and (ii)<br>education for<br>sustainable<br>development are<br>mainstreamed in (a)<br>national education<br>policies; (b)<br>curricula; (c)<br>teacher education;<br>and (d) student<br>assessment<br>\",\"4.a.1 Proportion of<br>schools offering<br>basic services, by<br>type of service<br>\",\"4.b.1 Volume of<br>official development<br>assistance flows for<br>scholarships by<br>sector and type of<br>study<br>\",\"4.c.1 Proportion of<br>teachers with the<br>minimum required<br>qualifications, by<br>education level<br>\",\"5.1.1 Whether or not<br>legal frameworks are<br>in place to\\u00a0promote,<br>enforce and monitor<br>equality and<br>non\\u2011discrimination<br>on the basis of sex<br>\",\"5.2.1 Proportion of<br>ever-partnered women<br>and girls aged<br>15\\u00a0years and older<br>subjected to<br>physical, sexual or<br>psychological<br>violence by a<br>current or former<br>intimate partner in<br>the previous 12<br>months, by form of<br>violence and by age<br>\",\"5.2.2 Proportion of<br>women and girls aged<br>15\\u00a0years and older<br>subjected to sexual<br>violence by persons<br>other than<br>an\\u00a0intimate partner<br>in the previous<br>12\\u00a0months, by age<br>and place of<br>occurrence<br>\",\"5.3.1 Proportion of<br>women aged<br>20\\u201324\\u00a0years who were<br>married or in a<br>union before age 15<br>and before age 18<br>\",\"5.3.2 Proportion of<br>girls and women aged<br>15\\u201349\\u00a0years who have<br>undergone female<br>genital<br>mutilation/cutting,<br>by\\u00a0age<br>\",\"5.4.1 Proportion of<br>time spent on unpaid<br>domestic and care<br>work, by sex, age<br>and location<br>\",\"5.5.1 Proportion of<br>seats held by women<br>in (a) national<br>parliaments and (b)<br>local governments<br>\",\"5.5.2 Proportion of<br>women in managerial<br>positions<br>\",\"5.6.1 Proportion of<br>women aged<br>15\\u201349\\u00a0years who make<br>their own informed<br>decisions regarding<br>sexual relations,<br>contraceptive use<br>and reproductive<br>health care<br>\",\"5.6.2 Number of<br>countries with laws<br>and regulations that<br>guarantee full and<br>equal access to<br>women and men aged<br>15\\u00a0years and older<br>to sexual and<br>reproductive health<br>care, information<br>and education<br>\",\"5.a.1 (a) Proportion<br>of total<br>agricultural<br>population with<br>ownership or secure<br>rights over<br>agricultural land,<br>by sex; and (b)<br>share of women among<br>owners or rights-<br>bearers of<br>agricultural land,<br>by type of tenure<br>\",\"5.a.2 Proportion of<br>countries where the<br>legal framework<br>(including customary<br>law) guarantees<br>women\\u2019s equal rights<br>to land ownership<br>and/or control<br>\",\"5.b.1 Proportion of<br>individuals who own<br>a mobile telephone,<br>by sex<br>\",\"5.c.1 Proportion of<br>countries with<br>systems to track and<br>make public<br>allocations for<br>gender equality and<br>women\\u2019s empowerment<br>\",\"6.1.1 Proportion of<br>population using<br>safely managed<br>drinking water<br>services<br>\",\"6.2.1 Proportion of<br>population using (a)<br>safely managed<br>sanitation services<br>and (b) a hand-<br>washing facility<br>with soap and water<br>\",\"6.3.1 Proportion of<br>domestic and<br>industrial<br>wastewater flows<br>safely treated<br>\",\"6.3.2 Proportion of<br>bodies of water with<br>good ambient water<br>quality<br>\",\"6.4.1 Change in<br>water-use efficiency<br>over time<br>\",\"6.4.2 Level of water<br>stress: freshwater<br>withdrawal as a<br>proportion of<br>available freshwater<br>resources<br>\",\"6.5.1 Degree of<br>integrated water<br>resources management<br>\",\"6.5.2 Proportion of<br>transboundary basin<br>area with an<br>operational<br>arrangement for<br>water cooperation<br>\",\"6.6.1 Change in the<br>extent of water-<br>related ecosystems<br>over time<br>\",\"6.a.1 Amount of<br>water- and<br>sanitation-related<br>official development<br>assistance that is<br>part of a<br>government-<br>coordinated spending<br>plan<br>\",\"6.b.1 Proportion of<br>local administrative<br>units with<br>established and<br>operational policies<br>and procedures for<br>participation of<br>local communities in<br>water and sanitation<br>management<br>\",\"7.1.1 Proportion of<br>population with<br>access to<br>electricity<br>\",\"7.1.2 Proportion of<br>population with<br>primary reliance on<br>clean fuels and<br>technology<br>\",\"7.2.1 Renewable<br>energy share in the<br>total final energy<br>consumption<br>\",\"7.3.1 Energy<br>intensity measured<br>in terms of primary<br>energy and GDP<br>\",\"7.a.1 International<br>financial flows to<br>developing countries<br>in support of clean<br>energy research and<br>development and<br>renewable energy<br>production,<br>including in hybrid<br>systems<br>\",\"7.b.1 Installed<br>renewable energy-<br>generating capacity<br>in developing<br>countries (in watts<br>per capita)<br>\",\"8.1.1 Annual growth<br>rate of real GDP per<br>capita<br>\",\"8.2.1 Annual growth<br>rate of real GDP per<br>employed person<br>\",\"8.3.1 Proportion of<br>informal employment<br>in total employment,<br>by sector and sex<br>\",\"8.4.1 Material<br>footprint, material<br>footprint per<br>capita, and material<br>footprint per GDP<br>\",\"8.4.2 Domestic<br>material<br>consumption,<br>domestic material<br>consumption per<br>capita, and domestic<br>material consumption<br>per GDP<br>\",\"8.5.1 Average hourly<br>earnings of<br>employees, by sex,<br>age, occupation and<br>persons with<br>disabilities<br>\",\"8.5.2 Unemployment<br>rate, by sex, age<br>and persons with<br>disabilities<br>\",\"8.6.1 Proportion of<br>youth (aged<br>15\\u201324\\u00a0years) not in<br>education,<br>employment or<br>training<br>\",\"8.7.1 Proportion and<br>number of children<br>aged 5\\u201317\\u00a0years<br>engaged in child<br>labour, by sex and<br>age<br>\",\"8.8.1 Fatal and non-<br>fatal occupational<br>injuries per 100,000<br>workers, by sex and<br>migrant status<br>\",\"8.8.2 Level of<br>national compliance<br>with labour rights<br>(freedom of<br>association and<br>collective<br>bargaining) based on<br>International Labour<br>Organization (ILO)<br>textual sources and<br>national<br>legislation, by sex<br>and migrant status<br>\",\"8.9.1 Tourism direct<br>GDP as a proportion<br>of total GDP and in<br>growth rate<br>\",\"8.10.1 (a) Number of<br>commercial bank<br>branches per 100,000<br>adults and (b)<br>number of automated<br>teller machines<br>(ATMs) per 100,000<br>adults<br>\",\"8.10.2 Proportion of<br>adults (15\\u00a0years and<br>older) with an<br>account at a bank or<br>other financial<br>institution or with<br>a mobile-money-<br>service provider<br>\",\"8.a.1 Aid for Trade<br>commitments and<br>disbursements<br>\",\"8.b.1 Existence of a<br>developed and<br>operationalized<br>national strategy<br>for youth<br>employment, as a<br>distinct strategy or<br>as part of a<br>national employment<br>strategy<br>\",\"9.1.1 Proportion of<br>the rural population<br>who live within 2\\u00a0km<br>of an all-season<br>road<br>\",\"9.1.2 Passenger and<br>freight volumes, by<br>mode of transport<br>\",\"9.2.1 Manufacturing<br>value added as a<br>proportion of GDP<br>and per capita<br>\",\"9.2.2 Manufacturing<br>employment as a<br>proportion of total<br>employment<br>\",\"9.3.1 Proportion of<br>small-scale<br>industries in total<br>industry value added<br>\",\"9.3.2 Proportion of<br>small-scale<br>industries with a<br>loan or line of<br>credit<br>\",\"9.4.1 CO2 emission<br>per unit of value<br>added<br>\",\"9.5.1 Research and<br>development<br>expenditure as a<br>proportion of GDP<br>\",\"9.5.2 Researchers<br>(in full-time<br>equivalent) per<br>million inhabitants<br>\",\"9.a.1 Total official<br>international<br>support (official<br>development<br>assistance plus<br>other official<br>flows) to<br>infrastructure<br>\",\"9.b.1 Proportion of<br>medium and high-tech<br>industry value added<br>in total value added<br>\",\"9.c.1 Proportion of<br>population covered<br>by a mobile network,<br>by technology<br>\",\"10.1.1 Growth rates<br>of household<br>expenditure or<br>income per capita<br>among the bottom<br>40\\u00a0per\\u00a0cent of the<br>population and the<br>total population<br>\",\"10.2.1 Proportion of<br>people living below<br>50\\u00a0per\\u00a0cent of<br>median income, by<br>sex, age and persons<br>with disabilities<br>\",\"10.3.1 Proportion of<br>population reporting<br>having personally<br>felt discriminated<br>against or harassed<br>in the previous 12<br>months on the basis<br>of a ground of<br>discrimination<br>prohibited under<br>international human<br>rights\\u00a0law<br>\",\"10.4.1 Labour share<br>of GDP<br>\",\"10.4.2<br>Redistributive<br>impact of fiscal<br>policy4<br>\",\"10.5.1 Financial<br>Soundness Indicators<br>\",\"10.6.1 Proportion of<br>members and voting<br>rights of developing<br>countries in<br>international<br>organizations<br>\",\"10.7.1 Recruitment<br>cost borne by<br>employee as a<br>proportion of<br>monthly income<br>earned in country of<br>destination<br>\",\"10.7.2 Number of<br>countries with<br>migration policies<br>that facilitate<br>orderly, safe,<br>regular and<br>responsible<br>migration and<br>mobility of people<br>\",\"10.7.3 Number of<br>people who died or<br>disappeared in the<br>process of migration<br>towards an<br>international<br>destination<br>\",\"10.7.4 Proportion of<br>the population who<br>are refugees, by<br>country of origin<br>\",\"10.a.1 Proportion of<br>tariff lines applied<br>to imports from<br>least developed<br>countries and<br>developing countries<br>with zero-tariff<br>\",\"10.b.1 Total<br>resource flows for<br>development, by<br>recipient and donor<br>countries and type<br>of flow (e.g.<br>official development<br>assistance, foreign<br>direct investment<br>and other flows)<br>\",\"10.c.1 Remittance<br>costs as a<br>proportion of the<br>amount remitted<br>\",\"11.1.1 Proportion of<br>urban population<br>living in slums,<br>informal settlements<br>or inadequate<br>housing<br>\",\"11.2.1 Proportion of<br>population that has<br>convenient access to<br>public transport, by<br>sex, age and persons<br>with disabilities<br>\",\"11.3.1 Ratio of land<br>consumption rate to<br>population growth<br>rate<br>\",\"11.3.2 Proportion of<br>cities with a direct<br>participation<br>structure of civil<br>society in urban<br>planning and<br>management that<br>operate regularly<br>and democratically<br>\",\"11.4.1 Total per<br>capita expenditure<br>on the preservation,<br>protection and<br>conservation of all<br>cultural and natural<br>heritage, by source<br>of funding (public,<br>private), type of<br>heritage (cultural,<br>natural) and level<br>of government<br>(national, regional,<br>and local/municipal)<br>\",\"11.5.1 Number of<br>deaths, missing<br>persons and directly<br>affected persons<br>attributed to<br>disasters per<br>100,000 population<br>\",\"11.5.2 Direct<br>economic loss in<br>relation to global<br>GDP, damage to<br>critical<br>infrastructure and<br>number of<br>disruptions to basic<br>services, attributed<br>to disasters<br>\",\"11.6.1 Proportion of<br>municipal solid<br>waste collected and<br>managed in<br>controlled<br>facilities out of<br>total municipal<br>waste generated, by<br>cities<br>\",\"11.6.2 Annual mean<br>levels of fine<br>particulate matter<br>(e.g.\\u00a0PM2.5 and<br>PM10) in cities<br>(population<br>weighted)<br>\",\"11.7.1 Average share<br>of the built-up area<br>of cities that is<br>open space for<br>public use for all,<br>by sex, age and<br>persons with<br>disabilities<br>\",\"11.7.2 Proportion of<br>persons victim of<br>physical or sexual<br>harassment, by sex,<br>age, disability<br>status and place of<br>occurrence, in the<br>previous 12 months<br>\",\"11.a.1 Number of<br>countries that have<br>national urban<br>policies or regional<br>development plans<br>that (a) respond to<br>population dynamics;<br>(b) ensure balanced<br>territorial<br>development; and (c)<br>increase local<br>fiscal space<br>\",\"11.b.1 Number of<br>countries that adopt<br>and implement<br>national disaster<br>risk reduction<br>strategies in line<br>with the Sendai<br>Framework for<br>Disaster Risk<br>Reduction 2015\\u20132030<br>\",\"11.b.2 Proportion of<br>local governments<br>that adopt and<br>implement local<br>disaster risk<br>reduction strategies<br>in line with<br>national disaster<br>risk reduction<br>strategies<br>\",\"No suitable<br>replacement<br>indicator was<br>proposed. The global<br>statistical<br>community is<br>encouraged to work<br>to develop an<br>indicator that could<br>be proposed for the<br>2025 comprehensive<br>review. See<br>E/CN.3/2020/2,<br>paragraph 23.<br>\",\"12.1.1 Number of<br>countries<br>developing, adopting<br>or implementing<br>policy instruments<br>aimed at supporting<br>the shift to<br>sustainable<br>consumption and<br>production<br>\",\"12.2.1 Material<br>footprint, material<br>footprint per<br>capita, and material<br>footprint per GDP<br>\",\"12.2.2 Domestic<br>material<br>consumption,<br>domestic material<br>consumption per<br>capita, and domestic<br>material consumption<br>per GDP<br>\",\"12.3.1 (a) Food loss<br>index and (b) food<br>waste index<br>\",\"12.4.1 Number of<br>parties to<br>international<br>multilateral<br>environmental<br>agreements on<br>hazardous waste, and<br>other chemicals that<br>meet their<br>commitments and<br>obligations in<br>transmitting<br>information as<br>required by each<br>relevant agreement<br>\",\"12.4.2 (a) Hazardous<br>waste generated per<br>capita; and (b)<br>proportion of<br>hazardous waste<br>treated, by type of<br>treatment<br>\",\"12.5.1 National<br>recycling rate, tons<br>of material recycled<br>\",\"12.6.1 Number of<br>companies publishing<br>sustainability<br>reports<br>\",\"12.7.1 Degree of<br>sustainable public<br>procurement policies<br>and action plan<br>implementation<br>\",\"12.8.1 Extent to<br>which (i) global<br>citizenship<br>education and (ii)<br>education for<br>sustainable<br>development are<br>mainstreamed in (a)<br>national education<br>policies; (b)<br>curricula; (c)<br>teacher education;<br>and (d) student<br>assessment<br>\",\"12.a.1 Installed<br>renewable energy-<br>generating capacity<br>in developing<br>countries (in watts<br>per capita)<br>\",\"12.b.1<br>Implementation of<br>standard accounting<br>tools to monitor the<br>economic and<br>environmental<br>aspects of tourism<br>sustainability<br>\",\"12.c.1 Amount of<br>fossil-fuel<br>subsidies<br>(production and<br>consumption) per<br>unit of GDP<br>\",\"13.1.1 Number of<br>deaths, missing<br>persons and directly<br>affected persons<br>attributed to<br>disasters per<br>100,000 population<br>\",\"13.1.2 Number of<br>countries that adopt<br>and implement<br>national disaster<br>risk reduction<br>strategies in line<br>with the Sendai<br>Framework for<br>Disaster Risk<br>Reduction 2015\\u20132030<br>\",\"13.1.3 Proportion of<br>local governments<br>that adopt and<br>implement local<br>disaster risk<br>reduction strategies<br>in line with<br>national disaster<br>risk reduction<br>strategies<br>\",\"13.2.1 Number of<br>countries with<br>nationally<br>determined<br>contributions, long-<br>term strategies,<br>national adaptation<br>plans and adaptation<br>communications, as<br>reported to the<br>secretariat of the<br>United Nations<br>Framework Convention<br>on Climate Change<br>\",\"13.2.2 Total<br>greenhouse gas<br>emissions per year<br>\",\"13.3.1 Extent to<br>which (i) global<br>citizenship<br>education and (ii)<br>education for<br>sustainable<br>development are<br>mainstreamed in (a)<br>national education<br>policies; (b)<br>curricula; (c)<br>teacher education;<br>and (d) student<br>assessment<br>\",\"13.a.1 Amounts<br>provided and<br>mobilized in United<br>States dollars per<br>year in relation to<br>the continued<br>existing collective<br>mobilization goal of<br>the $100 billion<br>commitment through<br>to 2025<br>\",\"13.b.1 Number of<br>least developed<br>countries and small<br>island developing<br>States with<br>nationally<br>determined<br>contributions, long-<br>term strategies,<br>national adaptation<br>plans and adaptation<br>communications, as<br>reported to the<br>secretariat of the<br>United Nations<br>Framework Convention<br>on Climate Change<br>\",\"14.1.1 (a) Index of<br>coastal<br>eutrophication; and<br>(b) plastic debris<br>density<br>\",\"14.2.1 Number of<br>countries using<br>ecosystem-based<br>approaches to<br>managing marine<br>areas<br>\",\"14.3.1 Average<br>marine acidity (pH)<br>measured at agreed<br>suite of<br>representative<br>sampling stations<br>\",\"14.4.1 Proportion of<br>fish stocks within<br>biologically<br>sustainable levels<br>\",\"14.5.1 Coverage of<br>protected areas in<br>relation to marine<br>areas<br>\",\"14.6.1 Degree of<br>implementation of<br>international<br>instruments aiming<br>to combat illegal,<br>unreported and<br>unregulated fishing<br>\",\"14.7.1 Sustainable<br>fisheries as a<br>proportion of GDP in<br>small island<br>developing States,<br>least developed<br>countries and all<br>countries<br>\",\"14.a.1 Proportion of<br>total research<br>budget allocated to<br>research in the<br>field of marine<br>technology<br>\",\"14.b.1 Degree of<br>application of a<br>legal/regulatory/<br>policy/institutional<br>framework which<br>recognizes and<br>protects access<br>rights for small-<br>scale fisheries<br>\",\"14.c.1 Number of<br>countries making<br>progress in<br>ratifying, accepting<br>and implementing<br>through legal,<br>policy and<br>institutional<br>frameworks, ocean-<br>related instruments<br>that implement<br>international law,<br>as reflected in the<br>United Nations<br>Convention on the<br>Law of the Sea, for<br>the conservation and<br>sustainable use of<br>the oceans and their<br>resources<br>\",\"15.1.1 Forest area<br>as a proportion of<br>total land area<br>\",\"15.1.2 Proportion of<br>important sites for<br>terrestrial and<br>freshwater<br>biodiversity that<br>are covered by<br>protected areas, by<br>ecosystem type<br>\",\"15.2.1 Progress<br>towards sustainable<br>forest management<br>\",\"15.3.1 Proportion of<br>land that is<br>degraded over total<br>land area<br>\",\"15.4.1 Coverage by<br>protected areas of<br>important sites for<br>mountain<br>biodiversity<br>\",\"15.4.2 Mountain<br>Green Cover Index<br>\",\"15.5.1 Red List<br>Index<br>\",\"15.6.1 Number of<br>countries that have<br>adopted legislative,<br>administrative and<br>policy frameworks to<br>ensure fair and<br>equitable sharing of<br>benefits<br>\",\"15.7.1 Proportion of<br>traded wildlife that<br>was poached or<br>illicitly trafficked<br>\",\"15.8.1 Proportion of<br>countries adopting<br>relevant national<br>legislation and<br>adequately<br>resourcing the<br>prevention or<br>control of invasive<br>alien species<br>\",\"15.9.1 (a) Number of<br>countries that have<br>established national<br>targets in<br>accordance with or<br>similar to Aichi<br>Biodiversity Target<br>2 of the Strategic<br>Plan for<br>Biodiversity<br>2011\\u20132020 in their<br>national<br>biodiversity<br>strategy and action<br>plans and the<br>progress reported<br>towards these<br>targets; and (b)<br>integration of<br>biodiversity into<br>national accounting<br>and reporting<br>systems, defined as<br>implementation of<br>the System of<br>Environmental-<br>Economic Accounting<br>\",\"15.a.1 (a) Official<br>development<br>assistance on<br>conservation and<br>sustainable use of<br>biodiversity; and<br>(b) revenue<br>generated and<br>finance mobilized<br>from biodiversity-<br>relevant economic<br>instruments<br>\",\"15.b.1 (a) Official<br>development<br>assistance on<br>conservation and<br>sustainable use of<br>biodiversity; and<br>(b) revenue<br>generated and<br>finance mobilized<br>from biodiversity-<br>relevant economic<br>instruments<br>\",\"15.c.1 Proportion of<br>traded wildlife that<br>was poached or<br>illicitly trafficked<br>\",\"16.1.1 Number of<br>victims of<br>intentional homicide<br>per 100,000<br>population, by sex<br>and age<br>\",\"16.1.2 Conflict-<br>related deaths per<br>100,000 population,<br>by sex, age and<br>cause<br>\",\"16.1.3 Proportion of<br>population subjected<br>to (a) physical<br>violence, (b)<br>psychological<br>violence and (c)<br>sexual violence in<br>the previous 12<br>months<br>\",\"16.1.4 Proportion of<br>population that feel<br>safe walking alone<br>around the area they<br>live<br>\",\"16.2.1 Proportion of<br>children aged<br>1\\u201317\\u00a0years who<br>experienced any<br>physical punishment<br>and/or psychological<br>aggression by<br>caregivers in the<br>past month<br>\",\"16.2.2 Number of<br>victims of human<br>trafficking per<br>100,000 population,<br>by sex, age and form<br>of exploitation<br>\",\"16.2.3 Proportion of<br>young women and men<br>aged 18\\u201329\\u00a0years who<br>experienced sexual<br>violence by age\\u00a018<br>\",\"16.3.1 Proportion of<br>victims of violence<br>in the previous<br>12\\u00a0months who<br>reported their<br>victimization to<br>competent<br>authorities or other<br>officially<br>recognized conflict<br>resolution<br>mechanisms<br>\",\"16.3.2 Unsentenced<br>detainees as a<br>proportion of<br>overall prison<br>population<br>\",\"16.3.3 Proportion of<br>the population who<br>have experienced a<br>dispute in the past<br>two years and who<br>accessed a formal or<br>informal dispute<br>resolution<br>mechanism, by type<br>of mechanism<br>\",\"16.4.1 Total value<br>of inward and<br>outward illicit<br>financial flows (in<br>current United<br>States dollars)<br>\",\"16.4.2 Proportion of<br>seized, found or<br>surrendered arms<br>whose illicit origin<br>or context has been<br>traced or<br>established by a<br>competent authority<br>in line with<br>international<br>instruments<br>\",\"16.5.1 Proportion of<br>persons who had at<br>least one contact<br>with a public<br>official and who<br>paid a bribe to a<br>public official, or<br>were asked for a<br>bribe by those<br>public officials,<br>during the previous<br>12\\u00a0months<br>\",\"16.5.2 Proportion of<br>businesses that had<br>at least one contact<br>with a public<br>official and that<br>paid a bribe to a<br>public official, or<br>were asked for a<br>bribe by those<br>public officials<br>during the previous<br>12\\u00a0months<br>\",\"16.6.1 Primary<br>government<br>expenditures as a<br>proportion of<br>original approved<br>budget, by sector<br>(or by budget codes<br>or similar)<br>\",\"16.6.2 Proportion of<br>population satisfied<br>with their last<br>experience of public<br>services<br>\",\"16.7.1 Proportions<br>of positions in<br>national and local<br>institutions,<br>including (a) the<br>legislatures; (b)<br>the public service;<br>and (c) the<br>judiciary, compared<br>to national<br>distributions, by<br>sex, age, persons<br>with disabilities<br>and population<br>groups<br>\",\"16.7.2 Proportion of<br>population who<br>believe decision-<br>making is inclusive<br>and responsive, by<br>sex, age, disability<br>and population group<br>\",\"16.8.1 Proportion of<br>members and voting<br>rights of developing<br>countries in<br>international<br>organizations<br>\",\"16.9.1 Proportion of<br>children under<br>5\\u00a0years of age whose<br>births have been<br>registered with a<br>civil authority, by<br>age<br>\",\"16.10.1 Number of<br>verified cases of<br>killing, kidnapping,<br>enforced<br>disappearance,<br>arbitrary detention<br>and torture of<br>journalists,<br>associated media<br>personnel, trade<br>unionists and human<br>rights advocates in<br>the previous<br>12\\u00a0months<br>\",\"16.10.2 Number of<br>countries that adopt<br>and implement<br>constitutional,<br>statutory and/or<br>policy guarantees<br>for public access to<br>information<br>\",\"16.a.1 Existence of<br>independent national<br>human rights<br>institutions in<br>compliance with the<br>Paris Principles<br>\",\"16.b.1 Proportion of<br>population reporting<br>having personally<br>felt discriminated<br>against or harassed<br>in the previous 12<br>months on the basis<br>of a ground of<br>discrimination<br>prohibited under<br>international human<br>rights law<br>\",\"17.1.1 Total<br>government revenue<br>as a proportion of<br>GDP, by source<br>\",\"17.1.2 Proportion of<br>domestic budget<br>funded by domestic<br>taxes<br>\",\"17.2.1 Net official<br>development<br>assistance, total<br>and to least<br>developed countries,<br>as a proportion of<br>the Organization for<br>Economic Cooperation<br>and Development<br>(OECD) Development<br>Assistance Committee<br>donors\\u2019 gross<br>national income<br>(GNI)<br>\",\"17.3.1 Foreign<br>direct investment,<br>official development<br>assistance and<br>South-South<br>cooperation as a<br>proportion of gross<br>national income<br>\",\"17.3.2 Volume of<br>remittances (in<br>United States<br>dollars) as a<br>proportion of total<br>GDP<br>\",\"17.4.1 Debt service<br>as a proportion of<br>exports of goods and<br>services<br>\",\"17.5.1 Number of<br>countries that adopt<br>and implement<br>investment promotion<br>regimes for<br>developing<br>countries, including<br>the least developed<br>countries<br>\",\"17.6.1 Fixed<br>Internet broadband<br>subscriptions per<br>100 inhabitants, by<br>speed5<br>\",\"17.7.1 Total amount<br>of funding for<br>developing countries<br>to promote the<br>development,<br>transfer,<br>dissemination and<br>diffusion of<br>environmentally<br>sound technologies<br>\",\"17.8.1 Proportion of<br>individuals using<br>the Internet<br>\",\"17.9.1 Dollar value<br>of financial and<br>technical assistance<br>(including through<br>North-South,<br>South\\u2011South and<br>triangular<br>cooperation)<br>committed to<br>developing countries<br>\",\"17.10.1 Worldwide<br>weighted tariff-<br>average<br>\",\"17.11.1 Developing<br>countries\\u2019 and least<br>developed countries\\u2019<br>share of global<br>exports<br>\",\"17.12.1 Weighted<br>average tariffs<br>faced by developing<br>countries, least<br>developed countries<br>and small island<br>developing States<br>\",\"17.13.1<br>Macroeconomic<br>Dashboard<br>\",\"17.14.1 Number of<br>countries with<br>mechanisms in place<br>to enhance policy<br>coherence of<br>sustainable<br>development<br>\",\"17.15.1 Extent of<br>use of country-owned<br>results frameworks<br>and planning tools<br>by providers of<br>development<br>cooperation<br>\",\"17.16.1 Number of<br>countries reporting<br>progress in multi-<br>stakeholder<br>development<br>effectiveness<br>monitoring<br>frameworks that<br>support the<br>achievement of the<br>sustainable<br>development goals<br>\",\"17.17.1 Amount in<br>United States<br>dollars committed to<br>public-private<br>partnerships for<br>infrastructure<br>\",\"17.18.1 Statistical<br>capacity indicator<br>for Sustainable<br>Development Goal<br>monitoring<br>\",\"17.18.2 Number of<br>countries that have<br>national statistical<br>legislation that<br>complies with the<br>Fundamental<br>Principles of<br>Official Statistics<br>\",\"17.18.3 Number of<br>countries with a<br>national statistical<br>plan that is fully<br>funded and under<br>implementation, by<br>source of funding<br>\",\"17.19.1 Dollar value<br>of all resources<br>made available to<br>strengthen<br>statistical capacity<br>in developing<br>countries<br>\",\"17.19.2 Proportion<br>of countries that<br>(a) have conducted<br>at least one<br>population and<br>housing census in<br>the last 10\\u00a0years;<br>and (b) have<br>achieved<br>100\\u00a0per\\u00a0cent birth<br>registration and<br>80\\u00a0per\\u00a0cent death<br>registration<br>\"],\"maxdepth\":3,\"parents\":[\"\",\"SDGs<br>\",\"SDGs<br>\",\"SDGs<br>\",\"SDGs<br>\",\"SDGs<br>\",\"SDGs<br>\",\"SDGs<br>\",\"SDGs<br>\",\"SDGs<br>\",\"SDGs<br>\",\"SDGs<br>\",\"SDGs<br>\",\"SDGs<br>\",\"SDGs<br>\",\"SDGs<br>\",\"SDGs<br>\",\"SDGs<br>\",\"Goal 1. End poverty<br>in all its forms<br>everywhere<br>\",\"Goal 1. End poverty<br>in all its forms<br>everywhere<br>\",\"Goal 1. End poverty<br>in all its forms<br>everywhere<br>\",\"Goal 1. End poverty<br>in all its forms<br>everywhere<br>\",\"Goal 1. End poverty<br>in all its forms<br>everywhere<br>\",\"Goal 1. End poverty<br>in all its forms<br>everywhere<br>\",\"Goal 1. End poverty<br>in all its forms<br>everywhere<br>\",\"Goal 2. End hunger,<br>achieve food<br>security and<br>improved nutrition<br>and promote<br>sustainable<br>agriculture<br>\",\"Goal 2. End hunger,<br>achieve food<br>security and<br>improved nutrition<br>and promote<br>sustainable<br>agriculture<br>\",\"Goal 2. End hunger,<br>achieve food<br>security and<br>improved nutrition<br>and promote<br>sustainable<br>agriculture<br>\",\"Goal 2. End hunger,<br>achieve food<br>security and<br>improved nutrition<br>and promote<br>sustainable<br>agriculture<br>\",\"Goal 2. End hunger,<br>achieve food<br>security and<br>improved nutrition<br>and promote<br>sustainable<br>agriculture<br>\",\"Goal 2. End hunger,<br>achieve food<br>security and<br>improved nutrition<br>and promote<br>sustainable<br>agriculture<br>\",\"Goal 2. End hunger,<br>achieve food<br>security and<br>improved nutrition<br>and promote<br>sustainable<br>agriculture<br>\",\"Goal 2. End hunger,<br>achieve food<br>security and<br>improved nutrition<br>and promote<br>sustainable<br>agriculture<br>\",\"Goal 3. Ensure<br>healthy lives and<br>promote well-being<br>for all at all ages<br>\",\"Goal 3. Ensure<br>healthy lives and<br>promote well-being<br>for all at all ages<br>\",\"Goal 3. Ensure<br>healthy lives and<br>promote well-being<br>for all at all ages<br>\",\"Goal 3. Ensure<br>healthy lives and<br>promote well-being<br>for all at all ages<br>\",\"Goal 3. Ensure<br>healthy lives and<br>promote well-being<br>for all at all ages<br>\",\"Goal 3. Ensure<br>healthy lives and<br>promote well-being<br>for all at all ages<br>\",\"Goal 3. Ensure<br>healthy lives and<br>promote well-being<br>for all at all ages<br>\",\"Goal 3. Ensure<br>healthy lives and<br>promote well-being<br>for all at all ages<br>\",\"Goal 3. Ensure<br>healthy lives and<br>promote well-being<br>for all at all ages<br>\",\"Goal 3. Ensure<br>healthy lives and<br>promote well-being<br>for all at all ages<br>\",\"Goal 3. Ensure<br>healthy lives and<br>promote well-being<br>for all at all ages<br>\",\"Goal 3. Ensure<br>healthy lives and<br>promote well-being<br>for all at all ages<br>\",\"Goal 3. Ensure<br>healthy lives and<br>promote well-being<br>for all at all ages<br>\",\"Goal 4. Ensure<br>inclusive and<br>equitable quality<br>education and<br>promote lifelong<br>learning<br>opportunities for<br>all<br>\",\"Goal 4. Ensure<br>inclusive and<br>equitable quality<br>education and<br>promote lifelong<br>learning<br>opportunities for<br>all<br>\",\"Goal 4. Ensure<br>inclusive and<br>equitable quality<br>education and<br>promote lifelong<br>learning<br>opportunities for<br>all<br>\",\"Goal 4. Ensure<br>inclusive and<br>equitable quality<br>education and<br>promote lifelong<br>learning<br>opportunities for<br>all<br>\",\"Goal 4. Ensure<br>inclusive and<br>equitable quality<br>education and<br>promote lifelong<br>learning<br>opportunities for<br>all<br>\",\"Goal 4. Ensure<br>inclusive and<br>equitable quality<br>education and<br>promote lifelong<br>learning<br>opportunities for<br>all<br>\",\"Goal 4. Ensure<br>inclusive and<br>equitable quality<br>education and<br>promote lifelong<br>learning<br>opportunities for<br>all<br>\",\"Goal 4. Ensure<br>inclusive and<br>equitable quality<br>education and<br>promote lifelong<br>learning<br>opportunities for<br>all<br>\",\"Goal 4. Ensure<br>inclusive and<br>equitable quality<br>education and<br>promote lifelong<br>learning<br>opportunities for<br>all<br>\",\"Goal 4. Ensure<br>inclusive and<br>equitable quality<br>education and<br>promote lifelong<br>learning<br>opportunities for<br>all<br>\",\"Goal 5. Achieve<br>gender equality and<br>empower all women<br>and girls<br>\",\"Goal 5. Achieve<br>gender equality and<br>empower all women<br>and girls<br>\",\"Goal 5. Achieve<br>gender equality and<br>empower all women<br>and girls<br>\",\"Goal 5. Achieve<br>gender equality and<br>empower all women<br>and girls<br>\",\"Goal 5. Achieve<br>gender equality and<br>empower all women<br>and girls<br>\",\"Goal 5. Achieve<br>gender equality and<br>empower all women<br>and girls<br>\",\"Goal 5. Achieve<br>gender equality and<br>empower all women<br>and girls<br>\",\"Goal 5. Achieve<br>gender equality and<br>empower all women<br>and girls<br>\",\"Goal 5. Achieve<br>gender equality and<br>empower all women<br>and girls<br>\",\"Goal 6. Ensure<br>availability and<br>sustainable<br>management of water<br>and sanitation for<br>all<br>\",\"Goal 6. Ensure<br>availability and<br>sustainable<br>management of water<br>and sanitation for<br>all<br>\",\"Goal 6. Ensure<br>availability and<br>sustainable<br>management of water<br>and sanitation for<br>all<br>\",\"Goal 6. Ensure<br>availability and<br>sustainable<br>management of water<br>and sanitation for<br>all<br>\",\"Goal 6. Ensure<br>availability and<br>sustainable<br>management of water<br>and sanitation for<br>all<br>\",\"Goal 6. Ensure<br>availability and<br>sustainable<br>management of water<br>and sanitation for<br>all<br>\",\"Goal 6. Ensure<br>availability and<br>sustainable<br>management of water<br>and sanitation for<br>all<br>\",\"Goal 6. Ensure<br>availability and<br>sustainable<br>management of water<br>and sanitation for<br>all<br>\",\"Goal 7. Ensure<br>access to<br>affordable,<br>reliable,<br>sustainable and<br>modern energy for<br>all<br>\",\"Goal 7. Ensure<br>access to<br>affordable,<br>reliable,<br>sustainable and<br>modern energy for<br>all<br>\",\"Goal 7. Ensure<br>access to<br>affordable,<br>reliable,<br>sustainable and<br>modern energy for<br>all<br>\",\"Goal 7. Ensure<br>access to<br>affordable,<br>reliable,<br>sustainable and<br>modern energy for<br>all<br>\",\"Goal 7. Ensure<br>access to<br>affordable,<br>reliable,<br>sustainable and<br>modern energy for<br>all<br>\",\"Goal 8. Promote<br>sustained, inclusive<br>and sustainable<br>economic growth,<br>full and productive<br>employment and<br>decent work for all<br>\",\"Goal 8. Promote<br>sustained, inclusive<br>and sustainable<br>economic growth,<br>full and productive<br>employment and<br>decent work for all<br>\",\"Goal 8. Promote<br>sustained, inclusive<br>and sustainable<br>economic growth,<br>full and productive<br>employment and<br>decent work for all<br>\",\"Goal 8. Promote<br>sustained, inclusive<br>and sustainable<br>economic growth,<br>full and productive<br>employment and<br>decent work for all<br>\",\"Goal 8. Promote<br>sustained, inclusive<br>and sustainable<br>economic growth,<br>full and productive<br>employment and<br>decent work for all<br>\",\"Goal 8. Promote<br>sustained, inclusive<br>and sustainable<br>economic growth,<br>full and productive<br>employment and<br>decent work for all<br>\",\"Goal 8. Promote<br>sustained, inclusive<br>and sustainable<br>economic growth,<br>full and productive<br>employment and<br>decent work for all<br>\",\"Goal 8. Promote<br>sustained, inclusive<br>and sustainable<br>economic growth,<br>full and productive<br>employment and<br>decent work for all<br>\",\"Goal 8. Promote<br>sustained, inclusive<br>and sustainable<br>economic growth,<br>full and productive<br>employment and<br>decent work for all<br>\",\"Goal 8. Promote<br>sustained, inclusive<br>and sustainable<br>economic growth,<br>full and productive<br>employment and<br>decent work for all<br>\",\"Goal 8. Promote<br>sustained, inclusive<br>and sustainable<br>economic growth,<br>full and productive<br>employment and<br>decent work for all<br>\",\"Goal 8. Promote<br>sustained, inclusive<br>and sustainable<br>economic growth,<br>full and productive<br>employment and<br>decent work for all<br>\",\"Goal 9. Build<br>resilient<br>infrastructure,<br>promote inclusive<br>and sustainable<br>industrialization<br>and foster<br>innovation<br>\",\"Goal 9. Build<br>resilient<br>infrastructure,<br>promote inclusive<br>and sustainable<br>industrialization<br>and foster<br>innovation<br>\",\"Goal 9. Build<br>resilient<br>infrastructure,<br>promote inclusive<br>and sustainable<br>industrialization<br>and foster<br>innovation<br>\",\"Goal 9. Build<br>resilient<br>infrastructure,<br>promote inclusive<br>and sustainable<br>industrialization<br>and foster<br>innovation<br>\",\"Goal 9. Build<br>resilient<br>infrastructure,<br>promote inclusive<br>and sustainable<br>industrialization<br>and foster<br>innovation<br>\",\"Goal 9. Build<br>resilient<br>infrastructure,<br>promote inclusive<br>and sustainable<br>industrialization<br>and foster<br>innovation<br>\",\"Goal 9. Build<br>resilient<br>infrastructure,<br>promote inclusive<br>and sustainable<br>industrialization<br>and foster<br>innovation<br>\",\"Goal 9. Build<br>resilient<br>infrastructure,<br>promote inclusive<br>and sustainable<br>industrialization<br>and foster<br>innovation<br>\",\"Goal 10. Reduce<br>inequality within<br>and among countries<br>\",\"Goal 10. Reduce<br>inequality within<br>and among countries<br>\",\"Goal 10. Reduce<br>inequality within<br>and among countries<br>\",\"Goal 10. Reduce<br>inequality within<br>and among countries<br>\",\"Goal 10. Reduce<br>inequality within<br>and among countries<br>\",\"Goal 10. Reduce<br>inequality within<br>and among countries<br>\",\"Goal 10. Reduce<br>inequality within<br>and among countries<br>\",\"Goal 10. Reduce<br>inequality within<br>and among countries<br>\",\"Goal 10. Reduce<br>inequality within<br>and among countries<br>\",\"Goal 10. Reduce<br>inequality within<br>and among countries<br>\",\"Goal 11. Make cities<br>and human<br>settlements<br>inclusive, safe,<br>resilient and<br>sustainable<br>\",\"Goal 11. Make cities<br>and human<br>settlements<br>inclusive, safe,<br>resilient and<br>sustainable<br>\",\"Goal 11. Make cities<br>and human<br>settlements<br>inclusive, safe,<br>resilient and<br>sustainable<br>\",\"Goal 11. Make cities<br>and human<br>settlements<br>inclusive, safe,<br>resilient and<br>sustainable<br>\",\"Goal 11. Make cities<br>and human<br>settlements<br>inclusive, safe,<br>resilient and<br>sustainable<br>\",\"Goal 11. Make cities<br>and human<br>settlements<br>inclusive, safe,<br>resilient and<br>sustainable<br>\",\"Goal 11. Make cities<br>and human<br>settlements<br>inclusive, safe,<br>resilient and<br>sustainable<br>\",\"Goal 11. Make cities<br>and human<br>settlements<br>inclusive, safe,<br>resilient and<br>sustainable<br>\",\"Goal 11. Make cities<br>and human<br>settlements<br>inclusive, safe,<br>resilient and<br>sustainable<br>\",\"Goal 11. Make cities<br>and human<br>settlements<br>inclusive, safe,<br>resilient and<br>sustainable<br>\",\"Goal 12. Ensure<br>sustainable<br>consumption and<br>production patterns<br>\",\"Goal 12. Ensure<br>sustainable<br>consumption and<br>production patterns<br>\",\"Goal 12. Ensure<br>sustainable<br>consumption and<br>production patterns<br>\",\"Goal 12. Ensure<br>sustainable<br>consumption and<br>production patterns<br>\",\"Goal 12. Ensure<br>sustainable<br>consumption and<br>production patterns<br>\",\"Goal 12. Ensure<br>sustainable<br>consumption and<br>production patterns<br>\",\"Goal 12. Ensure<br>sustainable<br>consumption and<br>production patterns<br>\",\"Goal 12. Ensure<br>sustainable<br>consumption and<br>production patterns<br>\",\"Goal 12. Ensure<br>sustainable<br>consumption and<br>production patterns<br>\",\"Goal 12. Ensure<br>sustainable<br>consumption and<br>production patterns<br>\",\"Goal 12. Ensure<br>sustainable<br>consumption and<br>production patterns<br>\",\"Goal 13. Take urgent<br>action to combat<br>climate change and<br>its impacts<br>\",\"Goal 13. Take urgent<br>action to combat<br>climate change and<br>its impacts<br>\",\"Goal 13. Take urgent<br>action to combat<br>climate change and<br>its impacts<br>\",\"Goal 13. Take urgent<br>action to combat<br>climate change and<br>its impacts<br>\",\"Goal 13. Take urgent<br>action to combat<br>climate change and<br>its impacts<br>\",\"Goal 14. Conserve<br>and sustainably use<br>the oceans, seas and<br>marine resources for<br>sustainable<br>development<br>\",\"Goal 14. Conserve<br>and sustainably use<br>the oceans, seas and<br>marine resources for<br>sustainable<br>development<br>\",\"Goal 14. Conserve<br>and sustainably use<br>the oceans, seas and<br>marine resources for<br>sustainable<br>development<br>\",\"Goal 14. Conserve<br>and sustainably use<br>the oceans, seas and<br>marine resources for<br>sustainable<br>development<br>\",\"Goal 14. Conserve<br>and sustainably use<br>the oceans, seas and<br>marine resources for<br>sustainable<br>development<br>\",\"Goal 14. Conserve<br>and sustainably use<br>the oceans, seas and<br>marine resources for<br>sustainable<br>development<br>\",\"Goal 14. Conserve<br>and sustainably use<br>the oceans, seas and<br>marine resources for<br>sustainable<br>development<br>\",\"Goal 14. Conserve<br>and sustainably use<br>the oceans, seas and<br>marine resources for<br>sustainable<br>development<br>\",\"Goal 14. Conserve<br>and sustainably use<br>the oceans, seas and<br>marine resources for<br>sustainable<br>development<br>\",\"Goal 14. Conserve<br>and sustainably use<br>the oceans, seas and<br>marine resources for<br>sustainable<br>development<br>\",\"Goal 15. Protect,<br>restore and promote<br>sustainable use of<br>terrestrial<br>ecosystems,<br>sustainably manage<br>forests, combat\\u00a0dese<br>rtification, and<br>halt and reverse<br>land degradation and<br>halt biodiversity<br>loss<br>\",\"Goal 15. Protect,<br>restore and promote<br>sustainable use of<br>terrestrial<br>ecosystems,<br>sustainably manage<br>forests, combat\\u00a0dese<br>rtification, and<br>halt and reverse<br>land degradation and<br>halt biodiversity<br>loss<br>\",\"Goal 15. Protect,<br>restore and promote<br>sustainable use of<br>terrestrial<br>ecosystems,<br>sustainably manage<br>forests, combat\\u00a0dese<br>rtification, and<br>halt and reverse<br>land degradation and<br>halt biodiversity<br>loss<br>\",\"Goal 15. Protect,<br>restore and promote<br>sustainable use of<br>terrestrial<br>ecosystems,<br>sustainably manage<br>forests, combat\\u00a0dese<br>rtification, and<br>halt and reverse<br>land degradation and<br>halt biodiversity<br>loss<br>\",\"Goal 15. Protect,<br>restore and promote<br>sustainable use of<br>terrestrial<br>ecosystems,<br>sustainably manage<br>forests, combat\\u00a0dese<br>rtification, and<br>halt and reverse<br>land degradation and<br>halt biodiversity<br>loss<br>\",\"Goal 15. Protect,<br>restore and promote<br>sustainable use of<br>terrestrial<br>ecosystems,<br>sustainably manage<br>forests, combat\\u00a0dese<br>rtification, and<br>halt and reverse<br>land degradation and<br>halt biodiversity<br>loss<br>\",\"Goal 15. Protect,<br>restore and promote<br>sustainable use of<br>terrestrial<br>ecosystems,<br>sustainably manage<br>forests, combat\\u00a0dese<br>rtification, and<br>halt and reverse<br>land degradation and<br>halt biodiversity<br>loss<br>\",\"Goal 15. Protect,<br>restore and promote<br>sustainable use of<br>terrestrial<br>ecosystems,<br>sustainably manage<br>forests, combat\\u00a0dese<br>rtification, and<br>halt and reverse<br>land degradation and<br>halt biodiversity<br>loss<br>\",\"Goal 15. Protect,<br>restore and promote<br>sustainable use of<br>terrestrial<br>ecosystems,<br>sustainably manage<br>forests, combat\\u00a0dese<br>rtification, and<br>halt and reverse<br>land degradation and<br>halt biodiversity<br>loss<br>\",\"Goal 15. Protect,<br>restore and promote<br>sustainable use of<br>terrestrial<br>ecosystems,<br>sustainably manage<br>forests, combat\\u00a0dese<br>rtification, and<br>halt and reverse<br>land degradation and<br>halt biodiversity<br>loss<br>\",\"Goal 15. Protect,<br>restore and promote<br>sustainable use of<br>terrestrial<br>ecosystems,<br>sustainably manage<br>forests, combat\\u00a0dese<br>rtification, and<br>halt and reverse<br>land degradation and<br>halt biodiversity<br>loss<br>\",\"Goal 15. Protect,<br>restore and promote<br>sustainable use of<br>terrestrial<br>ecosystems,<br>sustainably manage<br>forests, combat\\u00a0dese<br>rtification, and<br>halt and reverse<br>land degradation and<br>halt biodiversity<br>loss<br>\",\"Goal 16. Promote<br>peaceful and<br>inclusive societies<br>for sustainable<br>development, provide<br>access to justice<br>for all and\\u00a0build<br>effective,<br>accountable and<br>inclusive<br>institutions at all<br>levels<br>\",\"Goal 16. Promote<br>peaceful and<br>inclusive societies<br>for sustainable<br>development, provide<br>access to justice<br>for all and\\u00a0build<br>effective,<br>accountable and<br>inclusive<br>institutions at all<br>levels<br>\",\"Goal 16. Promote<br>peaceful and<br>inclusive societies<br>for sustainable<br>development, provide<br>access to justice<br>for all and\\u00a0build<br>effective,<br>accountable and<br>inclusive<br>institutions at all<br>levels<br>\",\"Goal 16. Promote<br>peaceful and<br>inclusive societies<br>for sustainable<br>development, provide<br>access to justice<br>for all and\\u00a0build<br>effective,<br>accountable and<br>inclusive<br>institutions at all<br>levels<br>\",\"Goal 16. Promote<br>peaceful and<br>inclusive societies<br>for sustainable<br>development, provide<br>access to justice<br>for all and\\u00a0build<br>effective,<br>accountable and<br>inclusive<br>institutions at all<br>levels<br>\",\"Goal 16. Promote<br>peaceful and<br>inclusive societies<br>for sustainable<br>development, provide<br>access to justice<br>for all and\\u00a0build<br>effective,<br>accountable and<br>inclusive<br>institutions at all<br>levels<br>\",\"Goal 16. Promote<br>peaceful and<br>inclusive societies<br>for sustainable<br>development, provide<br>access to justice<br>for all and\\u00a0build<br>effective,<br>accountable and<br>inclusive<br>institutions at all<br>levels<br>\",\"Goal 16. Promote<br>peaceful and<br>inclusive societies<br>for sustainable<br>development, provide<br>access to justice<br>for all and\\u00a0build<br>effective,<br>accountable and<br>inclusive<br>institutions at all<br>levels<br>\",\"Goal 16. Promote<br>peaceful and<br>inclusive societies<br>for sustainable<br>development, provide<br>access to justice<br>for all and\\u00a0build<br>effective,<br>accountable and<br>inclusive<br>institutions at all<br>levels<br>\",\"Goal 16. Promote<br>peaceful and<br>inclusive societies<br>for sustainable<br>development, provide<br>access to justice<br>for all and\\u00a0build<br>effective,<br>accountable and<br>inclusive<br>institutions at all<br>levels<br>\",\"Goal 16. Promote<br>peaceful and<br>inclusive societies<br>for sustainable<br>development, provide<br>access to justice<br>for all and\\u00a0build<br>effective,<br>accountable and<br>inclusive<br>institutions at all<br>levels<br>\",\"Goal 16. Promote<br>peaceful and<br>inclusive societies<br>for sustainable<br>development, provide<br>access to justice<br>for all and\\u00a0build<br>effective,<br>accountable and<br>inclusive<br>institutions at all<br>levels<br>\",\"Goal 17  Strengthen<br>the means of<br>implementation and<br>revitalize the<br>Global Partnership<br>for Sustainable\\u00a0Deve<br>lopment<br>\",\"Goal 17  Strengthen<br>the means of<br>implementation and<br>revitalize the<br>Global Partnership<br>for Sustainable\\u00a0Deve<br>lopment<br>\",\"Goal 17  Strengthen<br>the means of<br>implementation and<br>revitalize the<br>Global Partnership<br>for Sustainable\\u00a0Deve<br>lopment<br>\",\"Goal 17  Strengthen<br>the means of<br>implementation and<br>revitalize the<br>Global Partnership<br>for Sustainable\\u00a0Deve<br>lopment<br>\",\"Goal 17  Strengthen<br>the means of<br>implementation and<br>revitalize the<br>Global Partnership<br>for Sustainable\\u00a0Deve<br>lopment<br>\",\"Goal 17  Strengthen<br>the means of<br>implementation and<br>revitalize the<br>Global Partnership<br>for Sustainable\\u00a0Deve<br>lopment<br>\",\"Goal 17  Strengthen<br>the means of<br>implementation and<br>revitalize the<br>Global Partnership<br>for Sustainable\\u00a0Deve<br>lopment<br>\",\"Goal 17  Strengthen<br>the means of<br>implementation and<br>revitalize the<br>Global Partnership<br>for Sustainable\\u00a0Deve<br>lopment<br>\",\"Goal 17  Strengthen<br>the means of<br>implementation and<br>revitalize the<br>Global Partnership<br>for Sustainable\\u00a0Deve<br>lopment<br>\",\"Goal 17  Strengthen<br>the means of<br>implementation and<br>revitalize the<br>Global Partnership<br>for Sustainable\\u00a0Deve<br>lopment<br>\",\"Goal 17  Strengthen<br>the means of<br>implementation and<br>revitalize the<br>Global Partnership<br>for Sustainable\\u00a0Deve<br>lopment<br>\",\"Goal 17  Strengthen<br>the means of<br>implementation and<br>revitalize the<br>Global Partnership<br>for Sustainable\\u00a0Deve<br>lopment<br>\",\"Goal 17  Strengthen<br>the means of<br>implementation and<br>revitalize the<br>Global Partnership<br>for Sustainable\\u00a0Deve<br>lopment<br>\",\"Goal 17  Strengthen<br>the means of<br>implementation and<br>revitalize the<br>Global Partnership<br>for Sustainable\\u00a0Deve<br>lopment<br>\",\"Goal 17  Strengthen<br>the means of<br>implementation and<br>revitalize the<br>Global Partnership<br>for Sustainable\\u00a0Deve<br>lopment<br>\",\"Goal 17  Strengthen<br>the means of<br>implementation and<br>revitalize the<br>Global Partnership<br>for Sustainable\\u00a0Deve<br>lopment<br>\",\"Goal 17  Strengthen<br>the means of<br>implementation and<br>revitalize the<br>Global Partnership<br>for Sustainable\\u00a0Deve<br>lopment<br>\",\"Goal 17  Strengthen<br>the means of<br>implementation and<br>revitalize the<br>Global Partnership<br>for Sustainable\\u00a0Deve<br>lopment<br>\",\"Goal 17  Strengthen<br>the means of<br>implementation and<br>revitalize the<br>Global Partnership<br>for Sustainable\\u00a0Deve<br>lopment<br>\",\"1.1 By 2030,<br>eradicate extreme<br>poverty for all<br>people everywhere,<br>currently measured<br>as people living on<br>less than $1.25 a<br>day<br>\",\"1.2 By 2030, reduce<br>at least by half the<br>proportion of men,<br>women and children<br>of all ages living<br>in poverty in all<br>its dimensions<br>according to<br>national definitions<br>\",\"1.2 By 2030, reduce<br>at least by half the<br>proportion of men,<br>women and children<br>of all ages living<br>in poverty in all<br>its dimensions<br>according to<br>national definitions<br>\",\"1.3 Implement<br>nationally<br>appropriate social<br>protection systems<br>and measures for<br>all, including<br>floors, and by 2030<br>achieve substantial<br>coverage of the poor<br>and the vulnerable<br>\",\"1.4 By 2030, ensure<br>that all men and<br>women, in particular<br>the poor and the<br>vulnerable, have<br>equal rights to<br>economic resources,<br>as well as access to<br>basic services,<br>ownership and<br>control over land<br>and other forms of<br>property,<br>inheritance, natural<br>resources,<br>appropriate new<br>technology and<br>financial services,<br>including<br>microfinance<br>\",\"1.4 By 2030, ensure<br>that all men and<br>women, in particular<br>the poor and the<br>vulnerable, have<br>equal rights to<br>economic resources,<br>as well as access to<br>basic services,<br>ownership and<br>control over land<br>and other forms of<br>property,<br>inheritance, natural<br>resources,<br>appropriate new<br>technology and<br>financial services,<br>including<br>microfinance<br>\",\"1.5 By 2030, build<br>the resilience of<br>the poor and those<br>in vulnerable<br>situations and<br>reduce their<br>exposure and<br>vulnerability to<br>climate-related<br>extreme events and<br>other economic,<br>social and<br>environmental shocks<br>and disasters<br>\",\"1.5 By 2030, build<br>the resilience of<br>the poor and those<br>in vulnerable<br>situations and<br>reduce their<br>exposure and<br>vulnerability to<br>climate-related<br>extreme events and<br>other economic,<br>social and<br>environmental shocks<br>and disasters<br>\",\"1.5 By 2030, build<br>the resilience of<br>the poor and those<br>in vulnerable<br>situations and<br>reduce their<br>exposure and<br>vulnerability to<br>climate-related<br>extreme events and<br>other economic,<br>social and<br>environmental shocks<br>and disasters<br>\",\"1.5 By 2030, build<br>the resilience of<br>the poor and those<br>in vulnerable<br>situations and<br>reduce their<br>exposure and<br>vulnerability to<br>climate-related<br>extreme events and<br>other economic,<br>social and<br>environmental shocks<br>and disasters<br>\",\"1.a Ensure<br>significant<br>mobilization of<br>resources from a<br>variety of sources,<br>including through<br>enhanced development<br>cooperation, in<br>order to provide<br>adequate and<br>predictable means<br>for developing<br>countries, in<br>particular least<br>developed countries,<br>to implement<br>programmes and<br>policies to end<br>poverty in all its<br>dimensions<br>\",\"1.a Ensure<br>significant<br>mobilization of<br>resources from a<br>variety of sources,<br>including through<br>enhanced development<br>cooperation, in<br>order to provide<br>adequate and<br>predictable means<br>for developing<br>countries, in<br>particular least<br>developed countries,<br>to implement<br>programmes and<br>policies to end<br>poverty in all its<br>dimensions<br>\",\"1.b Create sound<br>policy frameworks at<br>the national,<br>regional and<br>international<br>levels, based on<br>pro-poor and gender-<br>sensitive<br>development<br>strategies, to<br>support accelerated<br>investment in<br>poverty eradication<br>actions<br>\",\"2.1 By 2030, end<br>hunger and ensure<br>access by all<br>people, in<br>particular the poor<br>and people in<br>vulnerable<br>situations,<br>including infants,<br>to safe, nutritious<br>and sufficient food<br>all year round<br>\",\"2.1 By 2030, end<br>hunger and ensure<br>access by all<br>people, in<br>particular the poor<br>and people in<br>vulnerable<br>situations,<br>including infants,<br>to safe, nutritious<br>and sufficient food<br>all year round<br>\",\"2.2 By 2030, end all<br>forms of<br>malnutrition,<br>including achieving,<br>by 2025, the<br>internationally<br>agreed targets on<br>stunting and wasting<br>in children under<br>5\\u00a0years of age, and<br>address the<br>nutritional needs of<br>adolescent girls,<br>pregnant and<br>lactating women and<br>older persons<br>\",\"2.2 By 2030, end all<br>forms of<br>malnutrition,<br>including achieving,<br>by 2025, the<br>internationally<br>agreed targets on<br>stunting and wasting<br>in children under<br>5\\u00a0years of age, and<br>address the<br>nutritional needs of<br>adolescent girls,<br>pregnant and<br>lactating women and<br>older persons<br>\",\"2.2 By 2030, end all<br>forms of<br>malnutrition,<br>including achieving,<br>by 2025, the<br>internationally<br>agreed targets on<br>stunting and wasting<br>in children under<br>5\\u00a0years of age, and<br>address the<br>nutritional needs of<br>adolescent girls,<br>pregnant and<br>lactating women and<br>older persons<br>\",\"2.3 By 2030, double<br>the agricultural<br>productivity and<br>incomes of small-<br>scale food<br>producers, in<br>particular women,<br>indigenous peoples,<br>family farmers,<br>pastoralists and<br>fishers, including<br>through secure and<br>equal access to<br>land, other<br>productive resources<br>and inputs,<br>knowledge, financial<br>services, markets<br>and opportunities<br>for value addition<br>and non-farm<br>employment<br>\",\"2.3 By 2030, double<br>the agricultural<br>productivity and<br>incomes of small-<br>scale food<br>producers, in<br>particular women,<br>indigenous peoples,<br>family farmers,<br>pastoralists and<br>fishers, including<br>through secure and<br>equal access to<br>land, other<br>productive resources<br>and inputs,<br>knowledge, financial<br>services, markets<br>and opportunities<br>for value addition<br>and non-farm<br>employment<br>\",\"2.4 By 2030, ensure<br>sustainable food<br>production systems<br>and implement<br>resilient<br>agricultural<br>practices that<br>increase<br>productivity and<br>production, that<br>help maintain<br>ecosystems, that<br>strengthen capacity<br>for adaptation to<br>climate change,<br>extreme weather,<br>drought, flooding<br>and other disasters<br>and that<br>progressively<br>improve land and<br>soil quality<br>\",\"2.5 By 2020,<br>maintain the genetic<br>diversity of seeds,<br>cultivated plants<br>and farmed and<br>domesticated animals<br>and their related<br>wild species,<br>including through<br>soundly managed and<br>diversified seed and<br>plant banks at the<br>national, regional<br>and international<br>levels, and promote<br>access to and fair<br>and equitable<br>sharing of benefits<br>arising from the<br>utilization of<br>genetic resources<br>and associated<br>traditional<br>knowledge, as<br>internationally<br>agreed<br>\",\"2.5 By 2020,<br>maintain the genetic<br>diversity of seeds,<br>cultivated plants<br>and farmed and<br>domesticated animals<br>and their related<br>wild species,<br>including through<br>soundly managed and<br>diversified seed and<br>plant banks at the<br>national, regional<br>and international<br>levels, and promote<br>access to and fair<br>and equitable<br>sharing of benefits<br>arising from the<br>utilization of<br>genetic resources<br>and associated<br>traditional<br>knowledge, as<br>internationally<br>agreed<br>\",\"2.a Increase<br>investment,<br>including through<br>enhanced<br>international<br>cooperation, in<br>rural<br>infrastructure,<br>agricultural<br>research and<br>extension services,<br>technology<br>development and<br>plant and livestock<br>gene banks in order<br>to enhance<br>agricultural<br>productive capacity<br>in developing<br>countries, in<br>particular least<br>developed countries<br>\",\"2.a Increase<br>investment,<br>including through<br>enhanced<br>international<br>cooperation, in<br>rural<br>infrastructure,<br>agricultural<br>research and<br>extension services,<br>technology<br>development and<br>plant and livestock<br>gene banks in order<br>to enhance<br>agricultural<br>productive capacity<br>in developing<br>countries, in<br>particular least<br>developed countries<br>\",\"2.b Correct and<br>prevent trade<br>restrictions and<br>distortions in world<br>agricultural<br>markets, including<br>through the parallel<br>elimination of all<br>forms of<br>agricultural export<br>subsidies and all<br>export measures with<br>equivalent effect,<br>in accordance with<br>the mandate of the<br>Doha Development<br>Round<br>\",\"2.c Adopt measures<br>to ensure the proper<br>functioning of food<br>commodity markets<br>and their<br>derivatives and<br>facilitate timely<br>access to market<br>information,<br>including on food<br>reserves, in order<br>to help limit<br>extreme food price<br>volatility<br>\",\"3.1 By 2030, reduce<br>the global maternal<br>mortality ratio to<br>less than 70 per<br>100,000 live births<br>\",\"3.1 By 2030, reduce<br>the global maternal<br>mortality ratio to<br>less than 70 per<br>100,000 live births<br>\",\"3.2 By 2030, end<br>preventable deaths<br>of newborns and<br>children under<br>5\\u00a0years of age, with<br>all countries aiming<br>to reduce neonatal<br>mortality to at<br>least as low as 12<br>per 1,000 live<br>births and under\\u20115<br>mortality to at<br>least as low as 25<br>per 1,000 live<br>births<br>\",\"3.2 By 2030, end<br>preventable deaths<br>of newborns and<br>children under<br>5\\u00a0years of age, with<br>all countries aiming<br>to reduce neonatal<br>mortality to at<br>least as low as 12<br>per 1,000 live<br>births and under\\u20115<br>mortality to at<br>least as low as 25<br>per 1,000 live<br>births<br>\",\"3.3 By 2030, end the<br>epidemics of AIDS,<br>tuberculosis,<br>malaria and<br>neglected tropical<br>diseases and combat<br>hepatitis, water-<br>borne diseases and<br>other communicable<br>diseases<br>\",\"3.3 By 2030, end the<br>epidemics of AIDS,<br>tuberculosis,<br>malaria and<br>neglected tropical<br>diseases and combat<br>hepatitis, water-<br>borne diseases and<br>other communicable<br>diseases<br>\",\"3.3 By 2030, end the<br>epidemics of AIDS,<br>tuberculosis,<br>malaria and<br>neglected tropical<br>diseases and combat<br>hepatitis, water-<br>borne diseases and<br>other communicable<br>diseases<br>\",\"3.3 By 2030, end the<br>epidemics of AIDS,<br>tuberculosis,<br>malaria and<br>neglected tropical<br>diseases and combat<br>hepatitis, water-<br>borne diseases and<br>other communicable<br>diseases<br>\",\"3.3 By 2030, end the<br>epidemics of AIDS,<br>tuberculosis,<br>malaria and<br>neglected tropical<br>diseases and combat<br>hepatitis, water-<br>borne diseases and<br>other communicable<br>diseases<br>\",\"3.4 By 2030, reduce<br>by one third<br>premature mortality<br>from non-<br>communicable<br>diseases through<br>prevention and<br>treatment and<br>promote mental<br>health and well-<br>being<br>\",\"3.4 By 2030, reduce<br>by one third<br>premature mortality<br>from non-<br>communicable<br>diseases through<br>prevention and<br>treatment and<br>promote mental<br>health and well-<br>being<br>\",\"3.5 Strengthen the<br>prevention and<br>treatment of<br>substance abuse,<br>including narcotic<br>drug abuse and<br>harmful use of<br>alcohol<br>\",\"3.5 Strengthen the<br>prevention and<br>treatment of<br>substance abuse,<br>including narcotic<br>drug abuse and<br>harmful use of<br>alcohol<br>\",\"3.6 By 2020, halve<br>the number of global<br>deaths and injuries<br>from road traffic<br>accidents<br>\",\"3.7 By 2030, ensure<br>universal access to<br>sexual and<br>reproductive health-<br>care services,<br>including for family<br>planning,<br>information and<br>education, and the<br>integration of<br>reproductive health<br>into national<br>strategies and<br>programmes<br>\",\"3.7 By 2030, ensure<br>universal access to<br>sexual and<br>reproductive health-<br>care services,<br>including for family<br>planning,<br>information and<br>education, and the<br>integration of<br>reproductive health<br>into national<br>strategies and<br>programmes<br>\",\"3.8 Achieve<br>universal health<br>coverage, including<br>financial risk<br>protection, access<br>to quality essential<br>health-care services<br>and access to safe,<br>effective, quality<br>and affordable<br>essential medicines<br>and vaccines for all<br>\",\"3.8 Achieve<br>universal health<br>coverage, including<br>financial risk<br>protection, access<br>to quality essential<br>health-care services<br>and access to safe,<br>effective, quality<br>and affordable<br>essential medicines<br>and vaccines for all<br>\",\"3.9 By 2030,<br>substantially reduce<br>the number of deaths<br>and illnesses from<br>hazardous chemicals<br>and air, water and<br>soil pollution and<br>contamination<br>\",\"3.9 By 2030,<br>substantially reduce<br>the number of deaths<br>and illnesses from<br>hazardous chemicals<br>and air, water and<br>soil pollution and<br>contamination<br>\",\"3.9 By 2030,<br>substantially reduce<br>the number of deaths<br>and illnesses from<br>hazardous chemicals<br>and air, water and<br>soil pollution and<br>contamination<br>\",\"3.a Strengthen the<br>implementation of<br>the World Health<br>Organization<br>Framework Convention<br>on Tobacco Control<br>in all countries, as<br>appropriate<br>\",\"3.b Support the<br>research and<br>development of<br>vaccines and<br>medicines for the<br>communicable and<br>non\\u2011communicable<br>diseases that<br>primarily affect<br>developing<br>countries, provide<br>access to affordable<br>essential medicines<br>and vaccines, in<br>accordance with the<br>Doha Declaration on<br>the TRIPS Agreement<br>and Public Health,<br>which affirms the<br>right of developing<br>countries to use to<br>the full the<br>provisions in the<br>Agreement on Trade-<br>Related Aspects of<br>Intellectual<br>Property Rights<br>regarding<br>flexibilities to<br>protect public<br>health, and, in<br>particular, provide<br>access to medicines<br>for all<br>\",\"3.b Support the<br>research and<br>development of<br>vaccines and<br>medicines for the<br>communicable and<br>non\\u2011communicable<br>diseases that<br>primarily affect<br>developing<br>countries, provide<br>access to affordable<br>essential medicines<br>and vaccines, in<br>accordance with the<br>Doha Declaration on<br>the TRIPS Agreement<br>and Public Health,<br>which affirms the<br>right of developing<br>countries to use to<br>the full the<br>provisions in the<br>Agreement on Trade-<br>Related Aspects of<br>Intellectual<br>Property Rights<br>regarding<br>flexibilities to<br>protect public<br>health, and, in<br>particular, provide<br>access to medicines<br>for all<br>\",\"3.b Support the<br>research and<br>development of<br>vaccines and<br>medicines for the<br>communicable and<br>non\\u2011communicable<br>diseases that<br>primarily affect<br>developing<br>countries, provide<br>access to affordable<br>essential medicines<br>and vaccines, in<br>accordance with the<br>Doha Declaration on<br>the TRIPS Agreement<br>and Public Health,<br>which affirms the<br>right of developing<br>countries to use to<br>the full the<br>provisions in the<br>Agreement on Trade-<br>Related Aspects of<br>Intellectual<br>Property Rights<br>regarding<br>flexibilities to<br>protect public<br>health, and, in<br>particular, provide<br>access to medicines<br>for all<br>\",\"3.c Substantially<br>increase health<br>financing and the<br>recruitment,<br>development,<br>training and<br>retention of the<br>health workforce in<br>developing<br>countries,<br>especially in least<br>developed countries<br>and small island<br>developing States<br>\",\"3.d Strengthen the<br>capacity of all<br>countries, in<br>particular<br>developing<br>countries, for early<br>warning, risk<br>reduction and<br>management of<br>national and global<br>health risks<br>\",\"3.d Strengthen the<br>capacity of all<br>countries, in<br>particular<br>developing<br>countries, for early<br>warning, risk<br>reduction and<br>management of<br>national and global<br>health risks<br>\",\"4.1 By 2030, ensure<br>that all girls and<br>boys complete free,<br>equitable and<br>quality primary and<br>secondary education<br>leading to relevant<br>and effective<br>learning outcomes<br>\",\"4.1 By 2030, ensure<br>that all girls and<br>boys complete free,<br>equitable and<br>quality primary and<br>secondary education<br>leading to relevant<br>and effective<br>learning outcomes<br>\",\"4.2 By 2030, ensure<br>that all girls and<br>boys have access to<br>quality early<br>childhood<br>development, care<br>and pre\\u2011primary<br>education so that<br>they are ready for<br>primary education<br>\",\"4.2 By 2030, ensure<br>that all girls and<br>boys have access to<br>quality early<br>childhood<br>development, care<br>and pre\\u2011primary<br>education so that<br>they are ready for<br>primary education<br>\",\"4.3 By 2030, ensure<br>equal access for all<br>women and men to<br>affordable and<br>quality technical,<br>vocational and<br>tertiary education,<br>including university<br>\",\"4.4 By 2030,<br>substantially<br>increase the number<br>of youth and adults<br>who have relevant<br>skills, including<br>technical and<br>vocational skills,<br>for employment,<br>decent jobs and<br>entrepreneurship<br>\",\"4.5 By 2030,<br>eliminate gender<br>disparities in<br>education and ensure<br>equal access to all<br>levels of education<br>and vocational<br>training for the<br>vulnerable,<br>including persons<br>with disabilities,<br>indigenous peoples<br>and children in<br>vulnerable<br>situations<br>\",\"4.6 By 2030, ensure<br>that all youth and a<br>substantial<br>proportion of<br>adults, both men and<br>women, achieve<br>literacy and<br>numeracy<br>\",\"4.7 By 2030, ensure<br>that all learners<br>acquire the<br>knowledge and skills<br>needed to promote<br>sustainable<br>development,<br>including, among<br>others, through<br>education for<br>sustainable<br>development and<br>sustainable<br>lifestyles, human<br>rights, gender<br>equality, promotion<br>of a culture of<br>peace and non-<br>violence, global<br>citizenship and<br>appreciation of<br>cultural diversity<br>and of culture\\u2019s<br>contribution to<br>sustainable<br>development<br>\",\"4.a Build and<br>upgrade education<br>facilities that are<br>child, disability<br>and gender sensitive<br>and provide safe,<br>non-violent,<br>inclusive and<br>effective learning<br>environments for all<br>\",\"4.b By 2020,<br>substantially expand<br>globally the number<br>of scholarships<br>available to<br>developing<br>countries, in<br>particular least<br>developed countries,<br>small island<br>developing States<br>and African<br>countries, for<br>enrolment in higher<br>education, including<br>vocational training<br>and information and<br>communications<br>technology,<br>technical,<br>engineering and<br>scientific<br>programmes, in<br>developed countries<br>and other developing<br>countries<br>\",\"4.c By 2030,<br>substantially<br>increase the supply<br>of qualified<br>teachers, including<br>through<br>international<br>cooperation for<br>teacher training in<br>developing<br>countries,<br>especially least<br>developed countries<br>and small island<br>developing States<br>\",\"5.1 End all forms of<br>discrimination<br>against all women<br>and girls everywhere<br>\",\"5.2 Eliminate all<br>forms of violence<br>against all women<br>and girls in the<br>public and private<br>spheres, including<br>trafficking and<br>sexual and other<br>types of<br>exploitation<br>\",\"5.2 Eliminate all<br>forms of violence<br>against all women<br>and girls in the<br>public and private<br>spheres, including<br>trafficking and<br>sexual and other<br>types of<br>exploitation<br>\",\"5.3 Eliminate all<br>harmful practices,<br>such as child, early<br>and forced marriage<br>and female genital<br>mutilation<br>\",\"5.3 Eliminate all<br>harmful practices,<br>such as child, early<br>and forced marriage<br>and female genital<br>mutilation<br>\",\"5.4 Recognize and<br>value unpaid care<br>and domestic work<br>through the<br>provision of public<br>services,<br>infrastructure and<br>social protection<br>policies and the<br>promotion of shared<br>responsibility<br>within the household<br>and the family as<br>nationally<br>appropriate<br>\",\"5.5 Ensure women\\u2019s<br>full and effective<br>participation and<br>equal opportunities<br>for leadership at<br>all levels of<br>decision-making in<br>political, economic<br>and public life<br>\",\"5.5 Ensure women\\u2019s<br>full and effective<br>participation and<br>equal opportunities<br>for leadership at<br>all levels of<br>decision-making in<br>political, economic<br>and public life<br>\",\"5.6 Ensure universal<br>access to sexual and<br>reproductive health<br>and reproductive<br>rights as agreed in<br>accordance with the<br>Programme of Action<br>of the International<br>Conference on<br>Population and<br>Development and the<br>Beijing Platform for<br>Action and the<br>outcome documents of<br>their review<br>conferences<br>\",\"5.6 Ensure universal<br>access to sexual and<br>reproductive health<br>and reproductive<br>rights as agreed in<br>accordance with the<br>Programme of Action<br>of the International<br>Conference on<br>Population and<br>Development and the<br>Beijing Platform for<br>Action and the<br>outcome documents of<br>their review<br>conferences<br>\",\"5.a Undertake<br>reforms to give<br>women equal rights<br>to economic<br>resources, as well<br>as access to<br>ownership and<br>control over land<br>and other forms of<br>property, financial<br>services,<br>inheritance and<br>natural resources,<br>in accordance with<br>national laws<br>\",\"5.a Undertake<br>reforms to give<br>women equal rights<br>to economic<br>resources, as well<br>as access to<br>ownership and<br>control over land<br>and other forms of<br>property, financial<br>services,<br>inheritance and<br>natural resources,<br>in accordance with<br>national laws<br>\",\"5.b Enhance the use<br>of enabling<br>technology, in<br>particular<br>information and<br>communications<br>technology, to<br>promote the<br>empowerment of women<br>\",\"5.c Adopt and<br>strengthen sound<br>policies and<br>enforceable<br>legislation for the<br>promotion of gender<br>equality and the<br>empowerment of all<br>women and girls at<br>all levels<br>\",\"6.1 By 2030, achieve<br>universal and<br>equitable access to<br>safe and affordable<br>drinking water for<br>all<br>\",\"6.2 By 2030, achieve<br>access to adequate<br>and equitable<br>sanitation and<br>hygiene for all and<br>end open defecation,<br>paying special<br>attention to the<br>needs of women and<br>girls and those in<br>vulnerable<br>situations<br>\",\"6.3 By 2030, improve<br>water quality by<br>reducing pollution,<br>eliminating dumping<br>and minimizing<br>release of hazardous<br>chemicals and<br>materials, halving<br>the proportion of<br>untreated wastewater<br>and substantially<br>increasing recycling<br>and safe reuse<br>globally<br>\",\"6.3 By 2030, improve<br>water quality by<br>reducing pollution,<br>eliminating dumping<br>and minimizing<br>release of hazardous<br>chemicals and<br>materials, halving<br>the proportion of<br>untreated wastewater<br>and substantially<br>increasing recycling<br>and safe reuse<br>globally<br>\",\"6.4 By 2030,<br>substantially<br>increase water-use<br>efficiency across<br>all sectors and<br>ensure sustainable<br>withdrawals and<br>supply of freshwater<br>to address water<br>scarcity and<br>substantially reduce<br>the number of people<br>suffering from water<br>scarcity<br>\",\"6.4 By 2030,<br>substantially<br>increase water-use<br>efficiency across<br>all sectors and<br>ensure sustainable<br>withdrawals and<br>supply of freshwater<br>to address water<br>scarcity and<br>substantially reduce<br>the number of people<br>suffering from water<br>scarcity<br>\",\"6.5 By 2030,<br>implement integrated<br>water resources<br>management at all<br>levels, including<br>through<br>transboundary<br>cooperation as<br>appropriate<br>\",\"6.5 By 2030,<br>implement integrated<br>water resources<br>management at all<br>levels, including<br>through<br>transboundary<br>cooperation as<br>appropriate<br>\",\"6.6 By 2020, protect<br>and restore water-<br>related ecosystems,<br>including mountains,<br>forests, wetlands,<br>rivers, aquifers and<br>lakes<br>\",\"6.a By 2030, expand<br>international<br>cooperation and<br>capacity-building<br>support to<br>developing countries<br>in water- and<br>sanitation-related<br>activities and<br>programmes,<br>including water<br>harvesting,<br>desalination, water<br>efficiency,<br>wastewater<br>treatment, recycling<br>and reuse<br>technologies<br>\",\"6.b Support and<br>strengthen the<br>participation of<br>local communities in<br>improving water and<br>sanitation<br>management<br>\",\"7.1 By 2030, ensure<br>universal access to<br>affordable, reliable<br>and modern energy<br>services<br>\",\"7.1 By 2030, ensure<br>universal access to<br>affordable, reliable<br>and modern energy<br>services<br>\",\"7.2 By 2030,<br>increase<br>substantially the<br>share of renewable<br>energy in the global<br>energy mix<br>\",\"7.3 By 2030, double<br>the global rate of<br>improvement in<br>energy efficiency<br>\",\"7.a By 2030, enhance<br>international<br>cooperation to<br>facilitate access to<br>clean energy<br>research and<br>technology,<br>including renewable<br>energy, energy<br>efficiency and<br>advanced and cleaner<br>fossil-fuel<br>technology, and<br>promote investment<br>in energy<br>infrastructure and<br>clean energy<br>technology<br>\",\"7.b By 2030, expand<br>infrastructure and<br>upgrade technology<br>for supplying modern<br>and sustainable<br>energy services for<br>all in developing<br>countries, in<br>particular least<br>developed countries,<br>small island<br>developing States<br>and landlocked<br>developing<br>countries, in<br>accordance with<br>their respective<br>programmes of<br>support<br>\",\"8.1 Sustain per<br>capita economic<br>growth in accordance<br>with national<br>circumstances and,<br>in particular, at<br>least 7\\u00a0per\\u00a0cent<br>gross domestic<br>product growth per<br>annum in the least<br>developed countries<br>\",\"8.2 Achieve higher<br>levels of economic<br>productivity through<br>diversification,<br>technological<br>upgrading and<br>innovation,<br>including through a<br>focus on high-value<br>added and labour-<br>intensive sectors<br>\",\"8.3 Promote<br>development-oriented<br>policies that<br>support productive<br>activities, decent<br>job creation,<br>entrepreneurship,<br>creativity and<br>innovation, and<br>encourage the<br>formalization and<br>growth of micro-,<br>small- and medium-<br>sized enterprises,<br>including through<br>access to financial<br>services<br>\",\"8.4 Improve<br>progressively,<br>through 2030, global<br>resource efficiency<br>in consumption and<br>production and<br>endeavour to<br>decouple economic<br>growth from<br>environmental<br>degradation, in<br>accordance with the<br>10\\u2011Year Framework of<br>Programmes on<br>Sustainable<br>Consumption and<br>Production, with<br>developed countries<br>taking the lead<br>\",\"8.4 Improve<br>progressively,<br>through 2030, global<br>resource efficiency<br>in consumption and<br>production and<br>endeavour to<br>decouple economic<br>growth from<br>environmental<br>degradation, in<br>accordance with the<br>10\\u2011Year Framework of<br>Programmes on<br>Sustainable<br>Consumption and<br>Production, with<br>developed countries<br>taking the lead<br>\",\"8.5 By 2030, achieve<br>full and productive<br>employment and<br>decent work for all<br>women and men,<br>including for young<br>people and persons<br>with disabilities,<br>and equal pay for<br>work of equal value<br>\",\"8.5 By 2030, achieve<br>full and productive<br>employment and<br>decent work for all<br>women and men,<br>including for young<br>people and persons<br>with disabilities,<br>and equal pay for<br>work of equal value<br>\",\"8.6 By 2020,<br>substantially reduce<br>the proportion of<br>youth not in<br>employment,<br>education or<br>training<br>\",\"8.7 Take immediate<br>and effective<br>measures to<br>eradicate forced<br>labour, end modern<br>slavery and human<br>trafficking and<br>secure the<br>prohibition and<br>elimination of the<br>worst forms of child<br>labour, including<br>recruitment and use<br>of child soldiers,<br>and by 2025 end<br>child labour in all<br>its forms<br>\",\"8.8 Protect labour<br>rights and promote<br>safe and secure<br>working environments<br>for all workers,<br>including migrant<br>workers, in<br>particular women<br>migrants, and those<br>in precarious<br>employment<br>\",\"8.8 Protect labour<br>rights and promote<br>safe and secure<br>working environments<br>for all workers,<br>including migrant<br>workers, in<br>particular women<br>migrants, and those<br>in precarious<br>employment<br>\",\"8.9 By 2030, devise<br>and implement<br>policies to promote<br>sustainable tourism<br>that creates jobs<br>and promotes local<br>culture and products<br>\",\"8.10 Strengthen the<br>capacity of domestic<br>financial<br>institutions to<br>encourage and expand<br>access to banking,<br>insurance and<br>financial services<br>for all<br>\",\"8.10 Strengthen the<br>capacity of domestic<br>financial<br>institutions to<br>encourage and expand<br>access to banking,<br>insurance and<br>financial services<br>for all<br>\",\"8.a Increase Aid for<br>Trade support for<br>developing<br>countries, in<br>particular least<br>developed countries,<br>including through<br>the Enhanced<br>Integrated Framework<br>for Trade-related<br>Technical Assistance<br>to Least Developed<br>Countries<br>\",\"8.b By 2020, develop<br>and operationalize a<br>global strategy for<br>youth employment and<br>implement the Global<br>Jobs Pact of the<br>International Labour<br>Organization<br>\",\"9.1 Develop quality,<br>reliable,<br>sustainable and<br>resilient<br>infrastructure,<br>including regional<br>and transborder<br>infrastructure, to<br>support economic<br>development and<br>human well-being,<br>with a focus on<br>affordable and<br>equitable access for<br>all<br>\",\"9.1 Develop quality,<br>reliable,<br>sustainable and<br>resilient<br>infrastructure,<br>including regional<br>and transborder<br>infrastructure, to<br>support economic<br>development and<br>human well-being,<br>with a focus on<br>affordable and<br>equitable access for<br>all<br>\",\"9.2 Promote<br>inclusive and<br>sustainable<br>industrialization<br>and, by 2030,<br>significantly raise<br>industry\\u2019s share of<br>employment and gross<br>domestic product, in<br>line with national<br>circumstances, and<br>double its share in<br>least developed<br>countries<br>\",\"9.2 Promote<br>inclusive and<br>sustainable<br>industrialization<br>and, by 2030,<br>significantly raise<br>industry\\u2019s share of<br>employment and gross<br>domestic product, in<br>line with national<br>circumstances, and<br>double its share in<br>least developed<br>countries<br>\",\"9.3 Increase the<br>access of small-<br>scale industrial and<br>other enterprises,<br>in particular in<br>developing<br>countries, to<br>financial services,<br>including affordable<br>credit, and their<br>integration into<br>value chains and<br>markets<br>\",\"9.3 Increase the<br>access of small-<br>scale industrial and<br>other enterprises,<br>in particular in<br>developing<br>countries, to<br>financial services,<br>including affordable<br>credit, and their<br>integration into<br>value chains and<br>markets<br>\",\"9.4 By 2030, upgrade<br>infrastructure and<br>retrofit industries<br>to make them<br>sustainable, with<br>increased resource-<br>use efficiency and<br>greater adoption of<br>clean and<br>environmentally<br>sound technologies<br>and industrial<br>processes, with all<br>countries taking<br>action in accordance<br>with their<br>respective<br>capabilities<br>\",\"9.5 Enhance<br>scientific research,<br>upgrade the<br>technological<br>capabilities of<br>industrial sectors<br>in all countries, in<br>particular<br>developing<br>countries,<br>including, by 2030,<br>encouraging<br>innovation and<br>substantially<br>increasing the<br>number of research<br>and development<br>workers per<br>1\\u00a0million people and<br>public and private<br>research and<br>development spending<br>\",\"9.5 Enhance<br>scientific research,<br>upgrade the<br>technological<br>capabilities of<br>industrial sectors<br>in all countries, in<br>particular<br>developing<br>countries,<br>including, by 2030,<br>encouraging<br>innovation and<br>substantially<br>increasing the<br>number of research<br>and development<br>workers per<br>1\\u00a0million people and<br>public and private<br>research and<br>development spending<br>\",\"9.a Facilitate<br>sustainable and<br>resilient<br>infrastructure<br>development in<br>developing countries<br>through enhanced<br>financial,<br>technological and<br>technical support to<br>African countries,<br>least developed<br>countries,<br>landlocked<br>developing countries<br>and small island<br>developing States<br>\",\"9.b Support domestic<br>technology<br>development,<br>research and<br>innovation in<br>developing<br>countries, including<br>by ensuring a<br>conducive policy<br>environment for,<br>inter alia,<br>industrial<br>diversification and<br>value addition to<br>commodities<br>\",\"9.c Significantly<br>increase access to<br>information and<br>communications<br>technology and<br>strive to provide<br>universal and<br>affordable access to<br>the Internet in<br>least developed<br>countries by 2020<br>\",\"10.1 By 2030,<br>progressively<br>achieve and sustain<br>income growth of the<br>bottom 40\\u00a0per\\u00a0cent<br>of the population at<br>a rate higher than<br>the national average<br>\",\"10.2 By 2030,<br>empower and promote<br>the social, economic<br>and political<br>inclusion of all,<br>irrespective of age,<br>sex, disability,<br>race, ethnicity,<br>origin, religion or<br>economic or other<br>status<br>\",\"10.3 Ensure equal<br>opportunity and<br>reduce inequalities<br>of outcome,<br>including by<br>eliminating<br>discriminatory laws,<br>policies and<br>practices and<br>promoting<br>appropriate<br>legislation,<br>policies and action<br>in this regard<br>\",\"10.4 Adopt policies,<br>especially fiscal,<br>wage and social<br>protection policies,<br>and progressively<br>achieve greater<br>equality<br>\",\"10.4 Adopt policies,<br>especially fiscal,<br>wage and social<br>protection policies,<br>and progressively<br>achieve greater<br>equality<br>\",\"10.5 Improve the<br>regulation and<br>monitoring of global<br>financial markets<br>and institutions and<br>strengthen the<br>implementation of<br>such regulations<br>\",\"10.6 Ensure enhanced<br>representation and<br>voice for developing<br>countries in<br>decision-making in<br>global international<br>economic and<br>financial<br>institutions in<br>order to deliver<br>more effective,<br>credible,<br>accountable and<br>legitimate<br>institutions<br>\",\"10.7 Facilitate<br>orderly, safe,<br>regular and<br>responsible<br>migration and<br>mobility of people,<br>including through<br>the implementation<br>of planned and well-<br>managed migration<br>policies<br>\",\"10.7 Facilitate<br>orderly, safe,<br>regular and<br>responsible<br>migration and<br>mobility of people,<br>including through<br>the implementation<br>of planned and well-<br>managed migration<br>policies<br>\",\"10.7 Facilitate<br>orderly, safe,<br>regular and<br>responsible<br>migration and<br>mobility of people,<br>including through<br>the implementation<br>of planned and well-<br>managed migration<br>policies<br>\",\"10.7 Facilitate<br>orderly, safe,<br>regular and<br>responsible<br>migration and<br>mobility of people,<br>including through<br>the implementation<br>of planned and well-<br>managed migration<br>policies<br>\",\"10.a Implement the<br>principle of special<br>and differential<br>treatment for<br>developing<br>countries, in<br>particular least<br>developed countries,<br>in accordance with<br>World Trade<br>Organization<br>agreements<br>\",\"10.b Encourage<br>official development<br>assistance and<br>financial flows,<br>including foreign<br>direct investment,<br>to States where the<br>need is greatest, in<br>particular least<br>developed countries,<br>African countries,<br>small island<br>developing States<br>and landlocked<br>developing<br>countries, in<br>accordance with<br>their national plans<br>and programmes<br>\",\"10.c By 2030, reduce<br>to less than<br>3\\u00a0per\\u00a0cent the<br>transaction costs of<br>migrant remittances<br>and eliminate<br>remittance corridors<br>with costs higher<br>than 5\\u00a0per\\u00a0cent<br>\",\"11.1 By 2030, ensure<br>access for all to<br>adequate, safe and<br>affordable housing<br>and basic services<br>and upgrade slums<br>\",\"11.2 By 2030,<br>provide access to<br>safe, affordable,<br>accessible and<br>sustainable<br>transport systems<br>for all, improving<br>road safety, notably<br>by expanding public<br>transport, with<br>special attention to<br>the needs of those<br>in vulnerable<br>situations, women,<br>children, persons<br>with disabilities<br>and older persons<br>\",\"11.3 By 2030,<br>enhance inclusive<br>and sustainable<br>urbanization and<br>capacity for<br>participatory,<br>integrated and<br>sustainable human<br>settlement planning<br>and management in<br>all countries<br>\",\"11.3 By 2030,<br>enhance inclusive<br>and sustainable<br>urbanization and<br>capacity for<br>participatory,<br>integrated and<br>sustainable human<br>settlement planning<br>and management in<br>all countries<br>\",\"11.4 Strengthen<br>efforts to protect<br>and safeguard the<br>world\\u2019s cultural and<br>natural heritage<br>\",\"11.5 By 2030,<br>significantly reduce<br>the number of deaths<br>and the number of<br>people affected and<br>substantially<br>decrease the direct<br>economic losses<br>relative to global<br>gross domestic<br>product caused by<br>disasters, including<br>water-related<br>disasters, with a<br>focus on protecting<br>the poor and people<br>in vulnerable<br>situations<br>\",\"11.5 By 2030,<br>significantly reduce<br>the number of deaths<br>and the number of<br>people affected and<br>substantially<br>decrease the direct<br>economic losses<br>relative to global<br>gross domestic<br>product caused by<br>disasters, including<br>water-related<br>disasters, with a<br>focus on protecting<br>the poor and people<br>in vulnerable<br>situations<br>\",\"11.6 By 2030, reduce<br>the adverse per<br>capita environmental<br>impact of cities,<br>including by paying<br>special attention to<br>air quality and<br>municipal and other<br>waste management<br>\",\"11.6 By 2030, reduce<br>the adverse per<br>capita environmental<br>impact of cities,<br>including by paying<br>special attention to<br>air quality and<br>municipal and other<br>waste management<br>\",\"11.7 By 2030,<br>provide universal<br>access to safe,<br>inclusive and<br>accessible, green<br>and public spaces,<br>in particular for<br>women and children,<br>older persons and<br>persons with<br>disabilities<br>\",\"11.7 By 2030,<br>provide universal<br>access to safe,<br>inclusive and<br>accessible, green<br>and public spaces,<br>in particular for<br>women and children,<br>older persons and<br>persons with<br>disabilities<br>\",\"11.a Support<br>positive economic,<br>social and<br>environmental links<br>between urban, peri-<br>urban and rural<br>areas by<br>strengthening<br>national and<br>regional development<br>planning<br>\",\"11.b By 2020,<br>substantially<br>increase the number<br>of cities and human<br>settlements adopting<br>and implementing<br>integrated policies<br>and plans towards<br>inclusion, resource<br>efficiency,<br>mitigation and<br>adaptation to<br>climate change,<br>resilience to<br>disasters, and<br>develop and<br>implement, in line<br>with the Sendai<br>Framework for<br>Disaster Risk<br>Reduction 2015\\u20132030,<br>holistic disaster<br>risk management at<br>all levels<br>\",\"11.b By 2020,<br>substantially<br>increase the number<br>of cities and human<br>settlements adopting<br>and implementing<br>integrated policies<br>and plans towards<br>inclusion, resource<br>efficiency,<br>mitigation and<br>adaptation to<br>climate change,<br>resilience to<br>disasters, and<br>develop and<br>implement, in line<br>with the Sendai<br>Framework for<br>Disaster Risk<br>Reduction 2015\\u20132030,<br>holistic disaster<br>risk management at<br>all levels<br>\",\"11.c Support least<br>developed countries,<br>including through<br>financial and<br>technical<br>assistance, in<br>building sustainable<br>and resilient<br>buildings utilizing<br>local materials<br>\",\"12.1 Implement the<br>10\\u2011Year Framework of<br>Programmes on<br>Sustainable<br>Consumption and<br>Production Patterns,<br>all countries taking<br>action, with<br>developed countries<br>taking the lead,<br>taking into account<br>the development and<br>capabilities of<br>developing countries<br>\",\"12.2 By 2030,<br>achieve the<br>sustainable<br>management and<br>efficient use of<br>natural resources<br>\",\"12.2 By 2030,<br>achieve the<br>sustainable<br>management and<br>efficient use of<br>natural resources<br>\",\"12.3 By 2030, halve<br>per capita global<br>food waste at the<br>retail and consumer<br>levels and reduce<br>food losses along<br>production and<br>supply chains,<br>including post-<br>harvest losses<br>\",\"12.4 By 2020,<br>achieve the<br>environmentally<br>sound management of<br>chemicals and all<br>wastes throughout<br>their life cycle, in<br>accordance with<br>agreed international<br>frameworks, and<br>significantly reduce<br>their release to<br>air, water and soil<br>in order to minimize<br>their adverse<br>impacts on human<br>health and the<br>environment<br>\",\"12.4 By 2020,<br>achieve the<br>environmentally<br>sound management of<br>chemicals and all<br>wastes throughout<br>their life cycle, in<br>accordance with<br>agreed international<br>frameworks, and<br>significantly reduce<br>their release to<br>air, water and soil<br>in order to minimize<br>their adverse<br>impacts on human<br>health and the<br>environment<br>\",\"12.5 By 2030,<br>substantially reduce<br>waste generation<br>through prevention,<br>reduction, recycling<br>and reuse<br>\",\"12.6 Encourage<br>companies,<br>especially large and<br>transnational<br>companies, to adopt<br>sustainable<br>practices and to<br>integrate<br>sustainability<br>information into<br>their reporting<br>cycle<br>\",\"12.7 Promote public<br>procurement<br>practices that are<br>sustainable, in<br>accordance with<br>national policies<br>and priorities<br>\",\"12.8 By 2030, ensure<br>that people<br>everywhere have the<br>relevant information<br>and awareness for<br>sustainable<br>development and<br>lifestyles in<br>harmony with nature<br>\",\"12.a Support<br>developing countries<br>to strengthen their<br>scientific and<br>technological<br>capacity to move<br>towards more<br>sustainable patterns<br>of consumption and<br>production<br>\",\"12.b Develop and<br>implement tools to<br>monitor sustainable<br>development impacts<br>for sustainable<br>tourism that creates<br>jobs and promotes<br>local culture and<br>products<br>\",\"12.c Rationalize<br>inefficient fossil-<br>fuel subsidies that<br>encourage wasteful<br>consumption by<br>removing market<br>distortions, in<br>accordance with<br>national<br>circumstances,<br>including by<br>restructuring<br>taxation and phasing<br>out those harmful<br>subsidies, where<br>they exist, to<br>reflect their<br>environmental<br>impacts, taking<br>fully into account<br>the specific needs<br>and conditions of<br>developing countries<br>and minimizing the<br>possible adverse<br>impacts on their<br>development in a<br>manner that protects<br>the poor and the<br>affected communities<br>\",\"13.1 Strengthen<br>resilience and<br>adaptive capacity to<br>climate-related<br>hazards and natural<br>disasters in all<br>countries<br>\",\"13.1 Strengthen<br>resilience and<br>adaptive capacity to<br>climate-related<br>hazards and natural<br>disasters in all<br>countries<br>\",\"13.1 Strengthen<br>resilience and<br>adaptive capacity to<br>climate-related<br>hazards and natural<br>disasters in all<br>countries<br>\",\"13.2 Integrate<br>climate change<br>measures into<br>national policies,<br>strategies and<br>planning<br>\",\"13.2 Integrate<br>climate change<br>measures into<br>national policies,<br>strategies and<br>planning<br>\",\"13.3 Improve<br>education,<br>awareness-raising<br>and human and<br>institutional<br>capacity on climate<br>change mitigation,<br>adaptation, impact<br>reduction and early<br>warning<br>\",\"13.a Implement the<br>commitment<br>undertaken by<br>developed-country<br>parties to the<br>United Nations<br>Framework Convention<br>on Climate Change to<br>a goal of mobilizing<br>jointly $100\\u00a0billion<br>annually by 2020<br>from all sources to<br>address the needs of<br>developing countries<br>in the context of<br>meaningful<br>mitigation actions<br>and transparency on<br>implementation and<br>fully operationalize<br>the Green Climate<br>Fund through its<br>capitalization as<br>soon as possible<br>\",\"13.b Promote<br>mechanisms for<br>raising capacity for<br>effective climate<br>change-related<br>planning and<br>management in least<br>developed countries<br>and small island<br>developing States,<br>including focusing<br>on women, youth and<br>local and<br>marginalized<br>communities<br>\",\"14.1 By 2025,<br>prevent and<br>significantly reduce<br>marine pollution of<br>all kinds, in<br>particular from<br>land-based<br>activities,<br>including marine<br>debris and nutrient<br>pollution<br>\",\"14.2 By 2020,<br>sustainably manage<br>and protect marine<br>and coastal<br>ecosystems to avoid<br>significant adverse<br>impacts, including<br>by strengthening<br>their resilience,<br>and take action for<br>their restoration in<br>order to achieve<br>healthy and<br>productive oceans<br>\",\"14.3 Minimize and<br>address the impacts<br>of ocean<br>acidification,<br>including through<br>enhanced scientific<br>cooperation at all<br>levels<br>\",\"14.4 By 2020,<br>effectively regulate<br>harvesting and end<br>overfishing,<br>illegal, unreported<br>and unregulated<br>fishing and<br>destructive fishing<br>practices and<br>implement science-<br>based management<br>plans, in order to<br>restore fish stocks<br>in the shortest time<br>feasible, at least<br>to levels that can<br>produce maximum<br>sustainable yield as<br>determined by their<br>biological<br>characteristics<br>\",\"14.5 By 2020,<br>conserve at least<br>10\\u00a0per\\u00a0cent of<br>coastal and marine<br>areas, consistent<br>with national and<br>international law<br>and based on the<br>best available<br>scientific<br>information<br>\",\"14.6 By 2020,<br>prohibit certain<br>forms of fisheries<br>subsidies which<br>contribute to<br>overcapacity and<br>overfishing,<br>eliminate subsidies<br>that contribute to<br>illegal, unreported<br>and unregulated<br>fishing and refrain<br>from introducing new<br>such subsidies,<br>recognizing that<br>appropriate and<br>effective special<br>and differential<br>treatment for<br>developing and least<br>developed countries<br>should be an<br>integral part of the<br>World Trade<br>Organization<br>fisheries subsidies<br>negotiation4<br>\",\"14.7 By 2030,<br>increase the<br>economic benefits to<br>small island<br>developing States<br>and least developed<br>countries from the<br>sustainable use of<br>marine resources,<br>including through<br>sustainable<br>management of<br>fisheries,<br>aquaculture and<br>tourism<br>\",\"14.a Increase<br>scientific<br>knowledge, develop<br>research capacity<br>and transfer marine<br>technology, taking<br>into account the<br>Intergovernmental<br>Oceanographic<br>Commission Criteria<br>and Guidelines on<br>the Transfer of<br>Marine Technology,<br>in order to improve<br>ocean health and to<br>enhance the<br>contribution of<br>marine biodiversity<br>to the development<br>of developing<br>countries, in<br>particular small<br>island developing<br>States and least<br>developed countries<br>\",\"14.b Provide access<br>for small-scale<br>artisanal fishers to<br>marine resources and<br>markets<br>\",\"14.c Enhance the<br>conservation and<br>sustainable use of<br>oceans and their<br>resources by<br>implementing<br>international law as<br>reflected in the<br>United Nations<br>Convention on the<br>Law of the Sea,<br>which provides the<br>legal framework for<br>the conservation and<br>sustainable use of<br>oceans and their<br>resources, as<br>recalled in<br>paragraph\\u00a0158 of<br>\\u201cThe future we want\\u201d<br>\",\"15.1 By 2020, ensure<br>the conservation,<br>restoration and<br>sustainable use of<br>terrestrial and<br>inland freshwater<br>ecosystems and their<br>services, in<br>particular forests,<br>wetlands, mountains<br>and drylands, in<br>line with<br>obligations under<br>international<br>agreements<br>\",\"15.1 By 2020, ensure<br>the conservation,<br>restoration and<br>sustainable use of<br>terrestrial and<br>inland freshwater<br>ecosystems and their<br>services, in<br>particular forests,<br>wetlands, mountains<br>and drylands, in<br>line with<br>obligations under<br>international<br>agreements<br>\",\"15.2 By 2020,<br>promote the<br>implementation of<br>sustainable<br>management of all<br>types of forests,<br>halt deforestation,<br>restore degraded<br>forests and<br>substantially<br>increase<br>afforestation and<br>reforestation<br>globally<br>\",\"15.3 By 2030, combat<br>desertification,<br>restore degraded<br>land and soil,<br>including land<br>affected by<br>desertification,<br>drought and floods,<br>and strive to<br>achieve a land<br>degradation-neutral<br>world<br>\",\"15.4 By 2030, ensure<br>the conservation of<br>mountain ecosystems,<br>including their<br>biodiversity, in<br>order to enhance<br>their capacity to<br>provide benefits<br>that are essential<br>for sustainable<br>development<br>\",\"15.4 By 2030, ensure<br>the conservation of<br>mountain ecosystems,<br>including their<br>biodiversity, in<br>order to enhance<br>their capacity to<br>provide benefits<br>that are essential<br>for sustainable<br>development<br>\",\"15.5 Take urgent and<br>significant action<br>to reduce the<br>degradation of<br>natural habitats,<br>halt the loss of<br>biodiversity and, by<br>2020, protect and<br>prevent the<br>extinction of<br>threatened species<br>\",\"15.6 Promote fair<br>and equitable<br>sharing of the<br>benefits arising<br>from the utilization<br>of genetic resources<br>and promote<br>appropriate access<br>to such resources,<br>as internationally<br>agreed<br>\",\"15.7 Take urgent<br>action to end<br>poaching and<br>trafficking of<br>protected species of<br>flora and fauna and<br>address both demand<br>and supply of<br>illegal wildlife<br>products<br>\",\"15.8 By 2020,<br>introduce measures<br>to prevent the<br>introduction and<br>significantly reduce<br>the impact of<br>invasive alien<br>species on land and<br>water ecosystems and<br>control or eradicate<br>the priority species<br>\",\"15.9 By 2020,<br>integrate ecosystem<br>and biodiversity<br>values into national<br>and local planning,<br>development<br>processes, poverty<br>reduction strategies<br>and accounts<br>\",\"15.a Mobilize and<br>significantly<br>increase financial<br>resources from all<br>sources to conserve<br>and sustainably use<br>biodiversity and<br>ecosystems<br>\",\"15.b Mobilize<br>significant<br>resources from all<br>sources and at all<br>levels to finance<br>sustainable forest<br>management and<br>provide adequate<br>incentives to<br>developing countries<br>to advance such<br>management,<br>including for<br>conservation and<br>reforestation<br>\",\"15.c Enhance global<br>support for efforts<br>to combat poaching<br>and trafficking of<br>protected species,<br>including by<br>increasing the<br>capacity of local<br>communities to<br>pursue sustainable<br>livelihood<br>opportunities<br>\",\"16.1 Significantly<br>reduce all forms of<br>violence and related<br>death rates<br>everywhere<br>\",\"16.1 Significantly<br>reduce all forms of<br>violence and related<br>death rates<br>everywhere<br>\",\"16.1 Significantly<br>reduce all forms of<br>violence and related<br>death rates<br>everywhere<br>\",\"16.1 Significantly<br>reduce all forms of<br>violence and related<br>death rates<br>everywhere<br>\",\"16.2 End abuse,<br>exploitation,<br>trafficking and all<br>forms of violence<br>against and torture<br>of children<br>\",\"16.2 End abuse,<br>exploitation,<br>trafficking and all<br>forms of violence<br>against and torture<br>of children<br>\",\"16.2 End abuse,<br>exploitation,<br>trafficking and all<br>forms of violence<br>against and torture<br>of children<br>\",\"16.3 Promote the<br>rule of law at the<br>national and<br>international levels<br>and ensure equal<br>access to justice<br>for all<br>\",\"16.3 Promote the<br>rule of law at the<br>national and<br>international levels<br>and ensure equal<br>access to justice<br>for all<br>\",\"16.3 Promote the<br>rule of law at the<br>national and<br>international levels<br>and ensure equal<br>access to justice<br>for all<br>\",\"16.4 By 2030,<br>significantly reduce<br>illicit financial<br>and arms flows,<br>strengthen the<br>recovery and return<br>of stolen assets and<br>combat all forms of<br>organized crime<br>\",\"16.4 By 2030,<br>significantly reduce<br>illicit financial<br>and arms flows,<br>strengthen the<br>recovery and return<br>of stolen assets and<br>combat all forms of<br>organized crime<br>\",\"16.5 Substantially<br>reduce corruption<br>and bribery in all<br>their forms<br>\",\"16.5 Substantially<br>reduce corruption<br>and bribery in all<br>their forms<br>\",\"16.6 Develop<br>effective,<br>accountable and<br>transparent<br>institutions at all<br>levels<br>\",\"16.6 Develop<br>effective,<br>accountable and<br>transparent<br>institutions at all<br>levels<br>\",\"16.7 Ensure<br>responsive,<br>inclusive,<br>participatory and<br>representative<br>decision-making at<br>all levels<br>\",\"16.7 Ensure<br>responsive,<br>inclusive,<br>participatory and<br>representative<br>decision-making at<br>all levels<br>\",\"16.8 Broaden and<br>strengthen the<br>participation of<br>developing countries<br>in the institutions<br>of global governance<br>\",\"16.9 By 2030,<br>provide legal<br>identity for all,<br>including birth<br>registration<br>\",\"16.10 Ensure public<br>access to<br>information and<br>protect fundamental<br>freedoms, in<br>accordance with<br>national legislation<br>and international<br>agreements<br>\",\"16.10 Ensure public<br>access to<br>information and<br>protect fundamental<br>freedoms, in<br>accordance with<br>national legislation<br>and international<br>agreements<br>\",\"16.a Strengthen<br>relevant national<br>institutions,<br>including through<br>international<br>cooperation, for<br>building capacity at<br>all levels, in<br>particular in<br>developing<br>countries, to<br>prevent violence and<br>combat terrorism and<br>crime<br>\",\"16.b Promote and<br>enforce non-<br>discriminatory laws<br>and policies for<br>sustainable<br>development<br>\",\"17.1 Strengthen<br>domestic resource<br>mobilization,<br>including through<br>international<br>support to<br>developing<br>countries, to<br>improve domestic<br>capacity for tax and<br>other revenue<br>collection<br>\",\"17.1 Strengthen<br>domestic resource<br>mobilization,<br>including through<br>international<br>support to<br>developing<br>countries, to<br>improve domestic<br>capacity for tax and<br>other revenue<br>collection<br>\",\"17.2 Developed<br>countries to<br>implement fully<br>their official<br>development<br>assistance<br>commitments,<br>including the<br>commitment by many<br>developed countries<br>to achieve the<br>target of<br>0.7\\u00a0per\\u00a0cent of<br>gross national<br>income for official<br>development<br>assistance (ODA/GNI)<br>to developing<br>countries and 0.15<br>to 0.20\\u00a0per\\u00a0cent of<br>ODA/GNI to least<br>developed countries;<br>ODA providers are<br>encouraged to<br>consider setting a<br>target to provide at<br>least 0.20\\u00a0per\\u00a0cent<br>of ODA/GNI to least<br>developed countries<br>\",\"17.3 Mobilize<br>additional financial<br>resources for<br>developing countries<br>from multiple<br>sources<br>\",\"17.3 Mobilize<br>additional financial<br>resources for<br>developing countries<br>from multiple<br>sources<br>\",\"17.4 Assist<br>developing countries<br>in attaining long-<br>term debt<br>sustainability<br>through coordinated<br>policies aimed at<br>fostering debt<br>financing, debt<br>relief and debt<br>restructuring, as<br>appropriate, and<br>address the external<br>debt of highly<br>indebted poor<br>countries to reduce<br>debt distress<br>\",\"17.5 Adopt and<br>implement investment<br>promotion regimes<br>for least developed<br>countries<br>\",\"17.6 Enhance North-<br>South, South-South<br>and triangular<br>regional and<br>international<br>cooperation on and<br>access to science,<br>technology and<br>innovation and<br>enhance knowledge-<br>sharing on mutually<br>agreed terms,<br>including through<br>improved<br>coordination among<br>existing mechanisms,<br>in particular at the<br>United Nations<br>level, and through a<br>global technology<br>facilitation<br>mechanism<br>\",\"17.7 Promote the<br>development,<br>transfer,<br>dissemination and<br>diffusion of<br>environmentally<br>sound technologies<br>to developing<br>countries on<br>favourable terms,<br>including on<br>concessional and<br>preferential terms,<br>as mutually agreed<br>\",\"17.8 Fully<br>operationalize the<br>technology bank and<br>science, technology<br>and innovation<br>capacity-building<br>mechanism for least<br>developed countries<br>by 2017 and enhance<br>the use of enabling<br>technology, in<br>particular<br>information and<br>communications<br>technology<br>\",\"17.9 Enhance<br>international<br>support for<br>implementing<br>effective and<br>targeted capacity-<br>building in<br>developing countries<br>to support national<br>plans to implement<br>all the Sustainable<br>Development Goals,<br>including through<br>North-South, South-<br>South and triangular<br>cooperation<br>\",\"17.10 Promote a<br>universal, rules-<br>based, open,<br>non\\u2011discriminatory<br>and equitable<br>multilateral trading<br>system under the<br>World Trade<br>Organization,<br>including through<br>the conclusion of<br>negotiations under<br>its Doha Development<br>Agenda<br>\",\"17.11 Significantly<br>increase the exports<br>of developing<br>countries, in<br>particular with a<br>view to doubling the<br>least developed<br>countries\\u2019 share of<br>global exports by<br>2020<br>\",\"17.12 Realize timely<br>implementation of<br>duty-free and quota-<br>free market access<br>on a lasting basis<br>for all least<br>developed countries,<br>consistent with<br>World Trade<br>Organization<br>decisions, including<br>by ensuring that<br>preferential rules<br>of origin applicable<br>to imports from<br>least developed<br>countries are<br>transparent and<br>simple, and<br>contribute to<br>facilitating market<br>access<br>\",\"17.13 Enhance global<br>macroeconomic<br>stability, including<br>through policy<br>coordination and<br>policy coherence<br>\",\"17.14 Enhance policy<br>coherence for<br>sustainable<br>development<br>\",\"17.15 Respect each<br>country\\u2019s policy<br>space and leadership<br>to establish and<br>implement policies<br>for poverty<br>eradication and<br>sustainable<br>development<br>\",\"17.16 Enhance the<br>Global Partnership<br>for Sustainable<br>Development,<br>complemented by<br>multi-stakeholder<br>partnerships that<br>mobilize and share<br>knowledge,<br>expertise,<br>technology and<br>financial resources,<br>to support the<br>achievement of the<br>Sustainable<br>Development Goals in<br>all countries, in<br>particular<br>developing countries<br>\",\"17.17 Encourage and<br>promote effective<br>public, public-<br>private and civil<br>society<br>partnerships,<br>building on the<br>experience and<br>resourcing<br>strategies of<br>partnerships<br>\",\"17.18 By 2020,<br>enhance capacity-<br>building support to<br>developing<br>countries, including<br>for least developed<br>countries and small<br>island developing<br>States, to increase<br>significantly the<br>availability of<br>high-quality, timely<br>and reliable data<br>disaggregated by<br>income, gender, age,<br>race, ethnicity,<br>migratory status,<br>disability,<br>geographic location<br>and other<br>characteristics<br>relevant in national<br>contexts<br>\",\"17.18 By 2020,<br>enhance capacity-<br>building support to<br>developing<br>countries, including<br>for least developed<br>countries and small<br>island developing<br>States, to increase<br>significantly the<br>availability of<br>high-quality, timely<br>and reliable data<br>disaggregated by<br>income, gender, age,<br>race, ethnicity,<br>migratory status,<br>disability,<br>geographic location<br>and other<br>characteristics<br>relevant in national<br>contexts<br>\",\"17.18 By 2020,<br>enhance capacity-<br>building support to<br>developing<br>countries, including<br>for least developed<br>countries and small<br>island developing<br>States, to increase<br>significantly the<br>availability of<br>high-quality, timely<br>and reliable data<br>disaggregated by<br>income, gender, age,<br>race, ethnicity,<br>migratory status,<br>disability,<br>geographic location<br>and other<br>characteristics<br>relevant in national<br>contexts<br>\",\"17.19 By 2030, build<br>on existing<br>initiatives to<br>develop measurements<br>of progress on<br>sustainable<br>development that<br>complement gross<br>domestic product,<br>and support<br>statistical<br>capacity-building in<br>developing countries<br>\",\"17.19 By 2030, build<br>on existing<br>initiatives to<br>develop measurements<br>of progress on<br>sustainable<br>development that<br>complement gross<br>domestic product,<br>and support<br>statistical<br>capacity-building in<br>developing countries<br>\"],\"type\":\"treemap\"}],                        {\"height\":800,\"margin\":{\"b\":0,\"l\":0,\"r\":0,\"t\":0},\"template\":{\"data\":{\"bar\":[{\"error_x\":{\"color\":\"#2a3f5f\"},\"error_y\":{\"color\":\"#2a3f5f\"},\"marker\":{\"line\":{\"color\":\"#E5ECF6\",\"width\":0.5},\"pattern\":{\"fillmode\":\"overlay\",\"size\":10,\"solidity\":0.2}},\"type\":\"bar\"}],\"barpolar\":[{\"marker\":{\"line\":{\"color\":\"#E5ECF6\",\"width\":0.5},\"pattern\":{\"fillmode\":\"overlay\",\"size\":10,\"solidity\":0.2}},\"type\":\"barpolar\"}],\"carpet\":[{\"aaxis\":{\"endlinecolor\":\"#2a3f5f\",\"gridcolor\":\"white\",\"linecolor\":\"white\",\"minorgridcolor\":\"white\",\"startlinecolor\":\"#2a3f5f\"},\"baxis\":{\"endlinecolor\":\"#2a3f5f\",\"gridcolor\":\"white\",\"linecolor\":\"white\",\"minorgridcolor\":\"white\",\"startlinecolor\":\"#2a3f5f\"},\"type\":\"carpet\"}],\"choropleth\":[{\"colorbar\":{\"outlinewidth\":0,\"ticks\":\"\"},\"type\":\"choropleth\"}],\"contour\":[{\"colorbar\":{\"outlinewidth\":0,\"ticks\":\"\"},\"colorscale\":[[0.0,\"#0d0887\"],[0.1111111111111111,\"#46039f\"],[0.2222222222222222,\"#7201a8\"],[0.3333333333333333,\"#9c179e\"],[0.4444444444444444,\"#bd3786\"],[0.5555555555555556,\"#d8576b\"],[0.6666666666666666,\"#ed7953\"],[0.7777777777777778,\"#fb9f3a\"],[0.8888888888888888,\"#fdca26\"],[1.0,\"#f0f921\"]],\"type\":\"contour\"}],\"contourcarpet\":[{\"colorbar\":{\"outlinewidth\":0,\"ticks\":\"\"},\"type\":\"contourcarpet\"}],\"heatmap\":[{\"colorbar\":{\"outlinewidth\":0,\"ticks\":\"\"},\"colorscale\":[[0.0,\"#0d0887\"],[0.1111111111111111,\"#46039f\"],[0.2222222222222222,\"#7201a8\"],[0.3333333333333333,\"#9c179e\"],[0.4444444444444444,\"#bd3786\"],[0.5555555555555556,\"#d8576b\"],[0.6666666666666666,\"#ed7953\"],[0.7777777777777778,\"#fb9f3a\"],[0.8888888888888888,\"#fdca26\"],[1.0,\"#f0f921\"]],\"type\":\"heatmap\"}],\"heatmapgl\":[{\"colorbar\":{\"outlinewidth\":0,\"ticks\":\"\"},\"colorscale\":[[0.0,\"#0d0887\"],[0.1111111111111111,\"#46039f\"],[0.2222222222222222,\"#7201a8\"],[0.3333333333333333,\"#9c179e\"],[0.4444444444444444,\"#bd3786\"],[0.5555555555555556,\"#d8576b\"],[0.6666666666666666,\"#ed7953\"],[0.7777777777777778,\"#fb9f3a\"],[0.8888888888888888,\"#fdca26\"],[1.0,\"#f0f921\"]],\"type\":\"heatmapgl\"}],\"histogram\":[{\"marker\":{\"pattern\":{\"fillmode\":\"overlay\",\"size\":10,\"solidity\":0.2}},\"type\":\"histogram\"}],\"histogram2d\":[{\"colorbar\":{\"outlinewidth\":0,\"ticks\":\"\"},\"colorscale\":[[0.0,\"#0d0887\"],[0.1111111111111111,\"#46039f\"],[0.2222222222222222,\"#7201a8\"],[0.3333333333333333,\"#9c179e\"],[0.4444444444444444,\"#bd3786\"],[0.5555555555555556,\"#d8576b\"],[0.6666666666666666,\"#ed7953\"],[0.7777777777777778,\"#fb9f3a\"],[0.8888888888888888,\"#fdca26\"],[1.0,\"#f0f921\"]],\"type\":\"histogram2d\"}],\"histogram2dcontour\":[{\"colorbar\":{\"outlinewidth\":0,\"ticks\":\"\"},\"colorscale\":[[0.0,\"#0d0887\"],[0.1111111111111111,\"#46039f\"],[0.2222222222222222,\"#7201a8\"],[0.3333333333333333,\"#9c179e\"],[0.4444444444444444,\"#bd3786\"],[0.5555555555555556,\"#d8576b\"],[0.6666666666666666,\"#ed7953\"],[0.7777777777777778,\"#fb9f3a\"],[0.8888888888888888,\"#fdca26\"],[1.0,\"#f0f921\"]],\"type\":\"histogram2dcontour\"}],\"mesh3d\":[{\"colorbar\":{\"outlinewidth\":0,\"ticks\":\"\"},\"type\":\"mesh3d\"}],\"parcoords\":[{\"line\":{\"colorbar\":{\"outlinewidth\":0,\"ticks\":\"\"}},\"type\":\"parcoords\"}],\"pie\":[{\"automargin\":true,\"type\":\"pie\"}],\"scatter\":[{\"marker\":{\"colorbar\":{\"outlinewidth\":0,\"ticks\":\"\"}},\"type\":\"scatter\"}],\"scatter3d\":[{\"line\":{\"colorbar\":{\"outlinewidth\":0,\"ticks\":\"\"}},\"marker\":{\"colorbar\":{\"outlinewidth\":0,\"ticks\":\"\"}},\"type\":\"scatter3d\"}],\"scattercarpet\":[{\"marker\":{\"colorbar\":{\"outlinewidth\":0,\"ticks\":\"\"}},\"type\":\"scattercarpet\"}],\"scattergeo\":[{\"marker\":{\"colorbar\":{\"outlinewidth\":0,\"ticks\":\"\"}},\"type\":\"scattergeo\"}],\"scattergl\":[{\"marker\":{\"colorbar\":{\"outlinewidth\":0,\"ticks\":\"\"}},\"type\":\"scattergl\"}],\"scattermapbox\":[{\"marker\":{\"colorbar\":{\"outlinewidth\":0,\"ticks\":\"\"}},\"type\":\"scattermapbox\"}],\"scatterpolar\":[{\"marker\":{\"colorbar\":{\"outlinewidth\":0,\"ticks\":\"\"}},\"type\":\"scatterpolar\"}],\"scatterpolargl\":[{\"marker\":{\"colorbar\":{\"outlinewidth\":0,\"ticks\":\"\"}},\"type\":\"scatterpolargl\"}],\"scatterternary\":[{\"marker\":{\"colorbar\":{\"outlinewidth\":0,\"ticks\":\"\"}},\"type\":\"scatterternary\"}],\"surface\":[{\"colorbar\":{\"outlinewidth\":0,\"ticks\":\"\"},\"colorscale\":[[0.0,\"#0d0887\"],[0.1111111111111111,\"#46039f\"],[0.2222222222222222,\"#7201a8\"],[0.3333333333333333,\"#9c179e\"],[0.4444444444444444,\"#bd3786\"],[0.5555555555555556,\"#d8576b\"],[0.6666666666666666,\"#ed7953\"],[0.7777777777777778,\"#fb9f3a\"],[0.8888888888888888,\"#fdca26\"],[1.0,\"#f0f921\"]],\"type\":\"surface\"}],\"table\":[{\"cells\":{\"fill\":{\"color\":\"#EBF0F8\"},\"line\":{\"color\":\"white\"}},\"header\":{\"fill\":{\"color\":\"#C8D4E3\"},\"line\":{\"color\":\"white\"}},\"type\":\"table\"}]},\"layout\":{\"annotationdefaults\":{\"arrowcolor\":\"#2a3f5f\",\"arrowhead\":0,\"arrowwidth\":1},\"autotypenumbers\":\"strict\",\"coloraxis\":{\"colorbar\":{\"outlinewidth\":0,\"ticks\":\"\"}},\"colorscale\":{\"diverging\":[[0,\"#8e0152\"],[0.1,\"#c51b7d\"],[0.2,\"#de77ae\"],[0.3,\"#f1b6da\"],[0.4,\"#fde0ef\"],[0.5,\"#f7f7f7\"],[0.6,\"#e6f5d0\"],[0.7,\"#b8e186\"],[0.8,\"#7fbc41\"],[0.9,\"#4d9221\"],[1,\"#276419\"]],\"sequential\":[[0.0,\"#0d0887\"],[0.1111111111111111,\"#46039f\"],[0.2222222222222222,\"#7201a8\"],[0.3333333333333333,\"#9c179e\"],[0.4444444444444444,\"#bd3786\"],[0.5555555555555556,\"#d8576b\"],[0.6666666666666666,\"#ed7953\"],[0.7777777777777778,\"#fb9f3a\"],[0.8888888888888888,\"#fdca26\"],[1.0,\"#f0f921\"]],\"sequentialminus\":[[0.0,\"#0d0887\"],[0.1111111111111111,\"#46039f\"],[0.2222222222222222,\"#7201a8\"],[0.3333333333333333,\"#9c179e\"],[0.4444444444444444,\"#bd3786\"],[0.5555555555555556,\"#d8576b\"],[0.6666666666666666,\"#ed7953\"],[0.7777777777777778,\"#fb9f3a\"],[0.8888888888888888,\"#fdca26\"],[1.0,\"#f0f921\"]]},\"colorway\":[\"#636efa\",\"#EF553B\",\"#00cc96\",\"#ab63fa\",\"#FFA15A\",\"#19d3f3\",\"#FF6692\",\"#B6E880\",\"#FF97FF\",\"#FECB52\"],\"font\":{\"color\":\"#2a3f5f\"},\"geo\":{\"bgcolor\":\"white\",\"lakecolor\":\"white\",\"landcolor\":\"#E5ECF6\",\"showlakes\":true,\"showland\":true,\"subunitcolor\":\"white\"},\"hoverlabel\":{\"align\":\"left\"},\"hovermode\":\"closest\",\"mapbox\":{\"style\":\"light\"},\"paper_bgcolor\":\"white\",\"plot_bgcolor\":\"#E5ECF6\",\"polar\":{\"angularaxis\":{\"gridcolor\":\"white\",\"linecolor\":\"white\",\"ticks\":\"\"},\"bgcolor\":\"#E5ECF6\",\"radialaxis\":{\"gridcolor\":\"white\",\"linecolor\":\"white\",\"ticks\":\"\"}},\"scene\":{\"xaxis\":{\"backgroundcolor\":\"#E5ECF6\",\"gridcolor\":\"white\",\"gridwidth\":2,\"linecolor\":\"white\",\"showbackground\":true,\"ticks\":\"\",\"zerolinecolor\":\"white\"},\"yaxis\":{\"backgroundcolor\":\"#E5ECF6\",\"gridcolor\":\"white\",\"gridwidth\":2,\"linecolor\":\"white\",\"showbackground\":true,\"ticks\":\"\",\"zerolinecolor\":\"white\"},\"zaxis\":{\"backgroundcolor\":\"#E5ECF6\",\"gridcolor\":\"white\",\"gridwidth\":2,\"linecolor\":\"white\",\"showbackground\":true,\"ticks\":\"\",\"zerolinecolor\":\"white\"}},\"shapedefaults\":{\"line\":{\"color\":\"#2a3f5f\"}},\"ternary\":{\"aaxis\":{\"gridcolor\":\"white\",\"linecolor\":\"white\",\"ticks\":\"\"},\"baxis\":{\"gridcolor\":\"white\",\"linecolor\":\"white\",\"ticks\":\"\"},\"bgcolor\":\"#E5ECF6\",\"caxis\":{\"gridcolor\":\"white\",\"linecolor\":\"white\",\"ticks\":\"\"}},\"title\":{\"x\":0.05},\"xaxis\":{\"automargin\":true,\"gridcolor\":\"white\",\"linecolor\":\"white\",\"ticks\":\"\",\"title\":{\"standoff\":15},\"zerolinecolor\":\"white\",\"zerolinewidth\":2},\"yaxis\":{\"automargin\":true,\"gridcolor\":\"white\",\"linecolor\":\"white\",\"ticks\":\"\",\"title\":{\"standoff\":15},\"zerolinecolor\":\"white\",\"zerolinewidth\":2}}},\"uniformtext\":{\"minsize\":12},\"width\":1200},                        {\"responsive\": true}                    ).then(function(){\n",
       "                            \n",
       "var gd = document.getElementById('3001da5b-76ed-42a7-8458-1a8c40c19c3d');\n",
       "var x = new MutationObserver(function (mutations, observer) {{\n",
       "        var display = window.getComputedStyle(gd).display;\n",
       "        if (!display || display === 'none') {{\n",
       "            console.log([gd, 'removed!']);\n",
       "            Plotly.purge(gd);\n",
       "            observer.disconnect();\n",
       "        }}\n",
       "}});\n",
       "\n",
       "// Listen for the removal of the full notebook cells\n",
       "var notebookContainer = gd.closest('#notebook-container');\n",
       "if (notebookContainer) {{\n",
       "    x.observe(notebookContainer, {childList: true});\n",
       "}}\n",
       "\n",
       "// Listen for the clearing of the current output cell\n",
       "var outputEl = gd.closest('.output');\n",
       "if (outputEl) {{\n",
       "    x.observe(outputEl, {childList: true});\n",
       "}}\n",
       "\n",
       "                        })                };                });            </script>        </div>"
      ]
     },
     "metadata": {},
     "output_type": "display_data"
    }
   ],
   "source": [
    "## ensure theat the first parents element is empty \n",
    "my_parents[0]=''\n",
    "my_labels[0]=my_parents[1]\n",
    "\n",
    "fig = go.Figure(go.Treemap(\n",
    "    labels=np.array(my_labels),\n",
    "    parents=np.array(my_parents),\n",
    "    hoverinfo= 'text',\n",
    "    maxdepth=2,\n",
    "    #marker=dict(\n",
    "     #   colorscale='RdBu',\n",
    "     #   cmid=0.5),\n",
    "))\n",
    "\n",
    "fig.update_layout(margin = dict(t=0, l=0, r=0, b=0),\n",
    "                 uniformtext=dict(minsize=12, \n",
    "                                 # mode='show',\n",
    "                                 ),\n",
    "                  width=1200, height=800\n",
    "                 )\n",
    "fig.show()\n",
    "fig.write_html(\"Overview_SDGs_treemap.html\")"
   ]
  },
  {
   "cell_type": "markdown",
   "metadata": {},
   "source": [
    "# SUNBURST"
   ]
  },
  {
   "cell_type": "code",
   "execution_count": 61,
   "metadata": {},
   "outputs": [
    {
     "data": {
      "application/vnd.plotly.v1+json": {
       "config": {
        "plotlyServerURL": "https://plot.ly"
       },
       "data": [
        {
         "hoverinfo": "text",
         "insidetextorientation": "radial",
         "labels": [
          "SDGs<br>",
          "Goal 1. End poverty in all its<br>forms everywhere<br>",
          "Goal 2. End hunger, achieve food<br>security and improved nutrition and<br>promote sustainable agriculture<br>",
          "Goal 3. Ensure healthy lives and<br>promote well-being for all at all<br>ages<br>",
          "Goal 4. Ensure inclusive and<br>equitable quality education and<br>promote lifelong learning<br>opportunities for all<br>",
          "Goal 5. Achieve gender equality and<br>empower all women and girls<br>",
          "Goal 6. Ensure availability and<br>sustainable management of water and<br>sanitation for all<br>",
          "Goal 7. Ensure access to<br>affordable, reliable, sustainable<br>and modern energy for all<br>",
          "Goal 8. Promote sustained,<br>inclusive and sustainable economic<br>growth, full and productive<br>employment and decent work for all<br>",
          "Goal 9. Build resilient<br>infrastructure, promote inclusive<br>and sustainable industrialization<br>and foster innovation<br>",
          "Goal 10. Reduce inequality within<br>and among countries<br>",
          "Goal 11. Make cities and human<br>settlements inclusive, safe,<br>resilient and sustainable<br>",
          "Goal 12. Ensure sustainable<br>consumption and production patterns<br>",
          "Goal 13. Take urgent action to<br>combat climate change and its<br>impacts<br>",
          "Goal 14. Conserve and sustainably<br>use the oceans, seas and marine<br>resources for sustainable<br>development<br>",
          "Goal 15. Protect, restore and<br>promote sustainable use of<br>terrestrial ecosystems, sustainably<br>manage forests,<br>combat desertification, and halt<br>and reverse land degradation and<br>halt biodiversity loss<br>",
          "Goal 16. Promote peaceful and<br>inclusive societies for sustainable<br>development, provide access to<br>justice for all and build<br>effective, accountable and<br>inclusive institutions at all<br>levels<br>",
          "Goal 17  Strengthen the means of<br>implementation and revitalize the<br>Global Partnership for<br>Sustainable Development<br>",
          "1.1 By 2030, eradicate extreme<br>poverty for all people everywhere,<br>currently measured as people living<br>on less than $1.25 a day<br>",
          "1.2 By 2030, reduce at least by<br>half the proportion of men, women<br>and children of all ages living in<br>poverty in all its dimensions<br>according to national definitions<br>",
          "1.3 Implement nationally<br>appropriate social protection<br>systems and measures for all,<br>including floors, and by 2030<br>achieve substantial coverage of the<br>poor and the vulnerable<br>",
          "1.4 By 2030, ensure that all men<br>and women, in particular the poor<br>and the vulnerable, have equal<br>rights to economic resources, as<br>well as access to basic services,<br>ownership and control over land and<br>other forms of property,<br>inheritance, natural resources,<br>appropriate new technology and<br>financial services, including<br>microfinance<br>",
          "1.5 By 2030, build the resilience<br>of the poor and those in vulnerable<br>situations and reduce their<br>exposure and vulnerability to<br>climate-related extreme events and<br>other economic, social and<br>environmental shocks and disasters<br>",
          "1.a Ensure significant mobilization<br>of resources from a variety of<br>sources, including through enhanced<br>development cooperation, in order<br>to provide adequate and predictable<br>means for developing countries, in<br>particular least developed<br>countries, to implement programmes<br>and policies to end poverty in all<br>its dimensions<br>",
          "1.b Create sound policy frameworks<br>at the national, regional and<br>international levels, based on pro-<br>poor and gender-sensitive<br>development strategies, to support<br>accelerated investment in poverty<br>eradication actions<br>",
          "2.1 By 2030, end hunger and ensure<br>access by all people, in particular<br>the poor and people in vulnerable<br>situations, including infants, to<br>safe, nutritious and sufficient<br>food all year round<br>",
          "2.2 By 2030, end all forms of<br>malnutrition, including achieving,<br>by 2025, the internationally agreed<br>targets on stunting and wasting in<br>children under 5 years of age, and<br>address the nutritional needs of<br>adolescent girls, pregnant and<br>lactating women and older persons<br>",
          "2.3 By 2030, double the<br>agricultural productivity and<br>incomes of small-scale food<br>producers, in particular women,<br>indigenous peoples, family farmers,<br>pastoralists and fishers, including<br>through secure and equal access to<br>land, other productive resources<br>and inputs, knowledge, financial<br>services, markets and opportunities<br>for value addition and non-farm<br>employment<br>",
          "2.4 By 2030, ensure sustainable<br>food production systems and<br>implement resilient agricultural<br>practices that increase<br>productivity and production, that<br>help maintain ecosystems, that<br>strengthen capacity for adaptation<br>to climate change, extreme weather,<br>drought, flooding and other<br>disasters and that progressively<br>improve land and soil quality<br>",
          "2.5 By 2020, maintain the genetic<br>diversity of seeds, cultivated<br>plants and farmed and domesticated<br>animals and their related wild<br>species, including through soundly<br>managed and diversified seed and<br>plant banks at the national,<br>regional and international levels,<br>and promote access to and fair and<br>equitable sharing of benefits<br>arising from the utilization of<br>genetic resources and associated<br>traditional knowledge, as<br>internationally agreed<br>",
          "2.a Increase investment, including<br>through enhanced international<br>cooperation, in rural<br>infrastructure, agricultural<br>research and extension services,<br>technology development and plant<br>and livestock gene banks in order<br>to enhance agricultural productive<br>capacity in developing countries,<br>in particular least developed<br>countries<br>",
          "2.b Correct and prevent trade<br>restrictions and distortions in<br>world agricultural markets,<br>including through the parallel<br>elimination of all forms of<br>agricultural export subsidies and<br>all export measures with equivalent<br>effect, in accordance with the<br>mandate of the Doha Development<br>Round<br>",
          "2.c Adopt measures to ensure the<br>proper functioning of food<br>commodity markets and their<br>derivatives and facilitate timely<br>access to market information,<br>including on food reserves, in<br>order to help limit extreme food<br>price volatility<br>",
          "3.1 By 2030, reduce the global<br>maternal mortality ratio to less<br>than 70 per 100,000 live births<br>",
          "3.2 By 2030, end preventable deaths<br>of newborns and children under<br>5 years of age, with all countries<br>aiming to reduce neonatal mortality<br>to at least as low as 12 per 1,000<br>live births and under‑5 mortality<br>to at least as low as 25 per 1,000<br>live births<br>",
          "3.3 By 2030, end the epidemics of<br>AIDS, tuberculosis, malaria and<br>neglected tropical diseases and<br>combat hepatitis, water-borne<br>diseases and other communicable<br>diseases<br>",
          "3.4 By 2030, reduce by one third<br>premature mortality from non-<br>communicable diseases through<br>prevention and treatment and<br>promote mental health and well-<br>being<br>",
          "3.5 Strengthen the prevention and<br>treatment of substance abuse,<br>including narcotic drug abuse and<br>harmful use of alcohol<br>",
          "3.6 By 2020, halve the number of<br>global deaths and injuries from<br>road traffic accidents<br>",
          "3.7 By 2030, ensure universal<br>access to sexual and reproductive<br>health-care services, including for<br>family planning, information and<br>education, and the integration of<br>reproductive health into national<br>strategies and programmes<br>",
          "3.8 Achieve universal health<br>coverage, including financial risk<br>protection, access to quality<br>essential health-care services and<br>access to safe, effective, quality<br>and affordable essential medicines<br>and vaccines for all<br>",
          "3.9 By 2030, substantially reduce<br>the number of deaths and illnesses<br>from hazardous chemicals and air,<br>water and soil pollution and<br>contamination<br>",
          "3.a Strengthen the implementation<br>of the World Health Organization<br>Framework Convention on Tobacco<br>Control in all countries, as<br>appropriate<br>",
          "3.b Support the research and<br>development of vaccines and<br>medicines for the communicable and<br>non‑communicable diseases that<br>primarily affect developing<br>countries, provide access to<br>affordable essential medicines and<br>vaccines, in accordance with the<br>Doha Declaration on the TRIPS<br>Agreement and Public Health, which<br>affirms the right of developing<br>countries to use to the full the<br>provisions in the Agreement on<br>Trade-Related Aspects of<br>Intellectual Property Rights<br>regarding flexibilities to protect<br>public health, and, in particular,<br>provide access to medicines for all<br>",
          "3.c Substantially increase health<br>financing and the recruitment,<br>development, training and retention<br>of the health workforce in<br>developing countries, especially in<br>least developed countries and small<br>island developing States<br>",
          "3.d Strengthen the capacity of all<br>countries, in particular developing<br>countries, for early warning, risk<br>reduction and management of<br>national and global health risks<br>",
          "4.1 By 2030, ensure that all girls<br>and boys complete free, equitable<br>and quality primary and secondary<br>education leading to relevant and<br>effective learning outcomes<br>",
          "4.2 By 2030, ensure that all girls<br>and boys have access to quality<br>early childhood development, care<br>and pre‑primary education so that<br>they are ready for primary<br>education<br>",
          "4.3 By 2030, ensure equal access<br>for all women and men to affordable<br>and quality technical, vocational<br>and tertiary education, including<br>university<br>",
          "4.4 By 2030, substantially increase<br>the number of youth and adults who<br>have relevant skills, including<br>technical and vocational skills,<br>for employment, decent jobs and<br>entrepreneurship<br>",
          "4.5 By 2030, eliminate gender<br>disparities in education and ensure<br>equal access to all levels of<br>education and vocational training<br>for the vulnerable, including<br>persons with disabilities,<br>indigenous peoples and children in<br>vulnerable situations<br>",
          "4.6 By 2030, ensure that all youth<br>and a substantial proportion of<br>adults, both men and women, achieve<br>literacy and numeracy<br>",
          "4.7 By 2030, ensure that all<br>learners acquire the knowledge and<br>skills needed to promote<br>sustainable development, including,<br>among others, through education for<br>sustainable development and<br>sustainable lifestyles, human<br>rights, gender equality, promotion<br>of a culture of peace and non-<br>violence, global citizenship and<br>appreciation of cultural diversity<br>and of culture’s contribution to<br>sustainable development<br>",
          "4.a Build and upgrade education<br>facilities that are child,<br>disability and gender sensitive and<br>provide safe, non-violent,<br>inclusive and effective learning<br>environments for all<br>",
          "4.b By 2020, substantially expand<br>globally the number of scholarships<br>available to developing countries,<br>in particular least developed<br>countries, small island developing<br>States and African countries, for<br>enrolment in higher education,<br>including vocational training and<br>information and communications<br>technology, technical, engineering<br>and scientific programmes, in<br>developed countries and other<br>developing countries<br>",
          "4.c By 2030, substantially increase<br>the supply of qualified teachers,<br>including through international<br>cooperation for teacher training in<br>developing countries, especially<br>least developed countries and small<br>island developing States<br>",
          "5.1 End all forms of discrimination<br>against all women and girls<br>everywhere<br>",
          "5.2 Eliminate all forms of violence<br>against all women and girls in the<br>public and private spheres,<br>including trafficking and sexual<br>and other types of exploitation<br>",
          "5.3 Eliminate all harmful<br>practices, such as child, early and<br>forced marriage and female genital<br>mutilation<br>",
          "5.4 Recognize and value unpaid care<br>and domestic work through the<br>provision of public services,<br>infrastructure and social<br>protection policies and the<br>promotion of shared responsibility<br>within the household and the family<br>as nationally appropriate<br>",
          "5.5 Ensure women’s full and<br>effective participation and equal<br>opportunities for leadership at all<br>levels of decision-making in<br>political, economic and public life<br>",
          "5.6 Ensure universal access to<br>sexual and reproductive health and<br>reproductive rights as agreed in<br>accordance with the Programme of<br>Action of the International<br>Conference on Population and<br>Development and the Beijing<br>Platform for Action and the outcome<br>documents of their review<br>conferences<br>",
          "5.a Undertake reforms to give women<br>equal rights to economic resources,<br>as well as access to ownership and<br>control over land and other forms<br>of property, financial services,<br>inheritance and natural resources,<br>in accordance with national laws<br>",
          "5.b Enhance the use of enabling<br>technology, in particular<br>information and communications<br>technology, to promote the<br>empowerment of women<br>",
          "5.c Adopt and strengthen sound<br>policies and enforceable<br>legislation for the promotion of<br>gender equality and the empowerment<br>of all women and girls at all<br>levels<br>",
          "6.1 By 2030, achieve universal and<br>equitable access to safe and<br>affordable drinking water for all<br>",
          "6.2 By 2030, achieve access to<br>adequate and equitable sanitation<br>and hygiene for all and end open<br>defecation, paying special<br>attention to the needs of women and<br>girls and those in vulnerable<br>situations<br>",
          "6.3 By 2030, improve water quality<br>by reducing pollution, eliminating<br>dumping and minimizing release of<br>hazardous chemicals and materials,<br>halving the proportion of untreated<br>wastewater and substantially<br>increasing recycling and safe reuse<br>globally<br>",
          "6.4 By 2030, substantially increase<br>water-use efficiency across all<br>sectors and ensure sustainable<br>withdrawals and supply of<br>freshwater to address water<br>scarcity and substantially reduce<br>the number of people suffering from<br>water scarcity<br>",
          "6.5 By 2030, implement integrated<br>water resources management at all<br>levels, including through<br>transboundary cooperation as<br>appropriate<br>",
          "6.6 By 2020, protect and restore<br>water-related ecosystems, including<br>mountains, forests, wetlands,<br>rivers, aquifers and lakes<br>",
          "6.a By 2030, expand international<br>cooperation and capacity-building<br>support to developing countries in<br>water- and sanitation-related<br>activities and programmes,<br>including water harvesting,<br>desalination, water efficiency,<br>wastewater treatment, recycling and<br>reuse technologies<br>",
          "6.b Support and strengthen the<br>participation of local communities<br>in improving water and sanitation<br>management<br>",
          "7.1 By 2030, ensure universal<br>access to affordable, reliable and<br>modern energy services<br>",
          "7.2 By 2030, increase substantially<br>the share of renewable energy in<br>the global energy mix<br>",
          "7.3 By 2030, double the global rate<br>of improvement in energy efficiency<br>",
          "7.a By 2030, enhance international<br>cooperation to facilitate access to<br>clean energy research and<br>technology, including renewable<br>energy, energy efficiency and<br>advanced and cleaner fossil-fuel<br>technology, and promote investment<br>in energy infrastructure and clean<br>energy technology<br>",
          "7.b By 2030, expand infrastructure<br>and upgrade technology for<br>supplying modern and sustainable<br>energy services for all in<br>developing countries, in particular<br>least developed countries, small<br>island developing States and<br>landlocked developing countries, in<br>accordance with their respective<br>programmes of support<br>",
          "8.1 Sustain per capita economic<br>growth in accordance with national<br>circumstances and, in particular,<br>at least 7 per cent gross domestic<br>product growth per annum in the<br>least developed countries<br>",
          "8.2 Achieve higher levels of<br>economic productivity through<br>diversification, technological<br>upgrading and innovation, including<br>through a focus on high-value added<br>and labour-intensive sectors<br>",
          "8.3 Promote development-oriented<br>policies that support productive<br>activities, decent job creation,<br>entrepreneurship, creativity and<br>innovation, and encourage the<br>formalization and growth of micro-,<br>small- and medium-sized<br>enterprises, including through<br>access to financial services<br>",
          "8.4 Improve progressively, through<br>2030, global resource efficiency in<br>consumption and production and<br>endeavour to decouple economic<br>growth from environmental<br>degradation, in accordance with the<br>10‑Year Framework of Programmes on<br>Sustainable Consumption and<br>Production, with developed<br>countries taking the lead<br>",
          "8.5 By 2030, achieve full and<br>productive employment and decent<br>work for all women and men,<br>including for young people and<br>persons with disabilities, and<br>equal pay for work of equal value<br>",
          "8.6 By 2020, substantially reduce<br>the proportion of youth not in<br>employment, education or training<br>",
          "8.7 Take immediate and effective<br>measures to eradicate forced<br>labour, end modern slavery and<br>human trafficking and secure the<br>prohibition and elimination of the<br>worst forms of child labour,<br>including recruitment and use of<br>child soldiers, and by 2025 end<br>child labour in all its forms<br>",
          "8.8 Protect labour rights and<br>promote safe and secure working<br>environments for all workers,<br>including migrant workers, in<br>particular women migrants, and<br>those in precarious employment<br>",
          "8.9 By 2030, devise and implement<br>policies to promote sustainable<br>tourism that creates jobs and<br>promotes local culture and products<br>",
          "8.10 Strengthen the capacity of<br>domestic financial institutions to<br>encourage and expand access to<br>banking, insurance and financial<br>services for all<br>",
          "8.a Increase Aid for Trade support<br>for developing countries, in<br>particular least developed<br>countries, including through the<br>Enhanced Integrated Framework for<br>Trade-related Technical Assistance<br>to Least Developed Countries<br>",
          "8.b By 2020, develop and<br>operationalize a global strategy<br>for youth employment and implement<br>the Global Jobs Pact of the<br>International Labour Organization<br>",
          "9.1 Develop quality, reliable,<br>sustainable and resilient<br>infrastructure, including regional<br>and transborder infrastructure, to<br>support economic development and<br>human well-being, with a focus on<br>affordable and equitable access for<br>all<br>",
          "9.2 Promote inclusive and<br>sustainable industrialization and,<br>by 2030, significantly raise<br>industry’s share of employment and<br>gross domestic product, in line<br>with national circumstances, and<br>double its share in least developed<br>countries<br>",
          "9.3 Increase the access of small-<br>scale industrial and other<br>enterprises, in particular in<br>developing countries, to financial<br>services, including affordable<br>credit, and their integration into<br>value chains and markets<br>",
          "9.4 By 2030, upgrade infrastructure<br>and retrofit industries to make<br>them sustainable, with increased<br>resource-use efficiency and greater<br>adoption of clean and<br>environmentally sound technologies<br>and industrial processes, with all<br>countries taking action in<br>accordance with their respective<br>capabilities<br>",
          "9.5 Enhance scientific research,<br>upgrade the technological<br>capabilities of industrial sectors<br>in all countries, in particular<br>developing countries, including, by<br>2030, encouraging innovation and<br>substantially increasing the number<br>of research and development workers<br>per 1 million people and public and<br>private research and development<br>spending<br>",
          "9.a Facilitate sustainable and<br>resilient infrastructure<br>development in developing countries<br>through enhanced financial,<br>technological and technical support<br>to African countries, least<br>developed countries, landlocked<br>developing countries and small<br>island developing States<br>",
          "9.b Support domestic technology<br>development, research and<br>innovation in developing countries,<br>including by ensuring a conducive<br>policy environment for, inter alia,<br>industrial diversification and<br>value addition to commodities<br>",
          "9.c Significantly increase access<br>to information and communications<br>technology and strive to provide<br>universal and affordable access to<br>the Internet in least developed<br>countries by 2020<br>",
          "10.1 By 2030, progressively achieve<br>and sustain income growth of the<br>bottom 40 per cent of the<br>population at a rate higher than<br>the national average<br>",
          "10.2 By 2030, empower and promote<br>the social, economic and political<br>inclusion of all, irrespective of<br>age, sex, disability, race,<br>ethnicity, origin, religion or<br>economic or other status<br>",
          "10.3 Ensure equal opportunity and<br>reduce inequalities of outcome,<br>including by eliminating<br>discriminatory laws, policies and<br>practices and promoting appropriate<br>legislation, policies and action in<br>this regard<br>",
          "10.4 Adopt policies, especially<br>fiscal, wage and social protection<br>policies, and progressively achieve<br>greater equality<br>",
          "10.5 Improve the regulation and<br>monitoring of global financial<br>markets and institutions and<br>strengthen the implementation of<br>such regulations<br>",
          "10.6 Ensure enhanced representation<br>and voice for developing countries<br>in decision-making in global<br>international economic and<br>financial institutions in order to<br>deliver more effective, credible,<br>accountable and legitimate<br>institutions<br>",
          "10.7 Facilitate orderly, safe,<br>regular and responsible migration<br>and mobility of people, including<br>through the implementation of<br>planned and well-managed migration<br>policies<br>",
          "10.a Implement the principle of<br>special and differential treatment<br>for developing countries, in<br>particular least developed<br>countries, in accordance with World<br>Trade Organization agreements<br>",
          "10.b Encourage official development<br>assistance and financial flows,<br>including foreign direct<br>investment, to States where the<br>need is greatest, in particular<br>least developed countries, African<br>countries, small island developing<br>States and landlocked developing<br>countries, in accordance with their<br>national plans and programmes<br>",
          "10.c By 2030, reduce to less than<br>3 per cent the transaction costs of<br>migrant remittances and eliminate<br>remittance corridors with costs<br>higher than 5 per cent<br>",
          "11.1 By 2030, ensure access for all<br>to adequate, safe and affordable<br>housing and basic services and<br>upgrade slums<br>",
          "11.2 By 2030, provide access to<br>safe, affordable, accessible and<br>sustainable transport systems for<br>all, improving road safety, notably<br>by expanding public transport, with<br>special attention to the needs of<br>those in vulnerable situations,<br>women, children, persons with<br>disabilities and older persons<br>",
          "11.3 By 2030, enhance inclusive and<br>sustainable urbanization and<br>capacity for participatory,<br>integrated and sustainable human<br>settlement planning and management<br>in all countries<br>",
          "11.4 Strengthen efforts to protect<br>and safeguard the world’s cultural<br>and natural heritage<br>",
          "11.5 By 2030, significantly reduce<br>the number of deaths and the number<br>of people affected and<br>substantially decrease the direct<br>economic losses relative to global<br>gross domestic product caused by<br>disasters, including water-related<br>disasters, with a focus on<br>protecting the poor and people in<br>vulnerable situations<br>",
          "11.6 By 2030, reduce the adverse<br>per capita environmental impact of<br>cities, including by paying special<br>attention to air quality and<br>municipal and other waste<br>management<br>",
          "11.7 By 2030, provide universal<br>access to safe, inclusive and<br>accessible, green and public<br>spaces, in particular for women and<br>children, older persons and persons<br>with disabilities<br>",
          "11.a Support positive economic,<br>social and environmental links<br>between urban, peri-urban and rural<br>areas by strengthening national and<br>regional development planning<br>",
          "11.b By 2020, substantially<br>increase the number of cities and<br>human settlements adopting and<br>implementing integrated policies<br>and plans towards inclusion,<br>resource efficiency, mitigation and<br>adaptation to climate change,<br>resilience to disasters, and<br>develop and implement, in line with<br>the Sendai Framework for Disaster<br>Risk Reduction 2015–2030, holistic<br>disaster risk management at all<br>levels<br>",
          "11.c Support least developed<br>countries, including through<br>financial and technical assistance,<br>in building sustainable and<br>resilient buildings utilizing local<br>materials<br>",
          "12.1 Implement the 10‑Year<br>Framework of Programmes on<br>Sustainable Consumption and<br>Production Patterns, all countries<br>taking action, with developed<br>countries taking the lead, taking<br>into account the development and<br>capabilities of developing<br>countries<br>",
          "12.2 By 2030, achieve the<br>sustainable management and<br>efficient use of natural resources<br>",
          "12.3 By 2030, halve per capita<br>global food waste at the retail and<br>consumer levels and reduce food<br>losses along production and supply<br>chains, including post-harvest<br>losses<br>",
          "12.4 By 2020, achieve the<br>environmentally sound management of<br>chemicals and all wastes throughout<br>their life cycle, in accordance<br>with agreed international<br>frameworks, and significantly<br>reduce their release to air, water<br>and soil in order to minimize their<br>adverse impacts on human health and<br>the environment<br>",
          "12.5 By 2030, substantially reduce<br>waste generation through<br>prevention, reduction, recycling<br>and reuse<br>",
          "12.6 Encourage companies,<br>especially large and transnational<br>companies, to adopt sustainable<br>practices and to integrate<br>sustainability information into<br>their reporting cycle<br>",
          "12.7 Promote public procurement<br>practices that are sustainable, in<br>accordance with national policies<br>and priorities<br>",
          "12.8 By 2030, ensure that people<br>everywhere have the relevant<br>information and awareness for<br>sustainable development and<br>lifestyles in harmony with nature<br>",
          "12.a Support developing countries<br>to strengthen their scientific and<br>technological capacity to move<br>towards more sustainable patterns<br>of consumption and production<br>",
          "12.b Develop and implement tools to<br>monitor sustainable development<br>impacts for sustainable tourism<br>that creates jobs and promotes<br>local culture and products<br>",
          "12.c Rationalize inefficient<br>fossil-fuel subsidies that<br>encourage wasteful consumption by<br>removing market distortions, in<br>accordance with national<br>circumstances, including by<br>restructuring taxation and phasing<br>out those harmful subsidies, where<br>they exist, to reflect their<br>environmental impacts, taking fully<br>into account the specific needs and<br>conditions of developing countries<br>and minimizing the possible adverse<br>impacts on their development in a<br>manner that protects the poor and<br>the affected communities<br>",
          "13.1 Strengthen resilience and<br>adaptive capacity to climate-<br>related hazards and natural<br>disasters in all countries<br>",
          "13.2 Integrate climate change<br>measures into national policies,<br>strategies and planning<br>",
          "13.3 Improve education, awareness-<br>raising and human and institutional<br>capacity on climate change<br>mitigation, adaptation, impact<br>reduction and early warning<br>",
          "13.a Implement the commitment<br>undertaken by developed-country<br>parties to the United Nations<br>Framework Convention on Climate<br>Change to a goal of mobilizing<br>jointly $100 billion annually by<br>2020 from all sources to address<br>the needs of developing countries<br>in the context of meaningful<br>mitigation actions and transparency<br>on implementation and fully<br>operationalize the Green Climate<br>Fund through its capitalization as<br>soon as possible<br>",
          "13.b Promote mechanisms for raising<br>capacity for effective climate<br>change-related planning and<br>management in least developed<br>countries and small island<br>developing States, including<br>focusing on women, youth and local<br>and marginalized communities<br>",
          "14.1 By 2025, prevent and<br>significantly reduce marine<br>pollution of all kinds, in<br>particular from land-based<br>activities, including marine debris<br>and nutrient pollution<br>",
          "14.2 By 2020, sustainably manage<br>and protect marine and coastal<br>ecosystems to avoid significant<br>adverse impacts, including by<br>strengthening their resilience, and<br>take action for their restoration<br>in order to achieve healthy and<br>productive oceans<br>",
          "14.3 Minimize and address the<br>impacts of ocean acidification,<br>including through enhanced<br>scientific cooperation at all<br>levels<br>",
          "14.4 By 2020, effectively regulate<br>harvesting and end overfishing,<br>illegal, unreported and unregulated<br>fishing and destructive fishing<br>practices and implement science-<br>based management plans, in order to<br>restore fish stocks in the shortest<br>time feasible, at least to levels<br>that can produce maximum<br>sustainable yield as determined by<br>their biological characteristics<br>",
          "14.5 By 2020, conserve at least<br>10 per cent of coastal and marine<br>areas, consistent with national and<br>international law and based on the<br>best available scientific<br>information<br>",
          "14.6 By 2020, prohibit certain<br>forms of fisheries subsidies which<br>contribute to overcapacity and<br>overfishing, eliminate subsidies<br>that contribute to illegal,<br>unreported and unregulated fishing<br>and refrain from introducing new<br>such subsidies, recognizing that<br>appropriate and effective special<br>and differential treatment for<br>developing and least developed<br>countries should be an integral<br>part of the World Trade<br>Organization fisheries subsidies<br>negotiation4<br>",
          "14.7 By 2030, increase the economic<br>benefits to small island developing<br>States and least developed<br>countries from the sustainable use<br>of marine resources, including<br>through sustainable management of<br>fisheries, aquaculture and tourism<br>",
          "14.a Increase scientific knowledge,<br>develop research capacity and<br>transfer marine technology, taking<br>into account the Intergovernmental<br>Oceanographic Commission Criteria<br>and Guidelines on the Transfer of<br>Marine Technology, in order to<br>improve ocean health and to enhance<br>the contribution of marine<br>biodiversity to the development of<br>developing countries, in particular<br>small island developing States and<br>least developed countries<br>",
          "14.b Provide access for small-scale<br>artisanal fishers to marine<br>resources and markets<br>",
          "14.c Enhance the conservation and<br>sustainable use of oceans and their<br>resources by implementing<br>international law as reflected in<br>the United Nations Convention on<br>the Law of the Sea, which provides<br>the legal framework for the<br>conservation and sustainable use of<br>oceans and their resources, as<br>recalled in paragraph 158 of “The<br>future we want”<br>",
          "15.1 By 2020, ensure the<br>conservation, restoration and<br>sustainable use of terrestrial and<br>inland freshwater ecosystems and<br>their services, in particular<br>forests, wetlands, mountains and<br>drylands, in line with obligations<br>under international agreements<br>",
          "15.2 By 2020, promote the<br>implementation of sustainable<br>management of all types of forests,<br>halt deforestation, restore<br>degraded forests and substantially<br>increase afforestation and<br>reforestation globally<br>",
          "15.3 By 2030, combat<br>desertification, restore degraded<br>land and soil, including land<br>affected by desertification,<br>drought and floods, and strive to<br>achieve a land degradation-neutral<br>world<br>",
          "15.4 By 2030, ensure the<br>conservation of mountain<br>ecosystems, including their<br>biodiversity, in order to enhance<br>their capacity to provide benefits<br>that are essential for sustainable<br>development<br>",
          "15.5 Take urgent and significant<br>action to reduce the degradation of<br>natural habitats, halt the loss of<br>biodiversity and, by 2020, protect<br>and prevent the extinction of<br>threatened species<br>",
          "15.6 Promote fair and equitable<br>sharing of the benefits arising<br>from the utilization of genetic<br>resources and promote appropriate<br>access to such resources, as<br>internationally agreed<br>",
          "15.7 Take urgent action to end<br>poaching and trafficking of<br>protected species of flora and<br>fauna and address both demand and<br>supply of illegal wildlife products<br>",
          "15.8 By 2020, introduce measures to<br>prevent the introduction and<br>significantly reduce the impact of<br>invasive alien species on land and<br>water ecosystems and control or<br>eradicate the priority species<br>",
          "15.9 By 2020, integrate ecosystem<br>and biodiversity values into<br>national and local planning,<br>development processes, poverty<br>reduction strategies and accounts<br>",
          "15.a Mobilize and significantly<br>increase financial resources from<br>all sources to conserve and<br>sustainably use biodiversity and<br>ecosystems<br>",
          "15.b Mobilize significant resources<br>from all sources and at all levels<br>to finance sustainable forest<br>management and provide adequate<br>incentives to developing countries<br>to advance such management,<br>including for conservation and<br>reforestation<br>",
          "15.c Enhance global support for<br>efforts to combat poaching and<br>trafficking of protected species,<br>including by increasing the<br>capacity of local communities to<br>pursue sustainable livelihood<br>opportunities<br>",
          "16.1 Significantly reduce all forms<br>of violence and related death rates<br>everywhere<br>",
          "16.2 End abuse, exploitation,<br>trafficking and all forms of<br>violence against and torture of<br>children<br>",
          "16.3 Promote the rule of law at the<br>national and international levels<br>and ensure equal access to justice<br>for all<br>",
          "16.4 By 2030, significantly reduce<br>illicit financial and arms flows,<br>strengthen the recovery and return<br>of stolen assets and combat all<br>forms of organized crime<br>",
          "16.5 Substantially reduce<br>corruption and bribery in all their<br>forms<br>",
          "16.6 Develop effective, accountable<br>and transparent institutions at all<br>levels<br>",
          "16.7 Ensure responsive, inclusive,<br>participatory and representative<br>decision-making at all levels<br>",
          "16.8 Broaden and strengthen the<br>participation of developing<br>countries in the institutions of<br>global governance<br>",
          "16.9 By 2030, provide legal<br>identity for all, including birth<br>registration<br>",
          "16.10 Ensure public access to<br>information and protect fundamental<br>freedoms, in accordance with<br>national legislation and<br>international agreements<br>",
          "16.a Strengthen relevant national<br>institutions, including through<br>international cooperation, for<br>building capacity at all levels, in<br>particular in developing countries,<br>to prevent violence and combat<br>terrorism and crime<br>",
          "16.b Promote and enforce non-<br>discriminatory laws and policies<br>for sustainable development<br>",
          "17.1 Strengthen domestic resource<br>mobilization, including through<br>international support to developing<br>countries, to improve domestic<br>capacity for tax and other revenue<br>collection<br>",
          "17.2 Developed countries to<br>implement fully their official<br>development assistance commitments,<br>including the commitment by many<br>developed countries to achieve the<br>target of 0.7 per cent of gross<br>national income for official<br>development assistance (ODA/GNI) to<br>developing countries and 0.15 to<br>0.20 per cent of ODA/GNI to least<br>developed countries; ODA providers<br>are encouraged to consider setting<br>a target to provide at least<br>0.20 per cent of ODA/GNI to least<br>developed countries<br>",
          "17.3 Mobilize additional financial<br>resources for developing countries<br>from multiple sources<br>",
          "17.4 Assist developing countries in<br>attaining long-term debt<br>sustainability through coordinated<br>policies aimed at fostering debt<br>financing, debt relief and debt<br>restructuring, as appropriate, and<br>address the external debt of highly<br>indebted poor countries to reduce<br>debt distress<br>",
          "17.5 Adopt and implement investment<br>promotion regimes for least<br>developed countries<br>",
          "17.6 Enhance North-South, South-<br>South and triangular regional and<br>international cooperation on and<br>access to science, technology and<br>innovation and enhance knowledge-<br>sharing on mutually agreed terms,<br>including through improved<br>coordination among existing<br>mechanisms, in particular at the<br>United Nations level, and through a<br>global technology facilitation<br>mechanism<br>",
          "17.7 Promote the development,<br>transfer, dissemination and<br>diffusion of environmentally sound<br>technologies to developing<br>countries on favourable terms,<br>including on concessional and<br>preferential terms, as mutually<br>agreed<br>",
          "17.8 Fully operationalize the<br>technology bank and science,<br>technology and innovation capacity-<br>building mechanism for least<br>developed countries by 2017 and<br>enhance the use of enabling<br>technology, in particular<br>information and communications<br>technology<br>",
          "17.9 Enhance international support<br>for implementing effective and<br>targeted capacity-building in<br>developing countries to support<br>national plans to implement all the<br>Sustainable Development Goals,<br>including through North-South,<br>South-South and triangular<br>cooperation<br>",
          "17.10 Promote a universal, rules-<br>based, open, non‑discriminatory and<br>equitable multilateral trading<br>system under the World Trade<br>Organization, including through the<br>conclusion of negotiations under<br>its Doha Development Agenda<br>",
          "17.11 Significantly increase the<br>exports of developing countries, in<br>particular with a view to doubling<br>the least developed countries’<br>share of global exports by 2020<br>",
          "17.12 Realize timely implementation<br>of duty-free and quota-free market<br>access on a lasting basis for all<br>least developed countries,<br>consistent with World Trade<br>Organization decisions, including<br>by ensuring that preferential rules<br>of origin applicable to imports<br>from least developed countries are<br>transparent and simple, and<br>contribute to facilitating market<br>access<br>",
          "17.13 Enhance global macroeconomic<br>stability, including through policy<br>coordination and policy coherence<br>",
          "17.14 Enhance policy coherence for<br>sustainable development<br>",
          "17.15 Respect each country’s policy<br>space and leadership to establish<br>and implement policies for poverty<br>eradication and sustainable<br>development<br>",
          "17.16 Enhance the Global<br>Partnership for Sustainable<br>Development, complemented by multi-<br>stakeholder partnerships that<br>mobilize and share knowledge,<br>expertise, technology and financial<br>resources, to support the<br>achievement of the Sustainable<br>Development Goals in all countries,<br>in particular developing countries<br>",
          "17.17 Encourage and promote<br>effective public, public-private<br>and civil society partnerships,<br>building on the experience and<br>resourcing strategies of<br>partnerships<br>",
          "17.18 By 2020, enhance capacity-<br>building support to developing<br>countries, including for least<br>developed countries and small<br>island developing States, to<br>increase significantly the<br>availability of high-quality,<br>timely and reliable data<br>disaggregated by income, gender,<br>age, race, ethnicity, migratory<br>status, disability, geographic<br>location and other characteristics<br>relevant in national contexts<br>",
          "17.19 By 2030, build on existing<br>initiatives to develop measurements<br>of progress on sustainable<br>development that complement gross<br>domestic product, and support<br>statistical capacity-building in<br>developing countries<br>",
          "1.1.1 Proportion of the population<br>living below the international<br>poverty line by sex, age,<br>employment status and geographic<br>location (urban/rural)<br>",
          "1.2.1 Proportion of population<br>living below the national poverty<br>line, by sex and age<br>",
          "1.2.2 Proportion of men, women and<br>children of all ages living in<br>poverty in all its dimensions<br>according to national definitions<br>",
          "1.3.1 Proportion of population<br>covered by social protection<br>floors/systems, by sex,<br>distinguishing children, unemployed<br>persons, older persons, persons<br>with disabilities, pregnant women,<br>newborns, work-injury victims and<br>the poor and the vulnerable<br>",
          "1.4.1 Proportion of population<br>living in households with access to<br>basic services<br>",
          "1.4.2 Proportion of total adult<br>population with secure tenure<br>rights to land, (a) with legally<br>recognized documentation, and (b)<br>who perceive their rights to land<br>as secure, by sex and type of<br>tenure<br>",
          "1.5.1 Number of deaths, missing<br>persons and directly affected<br>persons attributed to disasters per<br>100,000 population<br>",
          "1.5.2 Direct economic loss<br>attributed to disasters in relation<br>to global gross domestic product<br>(GDP)<br>",
          "1.5.3 Number of countries that<br>adopt and implement national<br>disaster risk reduction strategies<br>in line with the Sendai Framework<br>for Disaster Risk Reduction<br>2015–2030<br>",
          "1.5.4 Proportion of local<br>governments that adopt and<br>implement local disaster risk<br>reduction strategies in line with<br>national disaster risk reduction<br>strategies<br>",
          "1.a.1 Total official development<br>assistance grants from all donors<br>that focus on poverty reduction as<br>a share of the recipient country’s<br>gross national income<br>",
          "1.a.2 Proportion of total<br>government spending on essential<br>services (education, health and<br>social protection)<br>",
          "1.b.1 Pro-poor public social<br>spending<br>",
          "2.1.1 Prevalence of<br>undernourishment<br>",
          "2.1.2 Prevalence of moderate or<br>severe food insecurity in the<br>population, based on the Food<br>Insecurity Experience Scale (FIES)<br>",
          "2.2.1 Prevalence of stunting<br>(height for age <-2 standard<br>deviation from the median of the<br>World Health Organization (WHO)<br>Child Growth Standards) among<br>children under 5 years of age<br>",
          "2.2.2 Prevalence of malnutrition<br>(weight for height >+2 or <-2<br>standard deviation from the median<br>of the WHO Child Growth Standards)<br>among children under 5 years of<br>age, by type (wasting and<br>overweight)<br>",
          "2.2.3 Prevalence of anaemia in<br>women aged 15 to 49 years, by<br>pregnancy status (percentage)<br>",
          "2.3.1 Volume of production per<br>labour unit by classes of<br>farming/pastoral/forestry<br>enterprise size<br>",
          "2.3.2 Average income of small-scale<br>food producers, by sex and<br>indigenous status<br>",
          "2.4.1 Proportion of agricultural<br>area under productive and<br>sustainable agriculture<br>",
          "2.5.1 Number of (a) plant and (b)<br>animal genetic resources for food<br>and agriculture secured in either<br>medium- or long-term conservation<br>facilities<br>",
          "2.5.2 Proportion of local breeds<br>classified as being at risk of<br>extinction<br>",
          "2.a.1 The agriculture orientation<br>index for government expenditures<br>",
          "2.a.2 Total official flows<br>(official development assistance<br>plus other official flows) to the<br>agriculture sector<br>",
          "2.b.1 Agricultural export subsidies<br>",
          "2.c.1 Indicator of food price<br>anomalies<br>",
          "3.1.1 Maternal mortality ratio<br>",
          "3.1.2 Proportion of births attended<br>by skilled health personnel<br>",
          "3.2.1 Under‑5 mortality rate<br>",
          "3.2.2 Neonatal mortality rate<br>",
          "3.3.1 Number of new HIV infections<br>per 1,000 uninfected population, by<br>sex, age and key populations<br>",
          "3.3.2 Tuberculosis incidence per<br>100,000 population<br>",
          "3.3.3 Malaria incidence per 1,000<br>population<br>",
          "3.3.4 Hepatitis B incidence per<br>100,000 population<br>",
          "3.3.5 Number of people requiring<br>interventions against neglected<br>tropical diseases<br>",
          "3.4.1 Mortality rate attributed to<br>cardiovascular disease, cancer,<br>diabetes or chronic respiratory<br>disease<br>",
          "3.4.2 Suicide mortality rate<br>",
          "3.5.1 Coverage of treatment<br>interventions (pharmacological,<br>psychosocial and rehabilitation and<br>aftercare services) for substance<br>use disorders<br>",
          "3.5.2 Alcohol per capita<br>consumption (aged 15 years and<br>older) within a calendar year in<br>litres of pure alcohol<br>",
          "3.6.1 Death rate due to road<br>traffic injuries<br>",
          "3.7.1 Proportion of women of<br>reproductive age (aged 15–49 years)<br>who have their need for family<br>planning satisfied with modern<br>methods<br>",
          "3.7.2 Adolescent birth rate (aged<br>10–14 years; aged 15–19 years) per<br>1,000 women in that age group<br>",
          "3.8.1 Coverage of essential health<br>services<br>",
          "3.8.2 Proportion of population with<br>large household expenditures on<br>health as a share of total<br>household expenditure or income<br>",
          "3.9.1 Mortality rate attributed to<br>household and ambient air pollution<br>",
          "3.9.2 Mortality rate attributed to<br>unsafe water, unsafe sanitation and<br>lack of hygiene (exposure to unsafe<br>Water, Sanitation and Hygiene for<br>All (WASH) services)<br>",
          "3.9.3 Mortality rate attributed to<br>unintentional poisoning<br>",
          "3.a.1 Age-standardized prevalence<br>of current tobacco use among<br>persons aged 15 years and older<br>",
          "3.b.1 Proportion of the target<br>population covered by all vaccines<br>included in their national<br>programme<br>",
          "3.b.2 Total net official<br>development assistance to medical<br>research and basic health sectors<br>",
          "3.b.3 Proportion of health<br>facilities that have a core set of<br>relevant essential medicines<br>available and affordable on a<br>sustainable basis<br>",
          "3.c.1 Health worker density and<br>distribution<br>",
          "3.d.1 International Health<br>Regulations (IHR) capacity and<br>health emergency preparedness<br>",
          "3.d.2 Percentage of bloodstream<br>infections due to selected<br>antimicrobial-resistant organisms<br>",
          "4.1.1 Proportion of children and<br>young people (a) in grades 2/3; (b)<br>at the end of primary; and (c) at<br>the end of lower secondary<br>achieving at least a minimum<br>proficiency level in (i) reading<br>and (ii) mathematics, by sex<br>",
          "4.1.2 Completion rate (primary<br>education, lower secondary<br>education, upper secondary<br>education)<br>",
          "4.2.1 Proportion of children aged<br>24–59 months who are<br>developmentally on track in health,<br>learning and psychosocial well-<br>being, by sex<br>",
          "4.2.2 Participation rate in<br>organized learning (one year before<br>the official primary entry age), by<br>sex<br>",
          "4.3.1 Participation rate of youth<br>and adults in formal and non-formal<br>education and training in the<br>previous 12 months, by sex<br>",
          "4.4.1 Proportion of youth and<br>adults with information and<br>communications technology (ICT)<br>skills, by type of skill<br>",
          "4.5.1 Parity indices (female/male,<br>rural/urban, bottom/top wealth<br>quintile and others such as<br>disability status, indigenous<br>peoples and conflict-affected, as<br>data become available) for all<br>education indicators on this list<br>that can be disaggregated<br>",
          "4.6.1 Proportion of population in a<br>given age group achieving at least<br>a fixed level of proficiency in<br>functional (a) literacy and (b)<br>numeracy skills, by sex<br>",
          "4.7.1 Extent to which (i) global<br>citizenship education and (ii)<br>education for sustainable<br>development are mainstreamed in (a)<br>national education policies; (b)<br>curricula; (c) teacher education;<br>and (d) student assessment<br>",
          "4.a.1 Proportion of schools<br>offering basic services, by type of<br>service<br>",
          "4.b.1 Volume of official<br>development assistance flows for<br>scholarships by sector and type of<br>study<br>",
          "4.c.1 Proportion of teachers with<br>the minimum required<br>qualifications, by education level<br>",
          "5.1.1 Whether or not legal<br>frameworks are in place to promote,<br>enforce and monitor equality and<br>non‑discrimination on the basis of<br>sex<br>",
          "5.2.1 Proportion of ever-partnered<br>women and girls aged 15 years and<br>older subjected to physical, sexual<br>or psychological violence by a<br>current or former intimate partner<br>in the previous 12 months, by form<br>of violence and by age<br>",
          "5.2.2 Proportion of women and girls<br>aged 15 years and older subjected<br>to sexual violence by persons other<br>than an intimate partner in the<br>previous 12 months, by age and<br>place of occurrence<br>",
          "5.3.1 Proportion of women aged<br>20–24 years who were married or in<br>a union before age 15 and before<br>age 18<br>",
          "5.3.2 Proportion of girls and women<br>aged 15–49 years who have undergone<br>female genital mutilation/cutting,<br>by age<br>",
          "5.4.1 Proportion of time spent on<br>unpaid domestic and care work, by<br>sex, age and location<br>",
          "5.5.1 Proportion of seats held by<br>women in (a) national parliaments<br>and (b) local governments<br>",
          "5.5.2 Proportion of women in<br>managerial positions<br>",
          "5.6.1 Proportion of women aged<br>15–49 years who make their own<br>informed decisions regarding sexual<br>relations, contraceptive use and<br>reproductive health care<br>",
          "5.6.2 Number of countries with laws<br>and regulations that guarantee full<br>and equal access to women and men<br>aged 15 years and older to sexual<br>and reproductive health care,<br>information and education<br>",
          "5.a.1 (a) Proportion of total<br>agricultural population with<br>ownership or secure rights over<br>agricultural land, by sex; and (b)<br>share of women among owners or<br>rights-bearers of agricultural<br>land, by type of tenure<br>",
          "5.a.2 Proportion of countries where<br>the legal framework (including<br>customary law) guarantees women’s<br>equal rights to land ownership<br>and/or control<br>",
          "5.b.1 Proportion of individuals who<br>own a mobile telephone, by sex<br>",
          "5.c.1 Proportion of countries with<br>systems to track and make public<br>allocations for gender equality and<br>women’s empowerment<br>",
          "6.1.1 Proportion of population<br>using safely managed drinking water<br>services<br>",
          "6.2.1 Proportion of population<br>using (a) safely managed sanitation<br>services and (b) a hand-washing<br>facility with soap and water<br>",
          "6.3.1 Proportion of domestic and<br>industrial wastewater flows safely<br>treated<br>",
          "6.3.2 Proportion of bodies of water<br>with good ambient water quality<br>",
          "6.4.1 Change in water-use<br>efficiency over time<br>",
          "6.4.2 Level of water stress:<br>freshwater withdrawal as a<br>proportion of available freshwater<br>resources<br>",
          "6.5.1 Degree of integrated water<br>resources management<br>",
          "6.5.2 Proportion of transboundary<br>basin area with an operational<br>arrangement for water cooperation<br>",
          "6.6.1 Change in the extent of<br>water-related ecosystems over time<br>",
          "6.a.1 Amount of water- and<br>sanitation-related official<br>development assistance that is part<br>of a government-coordinated<br>spending plan<br>",
          "6.b.1 Proportion of local<br>administrative units with<br>established and operational<br>policies and procedures for<br>participation of local communities<br>in water and sanitation management<br>",
          "7.1.1 Proportion of population with<br>access to electricity<br>",
          "7.1.2 Proportion of population with<br>primary reliance on clean fuels and<br>technology<br>",
          "7.2.1 Renewable energy share in the<br>total final energy consumption<br>",
          "7.3.1 Energy intensity measured in<br>terms of primary energy and GDP<br>",
          "7.a.1 International financial flows<br>to developing countries in support<br>of clean energy research and<br>development and renewable energy<br>production, including in hybrid<br>systems<br>",
          "7.b.1 Installed renewable energy-<br>generating capacity in developing<br>countries (in watts per capita)<br>",
          "8.1.1 Annual growth rate of real<br>GDP per capita<br>",
          "8.2.1 Annual growth rate of real<br>GDP per employed person<br>",
          "8.3.1 Proportion of informal<br>employment in total employment, by<br>sector and sex<br>",
          "8.4.1 Material footprint, material<br>footprint per capita, and material<br>footprint per GDP<br>",
          "8.4.2 Domestic material<br>consumption, domestic material<br>consumption per capita, and<br>domestic material consumption per<br>GDP<br>",
          "8.5.1 Average hourly earnings of<br>employees, by sex, age, occupation<br>and persons with disabilities<br>",
          "8.5.2 Unemployment rate, by sex,<br>age and persons with disabilities<br>",
          "8.6.1 Proportion of youth (aged<br>15–24 years) not in education,<br>employment or training<br>",
          "8.7.1 Proportion and number of<br>children aged 5–17 years engaged in<br>child labour, by sex and age<br>",
          "8.8.1 Fatal and non-fatal<br>occupational injuries per 100,000<br>workers, by sex and migrant status<br>",
          "8.8.2 Level of national compliance<br>with labour rights (freedom of<br>association and collective<br>bargaining) based on International<br>Labour Organization (ILO) textual<br>sources and national legislation,<br>by sex and migrant status<br>",
          "8.9.1 Tourism direct GDP as a<br>proportion of total GDP and in<br>growth rate<br>",
          "8.10.1 (a) Number of commercial<br>bank branches per 100,000 adults<br>and (b) number of automated teller<br>machines (ATMs) per 100,000 adults<br>",
          "8.10.2 Proportion of adults<br>(15 years and older) with an<br>account at a bank or other<br>financial institution or with a<br>mobile-money-service provider<br>",
          "8.a.1 Aid for Trade commitments and<br>disbursements<br>",
          "8.b.1 Existence of a developed and<br>operationalized national strategy<br>for youth employment, as a distinct<br>strategy or as part of a national<br>employment strategy<br>",
          "9.1.1 Proportion of the rural<br>population who live within 2 km of<br>an all-season road<br>",
          "9.1.2 Passenger and freight<br>volumes, by mode of transport<br>",
          "9.2.1 Manufacturing value added as<br>a proportion of GDP and per capita<br>",
          "9.2.2 Manufacturing employment as a<br>proportion of total employment<br>",
          "9.3.1 Proportion of small-scale<br>industries in total industry value<br>added<br>",
          "9.3.2 Proportion of small-scale<br>industries with a loan or line of<br>credit<br>",
          "9.4.1 CO2 emission per unit of<br>value added<br>",
          "9.5.1 Research and development<br>expenditure as a proportion of GDP<br>",
          "9.5.2 Researchers (in full-time<br>equivalent) per million inhabitants<br>",
          "9.a.1 Total official international<br>support (official development<br>assistance plus other official<br>flows) to infrastructure<br>",
          "9.b.1 Proportion of medium and<br>high-tech industry value added in<br>total value added<br>",
          "9.c.1 Proportion of population<br>covered by a mobile network, by<br>technology<br>",
          "10.1.1 Growth rates of household<br>expenditure or income per capita<br>among the bottom 40 per cent of the<br>population and the total population<br>",
          "10.2.1 Proportion of people living<br>below 50 per cent of median income,<br>by sex, age and persons with<br>disabilities<br>",
          "10.3.1 Proportion of population<br>reporting having personally felt<br>discriminated against or harassed<br>in the previous 12 months on the<br>basis of a ground of discrimination<br>prohibited under international<br>human rights law<br>",
          "10.4.1 Labour share of GDP<br>",
          "10.4.2 Redistributive impact of<br>fiscal policy4<br>",
          "10.5.1 Financial Soundness<br>Indicators<br>",
          "10.6.1 Proportion of members and<br>voting rights of developing<br>countries in international<br>organizations<br>",
          "10.7.1 Recruitment cost borne by<br>employee as a proportion of monthly<br>income earned in country of<br>destination<br>",
          "10.7.2 Number of countries with<br>migration policies that facilitate<br>orderly, safe, regular and<br>responsible migration and mobility<br>of people<br>",
          "10.7.3 Number of people who died or<br>disappeared in the process of<br>migration towards an international<br>destination<br>",
          "10.7.4 Proportion of the population<br>who are refugees, by country of<br>origin<br>",
          "10.a.1 Proportion of tariff lines<br>applied to imports from least<br>developed countries and developing<br>countries with zero-tariff<br>",
          "10.b.1 Total resource flows for<br>development, by recipient and donor<br>countries and type of flow (e.g.<br>official development assistance,<br>foreign direct investment and other<br>flows)<br>",
          "10.c.1 Remittance costs as a<br>proportion of the amount remitted<br>",
          "11.1.1 Proportion of urban<br>population living in slums,<br>informal settlements or inadequate<br>housing<br>",
          "11.2.1 Proportion of population<br>that has convenient access to<br>public transport, by sex, age and<br>persons with disabilities<br>",
          "11.3.1 Ratio of land consumption<br>rate to population growth rate<br>",
          "11.3.2 Proportion of cities with a<br>direct participation structure of<br>civil society in urban planning and<br>management that operate regularly<br>and democratically<br>",
          "11.4.1 Total per capita expenditure<br>on the preservation, protection and<br>conservation of all cultural and<br>natural heritage, by source of<br>funding (public, private), type of<br>heritage (cultural, natural) and<br>level of government (national,<br>regional, and local/municipal)<br>",
          "11.5.1 Number of deaths, missing<br>persons and directly affected<br>persons attributed to disasters per<br>100,000 population<br>",
          "11.5.2 Direct economic loss in<br>relation to global GDP, damage to<br>critical infrastructure and number<br>of disruptions to basic services,<br>attributed to disasters<br>",
          "11.6.1 Proportion of municipal<br>solid waste collected and managed<br>in controlled facilities out of<br>total municipal waste generated, by<br>cities<br>",
          "11.6.2 Annual mean levels of fine<br>particulate matter (e.g. PM2.5 and<br>PM10) in cities (population<br>weighted)<br>",
          "11.7.1 Average share of the built-<br>up area of cities that is open<br>space for public use for all, by<br>sex, age and persons with<br>disabilities<br>",
          "11.7.2 Proportion of persons victim<br>of physical or sexual harassment,<br>by sex, age, disability status and<br>place of occurrence, in the<br>previous 12 months<br>",
          "11.a.1 Number of countries that<br>have national urban policies or<br>regional development plans that (a)<br>respond to population dynamics; (b)<br>ensure balanced territorial<br>development; and (c) increase local<br>fiscal space<br>",
          "11.b.1 Number of countries that<br>adopt and implement national<br>disaster risk reduction strategies<br>in line with the Sendai Framework<br>for Disaster Risk Reduction<br>2015–2030<br>",
          "11.b.2 Proportion of local<br>governments that adopt and<br>implement local disaster risk<br>reduction strategies in line with<br>national disaster risk reduction<br>strategies<br>",
          "No suitable replacement indicator<br>was proposed. The global<br>statistical community is encouraged<br>to work to develop an indicator<br>that could be proposed for the 2025<br>comprehensive review. See<br>E/CN.3/2020/2, paragraph 23.<br>",
          "12.1.1 Number of countries<br>developing, adopting or<br>implementing policy instruments<br>aimed at supporting the shift to<br>sustainable consumption and<br>production<br>",
          "12.2.1 Material footprint, material<br>footprint per capita, and material<br>footprint per GDP<br>",
          "12.2.2 Domestic material<br>consumption, domestic material<br>consumption per capita, and<br>domestic material consumption per<br>GDP<br>",
          "12.3.1 (a) Food loss index and (b)<br>food waste index<br>",
          "12.4.1 Number of parties to<br>international multilateral<br>environmental agreements on<br>hazardous waste, and other<br>chemicals that meet their<br>commitments and obligations in<br>transmitting information as<br>required by each relevant agreement<br>",
          "12.4.2 (a) Hazardous waste<br>generated per capita; and (b)<br>proportion of hazardous waste<br>treated, by type of treatment<br>",
          "12.5.1 National recycling rate,<br>tons of material recycled<br>",
          "12.6.1 Number of companies<br>publishing sustainability reports<br>",
          "12.7.1 Degree of sustainable public<br>procurement policies and action<br>plan implementation<br>",
          "12.8.1 Extent to which (i) global<br>citizenship education and (ii)<br>education for sustainable<br>development are mainstreamed in (a)<br>national education policies; (b)<br>curricula; (c) teacher education;<br>and (d) student assessment<br>",
          "12.a.1 Installed renewable energy-<br>generating capacity in developing<br>countries (in watts per capita)<br>",
          "12.b.1 Implementation of standard<br>accounting tools to monitor the<br>economic and environmental aspects<br>of tourism sustainability<br>",
          "12.c.1 Amount of fossil-fuel<br>subsidies (production and<br>consumption) per unit of GDP<br>",
          "13.1.1 Number of deaths, missing<br>persons and directly affected<br>persons attributed to disasters per<br>100,000 population<br>",
          "13.1.2 Number of countries that<br>adopt and implement national<br>disaster risk reduction strategies<br>in line with the Sendai Framework<br>for Disaster Risk Reduction<br>2015–2030<br>",
          "13.1.3 Proportion of local<br>governments that adopt and<br>implement local disaster risk<br>reduction strategies in line with<br>national disaster risk reduction<br>strategies<br>",
          "13.2.1 Number of countries with<br>nationally determined<br>contributions, long-term<br>strategies, national adaptation<br>plans and adaptation<br>communications, as reported to the<br>secretariat of the United Nations<br>Framework Convention on Climate<br>Change<br>",
          "13.2.2 Total greenhouse gas<br>emissions per year<br>",
          "13.3.1 Extent to which (i) global<br>citizenship education and (ii)<br>education for sustainable<br>development are mainstreamed in (a)<br>national education policies; (b)<br>curricula; (c) teacher education;<br>and (d) student assessment<br>",
          "13.a.1 Amounts provided and<br>mobilized in United States dollars<br>per year in relation to the<br>continued existing collective<br>mobilization goal of the $100<br>billion commitment through to 2025<br>",
          "13.b.1 Number of least developed<br>countries and small island<br>developing States with nationally<br>determined contributions, long-term<br>strategies, national adaptation<br>plans and adaptation<br>communications, as reported to the<br>secretariat of the United Nations<br>Framework Convention on Climate<br>Change<br>",
          "14.1.1 (a) Index of coastal<br>eutrophication; and (b) plastic<br>debris density<br>",
          "14.2.1 Number of countries using<br>ecosystem-based approaches to<br>managing marine areas<br>",
          "14.3.1 Average marine acidity (pH)<br>measured at agreed suite of<br>representative sampling stations<br>",
          "14.4.1 Proportion of fish stocks<br>within biologically sustainable<br>levels<br>",
          "14.5.1 Coverage of protected areas<br>in relation to marine areas<br>",
          "14.6.1 Degree of implementation of<br>international instruments aiming to<br>combat illegal, unreported and<br>unregulated fishing<br>",
          "14.7.1 Sustainable fisheries as a<br>proportion of GDP in small island<br>developing States, least developed<br>countries and all countries<br>",
          "14.a.1 Proportion of total research<br>budget allocated to research in the<br>field of marine technology<br>",
          "14.b.1 Degree of application of a<br>legal/regulatory/<br>policy/institutional framework<br>which recognizes and protects<br>access rights for small-scale<br>fisheries<br>",
          "14.c.1 Number of countries making<br>progress in ratifying, accepting<br>and implementing through legal,<br>policy and institutional<br>frameworks, ocean-related<br>instruments that implement<br>international law, as reflected in<br>the United Nations Convention on<br>the Law of the Sea, for the<br>conservation and sustainable use of<br>the oceans and their resources<br>",
          "15.1.1 Forest area as a proportion<br>of total land area<br>",
          "15.1.2 Proportion of important<br>sites for terrestrial and<br>freshwater biodiversity that are<br>covered by protected areas, by<br>ecosystem type<br>",
          "15.2.1 Progress towards sustainable<br>forest management<br>",
          "15.3.1 Proportion of land that is<br>degraded over total land area<br>",
          "15.4.1 Coverage by protected areas<br>of important sites for mountain<br>biodiversity<br>",
          "15.4.2 Mountain Green Cover Index<br>",
          "15.5.1 Red List Index<br>",
          "15.6.1 Number of countries that<br>have adopted legislative,<br>administrative and policy<br>frameworks to ensure fair and<br>equitable sharing of benefits<br>",
          "15.7.1 Proportion of traded<br>wildlife that was poached or<br>illicitly trafficked<br>",
          "15.8.1 Proportion of countries<br>adopting relevant national<br>legislation and adequately<br>resourcing the prevention or<br>control of invasive alien species<br>",
          "15.9.1 (a) Number of countries that<br>have established national targets<br>in accordance with or similar to<br>Aichi Biodiversity Target 2 of the<br>Strategic Plan for Biodiversity<br>2011–2020 in their national<br>biodiversity strategy and action<br>plans and the progress reported<br>towards these targets; and (b)<br>integration of biodiversity into<br>national accounting and reporting<br>systems, defined as implementation<br>of the System of Environmental-<br>Economic Accounting<br>",
          "15.a.1 (a) Official development<br>assistance on conservation and<br>sustainable use of biodiversity;<br>and (b) revenue generated and<br>finance mobilized from<br>biodiversity-relevant economic<br>instruments<br>",
          "15.b.1 (a) Official development<br>assistance on conservation and<br>sustainable use of biodiversity;<br>and (b) revenue generated and<br>finance mobilized from<br>biodiversity-relevant economic<br>instruments<br>",
          "15.c.1 Proportion of traded<br>wildlife that was poached or<br>illicitly trafficked<br>",
          "16.1.1 Number of victims of<br>intentional homicide per 100,000<br>population, by sex and age<br>",
          "16.1.2 Conflict-related deaths per<br>100,000 population, by sex, age and<br>cause<br>",
          "16.1.3 Proportion of population<br>subjected to (a) physical violence,<br>(b) psychological violence and (c)<br>sexual violence in the previous 12<br>months<br>",
          "16.1.4 Proportion of population<br>that feel safe walking alone around<br>the area they live<br>",
          "16.2.1 Proportion of children aged<br>1–17 years who experienced any<br>physical punishment and/or<br>psychological aggression by<br>caregivers in the past month<br>",
          "16.2.2 Number of victims of human<br>trafficking per 100,000 population,<br>by sex, age and form of<br>exploitation<br>",
          "16.2.3 Proportion of young women<br>and men aged 18–29 years who<br>experienced sexual violence by<br>age 18<br>",
          "16.3.1 Proportion of victims of<br>violence in the previous 12 months<br>who reported their victimization to<br>competent authorities or other<br>officially recognized conflict<br>resolution mechanisms<br>",
          "16.3.2 Unsentenced detainees as a<br>proportion of overall prison<br>population<br>",
          "16.3.3 Proportion of the population<br>who have experienced a dispute in<br>the past two years and who accessed<br>a formal or informal dispute<br>resolution mechanism, by type of<br>mechanism<br>",
          "16.4.1 Total value of inward and<br>outward illicit financial flows (in<br>current United States dollars)<br>",
          "16.4.2 Proportion of seized, found<br>or surrendered arms whose illicit<br>origin or context has been traced<br>or established by a competent<br>authority in line with<br>international instruments<br>",
          "16.5.1 Proportion of persons who<br>had at least one contact with a<br>public official and who paid a<br>bribe to a public official, or were<br>asked for a bribe by those public<br>officials, during the previous<br>12 months<br>",
          "16.5.2 Proportion of businesses<br>that had at least one contact with<br>a public official and that paid a<br>bribe to a public official, or were<br>asked for a bribe by those public<br>officials during the previous<br>12 months<br>",
          "16.6.1 Primary government<br>expenditures as a proportion of<br>original approved budget, by sector<br>(or by budget codes or similar)<br>",
          "16.6.2 Proportion of population<br>satisfied with their last<br>experience of public services<br>",
          "16.7.1 Proportions of positions in<br>national and local institutions,<br>including (a) the legislatures; (b)<br>the public service; and (c) the<br>judiciary, compared to national<br>distributions, by sex, age, persons<br>with disabilities and population<br>groups<br>",
          "16.7.2 Proportion of population who<br>believe decision-making is<br>inclusive and responsive, by sex,<br>age, disability and population<br>group<br>",
          "16.8.1 Proportion of members and<br>voting rights of developing<br>countries in international<br>organizations<br>",
          "16.9.1 Proportion of children under<br>5 years of age whose births have<br>been registered with a civil<br>authority, by age<br>",
          "16.10.1 Number of verified cases of<br>killing, kidnapping, enforced<br>disappearance, arbitrary detention<br>and torture of journalists,<br>associated media personnel, trade<br>unionists and human rights<br>advocates in the previous 12 months<br>",
          "16.10.2 Number of countries that<br>adopt and implement constitutional,<br>statutory and/or policy guarantees<br>for public access to information<br>",
          "16.a.1 Existence of independent<br>national human rights institutions<br>in compliance with the Paris<br>Principles<br>",
          "16.b.1 Proportion of population<br>reporting having personally felt<br>discriminated against or harassed<br>in the previous 12 months on the<br>basis of a ground of discrimination<br>prohibited under international<br>human rights law<br>",
          "17.1.1 Total government revenue as<br>a proportion of GDP, by source<br>",
          "17.1.2 Proportion of domestic<br>budget funded by domestic taxes<br>",
          "17.2.1 Net official development<br>assistance, total and to least<br>developed countries, as a<br>proportion of the Organization for<br>Economic Cooperation and<br>Development (OECD) Development<br>Assistance Committee donors’ gross<br>national income (GNI)<br>",
          "17.3.1 Foreign direct investment,<br>official development assistance and<br>South-South cooperation as a<br>proportion of gross national income<br>",
          "17.3.2 Volume of remittances (in<br>United States dollars) as a<br>proportion of total GDP<br>",
          "17.4.1 Debt service as a proportion<br>of exports of goods and services<br>",
          "17.5.1 Number of countries that<br>adopt and implement investment<br>promotion regimes for developing<br>countries, including the least<br>developed countries<br>",
          "17.6.1 Fixed Internet broadband<br>subscriptions per 100 inhabitants,<br>by speed5<br>",
          "17.7.1 Total amount of funding for<br>developing countries to promote the<br>development, transfer,<br>dissemination and diffusion of<br>environmentally sound technologies<br>",
          "17.8.1 Proportion of individuals<br>using the Internet<br>",
          "17.9.1 Dollar value of financial<br>and technical assistance (including<br>through North-South, South‑South<br>and triangular cooperation)<br>committed to developing countries<br>",
          "17.10.1 Worldwide weighted tariff-<br>average<br>",
          "17.11.1 Developing countries’ and<br>least developed countries’ share of<br>global exports<br>",
          "17.12.1 Weighted average tariffs<br>faced by developing countries,<br>least developed countries and small<br>island developing States<br>",
          "17.13.1 Macroeconomic Dashboard<br>",
          "17.14.1 Number of countries with<br>mechanisms in place to enhance<br>policy coherence of sustainable<br>development<br>",
          "17.15.1 Extent of use of country-<br>owned results frameworks and<br>planning tools by providers of<br>development cooperation<br>",
          "17.16.1 Number of countries<br>reporting progress in multi-<br>stakeholder development<br>effectiveness monitoring frameworks<br>that support the achievement of the<br>sustainable development goals<br>",
          "17.17.1 Amount in United States<br>dollars committed to public-private<br>partnerships for infrastructure<br>",
          "17.18.1 Statistical capacity<br>indicator for Sustainable<br>Development Goal monitoring<br>",
          "17.18.2 Number of countries that<br>have national statistical<br>legislation that complies with the<br>Fundamental Principles of Official<br>Statistics<br>",
          "17.18.3 Number of countries with a<br>national statistical plan that is<br>fully funded and under<br>implementation, by source of<br>funding<br>",
          "17.19.1 Dollar value of all<br>resources made available to<br>strengthen statistical capacity in<br>developing countries<br>",
          "17.19.2 Proportion of countries<br>that (a) have conducted at least<br>one population and housing census<br>in the last 10 years; and (b) have<br>achieved 100 per cent birth<br>registration and 80 per cent death<br>registration<br>"
         ],
         "maxdepth": 6,
         "parents": [
          "",
          "SDGs<br>",
          "SDGs<br>",
          "SDGs<br>",
          "SDGs<br>",
          "SDGs<br>",
          "SDGs<br>",
          "SDGs<br>",
          "SDGs<br>",
          "SDGs<br>",
          "SDGs<br>",
          "SDGs<br>",
          "SDGs<br>",
          "SDGs<br>",
          "SDGs<br>",
          "SDGs<br>",
          "SDGs<br>",
          "SDGs<br>",
          "Goal 1. End poverty in all its<br>forms everywhere<br>",
          "Goal 1. End poverty in all its<br>forms everywhere<br>",
          "Goal 1. End poverty in all its<br>forms everywhere<br>",
          "Goal 1. End poverty in all its<br>forms everywhere<br>",
          "Goal 1. End poverty in all its<br>forms everywhere<br>",
          "Goal 1. End poverty in all its<br>forms everywhere<br>",
          "Goal 1. End poverty in all its<br>forms everywhere<br>",
          "Goal 2. End hunger, achieve food<br>security and improved nutrition and<br>promote sustainable agriculture<br>",
          "Goal 2. End hunger, achieve food<br>security and improved nutrition and<br>promote sustainable agriculture<br>",
          "Goal 2. End hunger, achieve food<br>security and improved nutrition and<br>promote sustainable agriculture<br>",
          "Goal 2. End hunger, achieve food<br>security and improved nutrition and<br>promote sustainable agriculture<br>",
          "Goal 2. End hunger, achieve food<br>security and improved nutrition and<br>promote sustainable agriculture<br>",
          "Goal 2. End hunger, achieve food<br>security and improved nutrition and<br>promote sustainable agriculture<br>",
          "Goal 2. End hunger, achieve food<br>security and improved nutrition and<br>promote sustainable agriculture<br>",
          "Goal 2. End hunger, achieve food<br>security and improved nutrition and<br>promote sustainable agriculture<br>",
          "Goal 3. Ensure healthy lives and<br>promote well-being for all at all<br>ages<br>",
          "Goal 3. Ensure healthy lives and<br>promote well-being for all at all<br>ages<br>",
          "Goal 3. Ensure healthy lives and<br>promote well-being for all at all<br>ages<br>",
          "Goal 3. Ensure healthy lives and<br>promote well-being for all at all<br>ages<br>",
          "Goal 3. Ensure healthy lives and<br>promote well-being for all at all<br>ages<br>",
          "Goal 3. Ensure healthy lives and<br>promote well-being for all at all<br>ages<br>",
          "Goal 3. Ensure healthy lives and<br>promote well-being for all at all<br>ages<br>",
          "Goal 3. Ensure healthy lives and<br>promote well-being for all at all<br>ages<br>",
          "Goal 3. Ensure healthy lives and<br>promote well-being for all at all<br>ages<br>",
          "Goal 3. Ensure healthy lives and<br>promote well-being for all at all<br>ages<br>",
          "Goal 3. Ensure healthy lives and<br>promote well-being for all at all<br>ages<br>",
          "Goal 3. Ensure healthy lives and<br>promote well-being for all at all<br>ages<br>",
          "Goal 3. Ensure healthy lives and<br>promote well-being for all at all<br>ages<br>",
          "Goal 4. Ensure inclusive and<br>equitable quality education and<br>promote lifelong learning<br>opportunities for all<br>",
          "Goal 4. Ensure inclusive and<br>equitable quality education and<br>promote lifelong learning<br>opportunities for all<br>",
          "Goal 4. Ensure inclusive and<br>equitable quality education and<br>promote lifelong learning<br>opportunities for all<br>",
          "Goal 4. Ensure inclusive and<br>equitable quality education and<br>promote lifelong learning<br>opportunities for all<br>",
          "Goal 4. Ensure inclusive and<br>equitable quality education and<br>promote lifelong learning<br>opportunities for all<br>",
          "Goal 4. Ensure inclusive and<br>equitable quality education and<br>promote lifelong learning<br>opportunities for all<br>",
          "Goal 4. Ensure inclusive and<br>equitable quality education and<br>promote lifelong learning<br>opportunities for all<br>",
          "Goal 4. Ensure inclusive and<br>equitable quality education and<br>promote lifelong learning<br>opportunities for all<br>",
          "Goal 4. Ensure inclusive and<br>equitable quality education and<br>promote lifelong learning<br>opportunities for all<br>",
          "Goal 4. Ensure inclusive and<br>equitable quality education and<br>promote lifelong learning<br>opportunities for all<br>",
          "Goal 5. Achieve gender equality and<br>empower all women and girls<br>",
          "Goal 5. Achieve gender equality and<br>empower all women and girls<br>",
          "Goal 5. Achieve gender equality and<br>empower all women and girls<br>",
          "Goal 5. Achieve gender equality and<br>empower all women and girls<br>",
          "Goal 5. Achieve gender equality and<br>empower all women and girls<br>",
          "Goal 5. Achieve gender equality and<br>empower all women and girls<br>",
          "Goal 5. Achieve gender equality and<br>empower all women and girls<br>",
          "Goal 5. Achieve gender equality and<br>empower all women and girls<br>",
          "Goal 5. Achieve gender equality and<br>empower all women and girls<br>",
          "Goal 6. Ensure availability and<br>sustainable management of water and<br>sanitation for all<br>",
          "Goal 6. Ensure availability and<br>sustainable management of water and<br>sanitation for all<br>",
          "Goal 6. Ensure availability and<br>sustainable management of water and<br>sanitation for all<br>",
          "Goal 6. Ensure availability and<br>sustainable management of water and<br>sanitation for all<br>",
          "Goal 6. Ensure availability and<br>sustainable management of water and<br>sanitation for all<br>",
          "Goal 6. Ensure availability and<br>sustainable management of water and<br>sanitation for all<br>",
          "Goal 6. Ensure availability and<br>sustainable management of water and<br>sanitation for all<br>",
          "Goal 6. Ensure availability and<br>sustainable management of water and<br>sanitation for all<br>",
          "Goal 7. Ensure access to<br>affordable, reliable, sustainable<br>and modern energy for all<br>",
          "Goal 7. Ensure access to<br>affordable, reliable, sustainable<br>and modern energy for all<br>",
          "Goal 7. Ensure access to<br>affordable, reliable, sustainable<br>and modern energy for all<br>",
          "Goal 7. Ensure access to<br>affordable, reliable, sustainable<br>and modern energy for all<br>",
          "Goal 7. Ensure access to<br>affordable, reliable, sustainable<br>and modern energy for all<br>",
          "Goal 8. Promote sustained,<br>inclusive and sustainable economic<br>growth, full and productive<br>employment and decent work for all<br>",
          "Goal 8. Promote sustained,<br>inclusive and sustainable economic<br>growth, full and productive<br>employment and decent work for all<br>",
          "Goal 8. Promote sustained,<br>inclusive and sustainable economic<br>growth, full and productive<br>employment and decent work for all<br>",
          "Goal 8. Promote sustained,<br>inclusive and sustainable economic<br>growth, full and productive<br>employment and decent work for all<br>",
          "Goal 8. Promote sustained,<br>inclusive and sustainable economic<br>growth, full and productive<br>employment and decent work for all<br>",
          "Goal 8. Promote sustained,<br>inclusive and sustainable economic<br>growth, full and productive<br>employment and decent work for all<br>",
          "Goal 8. Promote sustained,<br>inclusive and sustainable economic<br>growth, full and productive<br>employment and decent work for all<br>",
          "Goal 8. Promote sustained,<br>inclusive and sustainable economic<br>growth, full and productive<br>employment and decent work for all<br>",
          "Goal 8. Promote sustained,<br>inclusive and sustainable economic<br>growth, full and productive<br>employment and decent work for all<br>",
          "Goal 8. Promote sustained,<br>inclusive and sustainable economic<br>growth, full and productive<br>employment and decent work for all<br>",
          "Goal 8. Promote sustained,<br>inclusive and sustainable economic<br>growth, full and productive<br>employment and decent work for all<br>",
          "Goal 8. Promote sustained,<br>inclusive and sustainable economic<br>growth, full and productive<br>employment and decent work for all<br>",
          "Goal 9. Build resilient<br>infrastructure, promote inclusive<br>and sustainable industrialization<br>and foster innovation<br>",
          "Goal 9. Build resilient<br>infrastructure, promote inclusive<br>and sustainable industrialization<br>and foster innovation<br>",
          "Goal 9. Build resilient<br>infrastructure, promote inclusive<br>and sustainable industrialization<br>and foster innovation<br>",
          "Goal 9. Build resilient<br>infrastructure, promote inclusive<br>and sustainable industrialization<br>and foster innovation<br>",
          "Goal 9. Build resilient<br>infrastructure, promote inclusive<br>and sustainable industrialization<br>and foster innovation<br>",
          "Goal 9. Build resilient<br>infrastructure, promote inclusive<br>and sustainable industrialization<br>and foster innovation<br>",
          "Goal 9. Build resilient<br>infrastructure, promote inclusive<br>and sustainable industrialization<br>and foster innovation<br>",
          "Goal 9. Build resilient<br>infrastructure, promote inclusive<br>and sustainable industrialization<br>and foster innovation<br>",
          "Goal 10. Reduce inequality within<br>and among countries<br>",
          "Goal 10. Reduce inequality within<br>and among countries<br>",
          "Goal 10. Reduce inequality within<br>and among countries<br>",
          "Goal 10. Reduce inequality within<br>and among countries<br>",
          "Goal 10. Reduce inequality within<br>and among countries<br>",
          "Goal 10. Reduce inequality within<br>and among countries<br>",
          "Goal 10. Reduce inequality within<br>and among countries<br>",
          "Goal 10. Reduce inequality within<br>and among countries<br>",
          "Goal 10. Reduce inequality within<br>and among countries<br>",
          "Goal 10. Reduce inequality within<br>and among countries<br>",
          "Goal 11. Make cities and human<br>settlements inclusive, safe,<br>resilient and sustainable<br>",
          "Goal 11. Make cities and human<br>settlements inclusive, safe,<br>resilient and sustainable<br>",
          "Goal 11. Make cities and human<br>settlements inclusive, safe,<br>resilient and sustainable<br>",
          "Goal 11. Make cities and human<br>settlements inclusive, safe,<br>resilient and sustainable<br>",
          "Goal 11. Make cities and human<br>settlements inclusive, safe,<br>resilient and sustainable<br>",
          "Goal 11. Make cities and human<br>settlements inclusive, safe,<br>resilient and sustainable<br>",
          "Goal 11. Make cities and human<br>settlements inclusive, safe,<br>resilient and sustainable<br>",
          "Goal 11. Make cities and human<br>settlements inclusive, safe,<br>resilient and sustainable<br>",
          "Goal 11. Make cities and human<br>settlements inclusive, safe,<br>resilient and sustainable<br>",
          "Goal 11. Make cities and human<br>settlements inclusive, safe,<br>resilient and sustainable<br>",
          "Goal 12. Ensure sustainable<br>consumption and production patterns<br>",
          "Goal 12. Ensure sustainable<br>consumption and production patterns<br>",
          "Goal 12. Ensure sustainable<br>consumption and production patterns<br>",
          "Goal 12. Ensure sustainable<br>consumption and production patterns<br>",
          "Goal 12. Ensure sustainable<br>consumption and production patterns<br>",
          "Goal 12. Ensure sustainable<br>consumption and production patterns<br>",
          "Goal 12. Ensure sustainable<br>consumption and production patterns<br>",
          "Goal 12. Ensure sustainable<br>consumption and production patterns<br>",
          "Goal 12. Ensure sustainable<br>consumption and production patterns<br>",
          "Goal 12. Ensure sustainable<br>consumption and production patterns<br>",
          "Goal 12. Ensure sustainable<br>consumption and production patterns<br>",
          "Goal 13. Take urgent action to<br>combat climate change and its<br>impacts<br>",
          "Goal 13. Take urgent action to<br>combat climate change and its<br>impacts<br>",
          "Goal 13. Take urgent action to<br>combat climate change and its<br>impacts<br>",
          "Goal 13. Take urgent action to<br>combat climate change and its<br>impacts<br>",
          "Goal 13. Take urgent action to<br>combat climate change and its<br>impacts<br>",
          "Goal 14. Conserve and sustainably<br>use the oceans, seas and marine<br>resources for sustainable<br>development<br>",
          "Goal 14. Conserve and sustainably<br>use the oceans, seas and marine<br>resources for sustainable<br>development<br>",
          "Goal 14. Conserve and sustainably<br>use the oceans, seas and marine<br>resources for sustainable<br>development<br>",
          "Goal 14. Conserve and sustainably<br>use the oceans, seas and marine<br>resources for sustainable<br>development<br>",
          "Goal 14. Conserve and sustainably<br>use the oceans, seas and marine<br>resources for sustainable<br>development<br>",
          "Goal 14. Conserve and sustainably<br>use the oceans, seas and marine<br>resources for sustainable<br>development<br>",
          "Goal 14. Conserve and sustainably<br>use the oceans, seas and marine<br>resources for sustainable<br>development<br>",
          "Goal 14. Conserve and sustainably<br>use the oceans, seas and marine<br>resources for sustainable<br>development<br>",
          "Goal 14. Conserve and sustainably<br>use the oceans, seas and marine<br>resources for sustainable<br>development<br>",
          "Goal 14. Conserve and sustainably<br>use the oceans, seas and marine<br>resources for sustainable<br>development<br>",
          "Goal 15. Protect, restore and<br>promote sustainable use of<br>terrestrial ecosystems, sustainably<br>manage forests,<br>combat desertification, and halt<br>and reverse land degradation and<br>halt biodiversity loss<br>",
          "Goal 15. Protect, restore and<br>promote sustainable use of<br>terrestrial ecosystems, sustainably<br>manage forests,<br>combat desertification, and halt<br>and reverse land degradation and<br>halt biodiversity loss<br>",
          "Goal 15. Protect, restore and<br>promote sustainable use of<br>terrestrial ecosystems, sustainably<br>manage forests,<br>combat desertification, and halt<br>and reverse land degradation and<br>halt biodiversity loss<br>",
          "Goal 15. Protect, restore and<br>promote sustainable use of<br>terrestrial ecosystems, sustainably<br>manage forests,<br>combat desertification, and halt<br>and reverse land degradation and<br>halt biodiversity loss<br>",
          "Goal 15. Protect, restore and<br>promote sustainable use of<br>terrestrial ecosystems, sustainably<br>manage forests,<br>combat desertification, and halt<br>and reverse land degradation and<br>halt biodiversity loss<br>",
          "Goal 15. Protect, restore and<br>promote sustainable use of<br>terrestrial ecosystems, sustainably<br>manage forests,<br>combat desertification, and halt<br>and reverse land degradation and<br>halt biodiversity loss<br>",
          "Goal 15. Protect, restore and<br>promote sustainable use of<br>terrestrial ecosystems, sustainably<br>manage forests,<br>combat desertification, and halt<br>and reverse land degradation and<br>halt biodiversity loss<br>",
          "Goal 15. Protect, restore and<br>promote sustainable use of<br>terrestrial ecosystems, sustainably<br>manage forests,<br>combat desertification, and halt<br>and reverse land degradation and<br>halt biodiversity loss<br>",
          "Goal 15. Protect, restore and<br>promote sustainable use of<br>terrestrial ecosystems, sustainably<br>manage forests,<br>combat desertification, and halt<br>and reverse land degradation and<br>halt biodiversity loss<br>",
          "Goal 15. Protect, restore and<br>promote sustainable use of<br>terrestrial ecosystems, sustainably<br>manage forests,<br>combat desertification, and halt<br>and reverse land degradation and<br>halt biodiversity loss<br>",
          "Goal 15. Protect, restore and<br>promote sustainable use of<br>terrestrial ecosystems, sustainably<br>manage forests,<br>combat desertification, and halt<br>and reverse land degradation and<br>halt biodiversity loss<br>",
          "Goal 15. Protect, restore and<br>promote sustainable use of<br>terrestrial ecosystems, sustainably<br>manage forests,<br>combat desertification, and halt<br>and reverse land degradation and<br>halt biodiversity loss<br>",
          "Goal 16. Promote peaceful and<br>inclusive societies for sustainable<br>development, provide access to<br>justice for all and build<br>effective, accountable and<br>inclusive institutions at all<br>levels<br>",
          "Goal 16. Promote peaceful and<br>inclusive societies for sustainable<br>development, provide access to<br>justice for all and build<br>effective, accountable and<br>inclusive institutions at all<br>levels<br>",
          "Goal 16. Promote peaceful and<br>inclusive societies for sustainable<br>development, provide access to<br>justice for all and build<br>effective, accountable and<br>inclusive institutions at all<br>levels<br>",
          "Goal 16. Promote peaceful and<br>inclusive societies for sustainable<br>development, provide access to<br>justice for all and build<br>effective, accountable and<br>inclusive institutions at all<br>levels<br>",
          "Goal 16. Promote peaceful and<br>inclusive societies for sustainable<br>development, provide access to<br>justice for all and build<br>effective, accountable and<br>inclusive institutions at all<br>levels<br>",
          "Goal 16. Promote peaceful and<br>inclusive societies for sustainable<br>development, provide access to<br>justice for all and build<br>effective, accountable and<br>inclusive institutions at all<br>levels<br>",
          "Goal 16. Promote peaceful and<br>inclusive societies for sustainable<br>development, provide access to<br>justice for all and build<br>effective, accountable and<br>inclusive institutions at all<br>levels<br>",
          "Goal 16. Promote peaceful and<br>inclusive societies for sustainable<br>development, provide access to<br>justice for all and build<br>effective, accountable and<br>inclusive institutions at all<br>levels<br>",
          "Goal 16. Promote peaceful and<br>inclusive societies for sustainable<br>development, provide access to<br>justice for all and build<br>effective, accountable and<br>inclusive institutions at all<br>levels<br>",
          "Goal 16. Promote peaceful and<br>inclusive societies for sustainable<br>development, provide access to<br>justice for all and build<br>effective, accountable and<br>inclusive institutions at all<br>levels<br>",
          "Goal 16. Promote peaceful and<br>inclusive societies for sustainable<br>development, provide access to<br>justice for all and build<br>effective, accountable and<br>inclusive institutions at all<br>levels<br>",
          "Goal 16. Promote peaceful and<br>inclusive societies for sustainable<br>development, provide access to<br>justice for all and build<br>effective, accountable and<br>inclusive institutions at all<br>levels<br>",
          "Goal 17  Strengthen the means of<br>implementation and revitalize the<br>Global Partnership for<br>Sustainable Development<br>",
          "Goal 17  Strengthen the means of<br>implementation and revitalize the<br>Global Partnership for<br>Sustainable Development<br>",
          "Goal 17  Strengthen the means of<br>implementation and revitalize the<br>Global Partnership for<br>Sustainable Development<br>",
          "Goal 17  Strengthen the means of<br>implementation and revitalize the<br>Global Partnership for<br>Sustainable Development<br>",
          "Goal 17  Strengthen the means of<br>implementation and revitalize the<br>Global Partnership for<br>Sustainable Development<br>",
          "Goal 17  Strengthen the means of<br>implementation and revitalize the<br>Global Partnership for<br>Sustainable Development<br>",
          "Goal 17  Strengthen the means of<br>implementation and revitalize the<br>Global Partnership for<br>Sustainable Development<br>",
          "Goal 17  Strengthen the means of<br>implementation and revitalize the<br>Global Partnership for<br>Sustainable Development<br>",
          "Goal 17  Strengthen the means of<br>implementation and revitalize the<br>Global Partnership for<br>Sustainable Development<br>",
          "Goal 17  Strengthen the means of<br>implementation and revitalize the<br>Global Partnership for<br>Sustainable Development<br>",
          "Goal 17  Strengthen the means of<br>implementation and revitalize the<br>Global Partnership for<br>Sustainable Development<br>",
          "Goal 17  Strengthen the means of<br>implementation and revitalize the<br>Global Partnership for<br>Sustainable Development<br>",
          "Goal 17  Strengthen the means of<br>implementation and revitalize the<br>Global Partnership for<br>Sustainable Development<br>",
          "Goal 17  Strengthen the means of<br>implementation and revitalize the<br>Global Partnership for<br>Sustainable Development<br>",
          "Goal 17  Strengthen the means of<br>implementation and revitalize the<br>Global Partnership for<br>Sustainable Development<br>",
          "Goal 17  Strengthen the means of<br>implementation and revitalize the<br>Global Partnership for<br>Sustainable Development<br>",
          "Goal 17  Strengthen the means of<br>implementation and revitalize the<br>Global Partnership for<br>Sustainable Development<br>",
          "Goal 17  Strengthen the means of<br>implementation and revitalize the<br>Global Partnership for<br>Sustainable Development<br>",
          "Goal 17  Strengthen the means of<br>implementation and revitalize the<br>Global Partnership for<br>Sustainable Development<br>",
          "1.1 By 2030, eradicate extreme<br>poverty for all people everywhere,<br>currently measured as people living<br>on less than $1.25 a day<br>",
          "1.2 By 2030, reduce at least by<br>half the proportion of men, women<br>and children of all ages living in<br>poverty in all its dimensions<br>according to national definitions<br>",
          "1.2 By 2030, reduce at least by<br>half the proportion of men, women<br>and children of all ages living in<br>poverty in all its dimensions<br>according to national definitions<br>",
          "1.3 Implement nationally<br>appropriate social protection<br>systems and measures for all,<br>including floors, and by 2030<br>achieve substantial coverage of the<br>poor and the vulnerable<br>",
          "1.4 By 2030, ensure that all men<br>and women, in particular the poor<br>and the vulnerable, have equal<br>rights to economic resources, as<br>well as access to basic services,<br>ownership and control over land and<br>other forms of property,<br>inheritance, natural resources,<br>appropriate new technology and<br>financial services, including<br>microfinance<br>",
          "1.4 By 2030, ensure that all men<br>and women, in particular the poor<br>and the vulnerable, have equal<br>rights to economic resources, as<br>well as access to basic services,<br>ownership and control over land and<br>other forms of property,<br>inheritance, natural resources,<br>appropriate new technology and<br>financial services, including<br>microfinance<br>",
          "1.5 By 2030, build the resilience<br>of the poor and those in vulnerable<br>situations and reduce their<br>exposure and vulnerability to<br>climate-related extreme events and<br>other economic, social and<br>environmental shocks and disasters<br>",
          "1.5 By 2030, build the resilience<br>of the poor and those in vulnerable<br>situations and reduce their<br>exposure and vulnerability to<br>climate-related extreme events and<br>other economic, social and<br>environmental shocks and disasters<br>",
          "1.5 By 2030, build the resilience<br>of the poor and those in vulnerable<br>situations and reduce their<br>exposure and vulnerability to<br>climate-related extreme events and<br>other economic, social and<br>environmental shocks and disasters<br>",
          "1.5 By 2030, build the resilience<br>of the poor and those in vulnerable<br>situations and reduce their<br>exposure and vulnerability to<br>climate-related extreme events and<br>other economic, social and<br>environmental shocks and disasters<br>",
          "1.a Ensure significant mobilization<br>of resources from a variety of<br>sources, including through enhanced<br>development cooperation, in order<br>to provide adequate and predictable<br>means for developing countries, in<br>particular least developed<br>countries, to implement programmes<br>and policies to end poverty in all<br>its dimensions<br>",
          "1.a Ensure significant mobilization<br>of resources from a variety of<br>sources, including through enhanced<br>development cooperation, in order<br>to provide adequate and predictable<br>means for developing countries, in<br>particular least developed<br>countries, to implement programmes<br>and policies to end poverty in all<br>its dimensions<br>",
          "1.b Create sound policy frameworks<br>at the national, regional and<br>international levels, based on pro-<br>poor and gender-sensitive<br>development strategies, to support<br>accelerated investment in poverty<br>eradication actions<br>",
          "2.1 By 2030, end hunger and ensure<br>access by all people, in particular<br>the poor and people in vulnerable<br>situations, including infants, to<br>safe, nutritious and sufficient<br>food all year round<br>",
          "2.1 By 2030, end hunger and ensure<br>access by all people, in particular<br>the poor and people in vulnerable<br>situations, including infants, to<br>safe, nutritious and sufficient<br>food all year round<br>",
          "2.2 By 2030, end all forms of<br>malnutrition, including achieving,<br>by 2025, the internationally agreed<br>targets on stunting and wasting in<br>children under 5 years of age, and<br>address the nutritional needs of<br>adolescent girls, pregnant and<br>lactating women and older persons<br>",
          "2.2 By 2030, end all forms of<br>malnutrition, including achieving,<br>by 2025, the internationally agreed<br>targets on stunting and wasting in<br>children under 5 years of age, and<br>address the nutritional needs of<br>adolescent girls, pregnant and<br>lactating women and older persons<br>",
          "2.2 By 2030, end all forms of<br>malnutrition, including achieving,<br>by 2025, the internationally agreed<br>targets on stunting and wasting in<br>children under 5 years of age, and<br>address the nutritional needs of<br>adolescent girls, pregnant and<br>lactating women and older persons<br>",
          "2.3 By 2030, double the<br>agricultural productivity and<br>incomes of small-scale food<br>producers, in particular women,<br>indigenous peoples, family farmers,<br>pastoralists and fishers, including<br>through secure and equal access to<br>land, other productive resources<br>and inputs, knowledge, financial<br>services, markets and opportunities<br>for value addition and non-farm<br>employment<br>",
          "2.3 By 2030, double the<br>agricultural productivity and<br>incomes of small-scale food<br>producers, in particular women,<br>indigenous peoples, family farmers,<br>pastoralists and fishers, including<br>through secure and equal access to<br>land, other productive resources<br>and inputs, knowledge, financial<br>services, markets and opportunities<br>for value addition and non-farm<br>employment<br>",
          "2.4 By 2030, ensure sustainable<br>food production systems and<br>implement resilient agricultural<br>practices that increase<br>productivity and production, that<br>help maintain ecosystems, that<br>strengthen capacity for adaptation<br>to climate change, extreme weather,<br>drought, flooding and other<br>disasters and that progressively<br>improve land and soil quality<br>",
          "2.5 By 2020, maintain the genetic<br>diversity of seeds, cultivated<br>plants and farmed and domesticated<br>animals and their related wild<br>species, including through soundly<br>managed and diversified seed and<br>plant banks at the national,<br>regional and international levels,<br>and promote access to and fair and<br>equitable sharing of benefits<br>arising from the utilization of<br>genetic resources and associated<br>traditional knowledge, as<br>internationally agreed<br>",
          "2.5 By 2020, maintain the genetic<br>diversity of seeds, cultivated<br>plants and farmed and domesticated<br>animals and their related wild<br>species, including through soundly<br>managed and diversified seed and<br>plant banks at the national,<br>regional and international levels,<br>and promote access to and fair and<br>equitable sharing of benefits<br>arising from the utilization of<br>genetic resources and associated<br>traditional knowledge, as<br>internationally agreed<br>",
          "2.a Increase investment, including<br>through enhanced international<br>cooperation, in rural<br>infrastructure, agricultural<br>research and extension services,<br>technology development and plant<br>and livestock gene banks in order<br>to enhance agricultural productive<br>capacity in developing countries,<br>in particular least developed<br>countries<br>",
          "2.a Increase investment, including<br>through enhanced international<br>cooperation, in rural<br>infrastructure, agricultural<br>research and extension services,<br>technology development and plant<br>and livestock gene banks in order<br>to enhance agricultural productive<br>capacity in developing countries,<br>in particular least developed<br>countries<br>",
          "2.b Correct and prevent trade<br>restrictions and distortions in<br>world agricultural markets,<br>including through the parallel<br>elimination of all forms of<br>agricultural export subsidies and<br>all export measures with equivalent<br>effect, in accordance with the<br>mandate of the Doha Development<br>Round<br>",
          "2.c Adopt measures to ensure the<br>proper functioning of food<br>commodity markets and their<br>derivatives and facilitate timely<br>access to market information,<br>including on food reserves, in<br>order to help limit extreme food<br>price volatility<br>",
          "3.1 By 2030, reduce the global<br>maternal mortality ratio to less<br>than 70 per 100,000 live births<br>",
          "3.1 By 2030, reduce the global<br>maternal mortality ratio to less<br>than 70 per 100,000 live births<br>",
          "3.2 By 2030, end preventable deaths<br>of newborns and children under<br>5 years of age, with all countries<br>aiming to reduce neonatal mortality<br>to at least as low as 12 per 1,000<br>live births and under‑5 mortality<br>to at least as low as 25 per 1,000<br>live births<br>",
          "3.2 By 2030, end preventable deaths<br>of newborns and children under<br>5 years of age, with all countries<br>aiming to reduce neonatal mortality<br>to at least as low as 12 per 1,000<br>live births and under‑5 mortality<br>to at least as low as 25 per 1,000<br>live births<br>",
          "3.3 By 2030, end the epidemics of<br>AIDS, tuberculosis, malaria and<br>neglected tropical diseases and<br>combat hepatitis, water-borne<br>diseases and other communicable<br>diseases<br>",
          "3.3 By 2030, end the epidemics of<br>AIDS, tuberculosis, malaria and<br>neglected tropical diseases and<br>combat hepatitis, water-borne<br>diseases and other communicable<br>diseases<br>",
          "3.3 By 2030, end the epidemics of<br>AIDS, tuberculosis, malaria and<br>neglected tropical diseases and<br>combat hepatitis, water-borne<br>diseases and other communicable<br>diseases<br>",
          "3.3 By 2030, end the epidemics of<br>AIDS, tuberculosis, malaria and<br>neglected tropical diseases and<br>combat hepatitis, water-borne<br>diseases and other communicable<br>diseases<br>",
          "3.3 By 2030, end the epidemics of<br>AIDS, tuberculosis, malaria and<br>neglected tropical diseases and<br>combat hepatitis, water-borne<br>diseases and other communicable<br>diseases<br>",
          "3.4 By 2030, reduce by one third<br>premature mortality from non-<br>communicable diseases through<br>prevention and treatment and<br>promote mental health and well-<br>being<br>",
          "3.4 By 2030, reduce by one third<br>premature mortality from non-<br>communicable diseases through<br>prevention and treatment and<br>promote mental health and well-<br>being<br>",
          "3.5 Strengthen the prevention and<br>treatment of substance abuse,<br>including narcotic drug abuse and<br>harmful use of alcohol<br>",
          "3.5 Strengthen the prevention and<br>treatment of substance abuse,<br>including narcotic drug abuse and<br>harmful use of alcohol<br>",
          "3.6 By 2020, halve the number of<br>global deaths and injuries from<br>road traffic accidents<br>",
          "3.7 By 2030, ensure universal<br>access to sexual and reproductive<br>health-care services, including for<br>family planning, information and<br>education, and the integration of<br>reproductive health into national<br>strategies and programmes<br>",
          "3.7 By 2030, ensure universal<br>access to sexual and reproductive<br>health-care services, including for<br>family planning, information and<br>education, and the integration of<br>reproductive health into national<br>strategies and programmes<br>",
          "3.8 Achieve universal health<br>coverage, including financial risk<br>protection, access to quality<br>essential health-care services and<br>access to safe, effective, quality<br>and affordable essential medicines<br>and vaccines for all<br>",
          "3.8 Achieve universal health<br>coverage, including financial risk<br>protection, access to quality<br>essential health-care services and<br>access to safe, effective, quality<br>and affordable essential medicines<br>and vaccines for all<br>",
          "3.9 By 2030, substantially reduce<br>the number of deaths and illnesses<br>from hazardous chemicals and air,<br>water and soil pollution and<br>contamination<br>",
          "3.9 By 2030, substantially reduce<br>the number of deaths and illnesses<br>from hazardous chemicals and air,<br>water and soil pollution and<br>contamination<br>",
          "3.9 By 2030, substantially reduce<br>the number of deaths and illnesses<br>from hazardous chemicals and air,<br>water and soil pollution and<br>contamination<br>",
          "3.a Strengthen the implementation<br>of the World Health Organization<br>Framework Convention on Tobacco<br>Control in all countries, as<br>appropriate<br>",
          "3.b Support the research and<br>development of vaccines and<br>medicines for the communicable and<br>non‑communicable diseases that<br>primarily affect developing<br>countries, provide access to<br>affordable essential medicines and<br>vaccines, in accordance with the<br>Doha Declaration on the TRIPS<br>Agreement and Public Health, which<br>affirms the right of developing<br>countries to use to the full the<br>provisions in the Agreement on<br>Trade-Related Aspects of<br>Intellectual Property Rights<br>regarding flexibilities to protect<br>public health, and, in particular,<br>provide access to medicines for all<br>",
          "3.b Support the research and<br>development of vaccines and<br>medicines for the communicable and<br>non‑communicable diseases that<br>primarily affect developing<br>countries, provide access to<br>affordable essential medicines and<br>vaccines, in accordance with the<br>Doha Declaration on the TRIPS<br>Agreement and Public Health, which<br>affirms the right of developing<br>countries to use to the full the<br>provisions in the Agreement on<br>Trade-Related Aspects of<br>Intellectual Property Rights<br>regarding flexibilities to protect<br>public health, and, in particular,<br>provide access to medicines for all<br>",
          "3.b Support the research and<br>development of vaccines and<br>medicines for the communicable and<br>non‑communicable diseases that<br>primarily affect developing<br>countries, provide access to<br>affordable essential medicines and<br>vaccines, in accordance with the<br>Doha Declaration on the TRIPS<br>Agreement and Public Health, which<br>affirms the right of developing<br>countries to use to the full the<br>provisions in the Agreement on<br>Trade-Related Aspects of<br>Intellectual Property Rights<br>regarding flexibilities to protect<br>public health, and, in particular,<br>provide access to medicines for all<br>",
          "3.c Substantially increase health<br>financing and the recruitment,<br>development, training and retention<br>of the health workforce in<br>developing countries, especially in<br>least developed countries and small<br>island developing States<br>",
          "3.d Strengthen the capacity of all<br>countries, in particular developing<br>countries, for early warning, risk<br>reduction and management of<br>national and global health risks<br>",
          "3.d Strengthen the capacity of all<br>countries, in particular developing<br>countries, for early warning, risk<br>reduction and management of<br>national and global health risks<br>",
          "4.1 By 2030, ensure that all girls<br>and boys complete free, equitable<br>and quality primary and secondary<br>education leading to relevant and<br>effective learning outcomes<br>",
          "4.1 By 2030, ensure that all girls<br>and boys complete free, equitable<br>and quality primary and secondary<br>education leading to relevant and<br>effective learning outcomes<br>",
          "4.2 By 2030, ensure that all girls<br>and boys have access to quality<br>early childhood development, care<br>and pre‑primary education so that<br>they are ready for primary<br>education<br>",
          "4.2 By 2030, ensure that all girls<br>and boys have access to quality<br>early childhood development, care<br>and pre‑primary education so that<br>they are ready for primary<br>education<br>",
          "4.3 By 2030, ensure equal access<br>for all women and men to affordable<br>and quality technical, vocational<br>and tertiary education, including<br>university<br>",
          "4.4 By 2030, substantially increase<br>the number of youth and adults who<br>have relevant skills, including<br>technical and vocational skills,<br>for employment, decent jobs and<br>entrepreneurship<br>",
          "4.5 By 2030, eliminate gender<br>disparities in education and ensure<br>equal access to all levels of<br>education and vocational training<br>for the vulnerable, including<br>persons with disabilities,<br>indigenous peoples and children in<br>vulnerable situations<br>",
          "4.6 By 2030, ensure that all youth<br>and a substantial proportion of<br>adults, both men and women, achieve<br>literacy and numeracy<br>",
          "4.7 By 2030, ensure that all<br>learners acquire the knowledge and<br>skills needed to promote<br>sustainable development, including,<br>among others, through education for<br>sustainable development and<br>sustainable lifestyles, human<br>rights, gender equality, promotion<br>of a culture of peace and non-<br>violence, global citizenship and<br>appreciation of cultural diversity<br>and of culture’s contribution to<br>sustainable development<br>",
          "4.a Build and upgrade education<br>facilities that are child,<br>disability and gender sensitive and<br>provide safe, non-violent,<br>inclusive and effective learning<br>environments for all<br>",
          "4.b By 2020, substantially expand<br>globally the number of scholarships<br>available to developing countries,<br>in particular least developed<br>countries, small island developing<br>States and African countries, for<br>enrolment in higher education,<br>including vocational training and<br>information and communications<br>technology, technical, engineering<br>and scientific programmes, in<br>developed countries and other<br>developing countries<br>",
          "4.c By 2030, substantially increase<br>the supply of qualified teachers,<br>including through international<br>cooperation for teacher training in<br>developing countries, especially<br>least developed countries and small<br>island developing States<br>",
          "5.1 End all forms of discrimination<br>against all women and girls<br>everywhere<br>",
          "5.2 Eliminate all forms of violence<br>against all women and girls in the<br>public and private spheres,<br>including trafficking and sexual<br>and other types of exploitation<br>",
          "5.2 Eliminate all forms of violence<br>against all women and girls in the<br>public and private spheres,<br>including trafficking and sexual<br>and other types of exploitation<br>",
          "5.3 Eliminate all harmful<br>practices, such as child, early and<br>forced marriage and female genital<br>mutilation<br>",
          "5.3 Eliminate all harmful<br>practices, such as child, early and<br>forced marriage and female genital<br>mutilation<br>",
          "5.4 Recognize and value unpaid care<br>and domestic work through the<br>provision of public services,<br>infrastructure and social<br>protection policies and the<br>promotion of shared responsibility<br>within the household and the family<br>as nationally appropriate<br>",
          "5.5 Ensure women’s full and<br>effective participation and equal<br>opportunities for leadership at all<br>levels of decision-making in<br>political, economic and public life<br>",
          "5.5 Ensure women’s full and<br>effective participation and equal<br>opportunities for leadership at all<br>levels of decision-making in<br>political, economic and public life<br>",
          "5.6 Ensure universal access to<br>sexual and reproductive health and<br>reproductive rights as agreed in<br>accordance with the Programme of<br>Action of the International<br>Conference on Population and<br>Development and the Beijing<br>Platform for Action and the outcome<br>documents of their review<br>conferences<br>",
          "5.6 Ensure universal access to<br>sexual and reproductive health and<br>reproductive rights as agreed in<br>accordance with the Programme of<br>Action of the International<br>Conference on Population and<br>Development and the Beijing<br>Platform for Action and the outcome<br>documents of their review<br>conferences<br>",
          "5.a Undertake reforms to give women<br>equal rights to economic resources,<br>as well as access to ownership and<br>control over land and other forms<br>of property, financial services,<br>inheritance and natural resources,<br>in accordance with national laws<br>",
          "5.a Undertake reforms to give women<br>equal rights to economic resources,<br>as well as access to ownership and<br>control over land and other forms<br>of property, financial services,<br>inheritance and natural resources,<br>in accordance with national laws<br>",
          "5.b Enhance the use of enabling<br>technology, in particular<br>information and communications<br>technology, to promote the<br>empowerment of women<br>",
          "5.c Adopt and strengthen sound<br>policies and enforceable<br>legislation for the promotion of<br>gender equality and the empowerment<br>of all women and girls at all<br>levels<br>",
          "6.1 By 2030, achieve universal and<br>equitable access to safe and<br>affordable drinking water for all<br>",
          "6.2 By 2030, achieve access to<br>adequate and equitable sanitation<br>and hygiene for all and end open<br>defecation, paying special<br>attention to the needs of women and<br>girls and those in vulnerable<br>situations<br>",
          "6.3 By 2030, improve water quality<br>by reducing pollution, eliminating<br>dumping and minimizing release of<br>hazardous chemicals and materials,<br>halving the proportion of untreated<br>wastewater and substantially<br>increasing recycling and safe reuse<br>globally<br>",
          "6.3 By 2030, improve water quality<br>by reducing pollution, eliminating<br>dumping and minimizing release of<br>hazardous chemicals and materials,<br>halving the proportion of untreated<br>wastewater and substantially<br>increasing recycling and safe reuse<br>globally<br>",
          "6.4 By 2030, substantially increase<br>water-use efficiency across all<br>sectors and ensure sustainable<br>withdrawals and supply of<br>freshwater to address water<br>scarcity and substantially reduce<br>the number of people suffering from<br>water scarcity<br>",
          "6.4 By 2030, substantially increase<br>water-use efficiency across all<br>sectors and ensure sustainable<br>withdrawals and supply of<br>freshwater to address water<br>scarcity and substantially reduce<br>the number of people suffering from<br>water scarcity<br>",
          "6.5 By 2030, implement integrated<br>water resources management at all<br>levels, including through<br>transboundary cooperation as<br>appropriate<br>",
          "6.5 By 2030, implement integrated<br>water resources management at all<br>levels, including through<br>transboundary cooperation as<br>appropriate<br>",
          "6.6 By 2020, protect and restore<br>water-related ecosystems, including<br>mountains, forests, wetlands,<br>rivers, aquifers and lakes<br>",
          "6.a By 2030, expand international<br>cooperation and capacity-building<br>support to developing countries in<br>water- and sanitation-related<br>activities and programmes,<br>including water harvesting,<br>desalination, water efficiency,<br>wastewater treatment, recycling and<br>reuse technologies<br>",
          "6.b Support and strengthen the<br>participation of local communities<br>in improving water and sanitation<br>management<br>",
          "7.1 By 2030, ensure universal<br>access to affordable, reliable and<br>modern energy services<br>",
          "7.1 By 2030, ensure universal<br>access to affordable, reliable and<br>modern energy services<br>",
          "7.2 By 2030, increase substantially<br>the share of renewable energy in<br>the global energy mix<br>",
          "7.3 By 2030, double the global rate<br>of improvement in energy efficiency<br>",
          "7.a By 2030, enhance international<br>cooperation to facilitate access to<br>clean energy research and<br>technology, including renewable<br>energy, energy efficiency and<br>advanced and cleaner fossil-fuel<br>technology, and promote investment<br>in energy infrastructure and clean<br>energy technology<br>",
          "7.b By 2030, expand infrastructure<br>and upgrade technology for<br>supplying modern and sustainable<br>energy services for all in<br>developing countries, in particular<br>least developed countries, small<br>island developing States and<br>landlocked developing countries, in<br>accordance with their respective<br>programmes of support<br>",
          "8.1 Sustain per capita economic<br>growth in accordance with national<br>circumstances and, in particular,<br>at least 7 per cent gross domestic<br>product growth per annum in the<br>least developed countries<br>",
          "8.2 Achieve higher levels of<br>economic productivity through<br>diversification, technological<br>upgrading and innovation, including<br>through a focus on high-value added<br>and labour-intensive sectors<br>",
          "8.3 Promote development-oriented<br>policies that support productive<br>activities, decent job creation,<br>entrepreneurship, creativity and<br>innovation, and encourage the<br>formalization and growth of micro-,<br>small- and medium-sized<br>enterprises, including through<br>access to financial services<br>",
          "8.4 Improve progressively, through<br>2030, global resource efficiency in<br>consumption and production and<br>endeavour to decouple economic<br>growth from environmental<br>degradation, in accordance with the<br>10‑Year Framework of Programmes on<br>Sustainable Consumption and<br>Production, with developed<br>countries taking the lead<br>",
          "8.4 Improve progressively, through<br>2030, global resource efficiency in<br>consumption and production and<br>endeavour to decouple economic<br>growth from environmental<br>degradation, in accordance with the<br>10‑Year Framework of Programmes on<br>Sustainable Consumption and<br>Production, with developed<br>countries taking the lead<br>",
          "8.5 By 2030, achieve full and<br>productive employment and decent<br>work for all women and men,<br>including for young people and<br>persons with disabilities, and<br>equal pay for work of equal value<br>",
          "8.5 By 2030, achieve full and<br>productive employment and decent<br>work for all women and men,<br>including for young people and<br>persons with disabilities, and<br>equal pay for work of equal value<br>",
          "8.6 By 2020, substantially reduce<br>the proportion of youth not in<br>employment, education or training<br>",
          "8.7 Take immediate and effective<br>measures to eradicate forced<br>labour, end modern slavery and<br>human trafficking and secure the<br>prohibition and elimination of the<br>worst forms of child labour,<br>including recruitment and use of<br>child soldiers, and by 2025 end<br>child labour in all its forms<br>",
          "8.8 Protect labour rights and<br>promote safe and secure working<br>environments for all workers,<br>including migrant workers, in<br>particular women migrants, and<br>those in precarious employment<br>",
          "8.8 Protect labour rights and<br>promote safe and secure working<br>environments for all workers,<br>including migrant workers, in<br>particular women migrants, and<br>those in precarious employment<br>",
          "8.9 By 2030, devise and implement<br>policies to promote sustainable<br>tourism that creates jobs and<br>promotes local culture and products<br>",
          "8.10 Strengthen the capacity of<br>domestic financial institutions to<br>encourage and expand access to<br>banking, insurance and financial<br>services for all<br>",
          "8.10 Strengthen the capacity of<br>domestic financial institutions to<br>encourage and expand access to<br>banking, insurance and financial<br>services for all<br>",
          "8.a Increase Aid for Trade support<br>for developing countries, in<br>particular least developed<br>countries, including through the<br>Enhanced Integrated Framework for<br>Trade-related Technical Assistance<br>to Least Developed Countries<br>",
          "8.b By 2020, develop and<br>operationalize a global strategy<br>for youth employment and implement<br>the Global Jobs Pact of the<br>International Labour Organization<br>",
          "9.1 Develop quality, reliable,<br>sustainable and resilient<br>infrastructure, including regional<br>and transborder infrastructure, to<br>support economic development and<br>human well-being, with a focus on<br>affordable and equitable access for<br>all<br>",
          "9.1 Develop quality, reliable,<br>sustainable and resilient<br>infrastructure, including regional<br>and transborder infrastructure, to<br>support economic development and<br>human well-being, with a focus on<br>affordable and equitable access for<br>all<br>",
          "9.2 Promote inclusive and<br>sustainable industrialization and,<br>by 2030, significantly raise<br>industry’s share of employment and<br>gross domestic product, in line<br>with national circumstances, and<br>double its share in least developed<br>countries<br>",
          "9.2 Promote inclusive and<br>sustainable industrialization and,<br>by 2030, significantly raise<br>industry’s share of employment and<br>gross domestic product, in line<br>with national circumstances, and<br>double its share in least developed<br>countries<br>",
          "9.3 Increase the access of small-<br>scale industrial and other<br>enterprises, in particular in<br>developing countries, to financial<br>services, including affordable<br>credit, and their integration into<br>value chains and markets<br>",
          "9.3 Increase the access of small-<br>scale industrial and other<br>enterprises, in particular in<br>developing countries, to financial<br>services, including affordable<br>credit, and their integration into<br>value chains and markets<br>",
          "9.4 By 2030, upgrade infrastructure<br>and retrofit industries to make<br>them sustainable, with increased<br>resource-use efficiency and greater<br>adoption of clean and<br>environmentally sound technologies<br>and industrial processes, with all<br>countries taking action in<br>accordance with their respective<br>capabilities<br>",
          "9.5 Enhance scientific research,<br>upgrade the technological<br>capabilities of industrial sectors<br>in all countries, in particular<br>developing countries, including, by<br>2030, encouraging innovation and<br>substantially increasing the number<br>of research and development workers<br>per 1 million people and public and<br>private research and development<br>spending<br>",
          "9.5 Enhance scientific research,<br>upgrade the technological<br>capabilities of industrial sectors<br>in all countries, in particular<br>developing countries, including, by<br>2030, encouraging innovation and<br>substantially increasing the number<br>of research and development workers<br>per 1 million people and public and<br>private research and development<br>spending<br>",
          "9.a Facilitate sustainable and<br>resilient infrastructure<br>development in developing countries<br>through enhanced financial,<br>technological and technical support<br>to African countries, least<br>developed countries, landlocked<br>developing countries and small<br>island developing States<br>",
          "9.b Support domestic technology<br>development, research and<br>innovation in developing countries,<br>including by ensuring a conducive<br>policy environment for, inter alia,<br>industrial diversification and<br>value addition to commodities<br>",
          "9.c Significantly increase access<br>to information and communications<br>technology and strive to provide<br>universal and affordable access to<br>the Internet in least developed<br>countries by 2020<br>",
          "10.1 By 2030, progressively achieve<br>and sustain income growth of the<br>bottom 40 per cent of the<br>population at a rate higher than<br>the national average<br>",
          "10.2 By 2030, empower and promote<br>the social, economic and political<br>inclusion of all, irrespective of<br>age, sex, disability, race,<br>ethnicity, origin, religion or<br>economic or other status<br>",
          "10.3 Ensure equal opportunity and<br>reduce inequalities of outcome,<br>including by eliminating<br>discriminatory laws, policies and<br>practices and promoting appropriate<br>legislation, policies and action in<br>this regard<br>",
          "10.4 Adopt policies, especially<br>fiscal, wage and social protection<br>policies, and progressively achieve<br>greater equality<br>",
          "10.4 Adopt policies, especially<br>fiscal, wage and social protection<br>policies, and progressively achieve<br>greater equality<br>",
          "10.5 Improve the regulation and<br>monitoring of global financial<br>markets and institutions and<br>strengthen the implementation of<br>such regulations<br>",
          "10.6 Ensure enhanced representation<br>and voice for developing countries<br>in decision-making in global<br>international economic and<br>financial institutions in order to<br>deliver more effective, credible,<br>accountable and legitimate<br>institutions<br>",
          "10.7 Facilitate orderly, safe,<br>regular and responsible migration<br>and mobility of people, including<br>through the implementation of<br>planned and well-managed migration<br>policies<br>",
          "10.7 Facilitate orderly, safe,<br>regular and responsible migration<br>and mobility of people, including<br>through the implementation of<br>planned and well-managed migration<br>policies<br>",
          "10.7 Facilitate orderly, safe,<br>regular and responsible migration<br>and mobility of people, including<br>through the implementation of<br>planned and well-managed migration<br>policies<br>",
          "10.7 Facilitate orderly, safe,<br>regular and responsible migration<br>and mobility of people, including<br>through the implementation of<br>planned and well-managed migration<br>policies<br>",
          "10.a Implement the principle of<br>special and differential treatment<br>for developing countries, in<br>particular least developed<br>countries, in accordance with World<br>Trade Organization agreements<br>",
          "10.b Encourage official development<br>assistance and financial flows,<br>including foreign direct<br>investment, to States where the<br>need is greatest, in particular<br>least developed countries, African<br>countries, small island developing<br>States and landlocked developing<br>countries, in accordance with their<br>national plans and programmes<br>",
          "10.c By 2030, reduce to less than<br>3 per cent the transaction costs of<br>migrant remittances and eliminate<br>remittance corridors with costs<br>higher than 5 per cent<br>",
          "11.1 By 2030, ensure access for all<br>to adequate, safe and affordable<br>housing and basic services and<br>upgrade slums<br>",
          "11.2 By 2030, provide access to<br>safe, affordable, accessible and<br>sustainable transport systems for<br>all, improving road safety, notably<br>by expanding public transport, with<br>special attention to the needs of<br>those in vulnerable situations,<br>women, children, persons with<br>disabilities and older persons<br>",
          "11.3 By 2030, enhance inclusive and<br>sustainable urbanization and<br>capacity for participatory,<br>integrated and sustainable human<br>settlement planning and management<br>in all countries<br>",
          "11.3 By 2030, enhance inclusive and<br>sustainable urbanization and<br>capacity for participatory,<br>integrated and sustainable human<br>settlement planning and management<br>in all countries<br>",
          "11.4 Strengthen efforts to protect<br>and safeguard the world’s cultural<br>and natural heritage<br>",
          "11.5 By 2030, significantly reduce<br>the number of deaths and the number<br>of people affected and<br>substantially decrease the direct<br>economic losses relative to global<br>gross domestic product caused by<br>disasters, including water-related<br>disasters, with a focus on<br>protecting the poor and people in<br>vulnerable situations<br>",
          "11.5 By 2030, significantly reduce<br>the number of deaths and the number<br>of people affected and<br>substantially decrease the direct<br>economic losses relative to global<br>gross domestic product caused by<br>disasters, including water-related<br>disasters, with a focus on<br>protecting the poor and people in<br>vulnerable situations<br>",
          "11.6 By 2030, reduce the adverse<br>per capita environmental impact of<br>cities, including by paying special<br>attention to air quality and<br>municipal and other waste<br>management<br>",
          "11.6 By 2030, reduce the adverse<br>per capita environmental impact of<br>cities, including by paying special<br>attention to air quality and<br>municipal and other waste<br>management<br>",
          "11.7 By 2030, provide universal<br>access to safe, inclusive and<br>accessible, green and public<br>spaces, in particular for women and<br>children, older persons and persons<br>with disabilities<br>",
          "11.7 By 2030, provide universal<br>access to safe, inclusive and<br>accessible, green and public<br>spaces, in particular for women and<br>children, older persons and persons<br>with disabilities<br>",
          "11.a Support positive economic,<br>social and environmental links<br>between urban, peri-urban and rural<br>areas by strengthening national and<br>regional development planning<br>",
          "11.b By 2020, substantially<br>increase the number of cities and<br>human settlements adopting and<br>implementing integrated policies<br>and plans towards inclusion,<br>resource efficiency, mitigation and<br>adaptation to climate change,<br>resilience to disasters, and<br>develop and implement, in line with<br>the Sendai Framework for Disaster<br>Risk Reduction 2015–2030, holistic<br>disaster risk management at all<br>levels<br>",
          "11.b By 2020, substantially<br>increase the number of cities and<br>human settlements adopting and<br>implementing integrated policies<br>and plans towards inclusion,<br>resource efficiency, mitigation and<br>adaptation to climate change,<br>resilience to disasters, and<br>develop and implement, in line with<br>the Sendai Framework for Disaster<br>Risk Reduction 2015–2030, holistic<br>disaster risk management at all<br>levels<br>",
          "11.c Support least developed<br>countries, including through<br>financial and technical assistance,<br>in building sustainable and<br>resilient buildings utilizing local<br>materials<br>",
          "12.1 Implement the 10‑Year<br>Framework of Programmes on<br>Sustainable Consumption and<br>Production Patterns, all countries<br>taking action, with developed<br>countries taking the lead, taking<br>into account the development and<br>capabilities of developing<br>countries<br>",
          "12.2 By 2030, achieve the<br>sustainable management and<br>efficient use of natural resources<br>",
          "12.2 By 2030, achieve the<br>sustainable management and<br>efficient use of natural resources<br>",
          "12.3 By 2030, halve per capita<br>global food waste at the retail and<br>consumer levels and reduce food<br>losses along production and supply<br>chains, including post-harvest<br>losses<br>",
          "12.4 By 2020, achieve the<br>environmentally sound management of<br>chemicals and all wastes throughout<br>their life cycle, in accordance<br>with agreed international<br>frameworks, and significantly<br>reduce their release to air, water<br>and soil in order to minimize their<br>adverse impacts on human health and<br>the environment<br>",
          "12.4 By 2020, achieve the<br>environmentally sound management of<br>chemicals and all wastes throughout<br>their life cycle, in accordance<br>with agreed international<br>frameworks, and significantly<br>reduce their release to air, water<br>and soil in order to minimize their<br>adverse impacts on human health and<br>the environment<br>",
          "12.5 By 2030, substantially reduce<br>waste generation through<br>prevention, reduction, recycling<br>and reuse<br>",
          "12.6 Encourage companies,<br>especially large and transnational<br>companies, to adopt sustainable<br>practices and to integrate<br>sustainability information into<br>their reporting cycle<br>",
          "12.7 Promote public procurement<br>practices that are sustainable, in<br>accordance with national policies<br>and priorities<br>",
          "12.8 By 2030, ensure that people<br>everywhere have the relevant<br>information and awareness for<br>sustainable development and<br>lifestyles in harmony with nature<br>",
          "12.a Support developing countries<br>to strengthen their scientific and<br>technological capacity to move<br>towards more sustainable patterns<br>of consumption and production<br>",
          "12.b Develop and implement tools to<br>monitor sustainable development<br>impacts for sustainable tourism<br>that creates jobs and promotes<br>local culture and products<br>",
          "12.c Rationalize inefficient<br>fossil-fuel subsidies that<br>encourage wasteful consumption by<br>removing market distortions, in<br>accordance with national<br>circumstances, including by<br>restructuring taxation and phasing<br>out those harmful subsidies, where<br>they exist, to reflect their<br>environmental impacts, taking fully<br>into account the specific needs and<br>conditions of developing countries<br>and minimizing the possible adverse<br>impacts on their development in a<br>manner that protects the poor and<br>the affected communities<br>",
          "13.1 Strengthen resilience and<br>adaptive capacity to climate-<br>related hazards and natural<br>disasters in all countries<br>",
          "13.1 Strengthen resilience and<br>adaptive capacity to climate-<br>related hazards and natural<br>disasters in all countries<br>",
          "13.1 Strengthen resilience and<br>adaptive capacity to climate-<br>related hazards and natural<br>disasters in all countries<br>",
          "13.2 Integrate climate change<br>measures into national policies,<br>strategies and planning<br>",
          "13.2 Integrate climate change<br>measures into national policies,<br>strategies and planning<br>",
          "13.3 Improve education, awareness-<br>raising and human and institutional<br>capacity on climate change<br>mitigation, adaptation, impact<br>reduction and early warning<br>",
          "13.a Implement the commitment<br>undertaken by developed-country<br>parties to the United Nations<br>Framework Convention on Climate<br>Change to a goal of mobilizing<br>jointly $100 billion annually by<br>2020 from all sources to address<br>the needs of developing countries<br>in the context of meaningful<br>mitigation actions and transparency<br>on implementation and fully<br>operationalize the Green Climate<br>Fund through its capitalization as<br>soon as possible<br>",
          "13.b Promote mechanisms for raising<br>capacity for effective climate<br>change-related planning and<br>management in least developed<br>countries and small island<br>developing States, including<br>focusing on women, youth and local<br>and marginalized communities<br>",
          "14.1 By 2025, prevent and<br>significantly reduce marine<br>pollution of all kinds, in<br>particular from land-based<br>activities, including marine debris<br>and nutrient pollution<br>",
          "14.2 By 2020, sustainably manage<br>and protect marine and coastal<br>ecosystems to avoid significant<br>adverse impacts, including by<br>strengthening their resilience, and<br>take action for their restoration<br>in order to achieve healthy and<br>productive oceans<br>",
          "14.3 Minimize and address the<br>impacts of ocean acidification,<br>including through enhanced<br>scientific cooperation at all<br>levels<br>",
          "14.4 By 2020, effectively regulate<br>harvesting and end overfishing,<br>illegal, unreported and unregulated<br>fishing and destructive fishing<br>practices and implement science-<br>based management plans, in order to<br>restore fish stocks in the shortest<br>time feasible, at least to levels<br>that can produce maximum<br>sustainable yield as determined by<br>their biological characteristics<br>",
          "14.5 By 2020, conserve at least<br>10 per cent of coastal and marine<br>areas, consistent with national and<br>international law and based on the<br>best available scientific<br>information<br>",
          "14.6 By 2020, prohibit certain<br>forms of fisheries subsidies which<br>contribute to overcapacity and<br>overfishing, eliminate subsidies<br>that contribute to illegal,<br>unreported and unregulated fishing<br>and refrain from introducing new<br>such subsidies, recognizing that<br>appropriate and effective special<br>and differential treatment for<br>developing and least developed<br>countries should be an integral<br>part of the World Trade<br>Organization fisheries subsidies<br>negotiation4<br>",
          "14.7 By 2030, increase the economic<br>benefits to small island developing<br>States and least developed<br>countries from the sustainable use<br>of marine resources, including<br>through sustainable management of<br>fisheries, aquaculture and tourism<br>",
          "14.a Increase scientific knowledge,<br>develop research capacity and<br>transfer marine technology, taking<br>into account the Intergovernmental<br>Oceanographic Commission Criteria<br>and Guidelines on the Transfer of<br>Marine Technology, in order to<br>improve ocean health and to enhance<br>the contribution of marine<br>biodiversity to the development of<br>developing countries, in particular<br>small island developing States and<br>least developed countries<br>",
          "14.b Provide access for small-scale<br>artisanal fishers to marine<br>resources and markets<br>",
          "14.c Enhance the conservation and<br>sustainable use of oceans and their<br>resources by implementing<br>international law as reflected in<br>the United Nations Convention on<br>the Law of the Sea, which provides<br>the legal framework for the<br>conservation and sustainable use of<br>oceans and their resources, as<br>recalled in paragraph 158 of “The<br>future we want”<br>",
          "15.1 By 2020, ensure the<br>conservation, restoration and<br>sustainable use of terrestrial and<br>inland freshwater ecosystems and<br>their services, in particular<br>forests, wetlands, mountains and<br>drylands, in line with obligations<br>under international agreements<br>",
          "15.1 By 2020, ensure the<br>conservation, restoration and<br>sustainable use of terrestrial and<br>inland freshwater ecosystems and<br>their services, in particular<br>forests, wetlands, mountains and<br>drylands, in line with obligations<br>under international agreements<br>",
          "15.2 By 2020, promote the<br>implementation of sustainable<br>management of all types of forests,<br>halt deforestation, restore<br>degraded forests and substantially<br>increase afforestation and<br>reforestation globally<br>",
          "15.3 By 2030, combat<br>desertification, restore degraded<br>land and soil, including land<br>affected by desertification,<br>drought and floods, and strive to<br>achieve a land degradation-neutral<br>world<br>",
          "15.4 By 2030, ensure the<br>conservation of mountain<br>ecosystems, including their<br>biodiversity, in order to enhance<br>their capacity to provide benefits<br>that are essential for sustainable<br>development<br>",
          "15.4 By 2030, ensure the<br>conservation of mountain<br>ecosystems, including their<br>biodiversity, in order to enhance<br>their capacity to provide benefits<br>that are essential for sustainable<br>development<br>",
          "15.5 Take urgent and significant<br>action to reduce the degradation of<br>natural habitats, halt the loss of<br>biodiversity and, by 2020, protect<br>and prevent the extinction of<br>threatened species<br>",
          "15.6 Promote fair and equitable<br>sharing of the benefits arising<br>from the utilization of genetic<br>resources and promote appropriate<br>access to such resources, as<br>internationally agreed<br>",
          "15.7 Take urgent action to end<br>poaching and trafficking of<br>protected species of flora and<br>fauna and address both demand and<br>supply of illegal wildlife products<br>",
          "15.8 By 2020, introduce measures to<br>prevent the introduction and<br>significantly reduce the impact of<br>invasive alien species on land and<br>water ecosystems and control or<br>eradicate the priority species<br>",
          "15.9 By 2020, integrate ecosystem<br>and biodiversity values into<br>national and local planning,<br>development processes, poverty<br>reduction strategies and accounts<br>",
          "15.a Mobilize and significantly<br>increase financial resources from<br>all sources to conserve and<br>sustainably use biodiversity and<br>ecosystems<br>",
          "15.b Mobilize significant resources<br>from all sources and at all levels<br>to finance sustainable forest<br>management and provide adequate<br>incentives to developing countries<br>to advance such management,<br>including for conservation and<br>reforestation<br>",
          "15.c Enhance global support for<br>efforts to combat poaching and<br>trafficking of protected species,<br>including by increasing the<br>capacity of local communities to<br>pursue sustainable livelihood<br>opportunities<br>",
          "16.1 Significantly reduce all forms<br>of violence and related death rates<br>everywhere<br>",
          "16.1 Significantly reduce all forms<br>of violence and related death rates<br>everywhere<br>",
          "16.1 Significantly reduce all forms<br>of violence and related death rates<br>everywhere<br>",
          "16.1 Significantly reduce all forms<br>of violence and related death rates<br>everywhere<br>",
          "16.2 End abuse, exploitation,<br>trafficking and all forms of<br>violence against and torture of<br>children<br>",
          "16.2 End abuse, exploitation,<br>trafficking and all forms of<br>violence against and torture of<br>children<br>",
          "16.2 End abuse, exploitation,<br>trafficking and all forms of<br>violence against and torture of<br>children<br>",
          "16.3 Promote the rule of law at the<br>national and international levels<br>and ensure equal access to justice<br>for all<br>",
          "16.3 Promote the rule of law at the<br>national and international levels<br>and ensure equal access to justice<br>for all<br>",
          "16.3 Promote the rule of law at the<br>national and international levels<br>and ensure equal access to justice<br>for all<br>",
          "16.4 By 2030, significantly reduce<br>illicit financial and arms flows,<br>strengthen the recovery and return<br>of stolen assets and combat all<br>forms of organized crime<br>",
          "16.4 By 2030, significantly reduce<br>illicit financial and arms flows,<br>strengthen the recovery and return<br>of stolen assets and combat all<br>forms of organized crime<br>",
          "16.5 Substantially reduce<br>corruption and bribery in all their<br>forms<br>",
          "16.5 Substantially reduce<br>corruption and bribery in all their<br>forms<br>",
          "16.6 Develop effective, accountable<br>and transparent institutions at all<br>levels<br>",
          "16.6 Develop effective, accountable<br>and transparent institutions at all<br>levels<br>",
          "16.7 Ensure responsive, inclusive,<br>participatory and representative<br>decision-making at all levels<br>",
          "16.7 Ensure responsive, inclusive,<br>participatory and representative<br>decision-making at all levels<br>",
          "16.8 Broaden and strengthen the<br>participation of developing<br>countries in the institutions of<br>global governance<br>",
          "16.9 By 2030, provide legal<br>identity for all, including birth<br>registration<br>",
          "16.10 Ensure public access to<br>information and protect fundamental<br>freedoms, in accordance with<br>national legislation and<br>international agreements<br>",
          "16.10 Ensure public access to<br>information and protect fundamental<br>freedoms, in accordance with<br>national legislation and<br>international agreements<br>",
          "16.a Strengthen relevant national<br>institutions, including through<br>international cooperation, for<br>building capacity at all levels, in<br>particular in developing countries,<br>to prevent violence and combat<br>terrorism and crime<br>",
          "16.b Promote and enforce non-<br>discriminatory laws and policies<br>for sustainable development<br>",
          "17.1 Strengthen domestic resource<br>mobilization, including through<br>international support to developing<br>countries, to improve domestic<br>capacity for tax and other revenue<br>collection<br>",
          "17.1 Strengthen domestic resource<br>mobilization, including through<br>international support to developing<br>countries, to improve domestic<br>capacity for tax and other revenue<br>collection<br>",
          "17.2 Developed countries to<br>implement fully their official<br>development assistance commitments,<br>including the commitment by many<br>developed countries to achieve the<br>target of 0.7 per cent of gross<br>national income for official<br>development assistance (ODA/GNI) to<br>developing countries and 0.15 to<br>0.20 per cent of ODA/GNI to least<br>developed countries; ODA providers<br>are encouraged to consider setting<br>a target to provide at least<br>0.20 per cent of ODA/GNI to least<br>developed countries<br>",
          "17.3 Mobilize additional financial<br>resources for developing countries<br>from multiple sources<br>",
          "17.3 Mobilize additional financial<br>resources for developing countries<br>from multiple sources<br>",
          "17.4 Assist developing countries in<br>attaining long-term debt<br>sustainability through coordinated<br>policies aimed at fostering debt<br>financing, debt relief and debt<br>restructuring, as appropriate, and<br>address the external debt of highly<br>indebted poor countries to reduce<br>debt distress<br>",
          "17.5 Adopt and implement investment<br>promotion regimes for least<br>developed countries<br>",
          "17.6 Enhance North-South, South-<br>South and triangular regional and<br>international cooperation on and<br>access to science, technology and<br>innovation and enhance knowledge-<br>sharing on mutually agreed terms,<br>including through improved<br>coordination among existing<br>mechanisms, in particular at the<br>United Nations level, and through a<br>global technology facilitation<br>mechanism<br>",
          "17.7 Promote the development,<br>transfer, dissemination and<br>diffusion of environmentally sound<br>technologies to developing<br>countries on favourable terms,<br>including on concessional and<br>preferential terms, as mutually<br>agreed<br>",
          "17.8 Fully operationalize the<br>technology bank and science,<br>technology and innovation capacity-<br>building mechanism for least<br>developed countries by 2017 and<br>enhance the use of enabling<br>technology, in particular<br>information and communications<br>technology<br>",
          "17.9 Enhance international support<br>for implementing effective and<br>targeted capacity-building in<br>developing countries to support<br>national plans to implement all the<br>Sustainable Development Goals,<br>including through North-South,<br>South-South and triangular<br>cooperation<br>",
          "17.10 Promote a universal, rules-<br>based, open, non‑discriminatory and<br>equitable multilateral trading<br>system under the World Trade<br>Organization, including through the<br>conclusion of negotiations under<br>its Doha Development Agenda<br>",
          "17.11 Significantly increase the<br>exports of developing countries, in<br>particular with a view to doubling<br>the least developed countries’<br>share of global exports by 2020<br>",
          "17.12 Realize timely implementation<br>of duty-free and quota-free market<br>access on a lasting basis for all<br>least developed countries,<br>consistent with World Trade<br>Organization decisions, including<br>by ensuring that preferential rules<br>of origin applicable to imports<br>from least developed countries are<br>transparent and simple, and<br>contribute to facilitating market<br>access<br>",
          "17.13 Enhance global macroeconomic<br>stability, including through policy<br>coordination and policy coherence<br>",
          "17.14 Enhance policy coherence for<br>sustainable development<br>",
          "17.15 Respect each country’s policy<br>space and leadership to establish<br>and implement policies for poverty<br>eradication and sustainable<br>development<br>",
          "17.16 Enhance the Global<br>Partnership for Sustainable<br>Development, complemented by multi-<br>stakeholder partnerships that<br>mobilize and share knowledge,<br>expertise, technology and financial<br>resources, to support the<br>achievement of the Sustainable<br>Development Goals in all countries,<br>in particular developing countries<br>",
          "17.17 Encourage and promote<br>effective public, public-private<br>and civil society partnerships,<br>building on the experience and<br>resourcing strategies of<br>partnerships<br>",
          "17.18 By 2020, enhance capacity-<br>building support to developing<br>countries, including for least<br>developed countries and small<br>island developing States, to<br>increase significantly the<br>availability of high-quality,<br>timely and reliable data<br>disaggregated by income, gender,<br>age, race, ethnicity, migratory<br>status, disability, geographic<br>location and other characteristics<br>relevant in national contexts<br>",
          "17.18 By 2020, enhance capacity-<br>building support to developing<br>countries, including for least<br>developed countries and small<br>island developing States, to<br>increase significantly the<br>availability of high-quality,<br>timely and reliable data<br>disaggregated by income, gender,<br>age, race, ethnicity, migratory<br>status, disability, geographic<br>location and other characteristics<br>relevant in national contexts<br>",
          "17.18 By 2020, enhance capacity-<br>building support to developing<br>countries, including for least<br>developed countries and small<br>island developing States, to<br>increase significantly the<br>availability of high-quality,<br>timely and reliable data<br>disaggregated by income, gender,<br>age, race, ethnicity, migratory<br>status, disability, geographic<br>location and other characteristics<br>relevant in national contexts<br>",
          "17.19 By 2030, build on existing<br>initiatives to develop measurements<br>of progress on sustainable<br>development that complement gross<br>domestic product, and support<br>statistical capacity-building in<br>developing countries<br>",
          "17.19 By 2030, build on existing<br>initiatives to develop measurements<br>of progress on sustainable<br>development that complement gross<br>domestic product, and support<br>statistical capacity-building in<br>developing countries<br>"
         ],
         "type": "sunburst"
        }
       ],
       "layout": {
        "height": 1200,
        "hoverlabel": {
         "bgcolor": "#faf8de"
        },
        "margin": {
         "b": 0,
         "l": 0,
         "r": 0,
         "t": 0
        },
        "template": {
         "data": {
          "bar": [
           {
            "error_x": {
             "color": "#2a3f5f"
            },
            "error_y": {
             "color": "#2a3f5f"
            },
            "marker": {
             "line": {
              "color": "#E5ECF6",
              "width": 0.5
             },
             "pattern": {
              "fillmode": "overlay",
              "size": 10,
              "solidity": 0.2
             }
            },
            "type": "bar"
           }
          ],
          "barpolar": [
           {
            "marker": {
             "line": {
              "color": "#E5ECF6",
              "width": 0.5
             },
             "pattern": {
              "fillmode": "overlay",
              "size": 10,
              "solidity": 0.2
             }
            },
            "type": "barpolar"
           }
          ],
          "carpet": [
           {
            "aaxis": {
             "endlinecolor": "#2a3f5f",
             "gridcolor": "white",
             "linecolor": "white",
             "minorgridcolor": "white",
             "startlinecolor": "#2a3f5f"
            },
            "baxis": {
             "endlinecolor": "#2a3f5f",
             "gridcolor": "white",
             "linecolor": "white",
             "minorgridcolor": "white",
             "startlinecolor": "#2a3f5f"
            },
            "type": "carpet"
           }
          ],
          "choropleth": [
           {
            "colorbar": {
             "outlinewidth": 0,
             "ticks": ""
            },
            "type": "choropleth"
           }
          ],
          "contour": [
           {
            "colorbar": {
             "outlinewidth": 0,
             "ticks": ""
            },
            "colorscale": [
             [
              0,
              "#0d0887"
             ],
             [
              0.1111111111111111,
              "#46039f"
             ],
             [
              0.2222222222222222,
              "#7201a8"
             ],
             [
              0.3333333333333333,
              "#9c179e"
             ],
             [
              0.4444444444444444,
              "#bd3786"
             ],
             [
              0.5555555555555556,
              "#d8576b"
             ],
             [
              0.6666666666666666,
              "#ed7953"
             ],
             [
              0.7777777777777778,
              "#fb9f3a"
             ],
             [
              0.8888888888888888,
              "#fdca26"
             ],
             [
              1,
              "#f0f921"
             ]
            ],
            "type": "contour"
           }
          ],
          "contourcarpet": [
           {
            "colorbar": {
             "outlinewidth": 0,
             "ticks": ""
            },
            "type": "contourcarpet"
           }
          ],
          "heatmap": [
           {
            "colorbar": {
             "outlinewidth": 0,
             "ticks": ""
            },
            "colorscale": [
             [
              0,
              "#0d0887"
             ],
             [
              0.1111111111111111,
              "#46039f"
             ],
             [
              0.2222222222222222,
              "#7201a8"
             ],
             [
              0.3333333333333333,
              "#9c179e"
             ],
             [
              0.4444444444444444,
              "#bd3786"
             ],
             [
              0.5555555555555556,
              "#d8576b"
             ],
             [
              0.6666666666666666,
              "#ed7953"
             ],
             [
              0.7777777777777778,
              "#fb9f3a"
             ],
             [
              0.8888888888888888,
              "#fdca26"
             ],
             [
              1,
              "#f0f921"
             ]
            ],
            "type": "heatmap"
           }
          ],
          "heatmapgl": [
           {
            "colorbar": {
             "outlinewidth": 0,
             "ticks": ""
            },
            "colorscale": [
             [
              0,
              "#0d0887"
             ],
             [
              0.1111111111111111,
              "#46039f"
             ],
             [
              0.2222222222222222,
              "#7201a8"
             ],
             [
              0.3333333333333333,
              "#9c179e"
             ],
             [
              0.4444444444444444,
              "#bd3786"
             ],
             [
              0.5555555555555556,
              "#d8576b"
             ],
             [
              0.6666666666666666,
              "#ed7953"
             ],
             [
              0.7777777777777778,
              "#fb9f3a"
             ],
             [
              0.8888888888888888,
              "#fdca26"
             ],
             [
              1,
              "#f0f921"
             ]
            ],
            "type": "heatmapgl"
           }
          ],
          "histogram": [
           {
            "marker": {
             "pattern": {
              "fillmode": "overlay",
              "size": 10,
              "solidity": 0.2
             }
            },
            "type": "histogram"
           }
          ],
          "histogram2d": [
           {
            "colorbar": {
             "outlinewidth": 0,
             "ticks": ""
            },
            "colorscale": [
             [
              0,
              "#0d0887"
             ],
             [
              0.1111111111111111,
              "#46039f"
             ],
             [
              0.2222222222222222,
              "#7201a8"
             ],
             [
              0.3333333333333333,
              "#9c179e"
             ],
             [
              0.4444444444444444,
              "#bd3786"
             ],
             [
              0.5555555555555556,
              "#d8576b"
             ],
             [
              0.6666666666666666,
              "#ed7953"
             ],
             [
              0.7777777777777778,
              "#fb9f3a"
             ],
             [
              0.8888888888888888,
              "#fdca26"
             ],
             [
              1,
              "#f0f921"
             ]
            ],
            "type": "histogram2d"
           }
          ],
          "histogram2dcontour": [
           {
            "colorbar": {
             "outlinewidth": 0,
             "ticks": ""
            },
            "colorscale": [
             [
              0,
              "#0d0887"
             ],
             [
              0.1111111111111111,
              "#46039f"
             ],
             [
              0.2222222222222222,
              "#7201a8"
             ],
             [
              0.3333333333333333,
              "#9c179e"
             ],
             [
              0.4444444444444444,
              "#bd3786"
             ],
             [
              0.5555555555555556,
              "#d8576b"
             ],
             [
              0.6666666666666666,
              "#ed7953"
             ],
             [
              0.7777777777777778,
              "#fb9f3a"
             ],
             [
              0.8888888888888888,
              "#fdca26"
             ],
             [
              1,
              "#f0f921"
             ]
            ],
            "type": "histogram2dcontour"
           }
          ],
          "mesh3d": [
           {
            "colorbar": {
             "outlinewidth": 0,
             "ticks": ""
            },
            "type": "mesh3d"
           }
          ],
          "parcoords": [
           {
            "line": {
             "colorbar": {
              "outlinewidth": 0,
              "ticks": ""
             }
            },
            "type": "parcoords"
           }
          ],
          "pie": [
           {
            "automargin": true,
            "type": "pie"
           }
          ],
          "scatter": [
           {
            "marker": {
             "colorbar": {
              "outlinewidth": 0,
              "ticks": ""
             }
            },
            "type": "scatter"
           }
          ],
          "scatter3d": [
           {
            "line": {
             "colorbar": {
              "outlinewidth": 0,
              "ticks": ""
             }
            },
            "marker": {
             "colorbar": {
              "outlinewidth": 0,
              "ticks": ""
             }
            },
            "type": "scatter3d"
           }
          ],
          "scattercarpet": [
           {
            "marker": {
             "colorbar": {
              "outlinewidth": 0,
              "ticks": ""
             }
            },
            "type": "scattercarpet"
           }
          ],
          "scattergeo": [
           {
            "marker": {
             "colorbar": {
              "outlinewidth": 0,
              "ticks": ""
             }
            },
            "type": "scattergeo"
           }
          ],
          "scattergl": [
           {
            "marker": {
             "colorbar": {
              "outlinewidth": 0,
              "ticks": ""
             }
            },
            "type": "scattergl"
           }
          ],
          "scattermapbox": [
           {
            "marker": {
             "colorbar": {
              "outlinewidth": 0,
              "ticks": ""
             }
            },
            "type": "scattermapbox"
           }
          ],
          "scatterpolar": [
           {
            "marker": {
             "colorbar": {
              "outlinewidth": 0,
              "ticks": ""
             }
            },
            "type": "scatterpolar"
           }
          ],
          "scatterpolargl": [
           {
            "marker": {
             "colorbar": {
              "outlinewidth": 0,
              "ticks": ""
             }
            },
            "type": "scatterpolargl"
           }
          ],
          "scatterternary": [
           {
            "marker": {
             "colorbar": {
              "outlinewidth": 0,
              "ticks": ""
             }
            },
            "type": "scatterternary"
           }
          ],
          "surface": [
           {
            "colorbar": {
             "outlinewidth": 0,
             "ticks": ""
            },
            "colorscale": [
             [
              0,
              "#0d0887"
             ],
             [
              0.1111111111111111,
              "#46039f"
             ],
             [
              0.2222222222222222,
              "#7201a8"
             ],
             [
              0.3333333333333333,
              "#9c179e"
             ],
             [
              0.4444444444444444,
              "#bd3786"
             ],
             [
              0.5555555555555556,
              "#d8576b"
             ],
             [
              0.6666666666666666,
              "#ed7953"
             ],
             [
              0.7777777777777778,
              "#fb9f3a"
             ],
             [
              0.8888888888888888,
              "#fdca26"
             ],
             [
              1,
              "#f0f921"
             ]
            ],
            "type": "surface"
           }
          ],
          "table": [
           {
            "cells": {
             "fill": {
              "color": "#EBF0F8"
             },
             "line": {
              "color": "white"
             }
            },
            "header": {
             "fill": {
              "color": "#C8D4E3"
             },
             "line": {
              "color": "white"
             }
            },
            "type": "table"
           }
          ]
         },
         "layout": {
          "annotationdefaults": {
           "arrowcolor": "#2a3f5f",
           "arrowhead": 0,
           "arrowwidth": 1
          },
          "autotypenumbers": "strict",
          "coloraxis": {
           "colorbar": {
            "outlinewidth": 0,
            "ticks": ""
           }
          },
          "colorscale": {
           "diverging": [
            [
             0,
             "#8e0152"
            ],
            [
             0.1,
             "#c51b7d"
            ],
            [
             0.2,
             "#de77ae"
            ],
            [
             0.3,
             "#f1b6da"
            ],
            [
             0.4,
             "#fde0ef"
            ],
            [
             0.5,
             "#f7f7f7"
            ],
            [
             0.6,
             "#e6f5d0"
            ],
            [
             0.7,
             "#b8e186"
            ],
            [
             0.8,
             "#7fbc41"
            ],
            [
             0.9,
             "#4d9221"
            ],
            [
             1,
             "#276419"
            ]
           ],
           "sequential": [
            [
             0,
             "#0d0887"
            ],
            [
             0.1111111111111111,
             "#46039f"
            ],
            [
             0.2222222222222222,
             "#7201a8"
            ],
            [
             0.3333333333333333,
             "#9c179e"
            ],
            [
             0.4444444444444444,
             "#bd3786"
            ],
            [
             0.5555555555555556,
             "#d8576b"
            ],
            [
             0.6666666666666666,
             "#ed7953"
            ],
            [
             0.7777777777777778,
             "#fb9f3a"
            ],
            [
             0.8888888888888888,
             "#fdca26"
            ],
            [
             1,
             "#f0f921"
            ]
           ],
           "sequentialminus": [
            [
             0,
             "#0d0887"
            ],
            [
             0.1111111111111111,
             "#46039f"
            ],
            [
             0.2222222222222222,
             "#7201a8"
            ],
            [
             0.3333333333333333,
             "#9c179e"
            ],
            [
             0.4444444444444444,
             "#bd3786"
            ],
            [
             0.5555555555555556,
             "#d8576b"
            ],
            [
             0.6666666666666666,
             "#ed7953"
            ],
            [
             0.7777777777777778,
             "#fb9f3a"
            ],
            [
             0.8888888888888888,
             "#fdca26"
            ],
            [
             1,
             "#f0f921"
            ]
           ]
          },
          "colorway": [
           "#636efa",
           "#EF553B",
           "#00cc96",
           "#ab63fa",
           "#FFA15A",
           "#19d3f3",
           "#FF6692",
           "#B6E880",
           "#FF97FF",
           "#FECB52"
          ],
          "font": {
           "color": "#2a3f5f"
          },
          "geo": {
           "bgcolor": "white",
           "lakecolor": "white",
           "landcolor": "#E5ECF6",
           "showlakes": true,
           "showland": true,
           "subunitcolor": "white"
          },
          "hoverlabel": {
           "align": "left"
          },
          "hovermode": "closest",
          "mapbox": {
           "style": "light"
          },
          "paper_bgcolor": "white",
          "plot_bgcolor": "#E5ECF6",
          "polar": {
           "angularaxis": {
            "gridcolor": "white",
            "linecolor": "white",
            "ticks": ""
           },
           "bgcolor": "#E5ECF6",
           "radialaxis": {
            "gridcolor": "white",
            "linecolor": "white",
            "ticks": ""
           }
          },
          "scene": {
           "xaxis": {
            "backgroundcolor": "#E5ECF6",
            "gridcolor": "white",
            "gridwidth": 2,
            "linecolor": "white",
            "showbackground": true,
            "ticks": "",
            "zerolinecolor": "white"
           },
           "yaxis": {
            "backgroundcolor": "#E5ECF6",
            "gridcolor": "white",
            "gridwidth": 2,
            "linecolor": "white",
            "showbackground": true,
            "ticks": "",
            "zerolinecolor": "white"
           },
           "zaxis": {
            "backgroundcolor": "#E5ECF6",
            "gridcolor": "white",
            "gridwidth": 2,
            "linecolor": "white",
            "showbackground": true,
            "ticks": "",
            "zerolinecolor": "white"
           }
          },
          "shapedefaults": {
           "line": {
            "color": "#2a3f5f"
           }
          },
          "ternary": {
           "aaxis": {
            "gridcolor": "white",
            "linecolor": "white",
            "ticks": ""
           },
           "baxis": {
            "gridcolor": "white",
            "linecolor": "white",
            "ticks": ""
           },
           "bgcolor": "#E5ECF6",
           "caxis": {
            "gridcolor": "white",
            "linecolor": "white",
            "ticks": ""
           }
          },
          "title": {
           "x": 0.05
          },
          "xaxis": {
           "automargin": true,
           "gridcolor": "white",
           "linecolor": "white",
           "ticks": "",
           "title": {
            "standoff": 15
           },
           "zerolinecolor": "white",
           "zerolinewidth": 2
          },
          "yaxis": {
           "automargin": true,
           "gridcolor": "white",
           "linecolor": "white",
           "ticks": "",
           "title": {
            "standoff": 15
           },
           "zerolinecolor": "white",
           "zerolinewidth": 2
          }
         }
        },
        "uniformtext": {
         "minsize": 12
        },
        "width": 1800
       }
      },
      "text/html": [
       "<div>                            <div id=\"f44d712f-87ec-4a63-b94f-494dfd120517\" class=\"plotly-graph-div\" style=\"height:1200px; width:1800px;\"></div>            <script type=\"text/javascript\">                require([\"plotly\"], function(Plotly) {                    window.PLOTLYENV=window.PLOTLYENV || {};                                    if (document.getElementById(\"f44d712f-87ec-4a63-b94f-494dfd120517\")) {                    Plotly.newPlot(                        \"f44d712f-87ec-4a63-b94f-494dfd120517\",                        [{\"hoverinfo\":\"text\",\"insidetextorientation\":\"radial\",\"labels\":[\"SDGs<br>\",\"Goal 1. End poverty in all its<br>forms everywhere<br>\",\"Goal 2. End hunger, achieve food<br>security and improved nutrition and<br>promote sustainable agriculture<br>\",\"Goal 3. Ensure healthy lives and<br>promote well-being for all at all<br>ages<br>\",\"Goal 4. Ensure inclusive and<br>equitable quality education and<br>promote lifelong learning<br>opportunities for all<br>\",\"Goal 5. Achieve gender equality and<br>empower all women and girls<br>\",\"Goal 6. Ensure availability and<br>sustainable management of water and<br>sanitation for all<br>\",\"Goal 7. Ensure access to<br>affordable, reliable, sustainable<br>and modern energy for all<br>\",\"Goal 8. Promote sustained,<br>inclusive and sustainable economic<br>growth, full and productive<br>employment and decent work for all<br>\",\"Goal 9. Build resilient<br>infrastructure, promote inclusive<br>and sustainable industrialization<br>and foster innovation<br>\",\"Goal 10. Reduce inequality within<br>and among countries<br>\",\"Goal 11. Make cities and human<br>settlements inclusive, safe,<br>resilient and sustainable<br>\",\"Goal 12. Ensure sustainable<br>consumption and production patterns<br>\",\"Goal 13. Take urgent action to<br>combat climate change and its<br>impacts<br>\",\"Goal 14. Conserve and sustainably<br>use the oceans, seas and marine<br>resources for sustainable<br>development<br>\",\"Goal 15. Protect, restore and<br>promote sustainable use of<br>terrestrial ecosystems, sustainably<br>manage forests,<br>combat\\u00a0desertification, and halt<br>and reverse land degradation and<br>halt biodiversity loss<br>\",\"Goal 16. Promote peaceful and<br>inclusive societies for sustainable<br>development, provide access to<br>justice for all and\\u00a0build<br>effective, accountable and<br>inclusive institutions at all<br>levels<br>\",\"Goal 17  Strengthen the means of<br>implementation and revitalize the<br>Global Partnership for<br>Sustainable\\u00a0Development<br>\",\"1.1 By 2030, eradicate extreme<br>poverty for all people everywhere,<br>currently measured as people living<br>on less than $1.25 a day<br>\",\"1.2 By 2030, reduce at least by<br>half the proportion of men, women<br>and children of all ages living in<br>poverty in all its dimensions<br>according to national definitions<br>\",\"1.3 Implement nationally<br>appropriate social protection<br>systems and measures for all,<br>including floors, and by 2030<br>achieve substantial coverage of the<br>poor and the vulnerable<br>\",\"1.4 By 2030, ensure that all men<br>and women, in particular the poor<br>and the vulnerable, have equal<br>rights to economic resources, as<br>well as access to basic services,<br>ownership and control over land and<br>other forms of property,<br>inheritance, natural resources,<br>appropriate new technology and<br>financial services, including<br>microfinance<br>\",\"1.5 By 2030, build the resilience<br>of the poor and those in vulnerable<br>situations and reduce their<br>exposure and vulnerability to<br>climate-related extreme events and<br>other economic, social and<br>environmental shocks and disasters<br>\",\"1.a Ensure significant mobilization<br>of resources from a variety of<br>sources, including through enhanced<br>development cooperation, in order<br>to provide adequate and predictable<br>means for developing countries, in<br>particular least developed<br>countries, to implement programmes<br>and policies to end poverty in all<br>its dimensions<br>\",\"1.b Create sound policy frameworks<br>at the national, regional and<br>international levels, based on pro-<br>poor and gender-sensitive<br>development strategies, to support<br>accelerated investment in poverty<br>eradication actions<br>\",\"2.1 By 2030, end hunger and ensure<br>access by all people, in particular<br>the poor and people in vulnerable<br>situations, including infants, to<br>safe, nutritious and sufficient<br>food all year round<br>\",\"2.2 By 2030, end all forms of<br>malnutrition, including achieving,<br>by 2025, the internationally agreed<br>targets on stunting and wasting in<br>children under 5\\u00a0years of age, and<br>address the nutritional needs of<br>adolescent girls, pregnant and<br>lactating women and older persons<br>\",\"2.3 By 2030, double the<br>agricultural productivity and<br>incomes of small-scale food<br>producers, in particular women,<br>indigenous peoples, family farmers,<br>pastoralists and fishers, including<br>through secure and equal access to<br>land, other productive resources<br>and inputs, knowledge, financial<br>services, markets and opportunities<br>for value addition and non-farm<br>employment<br>\",\"2.4 By 2030, ensure sustainable<br>food production systems and<br>implement resilient agricultural<br>practices that increase<br>productivity and production, that<br>help maintain ecosystems, that<br>strengthen capacity for adaptation<br>to climate change, extreme weather,<br>drought, flooding and other<br>disasters and that progressively<br>improve land and soil quality<br>\",\"2.5 By 2020, maintain the genetic<br>diversity of seeds, cultivated<br>plants and farmed and domesticated<br>animals and their related wild<br>species, including through soundly<br>managed and diversified seed and<br>plant banks at the national,<br>regional and international levels,<br>and promote access to and fair and<br>equitable sharing of benefits<br>arising from the utilization of<br>genetic resources and associated<br>traditional knowledge, as<br>internationally agreed<br>\",\"2.a Increase investment, including<br>through enhanced international<br>cooperation, in rural<br>infrastructure, agricultural<br>research and extension services,<br>technology development and plant<br>and livestock gene banks in order<br>to enhance agricultural productive<br>capacity in developing countries,<br>in particular least developed<br>countries<br>\",\"2.b Correct and prevent trade<br>restrictions and distortions in<br>world agricultural markets,<br>including through the parallel<br>elimination of all forms of<br>agricultural export subsidies and<br>all export measures with equivalent<br>effect, in accordance with the<br>mandate of the Doha Development<br>Round<br>\",\"2.c Adopt measures to ensure the<br>proper functioning of food<br>commodity markets and their<br>derivatives and facilitate timely<br>access to market information,<br>including on food reserves, in<br>order to help limit extreme food<br>price volatility<br>\",\"3.1 By 2030, reduce the global<br>maternal mortality ratio to less<br>than 70 per 100,000 live births<br>\",\"3.2 By 2030, end preventable deaths<br>of newborns and children under<br>5\\u00a0years of age, with all countries<br>aiming to reduce neonatal mortality<br>to at least as low as 12 per 1,000<br>live births and under\\u20115 mortality<br>to at least as low as 25 per 1,000<br>live births<br>\",\"3.3 By 2030, end the epidemics of<br>AIDS, tuberculosis, malaria and<br>neglected tropical diseases and<br>combat hepatitis, water-borne<br>diseases and other communicable<br>diseases<br>\",\"3.4 By 2030, reduce by one third<br>premature mortality from non-<br>communicable diseases through<br>prevention and treatment and<br>promote mental health and well-<br>being<br>\",\"3.5 Strengthen the prevention and<br>treatment of substance abuse,<br>including narcotic drug abuse and<br>harmful use of alcohol<br>\",\"3.6 By 2020, halve the number of<br>global deaths and injuries from<br>road traffic accidents<br>\",\"3.7 By 2030, ensure universal<br>access to sexual and reproductive<br>health-care services, including for<br>family planning, information and<br>education, and the integration of<br>reproductive health into national<br>strategies and programmes<br>\",\"3.8 Achieve universal health<br>coverage, including financial risk<br>protection, access to quality<br>essential health-care services and<br>access to safe, effective, quality<br>and affordable essential medicines<br>and vaccines for all<br>\",\"3.9 By 2030, substantially reduce<br>the number of deaths and illnesses<br>from hazardous chemicals and air,<br>water and soil pollution and<br>contamination<br>\",\"3.a Strengthen the implementation<br>of the World Health Organization<br>Framework Convention on Tobacco<br>Control in all countries, as<br>appropriate<br>\",\"3.b Support the research and<br>development of vaccines and<br>medicines for the communicable and<br>non\\u2011communicable diseases that<br>primarily affect developing<br>countries, provide access to<br>affordable essential medicines and<br>vaccines, in accordance with the<br>Doha Declaration on the TRIPS<br>Agreement and Public Health, which<br>affirms the right of developing<br>countries to use to the full the<br>provisions in the Agreement on<br>Trade-Related Aspects of<br>Intellectual Property Rights<br>regarding flexibilities to protect<br>public health, and, in particular,<br>provide access to medicines for all<br>\",\"3.c Substantially increase health<br>financing and the recruitment,<br>development, training and retention<br>of the health workforce in<br>developing countries, especially in<br>least developed countries and small<br>island developing States<br>\",\"3.d Strengthen the capacity of all<br>countries, in particular developing<br>countries, for early warning, risk<br>reduction and management of<br>national and global health risks<br>\",\"4.1 By 2030, ensure that all girls<br>and boys complete free, equitable<br>and quality primary and secondary<br>education leading to relevant and<br>effective learning outcomes<br>\",\"4.2 By 2030, ensure that all girls<br>and boys have access to quality<br>early childhood development, care<br>and pre\\u2011primary education so that<br>they are ready for primary<br>education<br>\",\"4.3 By 2030, ensure equal access<br>for all women and men to affordable<br>and quality technical, vocational<br>and tertiary education, including<br>university<br>\",\"4.4 By 2030, substantially increase<br>the number of youth and adults who<br>have relevant skills, including<br>technical and vocational skills,<br>for employment, decent jobs and<br>entrepreneurship<br>\",\"4.5 By 2030, eliminate gender<br>disparities in education and ensure<br>equal access to all levels of<br>education and vocational training<br>for the vulnerable, including<br>persons with disabilities,<br>indigenous peoples and children in<br>vulnerable situations<br>\",\"4.6 By 2030, ensure that all youth<br>and a substantial proportion of<br>adults, both men and women, achieve<br>literacy and numeracy<br>\",\"4.7 By 2030, ensure that all<br>learners acquire the knowledge and<br>skills needed to promote<br>sustainable development, including,<br>among others, through education for<br>sustainable development and<br>sustainable lifestyles, human<br>rights, gender equality, promotion<br>of a culture of peace and non-<br>violence, global citizenship and<br>appreciation of cultural diversity<br>and of culture\\u2019s contribution to<br>sustainable development<br>\",\"4.a Build and upgrade education<br>facilities that are child,<br>disability and gender sensitive and<br>provide safe, non-violent,<br>inclusive and effective learning<br>environments for all<br>\",\"4.b By 2020, substantially expand<br>globally the number of scholarships<br>available to developing countries,<br>in particular least developed<br>countries, small island developing<br>States and African countries, for<br>enrolment in higher education,<br>including vocational training and<br>information and communications<br>technology, technical, engineering<br>and scientific programmes, in<br>developed countries and other<br>developing countries<br>\",\"4.c By 2030, substantially increase<br>the supply of qualified teachers,<br>including through international<br>cooperation for teacher training in<br>developing countries, especially<br>least developed countries and small<br>island developing States<br>\",\"5.1 End all forms of discrimination<br>against all women and girls<br>everywhere<br>\",\"5.2 Eliminate all forms of violence<br>against all women and girls in the<br>public and private spheres,<br>including trafficking and sexual<br>and other types of exploitation<br>\",\"5.3 Eliminate all harmful<br>practices, such as child, early and<br>forced marriage and female genital<br>mutilation<br>\",\"5.4 Recognize and value unpaid care<br>and domestic work through the<br>provision of public services,<br>infrastructure and social<br>protection policies and the<br>promotion of shared responsibility<br>within the household and the family<br>as nationally appropriate<br>\",\"5.5 Ensure women\\u2019s full and<br>effective participation and equal<br>opportunities for leadership at all<br>levels of decision-making in<br>political, economic and public life<br>\",\"5.6 Ensure universal access to<br>sexual and reproductive health and<br>reproductive rights as agreed in<br>accordance with the Programme of<br>Action of the International<br>Conference on Population and<br>Development and the Beijing<br>Platform for Action and the outcome<br>documents of their review<br>conferences<br>\",\"5.a Undertake reforms to give women<br>equal rights to economic resources,<br>as well as access to ownership and<br>control over land and other forms<br>of property, financial services,<br>inheritance and natural resources,<br>in accordance with national laws<br>\",\"5.b Enhance the use of enabling<br>technology, in particular<br>information and communications<br>technology, to promote the<br>empowerment of women<br>\",\"5.c Adopt and strengthen sound<br>policies and enforceable<br>legislation for the promotion of<br>gender equality and the empowerment<br>of all women and girls at all<br>levels<br>\",\"6.1 By 2030, achieve universal and<br>equitable access to safe and<br>affordable drinking water for all<br>\",\"6.2 By 2030, achieve access to<br>adequate and equitable sanitation<br>and hygiene for all and end open<br>defecation, paying special<br>attention to the needs of women and<br>girls and those in vulnerable<br>situations<br>\",\"6.3 By 2030, improve water quality<br>by reducing pollution, eliminating<br>dumping and minimizing release of<br>hazardous chemicals and materials,<br>halving the proportion of untreated<br>wastewater and substantially<br>increasing recycling and safe reuse<br>globally<br>\",\"6.4 By 2030, substantially increase<br>water-use efficiency across all<br>sectors and ensure sustainable<br>withdrawals and supply of<br>freshwater to address water<br>scarcity and substantially reduce<br>the number of people suffering from<br>water scarcity<br>\",\"6.5 By 2030, implement integrated<br>water resources management at all<br>levels, including through<br>transboundary cooperation as<br>appropriate<br>\",\"6.6 By 2020, protect and restore<br>water-related ecosystems, including<br>mountains, forests, wetlands,<br>rivers, aquifers and lakes<br>\",\"6.a By 2030, expand international<br>cooperation and capacity-building<br>support to developing countries in<br>water- and sanitation-related<br>activities and programmes,<br>including water harvesting,<br>desalination, water efficiency,<br>wastewater treatment, recycling and<br>reuse technologies<br>\",\"6.b Support and strengthen the<br>participation of local communities<br>in improving water and sanitation<br>management<br>\",\"7.1 By 2030, ensure universal<br>access to affordable, reliable and<br>modern energy services<br>\",\"7.2 By 2030, increase substantially<br>the share of renewable energy in<br>the global energy mix<br>\",\"7.3 By 2030, double the global rate<br>of improvement in energy efficiency<br>\",\"7.a By 2030, enhance international<br>cooperation to facilitate access to<br>clean energy research and<br>technology, including renewable<br>energy, energy efficiency and<br>advanced and cleaner fossil-fuel<br>technology, and promote investment<br>in energy infrastructure and clean<br>energy technology<br>\",\"7.b By 2030, expand infrastructure<br>and upgrade technology for<br>supplying modern and sustainable<br>energy services for all in<br>developing countries, in particular<br>least developed countries, small<br>island developing States and<br>landlocked developing countries, in<br>accordance with their respective<br>programmes of support<br>\",\"8.1 Sustain per capita economic<br>growth in accordance with national<br>circumstances and, in particular,<br>at least 7\\u00a0per\\u00a0cent gross domestic<br>product growth per annum in the<br>least developed countries<br>\",\"8.2 Achieve higher levels of<br>economic productivity through<br>diversification, technological<br>upgrading and innovation, including<br>through a focus on high-value added<br>and labour-intensive sectors<br>\",\"8.3 Promote development-oriented<br>policies that support productive<br>activities, decent job creation,<br>entrepreneurship, creativity and<br>innovation, and encourage the<br>formalization and growth of micro-,<br>small- and medium-sized<br>enterprises, including through<br>access to financial services<br>\",\"8.4 Improve progressively, through<br>2030, global resource efficiency in<br>consumption and production and<br>endeavour to decouple economic<br>growth from environmental<br>degradation, in accordance with the<br>10\\u2011Year Framework of Programmes on<br>Sustainable Consumption and<br>Production, with developed<br>countries taking the lead<br>\",\"8.5 By 2030, achieve full and<br>productive employment and decent<br>work for all women and men,<br>including for young people and<br>persons with disabilities, and<br>equal pay for work of equal value<br>\",\"8.6 By 2020, substantially reduce<br>the proportion of youth not in<br>employment, education or training<br>\",\"8.7 Take immediate and effective<br>measures to eradicate forced<br>labour, end modern slavery and<br>human trafficking and secure the<br>prohibition and elimination of the<br>worst forms of child labour,<br>including recruitment and use of<br>child soldiers, and by 2025 end<br>child labour in all its forms<br>\",\"8.8 Protect labour rights and<br>promote safe and secure working<br>environments for all workers,<br>including migrant workers, in<br>particular women migrants, and<br>those in precarious employment<br>\",\"8.9 By 2030, devise and implement<br>policies to promote sustainable<br>tourism that creates jobs and<br>promotes local culture and products<br>\",\"8.10 Strengthen the capacity of<br>domestic financial institutions to<br>encourage and expand access to<br>banking, insurance and financial<br>services for all<br>\",\"8.a Increase Aid for Trade support<br>for developing countries, in<br>particular least developed<br>countries, including through the<br>Enhanced Integrated Framework for<br>Trade-related Technical Assistance<br>to Least Developed Countries<br>\",\"8.b By 2020, develop and<br>operationalize a global strategy<br>for youth employment and implement<br>the Global Jobs Pact of the<br>International Labour Organization<br>\",\"9.1 Develop quality, reliable,<br>sustainable and resilient<br>infrastructure, including regional<br>and transborder infrastructure, to<br>support economic development and<br>human well-being, with a focus on<br>affordable and equitable access for<br>all<br>\",\"9.2 Promote inclusive and<br>sustainable industrialization and,<br>by 2030, significantly raise<br>industry\\u2019s share of employment and<br>gross domestic product, in line<br>with national circumstances, and<br>double its share in least developed<br>countries<br>\",\"9.3 Increase the access of small-<br>scale industrial and other<br>enterprises, in particular in<br>developing countries, to financial<br>services, including affordable<br>credit, and their integration into<br>value chains and markets<br>\",\"9.4 By 2030, upgrade infrastructure<br>and retrofit industries to make<br>them sustainable, with increased<br>resource-use efficiency and greater<br>adoption of clean and<br>environmentally sound technologies<br>and industrial processes, with all<br>countries taking action in<br>accordance with their respective<br>capabilities<br>\",\"9.5 Enhance scientific research,<br>upgrade the technological<br>capabilities of industrial sectors<br>in all countries, in particular<br>developing countries, including, by<br>2030, encouraging innovation and<br>substantially increasing the number<br>of research and development workers<br>per 1\\u00a0million people and public and<br>private research and development<br>spending<br>\",\"9.a Facilitate sustainable and<br>resilient infrastructure<br>development in developing countries<br>through enhanced financial,<br>technological and technical support<br>to African countries, least<br>developed countries, landlocked<br>developing countries and small<br>island developing States<br>\",\"9.b Support domestic technology<br>development, research and<br>innovation in developing countries,<br>including by ensuring a conducive<br>policy environment for, inter alia,<br>industrial diversification and<br>value addition to commodities<br>\",\"9.c Significantly increase access<br>to information and communications<br>technology and strive to provide<br>universal and affordable access to<br>the Internet in least developed<br>countries by 2020<br>\",\"10.1 By 2030, progressively achieve<br>and sustain income growth of the<br>bottom 40\\u00a0per\\u00a0cent of the<br>population at a rate higher than<br>the national average<br>\",\"10.2 By 2030, empower and promote<br>the social, economic and political<br>inclusion of all, irrespective of<br>age, sex, disability, race,<br>ethnicity, origin, religion or<br>economic or other status<br>\",\"10.3 Ensure equal opportunity and<br>reduce inequalities of outcome,<br>including by eliminating<br>discriminatory laws, policies and<br>practices and promoting appropriate<br>legislation, policies and action in<br>this regard<br>\",\"10.4 Adopt policies, especially<br>fiscal, wage and social protection<br>policies, and progressively achieve<br>greater equality<br>\",\"10.5 Improve the regulation and<br>monitoring of global financial<br>markets and institutions and<br>strengthen the implementation of<br>such regulations<br>\",\"10.6 Ensure enhanced representation<br>and voice for developing countries<br>in decision-making in global<br>international economic and<br>financial institutions in order to<br>deliver more effective, credible,<br>accountable and legitimate<br>institutions<br>\",\"10.7 Facilitate orderly, safe,<br>regular and responsible migration<br>and mobility of people, including<br>through the implementation of<br>planned and well-managed migration<br>policies<br>\",\"10.a Implement the principle of<br>special and differential treatment<br>for developing countries, in<br>particular least developed<br>countries, in accordance with World<br>Trade Organization agreements<br>\",\"10.b Encourage official development<br>assistance and financial flows,<br>including foreign direct<br>investment, to States where the<br>need is greatest, in particular<br>least developed countries, African<br>countries, small island developing<br>States and landlocked developing<br>countries, in accordance with their<br>national plans and programmes<br>\",\"10.c By 2030, reduce to less than<br>3\\u00a0per\\u00a0cent the transaction costs of<br>migrant remittances and eliminate<br>remittance corridors with costs<br>higher than 5\\u00a0per\\u00a0cent<br>\",\"11.1 By 2030, ensure access for all<br>to adequate, safe and affordable<br>housing and basic services and<br>upgrade slums<br>\",\"11.2 By 2030, provide access to<br>safe, affordable, accessible and<br>sustainable transport systems for<br>all, improving road safety, notably<br>by expanding public transport, with<br>special attention to the needs of<br>those in vulnerable situations,<br>women, children, persons with<br>disabilities and older persons<br>\",\"11.3 By 2030, enhance inclusive and<br>sustainable urbanization and<br>capacity for participatory,<br>integrated and sustainable human<br>settlement planning and management<br>in all countries<br>\",\"11.4 Strengthen efforts to protect<br>and safeguard the world\\u2019s cultural<br>and natural heritage<br>\",\"11.5 By 2030, significantly reduce<br>the number of deaths and the number<br>of people affected and<br>substantially decrease the direct<br>economic losses relative to global<br>gross domestic product caused by<br>disasters, including water-related<br>disasters, with a focus on<br>protecting the poor and people in<br>vulnerable situations<br>\",\"11.6 By 2030, reduce the adverse<br>per capita environmental impact of<br>cities, including by paying special<br>attention to air quality and<br>municipal and other waste<br>management<br>\",\"11.7 By 2030, provide universal<br>access to safe, inclusive and<br>accessible, green and public<br>spaces, in particular for women and<br>children, older persons and persons<br>with disabilities<br>\",\"11.a Support positive economic,<br>social and environmental links<br>between urban, peri-urban and rural<br>areas by strengthening national and<br>regional development planning<br>\",\"11.b By 2020, substantially<br>increase the number of cities and<br>human settlements adopting and<br>implementing integrated policies<br>and plans towards inclusion,<br>resource efficiency, mitigation and<br>adaptation to climate change,<br>resilience to disasters, and<br>develop and implement, in line with<br>the Sendai Framework for Disaster<br>Risk Reduction 2015\\u20132030, holistic<br>disaster risk management at all<br>levels<br>\",\"11.c Support least developed<br>countries, including through<br>financial and technical assistance,<br>in building sustainable and<br>resilient buildings utilizing local<br>materials<br>\",\"12.1 Implement the 10\\u2011Year<br>Framework of Programmes on<br>Sustainable Consumption and<br>Production Patterns, all countries<br>taking action, with developed<br>countries taking the lead, taking<br>into account the development and<br>capabilities of developing<br>countries<br>\",\"12.2 By 2030, achieve the<br>sustainable management and<br>efficient use of natural resources<br>\",\"12.3 By 2030, halve per capita<br>global food waste at the retail and<br>consumer levels and reduce food<br>losses along production and supply<br>chains, including post-harvest<br>losses<br>\",\"12.4 By 2020, achieve the<br>environmentally sound management of<br>chemicals and all wastes throughout<br>their life cycle, in accordance<br>with agreed international<br>frameworks, and significantly<br>reduce their release to air, water<br>and soil in order to minimize their<br>adverse impacts on human health and<br>the environment<br>\",\"12.5 By 2030, substantially reduce<br>waste generation through<br>prevention, reduction, recycling<br>and reuse<br>\",\"12.6 Encourage companies,<br>especially large and transnational<br>companies, to adopt sustainable<br>practices and to integrate<br>sustainability information into<br>their reporting cycle<br>\",\"12.7 Promote public procurement<br>practices that are sustainable, in<br>accordance with national policies<br>and priorities<br>\",\"12.8 By 2030, ensure that people<br>everywhere have the relevant<br>information and awareness for<br>sustainable development and<br>lifestyles in harmony with nature<br>\",\"12.a Support developing countries<br>to strengthen their scientific and<br>technological capacity to move<br>towards more sustainable patterns<br>of consumption and production<br>\",\"12.b Develop and implement tools to<br>monitor sustainable development<br>impacts for sustainable tourism<br>that creates jobs and promotes<br>local culture and products<br>\",\"12.c Rationalize inefficient<br>fossil-fuel subsidies that<br>encourage wasteful consumption by<br>removing market distortions, in<br>accordance with national<br>circumstances, including by<br>restructuring taxation and phasing<br>out those harmful subsidies, where<br>they exist, to reflect their<br>environmental impacts, taking fully<br>into account the specific needs and<br>conditions of developing countries<br>and minimizing the possible adverse<br>impacts on their development in a<br>manner that protects the poor and<br>the affected communities<br>\",\"13.1 Strengthen resilience and<br>adaptive capacity to climate-<br>related hazards and natural<br>disasters in all countries<br>\",\"13.2 Integrate climate change<br>measures into national policies,<br>strategies and planning<br>\",\"13.3 Improve education, awareness-<br>raising and human and institutional<br>capacity on climate change<br>mitigation, adaptation, impact<br>reduction and early warning<br>\",\"13.a Implement the commitment<br>undertaken by developed-country<br>parties to the United Nations<br>Framework Convention on Climate<br>Change to a goal of mobilizing<br>jointly $100\\u00a0billion annually by<br>2020 from all sources to address<br>the needs of developing countries<br>in the context of meaningful<br>mitigation actions and transparency<br>on implementation and fully<br>operationalize the Green Climate<br>Fund through its capitalization as<br>soon as possible<br>\",\"13.b Promote mechanisms for raising<br>capacity for effective climate<br>change-related planning and<br>management in least developed<br>countries and small island<br>developing States, including<br>focusing on women, youth and local<br>and marginalized communities<br>\",\"14.1 By 2025, prevent and<br>significantly reduce marine<br>pollution of all kinds, in<br>particular from land-based<br>activities, including marine debris<br>and nutrient pollution<br>\",\"14.2 By 2020, sustainably manage<br>and protect marine and coastal<br>ecosystems to avoid significant<br>adverse impacts, including by<br>strengthening their resilience, and<br>take action for their restoration<br>in order to achieve healthy and<br>productive oceans<br>\",\"14.3 Minimize and address the<br>impacts of ocean acidification,<br>including through enhanced<br>scientific cooperation at all<br>levels<br>\",\"14.4 By 2020, effectively regulate<br>harvesting and end overfishing,<br>illegal, unreported and unregulated<br>fishing and destructive fishing<br>practices and implement science-<br>based management plans, in order to<br>restore fish stocks in the shortest<br>time feasible, at least to levels<br>that can produce maximum<br>sustainable yield as determined by<br>their biological characteristics<br>\",\"14.5 By 2020, conserve at least<br>10\\u00a0per\\u00a0cent of coastal and marine<br>areas, consistent with national and<br>international law and based on the<br>best available scientific<br>information<br>\",\"14.6 By 2020, prohibit certain<br>forms of fisheries subsidies which<br>contribute to overcapacity and<br>overfishing, eliminate subsidies<br>that contribute to illegal,<br>unreported and unregulated fishing<br>and refrain from introducing new<br>such subsidies, recognizing that<br>appropriate and effective special<br>and differential treatment for<br>developing and least developed<br>countries should be an integral<br>part of the World Trade<br>Organization fisheries subsidies<br>negotiation4<br>\",\"14.7 By 2030, increase the economic<br>benefits to small island developing<br>States and least developed<br>countries from the sustainable use<br>of marine resources, including<br>through sustainable management of<br>fisheries, aquaculture and tourism<br>\",\"14.a Increase scientific knowledge,<br>develop research capacity and<br>transfer marine technology, taking<br>into account the Intergovernmental<br>Oceanographic Commission Criteria<br>and Guidelines on the Transfer of<br>Marine Technology, in order to<br>improve ocean health and to enhance<br>the contribution of marine<br>biodiversity to the development of<br>developing countries, in particular<br>small island developing States and<br>least developed countries<br>\",\"14.b Provide access for small-scale<br>artisanal fishers to marine<br>resources and markets<br>\",\"14.c Enhance the conservation and<br>sustainable use of oceans and their<br>resources by implementing<br>international law as reflected in<br>the United Nations Convention on<br>the Law of the Sea, which provides<br>the legal framework for the<br>conservation and sustainable use of<br>oceans and their resources, as<br>recalled in paragraph\\u00a0158 of \\u201cThe<br>future we want\\u201d<br>\",\"15.1 By 2020, ensure the<br>conservation, restoration and<br>sustainable use of terrestrial and<br>inland freshwater ecosystems and<br>their services, in particular<br>forests, wetlands, mountains and<br>drylands, in line with obligations<br>under international agreements<br>\",\"15.2 By 2020, promote the<br>implementation of sustainable<br>management of all types of forests,<br>halt deforestation, restore<br>degraded forests and substantially<br>increase afforestation and<br>reforestation globally<br>\",\"15.3 By 2030, combat<br>desertification, restore degraded<br>land and soil, including land<br>affected by desertification,<br>drought and floods, and strive to<br>achieve a land degradation-neutral<br>world<br>\",\"15.4 By 2030, ensure the<br>conservation of mountain<br>ecosystems, including their<br>biodiversity, in order to enhance<br>their capacity to provide benefits<br>that are essential for sustainable<br>development<br>\",\"15.5 Take urgent and significant<br>action to reduce the degradation of<br>natural habitats, halt the loss of<br>biodiversity and, by 2020, protect<br>and prevent the extinction of<br>threatened species<br>\",\"15.6 Promote fair and equitable<br>sharing of the benefits arising<br>from the utilization of genetic<br>resources and promote appropriate<br>access to such resources, as<br>internationally agreed<br>\",\"15.7 Take urgent action to end<br>poaching and trafficking of<br>protected species of flora and<br>fauna and address both demand and<br>supply of illegal wildlife products<br>\",\"15.8 By 2020, introduce measures to<br>prevent the introduction and<br>significantly reduce the impact of<br>invasive alien species on land and<br>water ecosystems and control or<br>eradicate the priority species<br>\",\"15.9 By 2020, integrate ecosystem<br>and biodiversity values into<br>national and local planning,<br>development processes, poverty<br>reduction strategies and accounts<br>\",\"15.a Mobilize and significantly<br>increase financial resources from<br>all sources to conserve and<br>sustainably use biodiversity and<br>ecosystems<br>\",\"15.b Mobilize significant resources<br>from all sources and at all levels<br>to finance sustainable forest<br>management and provide adequate<br>incentives to developing countries<br>to advance such management,<br>including for conservation and<br>reforestation<br>\",\"15.c Enhance global support for<br>efforts to combat poaching and<br>trafficking of protected species,<br>including by increasing the<br>capacity of local communities to<br>pursue sustainable livelihood<br>opportunities<br>\",\"16.1 Significantly reduce all forms<br>of violence and related death rates<br>everywhere<br>\",\"16.2 End abuse, exploitation,<br>trafficking and all forms of<br>violence against and torture of<br>children<br>\",\"16.3 Promote the rule of law at the<br>national and international levels<br>and ensure equal access to justice<br>for all<br>\",\"16.4 By 2030, significantly reduce<br>illicit financial and arms flows,<br>strengthen the recovery and return<br>of stolen assets and combat all<br>forms of organized crime<br>\",\"16.5 Substantially reduce<br>corruption and bribery in all their<br>forms<br>\",\"16.6 Develop effective, accountable<br>and transparent institutions at all<br>levels<br>\",\"16.7 Ensure responsive, inclusive,<br>participatory and representative<br>decision-making at all levels<br>\",\"16.8 Broaden and strengthen the<br>participation of developing<br>countries in the institutions of<br>global governance<br>\",\"16.9 By 2030, provide legal<br>identity for all, including birth<br>registration<br>\",\"16.10 Ensure public access to<br>information and protect fundamental<br>freedoms, in accordance with<br>national legislation and<br>international agreements<br>\",\"16.a Strengthen relevant national<br>institutions, including through<br>international cooperation, for<br>building capacity at all levels, in<br>particular in developing countries,<br>to prevent violence and combat<br>terrorism and crime<br>\",\"16.b Promote and enforce non-<br>discriminatory laws and policies<br>for sustainable development<br>\",\"17.1 Strengthen domestic resource<br>mobilization, including through<br>international support to developing<br>countries, to improve domestic<br>capacity for tax and other revenue<br>collection<br>\",\"17.2 Developed countries to<br>implement fully their official<br>development assistance commitments,<br>including the commitment by many<br>developed countries to achieve the<br>target of 0.7\\u00a0per\\u00a0cent of gross<br>national income for official<br>development assistance (ODA/GNI) to<br>developing countries and 0.15 to<br>0.20\\u00a0per\\u00a0cent of ODA/GNI to least<br>developed countries; ODA providers<br>are encouraged to consider setting<br>a target to provide at least<br>0.20\\u00a0per\\u00a0cent of ODA/GNI to least<br>developed countries<br>\",\"17.3 Mobilize additional financial<br>resources for developing countries<br>from multiple sources<br>\",\"17.4 Assist developing countries in<br>attaining long-term debt<br>sustainability through coordinated<br>policies aimed at fostering debt<br>financing, debt relief and debt<br>restructuring, as appropriate, and<br>address the external debt of highly<br>indebted poor countries to reduce<br>debt distress<br>\",\"17.5 Adopt and implement investment<br>promotion regimes for least<br>developed countries<br>\",\"17.6 Enhance North-South, South-<br>South and triangular regional and<br>international cooperation on and<br>access to science, technology and<br>innovation and enhance knowledge-<br>sharing on mutually agreed terms,<br>including through improved<br>coordination among existing<br>mechanisms, in particular at the<br>United Nations level, and through a<br>global technology facilitation<br>mechanism<br>\",\"17.7 Promote the development,<br>transfer, dissemination and<br>diffusion of environmentally sound<br>technologies to developing<br>countries on favourable terms,<br>including on concessional and<br>preferential terms, as mutually<br>agreed<br>\",\"17.8 Fully operationalize the<br>technology bank and science,<br>technology and innovation capacity-<br>building mechanism for least<br>developed countries by 2017 and<br>enhance the use of enabling<br>technology, in particular<br>information and communications<br>technology<br>\",\"17.9 Enhance international support<br>for implementing effective and<br>targeted capacity-building in<br>developing countries to support<br>national plans to implement all the<br>Sustainable Development Goals,<br>including through North-South,<br>South-South and triangular<br>cooperation<br>\",\"17.10 Promote a universal, rules-<br>based, open, non\\u2011discriminatory and<br>equitable multilateral trading<br>system under the World Trade<br>Organization, including through the<br>conclusion of negotiations under<br>its Doha Development Agenda<br>\",\"17.11 Significantly increase the<br>exports of developing countries, in<br>particular with a view to doubling<br>the least developed countries\\u2019<br>share of global exports by 2020<br>\",\"17.12 Realize timely implementation<br>of duty-free and quota-free market<br>access on a lasting basis for all<br>least developed countries,<br>consistent with World Trade<br>Organization decisions, including<br>by ensuring that preferential rules<br>of origin applicable to imports<br>from least developed countries are<br>transparent and simple, and<br>contribute to facilitating market<br>access<br>\",\"17.13 Enhance global macroeconomic<br>stability, including through policy<br>coordination and policy coherence<br>\",\"17.14 Enhance policy coherence for<br>sustainable development<br>\",\"17.15 Respect each country\\u2019s policy<br>space and leadership to establish<br>and implement policies for poverty<br>eradication and sustainable<br>development<br>\",\"17.16 Enhance the Global<br>Partnership for Sustainable<br>Development, complemented by multi-<br>stakeholder partnerships that<br>mobilize and share knowledge,<br>expertise, technology and financial<br>resources, to support the<br>achievement of the Sustainable<br>Development Goals in all countries,<br>in particular developing countries<br>\",\"17.17 Encourage and promote<br>effective public, public-private<br>and civil society partnerships,<br>building on the experience and<br>resourcing strategies of<br>partnerships<br>\",\"17.18 By 2020, enhance capacity-<br>building support to developing<br>countries, including for least<br>developed countries and small<br>island developing States, to<br>increase significantly the<br>availability of high-quality,<br>timely and reliable data<br>disaggregated by income, gender,<br>age, race, ethnicity, migratory<br>status, disability, geographic<br>location and other characteristics<br>relevant in national contexts<br>\",\"17.19 By 2030, build on existing<br>initiatives to develop measurements<br>of progress on sustainable<br>development that complement gross<br>domestic product, and support<br>statistical capacity-building in<br>developing countries<br>\",\"1.1.1 Proportion of the population<br>living below the international<br>poverty line by sex, age,<br>employment status and geographic<br>location (urban/rural)<br>\",\"1.2.1 Proportion of population<br>living below the national poverty<br>line, by sex and age<br>\",\"1.2.2 Proportion of men, women and<br>children of all ages living in<br>poverty in all its dimensions<br>according to national definitions<br>\",\"1.3.1 Proportion of population<br>covered by social protection<br>floors/systems, by sex,<br>distinguishing children, unemployed<br>persons, older persons, persons<br>with disabilities, pregnant women,<br>newborns, work-injury victims and<br>the poor and the vulnerable<br>\",\"1.4.1 Proportion of population<br>living in households with access to<br>basic services<br>\",\"1.4.2 Proportion of total adult<br>population with secure tenure<br>rights to land, (a) with legally<br>recognized documentation, and (b)<br>who perceive their rights to land<br>as secure, by sex and type of<br>tenure<br>\",\"1.5.1 Number of deaths, missing<br>persons and directly affected<br>persons attributed to disasters per<br>100,000 population<br>\",\"1.5.2 Direct economic loss<br>attributed to disasters in relation<br>to global gross domestic product<br>(GDP)<br>\",\"1.5.3 Number of countries that<br>adopt and implement national<br>disaster risk reduction strategies<br>in line with the Sendai Framework<br>for Disaster Risk Reduction<br>2015\\u20132030<br>\",\"1.5.4 Proportion of local<br>governments that adopt and<br>implement local disaster risk<br>reduction strategies in line with<br>national disaster risk reduction<br>strategies<br>\",\"1.a.1 Total official development<br>assistance grants from all donors<br>that focus on poverty reduction as<br>a share of the recipient country\\u2019s<br>gross national income<br>\",\"1.a.2 Proportion of total<br>government spending on essential<br>services (education, health and<br>social protection)<br>\",\"1.b.1 Pro-poor public social<br>spending<br>\",\"2.1.1 Prevalence of<br>undernourishment<br>\",\"2.1.2 Prevalence of moderate or<br>severe food insecurity in the<br>population, based on the Food<br>Insecurity Experience Scale (FIES)<br>\",\"2.2.1 Prevalence of stunting<br>(height for age <-2 standard<br>deviation from the median of the<br>World Health Organization (WHO)<br>Child Growth Standards) among<br>children under 5\\u00a0years of age<br>\",\"2.2.2 Prevalence of malnutrition<br>(weight for height >+2 or <-2<br>standard deviation from the median<br>of the WHO Child Growth Standards)<br>among children under 5\\u00a0years of<br>age, by type (wasting and<br>overweight)<br>\",\"2.2.3 Prevalence of anaemia in<br>women aged 15 to 49 years, by<br>pregnancy status (percentage)<br>\",\"2.3.1 Volume of production per<br>labour unit by classes of<br>farming/pastoral/forestry<br>enterprise size<br>\",\"2.3.2 Average income of small-scale<br>food producers, by sex and<br>indigenous status<br>\",\"2.4.1 Proportion of agricultural<br>area under productive and<br>sustainable agriculture<br>\",\"2.5.1 Number of (a) plant and (b)<br>animal genetic resources for food<br>and agriculture secured in either<br>medium- or long-term conservation<br>facilities<br>\",\"2.5.2 Proportion of local breeds<br>classified as being at risk of<br>extinction<br>\",\"2.a.1 The agriculture orientation<br>index for government expenditures<br>\",\"2.a.2 Total official flows<br>(official development assistance<br>plus other official flows) to the<br>agriculture sector<br>\",\"2.b.1 Agricultural export subsidies<br>\",\"2.c.1 Indicator of food price<br>anomalies<br>\",\"3.1.1 Maternal mortality ratio<br>\",\"3.1.2 Proportion of births attended<br>by skilled health personnel<br>\",\"3.2.1 Under\\u20115 mortality rate<br>\",\"3.2.2 Neonatal mortality rate<br>\",\"3.3.1 Number of new HIV infections<br>per 1,000 uninfected population, by<br>sex, age and key populations<br>\",\"3.3.2 Tuberculosis incidence per<br>100,000 population<br>\",\"3.3.3 Malaria incidence per 1,000<br>population<br>\",\"3.3.4 Hepatitis B incidence per<br>100,000 population<br>\",\"3.3.5 Number of people requiring<br>interventions against neglected<br>tropical diseases<br>\",\"3.4.1 Mortality rate attributed to<br>cardiovascular disease, cancer,<br>diabetes or chronic respiratory<br>disease<br>\",\"3.4.2 Suicide mortality rate<br>\",\"3.5.1 Coverage of treatment<br>interventions (pharmacological,<br>psychosocial and rehabilitation and<br>aftercare services) for substance<br>use disorders<br>\",\"3.5.2 Alcohol per capita<br>consumption (aged 15 years and<br>older) within a calendar year in<br>litres of pure alcohol<br>\",\"3.6.1 Death rate due to road<br>traffic injuries<br>\",\"3.7.1 Proportion of women of<br>reproductive age (aged 15\\u201349\\u00a0years)<br>who have their need for family<br>planning satisfied with modern<br>methods<br>\",\"3.7.2 Adolescent birth rate (aged<br>10\\u201314 years; aged 15\\u201319\\u00a0years) per<br>1,000 women in that age group<br>\",\"3.8.1 Coverage of essential health<br>services<br>\",\"3.8.2 Proportion of population with<br>large household expenditures on<br>health as a share of total<br>household expenditure or income<br>\",\"3.9.1 Mortality rate attributed to<br>household and ambient air pollution<br>\",\"3.9.2 Mortality rate attributed to<br>unsafe water, unsafe sanitation and<br>lack of hygiene (exposure to unsafe<br>Water, Sanitation and Hygiene for<br>All (WASH) services)<br>\",\"3.9.3 Mortality rate attributed to<br>unintentional poisoning<br>\",\"3.a.1 Age-standardized prevalence<br>of current tobacco use among<br>persons aged 15\\u00a0years and older<br>\",\"3.b.1 Proportion of the target<br>population covered by all vaccines<br>included in their national<br>programme<br>\",\"3.b.2 Total net official<br>development assistance to medical<br>research and basic health sectors<br>\",\"3.b.3 Proportion of health<br>facilities that have a core set of<br>relevant essential medicines<br>available and affordable on a<br>sustainable basis<br>\",\"3.c.1 Health worker density and<br>distribution<br>\",\"3.d.1 International Health<br>Regulations (IHR) capacity and<br>health emergency preparedness<br>\",\"3.d.2 Percentage of bloodstream<br>infections due to selected<br>antimicrobial-resistant organisms<br>\",\"4.1.1 Proportion of children and<br>young people (a) in grades 2/3; (b)<br>at the end of primary; and (c) at<br>the end of lower secondary<br>achieving at least a minimum<br>proficiency level in (i) reading<br>and (ii) mathematics, by sex<br>\",\"4.1.2 Completion rate (primary<br>education, lower secondary<br>education, upper secondary<br>education)<br>\",\"4.2.1 Proportion of children aged<br>24\\u201359 months who are<br>developmentally on track in health,<br>learning and psychosocial well-<br>being, by sex<br>\",\"4.2.2 Participation rate in<br>organized learning (one year before<br>the official primary entry age), by<br>sex<br>\",\"4.3.1 Participation rate of youth<br>and adults in formal and non-formal<br>education and training in the<br>previous 12\\u00a0months, by sex<br>\",\"4.4.1 Proportion of youth and<br>adults with information and<br>communications technology (ICT)<br>skills, by type of skill<br>\",\"4.5.1 Parity indices (female/male,<br>rural/urban, bottom/top wealth<br>quintile and others such as<br>disability status, indigenous<br>peoples and conflict-affected, as<br>data become available) for all<br>education indicators on this list<br>that can be disaggregated<br>\",\"4.6.1 Proportion of population in a<br>given age group achieving at least<br>a fixed level of proficiency in<br>functional (a) literacy and (b)<br>numeracy skills, by sex<br>\",\"4.7.1 Extent to which (i) global<br>citizenship education and (ii)<br>education for sustainable<br>development are mainstreamed in (a)<br>national education policies; (b)<br>curricula; (c) teacher education;<br>and (d) student assessment<br>\",\"4.a.1 Proportion of schools<br>offering basic services, by type of<br>service<br>\",\"4.b.1 Volume of official<br>development assistance flows for<br>scholarships by sector and type of<br>study<br>\",\"4.c.1 Proportion of teachers with<br>the minimum required<br>qualifications, by education level<br>\",\"5.1.1 Whether or not legal<br>frameworks are in place to\\u00a0promote,<br>enforce and monitor equality and<br>non\\u2011discrimination on the basis of<br>sex<br>\",\"5.2.1 Proportion of ever-partnered<br>women and girls aged 15\\u00a0years and<br>older subjected to physical, sexual<br>or psychological violence by a<br>current or former intimate partner<br>in the previous 12 months, by form<br>of violence and by age<br>\",\"5.2.2 Proportion of women and girls<br>aged 15\\u00a0years and older subjected<br>to sexual violence by persons other<br>than an\\u00a0intimate partner in the<br>previous 12\\u00a0months, by age and<br>place of occurrence<br>\",\"5.3.1 Proportion of women aged<br>20\\u201324\\u00a0years who were married or in<br>a union before age 15 and before<br>age 18<br>\",\"5.3.2 Proportion of girls and women<br>aged 15\\u201349\\u00a0years who have undergone<br>female genital mutilation/cutting,<br>by\\u00a0age<br>\",\"5.4.1 Proportion of time spent on<br>unpaid domestic and care work, by<br>sex, age and location<br>\",\"5.5.1 Proportion of seats held by<br>women in (a) national parliaments<br>and (b) local governments<br>\",\"5.5.2 Proportion of women in<br>managerial positions<br>\",\"5.6.1 Proportion of women aged<br>15\\u201349\\u00a0years who make their own<br>informed decisions regarding sexual<br>relations, contraceptive use and<br>reproductive health care<br>\",\"5.6.2 Number of countries with laws<br>and regulations that guarantee full<br>and equal access to women and men<br>aged 15\\u00a0years and older to sexual<br>and reproductive health care,<br>information and education<br>\",\"5.a.1 (a) Proportion of total<br>agricultural population with<br>ownership or secure rights over<br>agricultural land, by sex; and (b)<br>share of women among owners or<br>rights-bearers of agricultural<br>land, by type of tenure<br>\",\"5.a.2 Proportion of countries where<br>the legal framework (including<br>customary law) guarantees women\\u2019s<br>equal rights to land ownership<br>and/or control<br>\",\"5.b.1 Proportion of individuals who<br>own a mobile telephone, by sex<br>\",\"5.c.1 Proportion of countries with<br>systems to track and make public<br>allocations for gender equality and<br>women\\u2019s empowerment<br>\",\"6.1.1 Proportion of population<br>using safely managed drinking water<br>services<br>\",\"6.2.1 Proportion of population<br>using (a) safely managed sanitation<br>services and (b) a hand-washing<br>facility with soap and water<br>\",\"6.3.1 Proportion of domestic and<br>industrial wastewater flows safely<br>treated<br>\",\"6.3.2 Proportion of bodies of water<br>with good ambient water quality<br>\",\"6.4.1 Change in water-use<br>efficiency over time<br>\",\"6.4.2 Level of water stress:<br>freshwater withdrawal as a<br>proportion of available freshwater<br>resources<br>\",\"6.5.1 Degree of integrated water<br>resources management<br>\",\"6.5.2 Proportion of transboundary<br>basin area with an operational<br>arrangement for water cooperation<br>\",\"6.6.1 Change in the extent of<br>water-related ecosystems over time<br>\",\"6.a.1 Amount of water- and<br>sanitation-related official<br>development assistance that is part<br>of a government-coordinated<br>spending plan<br>\",\"6.b.1 Proportion of local<br>administrative units with<br>established and operational<br>policies and procedures for<br>participation of local communities<br>in water and sanitation management<br>\",\"7.1.1 Proportion of population with<br>access to electricity<br>\",\"7.1.2 Proportion of population with<br>primary reliance on clean fuels and<br>technology<br>\",\"7.2.1 Renewable energy share in the<br>total final energy consumption<br>\",\"7.3.1 Energy intensity measured in<br>terms of primary energy and GDP<br>\",\"7.a.1 International financial flows<br>to developing countries in support<br>of clean energy research and<br>development and renewable energy<br>production, including in hybrid<br>systems<br>\",\"7.b.1 Installed renewable energy-<br>generating capacity in developing<br>countries (in watts per capita)<br>\",\"8.1.1 Annual growth rate of real<br>GDP per capita<br>\",\"8.2.1 Annual growth rate of real<br>GDP per employed person<br>\",\"8.3.1 Proportion of informal<br>employment in total employment, by<br>sector and sex<br>\",\"8.4.1 Material footprint, material<br>footprint per capita, and material<br>footprint per GDP<br>\",\"8.4.2 Domestic material<br>consumption, domestic material<br>consumption per capita, and<br>domestic material consumption per<br>GDP<br>\",\"8.5.1 Average hourly earnings of<br>employees, by sex, age, occupation<br>and persons with disabilities<br>\",\"8.5.2 Unemployment rate, by sex,<br>age and persons with disabilities<br>\",\"8.6.1 Proportion of youth (aged<br>15\\u201324\\u00a0years) not in education,<br>employment or training<br>\",\"8.7.1 Proportion and number of<br>children aged 5\\u201317\\u00a0years engaged in<br>child labour, by sex and age<br>\",\"8.8.1 Fatal and non-fatal<br>occupational injuries per 100,000<br>workers, by sex and migrant status<br>\",\"8.8.2 Level of national compliance<br>with labour rights (freedom of<br>association and collective<br>bargaining) based on International<br>Labour Organization (ILO) textual<br>sources and national legislation,<br>by sex and migrant status<br>\",\"8.9.1 Tourism direct GDP as a<br>proportion of total GDP and in<br>growth rate<br>\",\"8.10.1 (a) Number of commercial<br>bank branches per 100,000 adults<br>and (b) number of automated teller<br>machines (ATMs) per 100,000 adults<br>\",\"8.10.2 Proportion of adults<br>(15\\u00a0years and older) with an<br>account at a bank or other<br>financial institution or with a<br>mobile-money-service provider<br>\",\"8.a.1 Aid for Trade commitments and<br>disbursements<br>\",\"8.b.1 Existence of a developed and<br>operationalized national strategy<br>for youth employment, as a distinct<br>strategy or as part of a national<br>employment strategy<br>\",\"9.1.1 Proportion of the rural<br>population who live within 2\\u00a0km of<br>an all-season road<br>\",\"9.1.2 Passenger and freight<br>volumes, by mode of transport<br>\",\"9.2.1 Manufacturing value added as<br>a proportion of GDP and per capita<br>\",\"9.2.2 Manufacturing employment as a<br>proportion of total employment<br>\",\"9.3.1 Proportion of small-scale<br>industries in total industry value<br>added<br>\",\"9.3.2 Proportion of small-scale<br>industries with a loan or line of<br>credit<br>\",\"9.4.1 CO2 emission per unit of<br>value added<br>\",\"9.5.1 Research and development<br>expenditure as a proportion of GDP<br>\",\"9.5.2 Researchers (in full-time<br>equivalent) per million inhabitants<br>\",\"9.a.1 Total official international<br>support (official development<br>assistance plus other official<br>flows) to infrastructure<br>\",\"9.b.1 Proportion of medium and<br>high-tech industry value added in<br>total value added<br>\",\"9.c.1 Proportion of population<br>covered by a mobile network, by<br>technology<br>\",\"10.1.1 Growth rates of household<br>expenditure or income per capita<br>among the bottom 40\\u00a0per\\u00a0cent of the<br>population and the total population<br>\",\"10.2.1 Proportion of people living<br>below 50\\u00a0per\\u00a0cent of median income,<br>by sex, age and persons with<br>disabilities<br>\",\"10.3.1 Proportion of population<br>reporting having personally felt<br>discriminated against or harassed<br>in the previous 12 months on the<br>basis of a ground of discrimination<br>prohibited under international<br>human rights\\u00a0law<br>\",\"10.4.1 Labour share of GDP<br>\",\"10.4.2 Redistributive impact of<br>fiscal policy4<br>\",\"10.5.1 Financial Soundness<br>Indicators<br>\",\"10.6.1 Proportion of members and<br>voting rights of developing<br>countries in international<br>organizations<br>\",\"10.7.1 Recruitment cost borne by<br>employee as a proportion of monthly<br>income earned in country of<br>destination<br>\",\"10.7.2 Number of countries with<br>migration policies that facilitate<br>orderly, safe, regular and<br>responsible migration and mobility<br>of people<br>\",\"10.7.3 Number of people who died or<br>disappeared in the process of<br>migration towards an international<br>destination<br>\",\"10.7.4 Proportion of the population<br>who are refugees, by country of<br>origin<br>\",\"10.a.1 Proportion of tariff lines<br>applied to imports from least<br>developed countries and developing<br>countries with zero-tariff<br>\",\"10.b.1 Total resource flows for<br>development, by recipient and donor<br>countries and type of flow (e.g.<br>official development assistance,<br>foreign direct investment and other<br>flows)<br>\",\"10.c.1 Remittance costs as a<br>proportion of the amount remitted<br>\",\"11.1.1 Proportion of urban<br>population living in slums,<br>informal settlements or inadequate<br>housing<br>\",\"11.2.1 Proportion of population<br>that has convenient access to<br>public transport, by sex, age and<br>persons with disabilities<br>\",\"11.3.1 Ratio of land consumption<br>rate to population growth rate<br>\",\"11.3.2 Proportion of cities with a<br>direct participation structure of<br>civil society in urban planning and<br>management that operate regularly<br>and democratically<br>\",\"11.4.1 Total per capita expenditure<br>on the preservation, protection and<br>conservation of all cultural and<br>natural heritage, by source of<br>funding (public, private), type of<br>heritage (cultural, natural) and<br>level of government (national,<br>regional, and local/municipal)<br>\",\"11.5.1 Number of deaths, missing<br>persons and directly affected<br>persons attributed to disasters per<br>100,000 population<br>\",\"11.5.2 Direct economic loss in<br>relation to global GDP, damage to<br>critical infrastructure and number<br>of disruptions to basic services,<br>attributed to disasters<br>\",\"11.6.1 Proportion of municipal<br>solid waste collected and managed<br>in controlled facilities out of<br>total municipal waste generated, by<br>cities<br>\",\"11.6.2 Annual mean levels of fine<br>particulate matter (e.g.\\u00a0PM2.5 and<br>PM10) in cities (population<br>weighted)<br>\",\"11.7.1 Average share of the built-<br>up area of cities that is open<br>space for public use for all, by<br>sex, age and persons with<br>disabilities<br>\",\"11.7.2 Proportion of persons victim<br>of physical or sexual harassment,<br>by sex, age, disability status and<br>place of occurrence, in the<br>previous 12 months<br>\",\"11.a.1 Number of countries that<br>have national urban policies or<br>regional development plans that (a)<br>respond to population dynamics; (b)<br>ensure balanced territorial<br>development; and (c) increase local<br>fiscal space<br>\",\"11.b.1 Number of countries that<br>adopt and implement national<br>disaster risk reduction strategies<br>in line with the Sendai Framework<br>for Disaster Risk Reduction<br>2015\\u20132030<br>\",\"11.b.2 Proportion of local<br>governments that adopt and<br>implement local disaster risk<br>reduction strategies in line with<br>national disaster risk reduction<br>strategies<br>\",\"No suitable replacement indicator<br>was proposed. The global<br>statistical community is encouraged<br>to work to develop an indicator<br>that could be proposed for the 2025<br>comprehensive review. See<br>E/CN.3/2020/2, paragraph 23.<br>\",\"12.1.1 Number of countries<br>developing, adopting or<br>implementing policy instruments<br>aimed at supporting the shift to<br>sustainable consumption and<br>production<br>\",\"12.2.1 Material footprint, material<br>footprint per capita, and material<br>footprint per GDP<br>\",\"12.2.2 Domestic material<br>consumption, domestic material<br>consumption per capita, and<br>domestic material consumption per<br>GDP<br>\",\"12.3.1 (a) Food loss index and (b)<br>food waste index<br>\",\"12.4.1 Number of parties to<br>international multilateral<br>environmental agreements on<br>hazardous waste, and other<br>chemicals that meet their<br>commitments and obligations in<br>transmitting information as<br>required by each relevant agreement<br>\",\"12.4.2 (a) Hazardous waste<br>generated per capita; and (b)<br>proportion of hazardous waste<br>treated, by type of treatment<br>\",\"12.5.1 National recycling rate,<br>tons of material recycled<br>\",\"12.6.1 Number of companies<br>publishing sustainability reports<br>\",\"12.7.1 Degree of sustainable public<br>procurement policies and action<br>plan implementation<br>\",\"12.8.1 Extent to which (i) global<br>citizenship education and (ii)<br>education for sustainable<br>development are mainstreamed in (a)<br>national education policies; (b)<br>curricula; (c) teacher education;<br>and (d) student assessment<br>\",\"12.a.1 Installed renewable energy-<br>generating capacity in developing<br>countries (in watts per capita)<br>\",\"12.b.1 Implementation of standard<br>accounting tools to monitor the<br>economic and environmental aspects<br>of tourism sustainability<br>\",\"12.c.1 Amount of fossil-fuel<br>subsidies (production and<br>consumption) per unit of GDP<br>\",\"13.1.1 Number of deaths, missing<br>persons and directly affected<br>persons attributed to disasters per<br>100,000 population<br>\",\"13.1.2 Number of countries that<br>adopt and implement national<br>disaster risk reduction strategies<br>in line with the Sendai Framework<br>for Disaster Risk Reduction<br>2015\\u20132030<br>\",\"13.1.3 Proportion of local<br>governments that adopt and<br>implement local disaster risk<br>reduction strategies in line with<br>national disaster risk reduction<br>strategies<br>\",\"13.2.1 Number of countries with<br>nationally determined<br>contributions, long-term<br>strategies, national adaptation<br>plans and adaptation<br>communications, as reported to the<br>secretariat of the United Nations<br>Framework Convention on Climate<br>Change<br>\",\"13.2.2 Total greenhouse gas<br>emissions per year<br>\",\"13.3.1 Extent to which (i) global<br>citizenship education and (ii)<br>education for sustainable<br>development are mainstreamed in (a)<br>national education policies; (b)<br>curricula; (c) teacher education;<br>and (d) student assessment<br>\",\"13.a.1 Amounts provided and<br>mobilized in United States dollars<br>per year in relation to the<br>continued existing collective<br>mobilization goal of the $100<br>billion commitment through to 2025<br>\",\"13.b.1 Number of least developed<br>countries and small island<br>developing States with nationally<br>determined contributions, long-term<br>strategies, national adaptation<br>plans and adaptation<br>communications, as reported to the<br>secretariat of the United Nations<br>Framework Convention on Climate<br>Change<br>\",\"14.1.1 (a) Index of coastal<br>eutrophication; and (b) plastic<br>debris density<br>\",\"14.2.1 Number of countries using<br>ecosystem-based approaches to<br>managing marine areas<br>\",\"14.3.1 Average marine acidity (pH)<br>measured at agreed suite of<br>representative sampling stations<br>\",\"14.4.1 Proportion of fish stocks<br>within biologically sustainable<br>levels<br>\",\"14.5.1 Coverage of protected areas<br>in relation to marine areas<br>\",\"14.6.1 Degree of implementation of<br>international instruments aiming to<br>combat illegal, unreported and<br>unregulated fishing<br>\",\"14.7.1 Sustainable fisheries as a<br>proportion of GDP in small island<br>developing States, least developed<br>countries and all countries<br>\",\"14.a.1 Proportion of total research<br>budget allocated to research in the<br>field of marine technology<br>\",\"14.b.1 Degree of application of a<br>legal/regulatory/<br>policy/institutional framework<br>which recognizes and protects<br>access rights for small-scale<br>fisheries<br>\",\"14.c.1 Number of countries making<br>progress in ratifying, accepting<br>and implementing through legal,<br>policy and institutional<br>frameworks, ocean-related<br>instruments that implement<br>international law, as reflected in<br>the United Nations Convention on<br>the Law of the Sea, for the<br>conservation and sustainable use of<br>the oceans and their resources<br>\",\"15.1.1 Forest area as a proportion<br>of total land area<br>\",\"15.1.2 Proportion of important<br>sites for terrestrial and<br>freshwater biodiversity that are<br>covered by protected areas, by<br>ecosystem type<br>\",\"15.2.1 Progress towards sustainable<br>forest management<br>\",\"15.3.1 Proportion of land that is<br>degraded over total land area<br>\",\"15.4.1 Coverage by protected areas<br>of important sites for mountain<br>biodiversity<br>\",\"15.4.2 Mountain Green Cover Index<br>\",\"15.5.1 Red List Index<br>\",\"15.6.1 Number of countries that<br>have adopted legislative,<br>administrative and policy<br>frameworks to ensure fair and<br>equitable sharing of benefits<br>\",\"15.7.1 Proportion of traded<br>wildlife that was poached or<br>illicitly trafficked<br>\",\"15.8.1 Proportion of countries<br>adopting relevant national<br>legislation and adequately<br>resourcing the prevention or<br>control of invasive alien species<br>\",\"15.9.1 (a) Number of countries that<br>have established national targets<br>in accordance with or similar to<br>Aichi Biodiversity Target 2 of the<br>Strategic Plan for Biodiversity<br>2011\\u20132020 in their national<br>biodiversity strategy and action<br>plans and the progress reported<br>towards these targets; and (b)<br>integration of biodiversity into<br>national accounting and reporting<br>systems, defined as implementation<br>of the System of Environmental-<br>Economic Accounting<br>\",\"15.a.1 (a) Official development<br>assistance on conservation and<br>sustainable use of biodiversity;<br>and (b) revenue generated and<br>finance mobilized from<br>biodiversity-relevant economic<br>instruments<br>\",\"15.b.1 (a) Official development<br>assistance on conservation and<br>sustainable use of biodiversity;<br>and (b) revenue generated and<br>finance mobilized from<br>biodiversity-relevant economic<br>instruments<br>\",\"15.c.1 Proportion of traded<br>wildlife that was poached or<br>illicitly trafficked<br>\",\"16.1.1 Number of victims of<br>intentional homicide per 100,000<br>population, by sex and age<br>\",\"16.1.2 Conflict-related deaths per<br>100,000 population, by sex, age and<br>cause<br>\",\"16.1.3 Proportion of population<br>subjected to (a) physical violence,<br>(b) psychological violence and (c)<br>sexual violence in the previous 12<br>months<br>\",\"16.1.4 Proportion of population<br>that feel safe walking alone around<br>the area they live<br>\",\"16.2.1 Proportion of children aged<br>1\\u201317\\u00a0years who experienced any<br>physical punishment and/or<br>psychological aggression by<br>caregivers in the past month<br>\",\"16.2.2 Number of victims of human<br>trafficking per 100,000 population,<br>by sex, age and form of<br>exploitation<br>\",\"16.2.3 Proportion of young women<br>and men aged 18\\u201329\\u00a0years who<br>experienced sexual violence by<br>age\\u00a018<br>\",\"16.3.1 Proportion of victims of<br>violence in the previous 12\\u00a0months<br>who reported their victimization to<br>competent authorities or other<br>officially recognized conflict<br>resolution mechanisms<br>\",\"16.3.2 Unsentenced detainees as a<br>proportion of overall prison<br>population<br>\",\"16.3.3 Proportion of the population<br>who have experienced a dispute in<br>the past two years and who accessed<br>a formal or informal dispute<br>resolution mechanism, by type of<br>mechanism<br>\",\"16.4.1 Total value of inward and<br>outward illicit financial flows (in<br>current United States dollars)<br>\",\"16.4.2 Proportion of seized, found<br>or surrendered arms whose illicit<br>origin or context has been traced<br>or established by a competent<br>authority in line with<br>international instruments<br>\",\"16.5.1 Proportion of persons who<br>had at least one contact with a<br>public official and who paid a<br>bribe to a public official, or were<br>asked for a bribe by those public<br>officials, during the previous<br>12\\u00a0months<br>\",\"16.5.2 Proportion of businesses<br>that had at least one contact with<br>a public official and that paid a<br>bribe to a public official, or were<br>asked for a bribe by those public<br>officials during the previous<br>12\\u00a0months<br>\",\"16.6.1 Primary government<br>expenditures as a proportion of<br>original approved budget, by sector<br>(or by budget codes or similar)<br>\",\"16.6.2 Proportion of population<br>satisfied with their last<br>experience of public services<br>\",\"16.7.1 Proportions of positions in<br>national and local institutions,<br>including (a) the legislatures; (b)<br>the public service; and (c) the<br>judiciary, compared to national<br>distributions, by sex, age, persons<br>with disabilities and population<br>groups<br>\",\"16.7.2 Proportion of population who<br>believe decision-making is<br>inclusive and responsive, by sex,<br>age, disability and population<br>group<br>\",\"16.8.1 Proportion of members and<br>voting rights of developing<br>countries in international<br>organizations<br>\",\"16.9.1 Proportion of children under<br>5\\u00a0years of age whose births have<br>been registered with a civil<br>authority, by age<br>\",\"16.10.1 Number of verified cases of<br>killing, kidnapping, enforced<br>disappearance, arbitrary detention<br>and torture of journalists,<br>associated media personnel, trade<br>unionists and human rights<br>advocates in the previous 12\\u00a0months<br>\",\"16.10.2 Number of countries that<br>adopt and implement constitutional,<br>statutory and/or policy guarantees<br>for public access to information<br>\",\"16.a.1 Existence of independent<br>national human rights institutions<br>in compliance with the Paris<br>Principles<br>\",\"16.b.1 Proportion of population<br>reporting having personally felt<br>discriminated against or harassed<br>in the previous 12 months on the<br>basis of a ground of discrimination<br>prohibited under international<br>human rights law<br>\",\"17.1.1 Total government revenue as<br>a proportion of GDP, by source<br>\",\"17.1.2 Proportion of domestic<br>budget funded by domestic taxes<br>\",\"17.2.1 Net official development<br>assistance, total and to least<br>developed countries, as a<br>proportion of the Organization for<br>Economic Cooperation and<br>Development (OECD) Development<br>Assistance Committee donors\\u2019 gross<br>national income (GNI)<br>\",\"17.3.1 Foreign direct investment,<br>official development assistance and<br>South-South cooperation as a<br>proportion of gross national income<br>\",\"17.3.2 Volume of remittances (in<br>United States dollars) as a<br>proportion of total GDP<br>\",\"17.4.1 Debt service as a proportion<br>of exports of goods and services<br>\",\"17.5.1 Number of countries that<br>adopt and implement investment<br>promotion regimes for developing<br>countries, including the least<br>developed countries<br>\",\"17.6.1 Fixed Internet broadband<br>subscriptions per 100 inhabitants,<br>by speed5<br>\",\"17.7.1 Total amount of funding for<br>developing countries to promote the<br>development, transfer,<br>dissemination and diffusion of<br>environmentally sound technologies<br>\",\"17.8.1 Proportion of individuals<br>using the Internet<br>\",\"17.9.1 Dollar value of financial<br>and technical assistance (including<br>through North-South, South\\u2011South<br>and triangular cooperation)<br>committed to developing countries<br>\",\"17.10.1 Worldwide weighted tariff-<br>average<br>\",\"17.11.1 Developing countries\\u2019 and<br>least developed countries\\u2019 share of<br>global exports<br>\",\"17.12.1 Weighted average tariffs<br>faced by developing countries,<br>least developed countries and small<br>island developing States<br>\",\"17.13.1 Macroeconomic Dashboard<br>\",\"17.14.1 Number of countries with<br>mechanisms in place to enhance<br>policy coherence of sustainable<br>development<br>\",\"17.15.1 Extent of use of country-<br>owned results frameworks and<br>planning tools by providers of<br>development cooperation<br>\",\"17.16.1 Number of countries<br>reporting progress in multi-<br>stakeholder development<br>effectiveness monitoring frameworks<br>that support the achievement of the<br>sustainable development goals<br>\",\"17.17.1 Amount in United States<br>dollars committed to public-private<br>partnerships for infrastructure<br>\",\"17.18.1 Statistical capacity<br>indicator for Sustainable<br>Development Goal monitoring<br>\",\"17.18.2 Number of countries that<br>have national statistical<br>legislation that complies with the<br>Fundamental Principles of Official<br>Statistics<br>\",\"17.18.3 Number of countries with a<br>national statistical plan that is<br>fully funded and under<br>implementation, by source of<br>funding<br>\",\"17.19.1 Dollar value of all<br>resources made available to<br>strengthen statistical capacity in<br>developing countries<br>\",\"17.19.2 Proportion of countries<br>that (a) have conducted at least<br>one population and housing census<br>in the last 10\\u00a0years; and (b) have<br>achieved 100\\u00a0per\\u00a0cent birth<br>registration and 80\\u00a0per\\u00a0cent death<br>registration<br>\"],\"maxdepth\":6,\"parents\":[\"\",\"SDGs<br>\",\"SDGs<br>\",\"SDGs<br>\",\"SDGs<br>\",\"SDGs<br>\",\"SDGs<br>\",\"SDGs<br>\",\"SDGs<br>\",\"SDGs<br>\",\"SDGs<br>\",\"SDGs<br>\",\"SDGs<br>\",\"SDGs<br>\",\"SDGs<br>\",\"SDGs<br>\",\"SDGs<br>\",\"SDGs<br>\",\"Goal 1. End poverty in all its<br>forms everywhere<br>\",\"Goal 1. End poverty in all its<br>forms everywhere<br>\",\"Goal 1. End poverty in all its<br>forms everywhere<br>\",\"Goal 1. End poverty in all its<br>forms everywhere<br>\",\"Goal 1. End poverty in all its<br>forms everywhere<br>\",\"Goal 1. End poverty in all its<br>forms everywhere<br>\",\"Goal 1. End poverty in all its<br>forms everywhere<br>\",\"Goal 2. End hunger, achieve food<br>security and improved nutrition and<br>promote sustainable agriculture<br>\",\"Goal 2. End hunger, achieve food<br>security and improved nutrition and<br>promote sustainable agriculture<br>\",\"Goal 2. End hunger, achieve food<br>security and improved nutrition and<br>promote sustainable agriculture<br>\",\"Goal 2. End hunger, achieve food<br>security and improved nutrition and<br>promote sustainable agriculture<br>\",\"Goal 2. End hunger, achieve food<br>security and improved nutrition and<br>promote sustainable agriculture<br>\",\"Goal 2. End hunger, achieve food<br>security and improved nutrition and<br>promote sustainable agriculture<br>\",\"Goal 2. End hunger, achieve food<br>security and improved nutrition and<br>promote sustainable agriculture<br>\",\"Goal 2. End hunger, achieve food<br>security and improved nutrition and<br>promote sustainable agriculture<br>\",\"Goal 3. Ensure healthy lives and<br>promote well-being for all at all<br>ages<br>\",\"Goal 3. Ensure healthy lives and<br>promote well-being for all at all<br>ages<br>\",\"Goal 3. Ensure healthy lives and<br>promote well-being for all at all<br>ages<br>\",\"Goal 3. Ensure healthy lives and<br>promote well-being for all at all<br>ages<br>\",\"Goal 3. Ensure healthy lives and<br>promote well-being for all at all<br>ages<br>\",\"Goal 3. Ensure healthy lives and<br>promote well-being for all at all<br>ages<br>\",\"Goal 3. Ensure healthy lives and<br>promote well-being for all at all<br>ages<br>\",\"Goal 3. Ensure healthy lives and<br>promote well-being for all at all<br>ages<br>\",\"Goal 3. Ensure healthy lives and<br>promote well-being for all at all<br>ages<br>\",\"Goal 3. Ensure healthy lives and<br>promote well-being for all at all<br>ages<br>\",\"Goal 3. Ensure healthy lives and<br>promote well-being for all at all<br>ages<br>\",\"Goal 3. Ensure healthy lives and<br>promote well-being for all at all<br>ages<br>\",\"Goal 3. Ensure healthy lives and<br>promote well-being for all at all<br>ages<br>\",\"Goal 4. Ensure inclusive and<br>equitable quality education and<br>promote lifelong learning<br>opportunities for all<br>\",\"Goal 4. Ensure inclusive and<br>equitable quality education and<br>promote lifelong learning<br>opportunities for all<br>\",\"Goal 4. Ensure inclusive and<br>equitable quality education and<br>promote lifelong learning<br>opportunities for all<br>\",\"Goal 4. Ensure inclusive and<br>equitable quality education and<br>promote lifelong learning<br>opportunities for all<br>\",\"Goal 4. Ensure inclusive and<br>equitable quality education and<br>promote lifelong learning<br>opportunities for all<br>\",\"Goal 4. Ensure inclusive and<br>equitable quality education and<br>promote lifelong learning<br>opportunities for all<br>\",\"Goal 4. Ensure inclusive and<br>equitable quality education and<br>promote lifelong learning<br>opportunities for all<br>\",\"Goal 4. Ensure inclusive and<br>equitable quality education and<br>promote lifelong learning<br>opportunities for all<br>\",\"Goal 4. Ensure inclusive and<br>equitable quality education and<br>promote lifelong learning<br>opportunities for all<br>\",\"Goal 4. Ensure inclusive and<br>equitable quality education and<br>promote lifelong learning<br>opportunities for all<br>\",\"Goal 5. Achieve gender equality and<br>empower all women and girls<br>\",\"Goal 5. Achieve gender equality and<br>empower all women and girls<br>\",\"Goal 5. Achieve gender equality and<br>empower all women and girls<br>\",\"Goal 5. Achieve gender equality and<br>empower all women and girls<br>\",\"Goal 5. Achieve gender equality and<br>empower all women and girls<br>\",\"Goal 5. Achieve gender equality and<br>empower all women and girls<br>\",\"Goal 5. Achieve gender equality and<br>empower all women and girls<br>\",\"Goal 5. Achieve gender equality and<br>empower all women and girls<br>\",\"Goal 5. Achieve gender equality and<br>empower all women and girls<br>\",\"Goal 6. Ensure availability and<br>sustainable management of water and<br>sanitation for all<br>\",\"Goal 6. Ensure availability and<br>sustainable management of water and<br>sanitation for all<br>\",\"Goal 6. Ensure availability and<br>sustainable management of water and<br>sanitation for all<br>\",\"Goal 6. Ensure availability and<br>sustainable management of water and<br>sanitation for all<br>\",\"Goal 6. Ensure availability and<br>sustainable management of water and<br>sanitation for all<br>\",\"Goal 6. Ensure availability and<br>sustainable management of water and<br>sanitation for all<br>\",\"Goal 6. Ensure availability and<br>sustainable management of water and<br>sanitation for all<br>\",\"Goal 6. Ensure availability and<br>sustainable management of water and<br>sanitation for all<br>\",\"Goal 7. Ensure access to<br>affordable, reliable, sustainable<br>and modern energy for all<br>\",\"Goal 7. Ensure access to<br>affordable, reliable, sustainable<br>and modern energy for all<br>\",\"Goal 7. Ensure access to<br>affordable, reliable, sustainable<br>and modern energy for all<br>\",\"Goal 7. Ensure access to<br>affordable, reliable, sustainable<br>and modern energy for all<br>\",\"Goal 7. Ensure access to<br>affordable, reliable, sustainable<br>and modern energy for all<br>\",\"Goal 8. Promote sustained,<br>inclusive and sustainable economic<br>growth, full and productive<br>employment and decent work for all<br>\",\"Goal 8. Promote sustained,<br>inclusive and sustainable economic<br>growth, full and productive<br>employment and decent work for all<br>\",\"Goal 8. Promote sustained,<br>inclusive and sustainable economic<br>growth, full and productive<br>employment and decent work for all<br>\",\"Goal 8. Promote sustained,<br>inclusive and sustainable economic<br>growth, full and productive<br>employment and decent work for all<br>\",\"Goal 8. Promote sustained,<br>inclusive and sustainable economic<br>growth, full and productive<br>employment and decent work for all<br>\",\"Goal 8. Promote sustained,<br>inclusive and sustainable economic<br>growth, full and productive<br>employment and decent work for all<br>\",\"Goal 8. Promote sustained,<br>inclusive and sustainable economic<br>growth, full and productive<br>employment and decent work for all<br>\",\"Goal 8. Promote sustained,<br>inclusive and sustainable economic<br>growth, full and productive<br>employment and decent work for all<br>\",\"Goal 8. Promote sustained,<br>inclusive and sustainable economic<br>growth, full and productive<br>employment and decent work for all<br>\",\"Goal 8. Promote sustained,<br>inclusive and sustainable economic<br>growth, full and productive<br>employment and decent work for all<br>\",\"Goal 8. Promote sustained,<br>inclusive and sustainable economic<br>growth, full and productive<br>employment and decent work for all<br>\",\"Goal 8. Promote sustained,<br>inclusive and sustainable economic<br>growth, full and productive<br>employment and decent work for all<br>\",\"Goal 9. Build resilient<br>infrastructure, promote inclusive<br>and sustainable industrialization<br>and foster innovation<br>\",\"Goal 9. Build resilient<br>infrastructure, promote inclusive<br>and sustainable industrialization<br>and foster innovation<br>\",\"Goal 9. Build resilient<br>infrastructure, promote inclusive<br>and sustainable industrialization<br>and foster innovation<br>\",\"Goal 9. Build resilient<br>infrastructure, promote inclusive<br>and sustainable industrialization<br>and foster innovation<br>\",\"Goal 9. Build resilient<br>infrastructure, promote inclusive<br>and sustainable industrialization<br>and foster innovation<br>\",\"Goal 9. Build resilient<br>infrastructure, promote inclusive<br>and sustainable industrialization<br>and foster innovation<br>\",\"Goal 9. Build resilient<br>infrastructure, promote inclusive<br>and sustainable industrialization<br>and foster innovation<br>\",\"Goal 9. Build resilient<br>infrastructure, promote inclusive<br>and sustainable industrialization<br>and foster innovation<br>\",\"Goal 10. Reduce inequality within<br>and among countries<br>\",\"Goal 10. Reduce inequality within<br>and among countries<br>\",\"Goal 10. Reduce inequality within<br>and among countries<br>\",\"Goal 10. Reduce inequality within<br>and among countries<br>\",\"Goal 10. Reduce inequality within<br>and among countries<br>\",\"Goal 10. Reduce inequality within<br>and among countries<br>\",\"Goal 10. Reduce inequality within<br>and among countries<br>\",\"Goal 10. Reduce inequality within<br>and among countries<br>\",\"Goal 10. Reduce inequality within<br>and among countries<br>\",\"Goal 10. Reduce inequality within<br>and among countries<br>\",\"Goal 11. Make cities and human<br>settlements inclusive, safe,<br>resilient and sustainable<br>\",\"Goal 11. Make cities and human<br>settlements inclusive, safe,<br>resilient and sustainable<br>\",\"Goal 11. Make cities and human<br>settlements inclusive, safe,<br>resilient and sustainable<br>\",\"Goal 11. Make cities and human<br>settlements inclusive, safe,<br>resilient and sustainable<br>\",\"Goal 11. Make cities and human<br>settlements inclusive, safe,<br>resilient and sustainable<br>\",\"Goal 11. Make cities and human<br>settlements inclusive, safe,<br>resilient and sustainable<br>\",\"Goal 11. Make cities and human<br>settlements inclusive, safe,<br>resilient and sustainable<br>\",\"Goal 11. Make cities and human<br>settlements inclusive, safe,<br>resilient and sustainable<br>\",\"Goal 11. Make cities and human<br>settlements inclusive, safe,<br>resilient and sustainable<br>\",\"Goal 11. Make cities and human<br>settlements inclusive, safe,<br>resilient and sustainable<br>\",\"Goal 12. Ensure sustainable<br>consumption and production patterns<br>\",\"Goal 12. Ensure sustainable<br>consumption and production patterns<br>\",\"Goal 12. Ensure sustainable<br>consumption and production patterns<br>\",\"Goal 12. Ensure sustainable<br>consumption and production patterns<br>\",\"Goal 12. Ensure sustainable<br>consumption and production patterns<br>\",\"Goal 12. Ensure sustainable<br>consumption and production patterns<br>\",\"Goal 12. Ensure sustainable<br>consumption and production patterns<br>\",\"Goal 12. Ensure sustainable<br>consumption and production patterns<br>\",\"Goal 12. Ensure sustainable<br>consumption and production patterns<br>\",\"Goal 12. Ensure sustainable<br>consumption and production patterns<br>\",\"Goal 12. Ensure sustainable<br>consumption and production patterns<br>\",\"Goal 13. Take urgent action to<br>combat climate change and its<br>impacts<br>\",\"Goal 13. Take urgent action to<br>combat climate change and its<br>impacts<br>\",\"Goal 13. Take urgent action to<br>combat climate change and its<br>impacts<br>\",\"Goal 13. Take urgent action to<br>combat climate change and its<br>impacts<br>\",\"Goal 13. Take urgent action to<br>combat climate change and its<br>impacts<br>\",\"Goal 14. Conserve and sustainably<br>use the oceans, seas and marine<br>resources for sustainable<br>development<br>\",\"Goal 14. Conserve and sustainably<br>use the oceans, seas and marine<br>resources for sustainable<br>development<br>\",\"Goal 14. Conserve and sustainably<br>use the oceans, seas and marine<br>resources for sustainable<br>development<br>\",\"Goal 14. Conserve and sustainably<br>use the oceans, seas and marine<br>resources for sustainable<br>development<br>\",\"Goal 14. Conserve and sustainably<br>use the oceans, seas and marine<br>resources for sustainable<br>development<br>\",\"Goal 14. Conserve and sustainably<br>use the oceans, seas and marine<br>resources for sustainable<br>development<br>\",\"Goal 14. Conserve and sustainably<br>use the oceans, seas and marine<br>resources for sustainable<br>development<br>\",\"Goal 14. Conserve and sustainably<br>use the oceans, seas and marine<br>resources for sustainable<br>development<br>\",\"Goal 14. Conserve and sustainably<br>use the oceans, seas and marine<br>resources for sustainable<br>development<br>\",\"Goal 14. Conserve and sustainably<br>use the oceans, seas and marine<br>resources for sustainable<br>development<br>\",\"Goal 15. Protect, restore and<br>promote sustainable use of<br>terrestrial ecosystems, sustainably<br>manage forests,<br>combat\\u00a0desertification, and halt<br>and reverse land degradation and<br>halt biodiversity loss<br>\",\"Goal 15. Protect, restore and<br>promote sustainable use of<br>terrestrial ecosystems, sustainably<br>manage forests,<br>combat\\u00a0desertification, and halt<br>and reverse land degradation and<br>halt biodiversity loss<br>\",\"Goal 15. Protect, restore and<br>promote sustainable use of<br>terrestrial ecosystems, sustainably<br>manage forests,<br>combat\\u00a0desertification, and halt<br>and reverse land degradation and<br>halt biodiversity loss<br>\",\"Goal 15. Protect, restore and<br>promote sustainable use of<br>terrestrial ecosystems, sustainably<br>manage forests,<br>combat\\u00a0desertification, and halt<br>and reverse land degradation and<br>halt biodiversity loss<br>\",\"Goal 15. Protect, restore and<br>promote sustainable use of<br>terrestrial ecosystems, sustainably<br>manage forests,<br>combat\\u00a0desertification, and halt<br>and reverse land degradation and<br>halt biodiversity loss<br>\",\"Goal 15. Protect, restore and<br>promote sustainable use of<br>terrestrial ecosystems, sustainably<br>manage forests,<br>combat\\u00a0desertification, and halt<br>and reverse land degradation and<br>halt biodiversity loss<br>\",\"Goal 15. Protect, restore and<br>promote sustainable use of<br>terrestrial ecosystems, sustainably<br>manage forests,<br>combat\\u00a0desertification, and halt<br>and reverse land degradation and<br>halt biodiversity loss<br>\",\"Goal 15. Protect, restore and<br>promote sustainable use of<br>terrestrial ecosystems, sustainably<br>manage forests,<br>combat\\u00a0desertification, and halt<br>and reverse land degradation and<br>halt biodiversity loss<br>\",\"Goal 15. Protect, restore and<br>promote sustainable use of<br>terrestrial ecosystems, sustainably<br>manage forests,<br>combat\\u00a0desertification, and halt<br>and reverse land degradation and<br>halt biodiversity loss<br>\",\"Goal 15. Protect, restore and<br>promote sustainable use of<br>terrestrial ecosystems, sustainably<br>manage forests,<br>combat\\u00a0desertification, and halt<br>and reverse land degradation and<br>halt biodiversity loss<br>\",\"Goal 15. Protect, restore and<br>promote sustainable use of<br>terrestrial ecosystems, sustainably<br>manage forests,<br>combat\\u00a0desertification, and halt<br>and reverse land degradation and<br>halt biodiversity loss<br>\",\"Goal 15. Protect, restore and<br>promote sustainable use of<br>terrestrial ecosystems, sustainably<br>manage forests,<br>combat\\u00a0desertification, and halt<br>and reverse land degradation and<br>halt biodiversity loss<br>\",\"Goal 16. Promote peaceful and<br>inclusive societies for sustainable<br>development, provide access to<br>justice for all and\\u00a0build<br>effective, accountable and<br>inclusive institutions at all<br>levels<br>\",\"Goal 16. Promote peaceful and<br>inclusive societies for sustainable<br>development, provide access to<br>justice for all and\\u00a0build<br>effective, accountable and<br>inclusive institutions at all<br>levels<br>\",\"Goal 16. Promote peaceful and<br>inclusive societies for sustainable<br>development, provide access to<br>justice for all and\\u00a0build<br>effective, accountable and<br>inclusive institutions at all<br>levels<br>\",\"Goal 16. Promote peaceful and<br>inclusive societies for sustainable<br>development, provide access to<br>justice for all and\\u00a0build<br>effective, accountable and<br>inclusive institutions at all<br>levels<br>\",\"Goal 16. Promote peaceful and<br>inclusive societies for sustainable<br>development, provide access to<br>justice for all and\\u00a0build<br>effective, accountable and<br>inclusive institutions at all<br>levels<br>\",\"Goal 16. Promote peaceful and<br>inclusive societies for sustainable<br>development, provide access to<br>justice for all and\\u00a0build<br>effective, accountable and<br>inclusive institutions at all<br>levels<br>\",\"Goal 16. Promote peaceful and<br>inclusive societies for sustainable<br>development, provide access to<br>justice for all and\\u00a0build<br>effective, accountable and<br>inclusive institutions at all<br>levels<br>\",\"Goal 16. Promote peaceful and<br>inclusive societies for sustainable<br>development, provide access to<br>justice for all and\\u00a0build<br>effective, accountable and<br>inclusive institutions at all<br>levels<br>\",\"Goal 16. Promote peaceful and<br>inclusive societies for sustainable<br>development, provide access to<br>justice for all and\\u00a0build<br>effective, accountable and<br>inclusive institutions at all<br>levels<br>\",\"Goal 16. Promote peaceful and<br>inclusive societies for sustainable<br>development, provide access to<br>justice for all and\\u00a0build<br>effective, accountable and<br>inclusive institutions at all<br>levels<br>\",\"Goal 16. Promote peaceful and<br>inclusive societies for sustainable<br>development, provide access to<br>justice for all and\\u00a0build<br>effective, accountable and<br>inclusive institutions at all<br>levels<br>\",\"Goal 16. Promote peaceful and<br>inclusive societies for sustainable<br>development, provide access to<br>justice for all and\\u00a0build<br>effective, accountable and<br>inclusive institutions at all<br>levels<br>\",\"Goal 17  Strengthen the means of<br>implementation and revitalize the<br>Global Partnership for<br>Sustainable\\u00a0Development<br>\",\"Goal 17  Strengthen the means of<br>implementation and revitalize the<br>Global Partnership for<br>Sustainable\\u00a0Development<br>\",\"Goal 17  Strengthen the means of<br>implementation and revitalize the<br>Global Partnership for<br>Sustainable\\u00a0Development<br>\",\"Goal 17  Strengthen the means of<br>implementation and revitalize the<br>Global Partnership for<br>Sustainable\\u00a0Development<br>\",\"Goal 17  Strengthen the means of<br>implementation and revitalize the<br>Global Partnership for<br>Sustainable\\u00a0Development<br>\",\"Goal 17  Strengthen the means of<br>implementation and revitalize the<br>Global Partnership for<br>Sustainable\\u00a0Development<br>\",\"Goal 17  Strengthen the means of<br>implementation and revitalize the<br>Global Partnership for<br>Sustainable\\u00a0Development<br>\",\"Goal 17  Strengthen the means of<br>implementation and revitalize the<br>Global Partnership for<br>Sustainable\\u00a0Development<br>\",\"Goal 17  Strengthen the means of<br>implementation and revitalize the<br>Global Partnership for<br>Sustainable\\u00a0Development<br>\",\"Goal 17  Strengthen the means of<br>implementation and revitalize the<br>Global Partnership for<br>Sustainable\\u00a0Development<br>\",\"Goal 17  Strengthen the means of<br>implementation and revitalize the<br>Global Partnership for<br>Sustainable\\u00a0Development<br>\",\"Goal 17  Strengthen the means of<br>implementation and revitalize the<br>Global Partnership for<br>Sustainable\\u00a0Development<br>\",\"Goal 17  Strengthen the means of<br>implementation and revitalize the<br>Global Partnership for<br>Sustainable\\u00a0Development<br>\",\"Goal 17  Strengthen the means of<br>implementation and revitalize the<br>Global Partnership for<br>Sustainable\\u00a0Development<br>\",\"Goal 17  Strengthen the means of<br>implementation and revitalize the<br>Global Partnership for<br>Sustainable\\u00a0Development<br>\",\"Goal 17  Strengthen the means of<br>implementation and revitalize the<br>Global Partnership for<br>Sustainable\\u00a0Development<br>\",\"Goal 17  Strengthen the means of<br>implementation and revitalize the<br>Global Partnership for<br>Sustainable\\u00a0Development<br>\",\"Goal 17  Strengthen the means of<br>implementation and revitalize the<br>Global Partnership for<br>Sustainable\\u00a0Development<br>\",\"Goal 17  Strengthen the means of<br>implementation and revitalize the<br>Global Partnership for<br>Sustainable\\u00a0Development<br>\",\"1.1 By 2030, eradicate extreme<br>poverty for all people everywhere,<br>currently measured as people living<br>on less than $1.25 a day<br>\",\"1.2 By 2030, reduce at least by<br>half the proportion of men, women<br>and children of all ages living in<br>poverty in all its dimensions<br>according to national definitions<br>\",\"1.2 By 2030, reduce at least by<br>half the proportion of men, women<br>and children of all ages living in<br>poverty in all its dimensions<br>according to national definitions<br>\",\"1.3 Implement nationally<br>appropriate social protection<br>systems and measures for all,<br>including floors, and by 2030<br>achieve substantial coverage of the<br>poor and the vulnerable<br>\",\"1.4 By 2030, ensure that all men<br>and women, in particular the poor<br>and the vulnerable, have equal<br>rights to economic resources, as<br>well as access to basic services,<br>ownership and control over land and<br>other forms of property,<br>inheritance, natural resources,<br>appropriate new technology and<br>financial services, including<br>microfinance<br>\",\"1.4 By 2030, ensure that all men<br>and women, in particular the poor<br>and the vulnerable, have equal<br>rights to economic resources, as<br>well as access to basic services,<br>ownership and control over land and<br>other forms of property,<br>inheritance, natural resources,<br>appropriate new technology and<br>financial services, including<br>microfinance<br>\",\"1.5 By 2030, build the resilience<br>of the poor and those in vulnerable<br>situations and reduce their<br>exposure and vulnerability to<br>climate-related extreme events and<br>other economic, social and<br>environmental shocks and disasters<br>\",\"1.5 By 2030, build the resilience<br>of the poor and those in vulnerable<br>situations and reduce their<br>exposure and vulnerability to<br>climate-related extreme events and<br>other economic, social and<br>environmental shocks and disasters<br>\",\"1.5 By 2030, build the resilience<br>of the poor and those in vulnerable<br>situations and reduce their<br>exposure and vulnerability to<br>climate-related extreme events and<br>other economic, social and<br>environmental shocks and disasters<br>\",\"1.5 By 2030, build the resilience<br>of the poor and those in vulnerable<br>situations and reduce their<br>exposure and vulnerability to<br>climate-related extreme events and<br>other economic, social and<br>environmental shocks and disasters<br>\",\"1.a Ensure significant mobilization<br>of resources from a variety of<br>sources, including through enhanced<br>development cooperation, in order<br>to provide adequate and predictable<br>means for developing countries, in<br>particular least developed<br>countries, to implement programmes<br>and policies to end poverty in all<br>its dimensions<br>\",\"1.a Ensure significant mobilization<br>of resources from a variety of<br>sources, including through enhanced<br>development cooperation, in order<br>to provide adequate and predictable<br>means for developing countries, in<br>particular least developed<br>countries, to implement programmes<br>and policies to end poverty in all<br>its dimensions<br>\",\"1.b Create sound policy frameworks<br>at the national, regional and<br>international levels, based on pro-<br>poor and gender-sensitive<br>development strategies, to support<br>accelerated investment in poverty<br>eradication actions<br>\",\"2.1 By 2030, end hunger and ensure<br>access by all people, in particular<br>the poor and people in vulnerable<br>situations, including infants, to<br>safe, nutritious and sufficient<br>food all year round<br>\",\"2.1 By 2030, end hunger and ensure<br>access by all people, in particular<br>the poor and people in vulnerable<br>situations, including infants, to<br>safe, nutritious and sufficient<br>food all year round<br>\",\"2.2 By 2030, end all forms of<br>malnutrition, including achieving,<br>by 2025, the internationally agreed<br>targets on stunting and wasting in<br>children under 5\\u00a0years of age, and<br>address the nutritional needs of<br>adolescent girls, pregnant and<br>lactating women and older persons<br>\",\"2.2 By 2030, end all forms of<br>malnutrition, including achieving,<br>by 2025, the internationally agreed<br>targets on stunting and wasting in<br>children under 5\\u00a0years of age, and<br>address the nutritional needs of<br>adolescent girls, pregnant and<br>lactating women and older persons<br>\",\"2.2 By 2030, end all forms of<br>malnutrition, including achieving,<br>by 2025, the internationally agreed<br>targets on stunting and wasting in<br>children under 5\\u00a0years of age, and<br>address the nutritional needs of<br>adolescent girls, pregnant and<br>lactating women and older persons<br>\",\"2.3 By 2030, double the<br>agricultural productivity and<br>incomes of small-scale food<br>producers, in particular women,<br>indigenous peoples, family farmers,<br>pastoralists and fishers, including<br>through secure and equal access to<br>land, other productive resources<br>and inputs, knowledge, financial<br>services, markets and opportunities<br>for value addition and non-farm<br>employment<br>\",\"2.3 By 2030, double the<br>agricultural productivity and<br>incomes of small-scale food<br>producers, in particular women,<br>indigenous peoples, family farmers,<br>pastoralists and fishers, including<br>through secure and equal access to<br>land, other productive resources<br>and inputs, knowledge, financial<br>services, markets and opportunities<br>for value addition and non-farm<br>employment<br>\",\"2.4 By 2030, ensure sustainable<br>food production systems and<br>implement resilient agricultural<br>practices that increase<br>productivity and production, that<br>help maintain ecosystems, that<br>strengthen capacity for adaptation<br>to climate change, extreme weather,<br>drought, flooding and other<br>disasters and that progressively<br>improve land and soil quality<br>\",\"2.5 By 2020, maintain the genetic<br>diversity of seeds, cultivated<br>plants and farmed and domesticated<br>animals and their related wild<br>species, including through soundly<br>managed and diversified seed and<br>plant banks at the national,<br>regional and international levels,<br>and promote access to and fair and<br>equitable sharing of benefits<br>arising from the utilization of<br>genetic resources and associated<br>traditional knowledge, as<br>internationally agreed<br>\",\"2.5 By 2020, maintain the genetic<br>diversity of seeds, cultivated<br>plants and farmed and domesticated<br>animals and their related wild<br>species, including through soundly<br>managed and diversified seed and<br>plant banks at the national,<br>regional and international levels,<br>and promote access to and fair and<br>equitable sharing of benefits<br>arising from the utilization of<br>genetic resources and associated<br>traditional knowledge, as<br>internationally agreed<br>\",\"2.a Increase investment, including<br>through enhanced international<br>cooperation, in rural<br>infrastructure, agricultural<br>research and extension services,<br>technology development and plant<br>and livestock gene banks in order<br>to enhance agricultural productive<br>capacity in developing countries,<br>in particular least developed<br>countries<br>\",\"2.a Increase investment, including<br>through enhanced international<br>cooperation, in rural<br>infrastructure, agricultural<br>research and extension services,<br>technology development and plant<br>and livestock gene banks in order<br>to enhance agricultural productive<br>capacity in developing countries,<br>in particular least developed<br>countries<br>\",\"2.b Correct and prevent trade<br>restrictions and distortions in<br>world agricultural markets,<br>including through the parallel<br>elimination of all forms of<br>agricultural export subsidies and<br>all export measures with equivalent<br>effect, in accordance with the<br>mandate of the Doha Development<br>Round<br>\",\"2.c Adopt measures to ensure the<br>proper functioning of food<br>commodity markets and their<br>derivatives and facilitate timely<br>access to market information,<br>including on food reserves, in<br>order to help limit extreme food<br>price volatility<br>\",\"3.1 By 2030, reduce the global<br>maternal mortality ratio to less<br>than 70 per 100,000 live births<br>\",\"3.1 By 2030, reduce the global<br>maternal mortality ratio to less<br>than 70 per 100,000 live births<br>\",\"3.2 By 2030, end preventable deaths<br>of newborns and children under<br>5\\u00a0years of age, with all countries<br>aiming to reduce neonatal mortality<br>to at least as low as 12 per 1,000<br>live births and under\\u20115 mortality<br>to at least as low as 25 per 1,000<br>live births<br>\",\"3.2 By 2030, end preventable deaths<br>of newborns and children under<br>5\\u00a0years of age, with all countries<br>aiming to reduce neonatal mortality<br>to at least as low as 12 per 1,000<br>live births and under\\u20115 mortality<br>to at least as low as 25 per 1,000<br>live births<br>\",\"3.3 By 2030, end the epidemics of<br>AIDS, tuberculosis, malaria and<br>neglected tropical diseases and<br>combat hepatitis, water-borne<br>diseases and other communicable<br>diseases<br>\",\"3.3 By 2030, end the epidemics of<br>AIDS, tuberculosis, malaria and<br>neglected tropical diseases and<br>combat hepatitis, water-borne<br>diseases and other communicable<br>diseases<br>\",\"3.3 By 2030, end the epidemics of<br>AIDS, tuberculosis, malaria and<br>neglected tropical diseases and<br>combat hepatitis, water-borne<br>diseases and other communicable<br>diseases<br>\",\"3.3 By 2030, end the epidemics of<br>AIDS, tuberculosis, malaria and<br>neglected tropical diseases and<br>combat hepatitis, water-borne<br>diseases and other communicable<br>diseases<br>\",\"3.3 By 2030, end the epidemics of<br>AIDS, tuberculosis, malaria and<br>neglected tropical diseases and<br>combat hepatitis, water-borne<br>diseases and other communicable<br>diseases<br>\",\"3.4 By 2030, reduce by one third<br>premature mortality from non-<br>communicable diseases through<br>prevention and treatment and<br>promote mental health and well-<br>being<br>\",\"3.4 By 2030, reduce by one third<br>premature mortality from non-<br>communicable diseases through<br>prevention and treatment and<br>promote mental health and well-<br>being<br>\",\"3.5 Strengthen the prevention and<br>treatment of substance abuse,<br>including narcotic drug abuse and<br>harmful use of alcohol<br>\",\"3.5 Strengthen the prevention and<br>treatment of substance abuse,<br>including narcotic drug abuse and<br>harmful use of alcohol<br>\",\"3.6 By 2020, halve the number of<br>global deaths and injuries from<br>road traffic accidents<br>\",\"3.7 By 2030, ensure universal<br>access to sexual and reproductive<br>health-care services, including for<br>family planning, information and<br>education, and the integration of<br>reproductive health into national<br>strategies and programmes<br>\",\"3.7 By 2030, ensure universal<br>access to sexual and reproductive<br>health-care services, including for<br>family planning, information and<br>education, and the integration of<br>reproductive health into national<br>strategies and programmes<br>\",\"3.8 Achieve universal health<br>coverage, including financial risk<br>protection, access to quality<br>essential health-care services and<br>access to safe, effective, quality<br>and affordable essential medicines<br>and vaccines for all<br>\",\"3.8 Achieve universal health<br>coverage, including financial risk<br>protection, access to quality<br>essential health-care services and<br>access to safe, effective, quality<br>and affordable essential medicines<br>and vaccines for all<br>\",\"3.9 By 2030, substantially reduce<br>the number of deaths and illnesses<br>from hazardous chemicals and air,<br>water and soil pollution and<br>contamination<br>\",\"3.9 By 2030, substantially reduce<br>the number of deaths and illnesses<br>from hazardous chemicals and air,<br>water and soil pollution and<br>contamination<br>\",\"3.9 By 2030, substantially reduce<br>the number of deaths and illnesses<br>from hazardous chemicals and air,<br>water and soil pollution and<br>contamination<br>\",\"3.a Strengthen the implementation<br>of the World Health Organization<br>Framework Convention on Tobacco<br>Control in all countries, as<br>appropriate<br>\",\"3.b Support the research and<br>development of vaccines and<br>medicines for the communicable and<br>non\\u2011communicable diseases that<br>primarily affect developing<br>countries, provide access to<br>affordable essential medicines and<br>vaccines, in accordance with the<br>Doha Declaration on the TRIPS<br>Agreement and Public Health, which<br>affirms the right of developing<br>countries to use to the full the<br>provisions in the Agreement on<br>Trade-Related Aspects of<br>Intellectual Property Rights<br>regarding flexibilities to protect<br>public health, and, in particular,<br>provide access to medicines for all<br>\",\"3.b Support the research and<br>development of vaccines and<br>medicines for the communicable and<br>non\\u2011communicable diseases that<br>primarily affect developing<br>countries, provide access to<br>affordable essential medicines and<br>vaccines, in accordance with the<br>Doha Declaration on the TRIPS<br>Agreement and Public Health, which<br>affirms the right of developing<br>countries to use to the full the<br>provisions in the Agreement on<br>Trade-Related Aspects of<br>Intellectual Property Rights<br>regarding flexibilities to protect<br>public health, and, in particular,<br>provide access to medicines for all<br>\",\"3.b Support the research and<br>development of vaccines and<br>medicines for the communicable and<br>non\\u2011communicable diseases that<br>primarily affect developing<br>countries, provide access to<br>affordable essential medicines and<br>vaccines, in accordance with the<br>Doha Declaration on the TRIPS<br>Agreement and Public Health, which<br>affirms the right of developing<br>countries to use to the full the<br>provisions in the Agreement on<br>Trade-Related Aspects of<br>Intellectual Property Rights<br>regarding flexibilities to protect<br>public health, and, in particular,<br>provide access to medicines for all<br>\",\"3.c Substantially increase health<br>financing and the recruitment,<br>development, training and retention<br>of the health workforce in<br>developing countries, especially in<br>least developed countries and small<br>island developing States<br>\",\"3.d Strengthen the capacity of all<br>countries, in particular developing<br>countries, for early warning, risk<br>reduction and management of<br>national and global health risks<br>\",\"3.d Strengthen the capacity of all<br>countries, in particular developing<br>countries, for early warning, risk<br>reduction and management of<br>national and global health risks<br>\",\"4.1 By 2030, ensure that all girls<br>and boys complete free, equitable<br>and quality primary and secondary<br>education leading to relevant and<br>effective learning outcomes<br>\",\"4.1 By 2030, ensure that all girls<br>and boys complete free, equitable<br>and quality primary and secondary<br>education leading to relevant and<br>effective learning outcomes<br>\",\"4.2 By 2030, ensure that all girls<br>and boys have access to quality<br>early childhood development, care<br>and pre\\u2011primary education so that<br>they are ready for primary<br>education<br>\",\"4.2 By 2030, ensure that all girls<br>and boys have access to quality<br>early childhood development, care<br>and pre\\u2011primary education so that<br>they are ready for primary<br>education<br>\",\"4.3 By 2030, ensure equal access<br>for all women and men to affordable<br>and quality technical, vocational<br>and tertiary education, including<br>university<br>\",\"4.4 By 2030, substantially increase<br>the number of youth and adults who<br>have relevant skills, including<br>technical and vocational skills,<br>for employment, decent jobs and<br>entrepreneurship<br>\",\"4.5 By 2030, eliminate gender<br>disparities in education and ensure<br>equal access to all levels of<br>education and vocational training<br>for the vulnerable, including<br>persons with disabilities,<br>indigenous peoples and children in<br>vulnerable situations<br>\",\"4.6 By 2030, ensure that all youth<br>and a substantial proportion of<br>adults, both men and women, achieve<br>literacy and numeracy<br>\",\"4.7 By 2030, ensure that all<br>learners acquire the knowledge and<br>skills needed to promote<br>sustainable development, including,<br>among others, through education for<br>sustainable development and<br>sustainable lifestyles, human<br>rights, gender equality, promotion<br>of a culture of peace and non-<br>violence, global citizenship and<br>appreciation of cultural diversity<br>and of culture\\u2019s contribution to<br>sustainable development<br>\",\"4.a Build and upgrade education<br>facilities that are child,<br>disability and gender sensitive and<br>provide safe, non-violent,<br>inclusive and effective learning<br>environments for all<br>\",\"4.b By 2020, substantially expand<br>globally the number of scholarships<br>available to developing countries,<br>in particular least developed<br>countries, small island developing<br>States and African countries, for<br>enrolment in higher education,<br>including vocational training and<br>information and communications<br>technology, technical, engineering<br>and scientific programmes, in<br>developed countries and other<br>developing countries<br>\",\"4.c By 2030, substantially increase<br>the supply of qualified teachers,<br>including through international<br>cooperation for teacher training in<br>developing countries, especially<br>least developed countries and small<br>island developing States<br>\",\"5.1 End all forms of discrimination<br>against all women and girls<br>everywhere<br>\",\"5.2 Eliminate all forms of violence<br>against all women and girls in the<br>public and private spheres,<br>including trafficking and sexual<br>and other types of exploitation<br>\",\"5.2 Eliminate all forms of violence<br>against all women and girls in the<br>public and private spheres,<br>including trafficking and sexual<br>and other types of exploitation<br>\",\"5.3 Eliminate all harmful<br>practices, such as child, early and<br>forced marriage and female genital<br>mutilation<br>\",\"5.3 Eliminate all harmful<br>practices, such as child, early and<br>forced marriage and female genital<br>mutilation<br>\",\"5.4 Recognize and value unpaid care<br>and domestic work through the<br>provision of public services,<br>infrastructure and social<br>protection policies and the<br>promotion of shared responsibility<br>within the household and the family<br>as nationally appropriate<br>\",\"5.5 Ensure women\\u2019s full and<br>effective participation and equal<br>opportunities for leadership at all<br>levels of decision-making in<br>political, economic and public life<br>\",\"5.5 Ensure women\\u2019s full and<br>effective participation and equal<br>opportunities for leadership at all<br>levels of decision-making in<br>political, economic and public life<br>\",\"5.6 Ensure universal access to<br>sexual and reproductive health and<br>reproductive rights as agreed in<br>accordance with the Programme of<br>Action of the International<br>Conference on Population and<br>Development and the Beijing<br>Platform for Action and the outcome<br>documents of their review<br>conferences<br>\",\"5.6 Ensure universal access to<br>sexual and reproductive health and<br>reproductive rights as agreed in<br>accordance with the Programme of<br>Action of the International<br>Conference on Population and<br>Development and the Beijing<br>Platform for Action and the outcome<br>documents of their review<br>conferences<br>\",\"5.a Undertake reforms to give women<br>equal rights to economic resources,<br>as well as access to ownership and<br>control over land and other forms<br>of property, financial services,<br>inheritance and natural resources,<br>in accordance with national laws<br>\",\"5.a Undertake reforms to give women<br>equal rights to economic resources,<br>as well as access to ownership and<br>control over land and other forms<br>of property, financial services,<br>inheritance and natural resources,<br>in accordance with national laws<br>\",\"5.b Enhance the use of enabling<br>technology, in particular<br>information and communications<br>technology, to promote the<br>empowerment of women<br>\",\"5.c Adopt and strengthen sound<br>policies and enforceable<br>legislation for the promotion of<br>gender equality and the empowerment<br>of all women and girls at all<br>levels<br>\",\"6.1 By 2030, achieve universal and<br>equitable access to safe and<br>affordable drinking water for all<br>\",\"6.2 By 2030, achieve access to<br>adequate and equitable sanitation<br>and hygiene for all and end open<br>defecation, paying special<br>attention to the needs of women and<br>girls and those in vulnerable<br>situations<br>\",\"6.3 By 2030, improve water quality<br>by reducing pollution, eliminating<br>dumping and minimizing release of<br>hazardous chemicals and materials,<br>halving the proportion of untreated<br>wastewater and substantially<br>increasing recycling and safe reuse<br>globally<br>\",\"6.3 By 2030, improve water quality<br>by reducing pollution, eliminating<br>dumping and minimizing release of<br>hazardous chemicals and materials,<br>halving the proportion of untreated<br>wastewater and substantially<br>increasing recycling and safe reuse<br>globally<br>\",\"6.4 By 2030, substantially increase<br>water-use efficiency across all<br>sectors and ensure sustainable<br>withdrawals and supply of<br>freshwater to address water<br>scarcity and substantially reduce<br>the number of people suffering from<br>water scarcity<br>\",\"6.4 By 2030, substantially increase<br>water-use efficiency across all<br>sectors and ensure sustainable<br>withdrawals and supply of<br>freshwater to address water<br>scarcity and substantially reduce<br>the number of people suffering from<br>water scarcity<br>\",\"6.5 By 2030, implement integrated<br>water resources management at all<br>levels, including through<br>transboundary cooperation as<br>appropriate<br>\",\"6.5 By 2030, implement integrated<br>water resources management at all<br>levels, including through<br>transboundary cooperation as<br>appropriate<br>\",\"6.6 By 2020, protect and restore<br>water-related ecosystems, including<br>mountains, forests, wetlands,<br>rivers, aquifers and lakes<br>\",\"6.a By 2030, expand international<br>cooperation and capacity-building<br>support to developing countries in<br>water- and sanitation-related<br>activities and programmes,<br>including water harvesting,<br>desalination, water efficiency,<br>wastewater treatment, recycling and<br>reuse technologies<br>\",\"6.b Support and strengthen the<br>participation of local communities<br>in improving water and sanitation<br>management<br>\",\"7.1 By 2030, ensure universal<br>access to affordable, reliable and<br>modern energy services<br>\",\"7.1 By 2030, ensure universal<br>access to affordable, reliable and<br>modern energy services<br>\",\"7.2 By 2030, increase substantially<br>the share of renewable energy in<br>the global energy mix<br>\",\"7.3 By 2030, double the global rate<br>of improvement in energy efficiency<br>\",\"7.a By 2030, enhance international<br>cooperation to facilitate access to<br>clean energy research and<br>technology, including renewable<br>energy, energy efficiency and<br>advanced and cleaner fossil-fuel<br>technology, and promote investment<br>in energy infrastructure and clean<br>energy technology<br>\",\"7.b By 2030, expand infrastructure<br>and upgrade technology for<br>supplying modern and sustainable<br>energy services for all in<br>developing countries, in particular<br>least developed countries, small<br>island developing States and<br>landlocked developing countries, in<br>accordance with their respective<br>programmes of support<br>\",\"8.1 Sustain per capita economic<br>growth in accordance with national<br>circumstances and, in particular,<br>at least 7\\u00a0per\\u00a0cent gross domestic<br>product growth per annum in the<br>least developed countries<br>\",\"8.2 Achieve higher levels of<br>economic productivity through<br>diversification, technological<br>upgrading and innovation, including<br>through a focus on high-value added<br>and labour-intensive sectors<br>\",\"8.3 Promote development-oriented<br>policies that support productive<br>activities, decent job creation,<br>entrepreneurship, creativity and<br>innovation, and encourage the<br>formalization and growth of micro-,<br>small- and medium-sized<br>enterprises, including through<br>access to financial services<br>\",\"8.4 Improve progressively, through<br>2030, global resource efficiency in<br>consumption and production and<br>endeavour to decouple economic<br>growth from environmental<br>degradation, in accordance with the<br>10\\u2011Year Framework of Programmes on<br>Sustainable Consumption and<br>Production, with developed<br>countries taking the lead<br>\",\"8.4 Improve progressively, through<br>2030, global resource efficiency in<br>consumption and production and<br>endeavour to decouple economic<br>growth from environmental<br>degradation, in accordance with the<br>10\\u2011Year Framework of Programmes on<br>Sustainable Consumption and<br>Production, with developed<br>countries taking the lead<br>\",\"8.5 By 2030, achieve full and<br>productive employment and decent<br>work for all women and men,<br>including for young people and<br>persons with disabilities, and<br>equal pay for work of equal value<br>\",\"8.5 By 2030, achieve full and<br>productive employment and decent<br>work for all women and men,<br>including for young people and<br>persons with disabilities, and<br>equal pay for work of equal value<br>\",\"8.6 By 2020, substantially reduce<br>the proportion of youth not in<br>employment, education or training<br>\",\"8.7 Take immediate and effective<br>measures to eradicate forced<br>labour, end modern slavery and<br>human trafficking and secure the<br>prohibition and elimination of the<br>worst forms of child labour,<br>including recruitment and use of<br>child soldiers, and by 2025 end<br>child labour in all its forms<br>\",\"8.8 Protect labour rights and<br>promote safe and secure working<br>environments for all workers,<br>including migrant workers, in<br>particular women migrants, and<br>those in precarious employment<br>\",\"8.8 Protect labour rights and<br>promote safe and secure working<br>environments for all workers,<br>including migrant workers, in<br>particular women migrants, and<br>those in precarious employment<br>\",\"8.9 By 2030, devise and implement<br>policies to promote sustainable<br>tourism that creates jobs and<br>promotes local culture and products<br>\",\"8.10 Strengthen the capacity of<br>domestic financial institutions to<br>encourage and expand access to<br>banking, insurance and financial<br>services for all<br>\",\"8.10 Strengthen the capacity of<br>domestic financial institutions to<br>encourage and expand access to<br>banking, insurance and financial<br>services for all<br>\",\"8.a Increase Aid for Trade support<br>for developing countries, in<br>particular least developed<br>countries, including through the<br>Enhanced Integrated Framework for<br>Trade-related Technical Assistance<br>to Least Developed Countries<br>\",\"8.b By 2020, develop and<br>operationalize a global strategy<br>for youth employment and implement<br>the Global Jobs Pact of the<br>International Labour Organization<br>\",\"9.1 Develop quality, reliable,<br>sustainable and resilient<br>infrastructure, including regional<br>and transborder infrastructure, to<br>support economic development and<br>human well-being, with a focus on<br>affordable and equitable access for<br>all<br>\",\"9.1 Develop quality, reliable,<br>sustainable and resilient<br>infrastructure, including regional<br>and transborder infrastructure, to<br>support economic development and<br>human well-being, with a focus on<br>affordable and equitable access for<br>all<br>\",\"9.2 Promote inclusive and<br>sustainable industrialization and,<br>by 2030, significantly raise<br>industry\\u2019s share of employment and<br>gross domestic product, in line<br>with national circumstances, and<br>double its share in least developed<br>countries<br>\",\"9.2 Promote inclusive and<br>sustainable industrialization and,<br>by 2030, significantly raise<br>industry\\u2019s share of employment and<br>gross domestic product, in line<br>with national circumstances, and<br>double its share in least developed<br>countries<br>\",\"9.3 Increase the access of small-<br>scale industrial and other<br>enterprises, in particular in<br>developing countries, to financial<br>services, including affordable<br>credit, and their integration into<br>value chains and markets<br>\",\"9.3 Increase the access of small-<br>scale industrial and other<br>enterprises, in particular in<br>developing countries, to financial<br>services, including affordable<br>credit, and their integration into<br>value chains and markets<br>\",\"9.4 By 2030, upgrade infrastructure<br>and retrofit industries to make<br>them sustainable, with increased<br>resource-use efficiency and greater<br>adoption of clean and<br>environmentally sound technologies<br>and industrial processes, with all<br>countries taking action in<br>accordance with their respective<br>capabilities<br>\",\"9.5 Enhance scientific research,<br>upgrade the technological<br>capabilities of industrial sectors<br>in all countries, in particular<br>developing countries, including, by<br>2030, encouraging innovation and<br>substantially increasing the number<br>of research and development workers<br>per 1\\u00a0million people and public and<br>private research and development<br>spending<br>\",\"9.5 Enhance scientific research,<br>upgrade the technological<br>capabilities of industrial sectors<br>in all countries, in particular<br>developing countries, including, by<br>2030, encouraging innovation and<br>substantially increasing the number<br>of research and development workers<br>per 1\\u00a0million people and public and<br>private research and development<br>spending<br>\",\"9.a Facilitate sustainable and<br>resilient infrastructure<br>development in developing countries<br>through enhanced financial,<br>technological and technical support<br>to African countries, least<br>developed countries, landlocked<br>developing countries and small<br>island developing States<br>\",\"9.b Support domestic technology<br>development, research and<br>innovation in developing countries,<br>including by ensuring a conducive<br>policy environment for, inter alia,<br>industrial diversification and<br>value addition to commodities<br>\",\"9.c Significantly increase access<br>to information and communications<br>technology and strive to provide<br>universal and affordable access to<br>the Internet in least developed<br>countries by 2020<br>\",\"10.1 By 2030, progressively achieve<br>and sustain income growth of the<br>bottom 40\\u00a0per\\u00a0cent of the<br>population at a rate higher than<br>the national average<br>\",\"10.2 By 2030, empower and promote<br>the social, economic and political<br>inclusion of all, irrespective of<br>age, sex, disability, race,<br>ethnicity, origin, religion or<br>economic or other status<br>\",\"10.3 Ensure equal opportunity and<br>reduce inequalities of outcome,<br>including by eliminating<br>discriminatory laws, policies and<br>practices and promoting appropriate<br>legislation, policies and action in<br>this regard<br>\",\"10.4 Adopt policies, especially<br>fiscal, wage and social protection<br>policies, and progressively achieve<br>greater equality<br>\",\"10.4 Adopt policies, especially<br>fiscal, wage and social protection<br>policies, and progressively achieve<br>greater equality<br>\",\"10.5 Improve the regulation and<br>monitoring of global financial<br>markets and institutions and<br>strengthen the implementation of<br>such regulations<br>\",\"10.6 Ensure enhanced representation<br>and voice for developing countries<br>in decision-making in global<br>international economic and<br>financial institutions in order to<br>deliver more effective, credible,<br>accountable and legitimate<br>institutions<br>\",\"10.7 Facilitate orderly, safe,<br>regular and responsible migration<br>and mobility of people, including<br>through the implementation of<br>planned and well-managed migration<br>policies<br>\",\"10.7 Facilitate orderly, safe,<br>regular and responsible migration<br>and mobility of people, including<br>through the implementation of<br>planned and well-managed migration<br>policies<br>\",\"10.7 Facilitate orderly, safe,<br>regular and responsible migration<br>and mobility of people, including<br>through the implementation of<br>planned and well-managed migration<br>policies<br>\",\"10.7 Facilitate orderly, safe,<br>regular and responsible migration<br>and mobility of people, including<br>through the implementation of<br>planned and well-managed migration<br>policies<br>\",\"10.a Implement the principle of<br>special and differential treatment<br>for developing countries, in<br>particular least developed<br>countries, in accordance with World<br>Trade Organization agreements<br>\",\"10.b Encourage official development<br>assistance and financial flows,<br>including foreign direct<br>investment, to States where the<br>need is greatest, in particular<br>least developed countries, African<br>countries, small island developing<br>States and landlocked developing<br>countries, in accordance with their<br>national plans and programmes<br>\",\"10.c By 2030, reduce to less than<br>3\\u00a0per\\u00a0cent the transaction costs of<br>migrant remittances and eliminate<br>remittance corridors with costs<br>higher than 5\\u00a0per\\u00a0cent<br>\",\"11.1 By 2030, ensure access for all<br>to adequate, safe and affordable<br>housing and basic services and<br>upgrade slums<br>\",\"11.2 By 2030, provide access to<br>safe, affordable, accessible and<br>sustainable transport systems for<br>all, improving road safety, notably<br>by expanding public transport, with<br>special attention to the needs of<br>those in vulnerable situations,<br>women, children, persons with<br>disabilities and older persons<br>\",\"11.3 By 2030, enhance inclusive and<br>sustainable urbanization and<br>capacity for participatory,<br>integrated and sustainable human<br>settlement planning and management<br>in all countries<br>\",\"11.3 By 2030, enhance inclusive and<br>sustainable urbanization and<br>capacity for participatory,<br>integrated and sustainable human<br>settlement planning and management<br>in all countries<br>\",\"11.4 Strengthen efforts to protect<br>and safeguard the world\\u2019s cultural<br>and natural heritage<br>\",\"11.5 By 2030, significantly reduce<br>the number of deaths and the number<br>of people affected and<br>substantially decrease the direct<br>economic losses relative to global<br>gross domestic product caused by<br>disasters, including water-related<br>disasters, with a focus on<br>protecting the poor and people in<br>vulnerable situations<br>\",\"11.5 By 2030, significantly reduce<br>the number of deaths and the number<br>of people affected and<br>substantially decrease the direct<br>economic losses relative to global<br>gross domestic product caused by<br>disasters, including water-related<br>disasters, with a focus on<br>protecting the poor and people in<br>vulnerable situations<br>\",\"11.6 By 2030, reduce the adverse<br>per capita environmental impact of<br>cities, including by paying special<br>attention to air quality and<br>municipal and other waste<br>management<br>\",\"11.6 By 2030, reduce the adverse<br>per capita environmental impact of<br>cities, including by paying special<br>attention to air quality and<br>municipal and other waste<br>management<br>\",\"11.7 By 2030, provide universal<br>access to safe, inclusive and<br>accessible, green and public<br>spaces, in particular for women and<br>children, older persons and persons<br>with disabilities<br>\",\"11.7 By 2030, provide universal<br>access to safe, inclusive and<br>accessible, green and public<br>spaces, in particular for women and<br>children, older persons and persons<br>with disabilities<br>\",\"11.a Support positive economic,<br>social and environmental links<br>between urban, peri-urban and rural<br>areas by strengthening national and<br>regional development planning<br>\",\"11.b By 2020, substantially<br>increase the number of cities and<br>human settlements adopting and<br>implementing integrated policies<br>and plans towards inclusion,<br>resource efficiency, mitigation and<br>adaptation to climate change,<br>resilience to disasters, and<br>develop and implement, in line with<br>the Sendai Framework for Disaster<br>Risk Reduction 2015\\u20132030, holistic<br>disaster risk management at all<br>levels<br>\",\"11.b By 2020, substantially<br>increase the number of cities and<br>human settlements adopting and<br>implementing integrated policies<br>and plans towards inclusion,<br>resource efficiency, mitigation and<br>adaptation to climate change,<br>resilience to disasters, and<br>develop and implement, in line with<br>the Sendai Framework for Disaster<br>Risk Reduction 2015\\u20132030, holistic<br>disaster risk management at all<br>levels<br>\",\"11.c Support least developed<br>countries, including through<br>financial and technical assistance,<br>in building sustainable and<br>resilient buildings utilizing local<br>materials<br>\",\"12.1 Implement the 10\\u2011Year<br>Framework of Programmes on<br>Sustainable Consumption and<br>Production Patterns, all countries<br>taking action, with developed<br>countries taking the lead, taking<br>into account the development and<br>capabilities of developing<br>countries<br>\",\"12.2 By 2030, achieve the<br>sustainable management and<br>efficient use of natural resources<br>\",\"12.2 By 2030, achieve the<br>sustainable management and<br>efficient use of natural resources<br>\",\"12.3 By 2030, halve per capita<br>global food waste at the retail and<br>consumer levels and reduce food<br>losses along production and supply<br>chains, including post-harvest<br>losses<br>\",\"12.4 By 2020, achieve the<br>environmentally sound management of<br>chemicals and all wastes throughout<br>their life cycle, in accordance<br>with agreed international<br>frameworks, and significantly<br>reduce their release to air, water<br>and soil in order to minimize their<br>adverse impacts on human health and<br>the environment<br>\",\"12.4 By 2020, achieve the<br>environmentally sound management of<br>chemicals and all wastes throughout<br>their life cycle, in accordance<br>with agreed international<br>frameworks, and significantly<br>reduce their release to air, water<br>and soil in order to minimize their<br>adverse impacts on human health and<br>the environment<br>\",\"12.5 By 2030, substantially reduce<br>waste generation through<br>prevention, reduction, recycling<br>and reuse<br>\",\"12.6 Encourage companies,<br>especially large and transnational<br>companies, to adopt sustainable<br>practices and to integrate<br>sustainability information into<br>their reporting cycle<br>\",\"12.7 Promote public procurement<br>practices that are sustainable, in<br>accordance with national policies<br>and priorities<br>\",\"12.8 By 2030, ensure that people<br>everywhere have the relevant<br>information and awareness for<br>sustainable development and<br>lifestyles in harmony with nature<br>\",\"12.a Support developing countries<br>to strengthen their scientific and<br>technological capacity to move<br>towards more sustainable patterns<br>of consumption and production<br>\",\"12.b Develop and implement tools to<br>monitor sustainable development<br>impacts for sustainable tourism<br>that creates jobs and promotes<br>local culture and products<br>\",\"12.c Rationalize inefficient<br>fossil-fuel subsidies that<br>encourage wasteful consumption by<br>removing market distortions, in<br>accordance with national<br>circumstances, including by<br>restructuring taxation and phasing<br>out those harmful subsidies, where<br>they exist, to reflect their<br>environmental impacts, taking fully<br>into account the specific needs and<br>conditions of developing countries<br>and minimizing the possible adverse<br>impacts on their development in a<br>manner that protects the poor and<br>the affected communities<br>\",\"13.1 Strengthen resilience and<br>adaptive capacity to climate-<br>related hazards and natural<br>disasters in all countries<br>\",\"13.1 Strengthen resilience and<br>adaptive capacity to climate-<br>related hazards and natural<br>disasters in all countries<br>\",\"13.1 Strengthen resilience and<br>adaptive capacity to climate-<br>related hazards and natural<br>disasters in all countries<br>\",\"13.2 Integrate climate change<br>measures into national policies,<br>strategies and planning<br>\",\"13.2 Integrate climate change<br>measures into national policies,<br>strategies and planning<br>\",\"13.3 Improve education, awareness-<br>raising and human and institutional<br>capacity on climate change<br>mitigation, adaptation, impact<br>reduction and early warning<br>\",\"13.a Implement the commitment<br>undertaken by developed-country<br>parties to the United Nations<br>Framework Convention on Climate<br>Change to a goal of mobilizing<br>jointly $100\\u00a0billion annually by<br>2020 from all sources to address<br>the needs of developing countries<br>in the context of meaningful<br>mitigation actions and transparency<br>on implementation and fully<br>operationalize the Green Climate<br>Fund through its capitalization as<br>soon as possible<br>\",\"13.b Promote mechanisms for raising<br>capacity for effective climate<br>change-related planning and<br>management in least developed<br>countries and small island<br>developing States, including<br>focusing on women, youth and local<br>and marginalized communities<br>\",\"14.1 By 2025, prevent and<br>significantly reduce marine<br>pollution of all kinds, in<br>particular from land-based<br>activities, including marine debris<br>and nutrient pollution<br>\",\"14.2 By 2020, sustainably manage<br>and protect marine and coastal<br>ecosystems to avoid significant<br>adverse impacts, including by<br>strengthening their resilience, and<br>take action for their restoration<br>in order to achieve healthy and<br>productive oceans<br>\",\"14.3 Minimize and address the<br>impacts of ocean acidification,<br>including through enhanced<br>scientific cooperation at all<br>levels<br>\",\"14.4 By 2020, effectively regulate<br>harvesting and end overfishing,<br>illegal, unreported and unregulated<br>fishing and destructive fishing<br>practices and implement science-<br>based management plans, in order to<br>restore fish stocks in the shortest<br>time feasible, at least to levels<br>that can produce maximum<br>sustainable yield as determined by<br>their biological characteristics<br>\",\"14.5 By 2020, conserve at least<br>10\\u00a0per\\u00a0cent of coastal and marine<br>areas, consistent with national and<br>international law and based on the<br>best available scientific<br>information<br>\",\"14.6 By 2020, prohibit certain<br>forms of fisheries subsidies which<br>contribute to overcapacity and<br>overfishing, eliminate subsidies<br>that contribute to illegal,<br>unreported and unregulated fishing<br>and refrain from introducing new<br>such subsidies, recognizing that<br>appropriate and effective special<br>and differential treatment for<br>developing and least developed<br>countries should be an integral<br>part of the World Trade<br>Organization fisheries subsidies<br>negotiation4<br>\",\"14.7 By 2030, increase the economic<br>benefits to small island developing<br>States and least developed<br>countries from the sustainable use<br>of marine resources, including<br>through sustainable management of<br>fisheries, aquaculture and tourism<br>\",\"14.a Increase scientific knowledge,<br>develop research capacity and<br>transfer marine technology, taking<br>into account the Intergovernmental<br>Oceanographic Commission Criteria<br>and Guidelines on the Transfer of<br>Marine Technology, in order to<br>improve ocean health and to enhance<br>the contribution of marine<br>biodiversity to the development of<br>developing countries, in particular<br>small island developing States and<br>least developed countries<br>\",\"14.b Provide access for small-scale<br>artisanal fishers to marine<br>resources and markets<br>\",\"14.c Enhance the conservation and<br>sustainable use of oceans and their<br>resources by implementing<br>international law as reflected in<br>the United Nations Convention on<br>the Law of the Sea, which provides<br>the legal framework for the<br>conservation and sustainable use of<br>oceans and their resources, as<br>recalled in paragraph\\u00a0158 of \\u201cThe<br>future we want\\u201d<br>\",\"15.1 By 2020, ensure the<br>conservation, restoration and<br>sustainable use of terrestrial and<br>inland freshwater ecosystems and<br>their services, in particular<br>forests, wetlands, mountains and<br>drylands, in line with obligations<br>under international agreements<br>\",\"15.1 By 2020, ensure the<br>conservation, restoration and<br>sustainable use of terrestrial and<br>inland freshwater ecosystems and<br>their services, in particular<br>forests, wetlands, mountains and<br>drylands, in line with obligations<br>under international agreements<br>\",\"15.2 By 2020, promote the<br>implementation of sustainable<br>management of all types of forests,<br>halt deforestation, restore<br>degraded forests and substantially<br>increase afforestation and<br>reforestation globally<br>\",\"15.3 By 2030, combat<br>desertification, restore degraded<br>land and soil, including land<br>affected by desertification,<br>drought and floods, and strive to<br>achieve a land degradation-neutral<br>world<br>\",\"15.4 By 2030, ensure the<br>conservation of mountain<br>ecosystems, including their<br>biodiversity, in order to enhance<br>their capacity to provide benefits<br>that are essential for sustainable<br>development<br>\",\"15.4 By 2030, ensure the<br>conservation of mountain<br>ecosystems, including their<br>biodiversity, in order to enhance<br>their capacity to provide benefits<br>that are essential for sustainable<br>development<br>\",\"15.5 Take urgent and significant<br>action to reduce the degradation of<br>natural habitats, halt the loss of<br>biodiversity and, by 2020, protect<br>and prevent the extinction of<br>threatened species<br>\",\"15.6 Promote fair and equitable<br>sharing of the benefits arising<br>from the utilization of genetic<br>resources and promote appropriate<br>access to such resources, as<br>internationally agreed<br>\",\"15.7 Take urgent action to end<br>poaching and trafficking of<br>protected species of flora and<br>fauna and address both demand and<br>supply of illegal wildlife products<br>\",\"15.8 By 2020, introduce measures to<br>prevent the introduction and<br>significantly reduce the impact of<br>invasive alien species on land and<br>water ecosystems and control or<br>eradicate the priority species<br>\",\"15.9 By 2020, integrate ecosystem<br>and biodiversity values into<br>national and local planning,<br>development processes, poverty<br>reduction strategies and accounts<br>\",\"15.a Mobilize and significantly<br>increase financial resources from<br>all sources to conserve and<br>sustainably use biodiversity and<br>ecosystems<br>\",\"15.b Mobilize significant resources<br>from all sources and at all levels<br>to finance sustainable forest<br>management and provide adequate<br>incentives to developing countries<br>to advance such management,<br>including for conservation and<br>reforestation<br>\",\"15.c Enhance global support for<br>efforts to combat poaching and<br>trafficking of protected species,<br>including by increasing the<br>capacity of local communities to<br>pursue sustainable livelihood<br>opportunities<br>\",\"16.1 Significantly reduce all forms<br>of violence and related death rates<br>everywhere<br>\",\"16.1 Significantly reduce all forms<br>of violence and related death rates<br>everywhere<br>\",\"16.1 Significantly reduce all forms<br>of violence and related death rates<br>everywhere<br>\",\"16.1 Significantly reduce all forms<br>of violence and related death rates<br>everywhere<br>\",\"16.2 End abuse, exploitation,<br>trafficking and all forms of<br>violence against and torture of<br>children<br>\",\"16.2 End abuse, exploitation,<br>trafficking and all forms of<br>violence against and torture of<br>children<br>\",\"16.2 End abuse, exploitation,<br>trafficking and all forms of<br>violence against and torture of<br>children<br>\",\"16.3 Promote the rule of law at the<br>national and international levels<br>and ensure equal access to justice<br>for all<br>\",\"16.3 Promote the rule of law at the<br>national and international levels<br>and ensure equal access to justice<br>for all<br>\",\"16.3 Promote the rule of law at the<br>national and international levels<br>and ensure equal access to justice<br>for all<br>\",\"16.4 By 2030, significantly reduce<br>illicit financial and arms flows,<br>strengthen the recovery and return<br>of stolen assets and combat all<br>forms of organized crime<br>\",\"16.4 By 2030, significantly reduce<br>illicit financial and arms flows,<br>strengthen the recovery and return<br>of stolen assets and combat all<br>forms of organized crime<br>\",\"16.5 Substantially reduce<br>corruption and bribery in all their<br>forms<br>\",\"16.5 Substantially reduce<br>corruption and bribery in all their<br>forms<br>\",\"16.6 Develop effective, accountable<br>and transparent institutions at all<br>levels<br>\",\"16.6 Develop effective, accountable<br>and transparent institutions at all<br>levels<br>\",\"16.7 Ensure responsive, inclusive,<br>participatory and representative<br>decision-making at all levels<br>\",\"16.7 Ensure responsive, inclusive,<br>participatory and representative<br>decision-making at all levels<br>\",\"16.8 Broaden and strengthen the<br>participation of developing<br>countries in the institutions of<br>global governance<br>\",\"16.9 By 2030, provide legal<br>identity for all, including birth<br>registration<br>\",\"16.10 Ensure public access to<br>information and protect fundamental<br>freedoms, in accordance with<br>national legislation and<br>international agreements<br>\",\"16.10 Ensure public access to<br>information and protect fundamental<br>freedoms, in accordance with<br>national legislation and<br>international agreements<br>\",\"16.a Strengthen relevant national<br>institutions, including through<br>international cooperation, for<br>building capacity at all levels, in<br>particular in developing countries,<br>to prevent violence and combat<br>terrorism and crime<br>\",\"16.b Promote and enforce non-<br>discriminatory laws and policies<br>for sustainable development<br>\",\"17.1 Strengthen domestic resource<br>mobilization, including through<br>international support to developing<br>countries, to improve domestic<br>capacity for tax and other revenue<br>collection<br>\",\"17.1 Strengthen domestic resource<br>mobilization, including through<br>international support to developing<br>countries, to improve domestic<br>capacity for tax and other revenue<br>collection<br>\",\"17.2 Developed countries to<br>implement fully their official<br>development assistance commitments,<br>including the commitment by many<br>developed countries to achieve the<br>target of 0.7\\u00a0per\\u00a0cent of gross<br>national income for official<br>development assistance (ODA/GNI) to<br>developing countries and 0.15 to<br>0.20\\u00a0per\\u00a0cent of ODA/GNI to least<br>developed countries; ODA providers<br>are encouraged to consider setting<br>a target to provide at least<br>0.20\\u00a0per\\u00a0cent of ODA/GNI to least<br>developed countries<br>\",\"17.3 Mobilize additional financial<br>resources for developing countries<br>from multiple sources<br>\",\"17.3 Mobilize additional financial<br>resources for developing countries<br>from multiple sources<br>\",\"17.4 Assist developing countries in<br>attaining long-term debt<br>sustainability through coordinated<br>policies aimed at fostering debt<br>financing, debt relief and debt<br>restructuring, as appropriate, and<br>address the external debt of highly<br>indebted poor countries to reduce<br>debt distress<br>\",\"17.5 Adopt and implement investment<br>promotion regimes for least<br>developed countries<br>\",\"17.6 Enhance North-South, South-<br>South and triangular regional and<br>international cooperation on and<br>access to science, technology and<br>innovation and enhance knowledge-<br>sharing on mutually agreed terms,<br>including through improved<br>coordination among existing<br>mechanisms, in particular at the<br>United Nations level, and through a<br>global technology facilitation<br>mechanism<br>\",\"17.7 Promote the development,<br>transfer, dissemination and<br>diffusion of environmentally sound<br>technologies to developing<br>countries on favourable terms,<br>including on concessional and<br>preferential terms, as mutually<br>agreed<br>\",\"17.8 Fully operationalize the<br>technology bank and science,<br>technology and innovation capacity-<br>building mechanism for least<br>developed countries by 2017 and<br>enhance the use of enabling<br>technology, in particular<br>information and communications<br>technology<br>\",\"17.9 Enhance international support<br>for implementing effective and<br>targeted capacity-building in<br>developing countries to support<br>national plans to implement all the<br>Sustainable Development Goals,<br>including through North-South,<br>South-South and triangular<br>cooperation<br>\",\"17.10 Promote a universal, rules-<br>based, open, non\\u2011discriminatory and<br>equitable multilateral trading<br>system under the World Trade<br>Organization, including through the<br>conclusion of negotiations under<br>its Doha Development Agenda<br>\",\"17.11 Significantly increase the<br>exports of developing countries, in<br>particular with a view to doubling<br>the least developed countries\\u2019<br>share of global exports by 2020<br>\",\"17.12 Realize timely implementation<br>of duty-free and quota-free market<br>access on a lasting basis for all<br>least developed countries,<br>consistent with World Trade<br>Organization decisions, including<br>by ensuring that preferential rules<br>of origin applicable to imports<br>from least developed countries are<br>transparent and simple, and<br>contribute to facilitating market<br>access<br>\",\"17.13 Enhance global macroeconomic<br>stability, including through policy<br>coordination and policy coherence<br>\",\"17.14 Enhance policy coherence for<br>sustainable development<br>\",\"17.15 Respect each country\\u2019s policy<br>space and leadership to establish<br>and implement policies for poverty<br>eradication and sustainable<br>development<br>\",\"17.16 Enhance the Global<br>Partnership for Sustainable<br>Development, complemented by multi-<br>stakeholder partnerships that<br>mobilize and share knowledge,<br>expertise, technology and financial<br>resources, to support the<br>achievement of the Sustainable<br>Development Goals in all countries,<br>in particular developing countries<br>\",\"17.17 Encourage and promote<br>effective public, public-private<br>and civil society partnerships,<br>building on the experience and<br>resourcing strategies of<br>partnerships<br>\",\"17.18 By 2020, enhance capacity-<br>building support to developing<br>countries, including for least<br>developed countries and small<br>island developing States, to<br>increase significantly the<br>availability of high-quality,<br>timely and reliable data<br>disaggregated by income, gender,<br>age, race, ethnicity, migratory<br>status, disability, geographic<br>location and other characteristics<br>relevant in national contexts<br>\",\"17.18 By 2020, enhance capacity-<br>building support to developing<br>countries, including for least<br>developed countries and small<br>island developing States, to<br>increase significantly the<br>availability of high-quality,<br>timely and reliable data<br>disaggregated by income, gender,<br>age, race, ethnicity, migratory<br>status, disability, geographic<br>location and other characteristics<br>relevant in national contexts<br>\",\"17.18 By 2020, enhance capacity-<br>building support to developing<br>countries, including for least<br>developed countries and small<br>island developing States, to<br>increase significantly the<br>availability of high-quality,<br>timely and reliable data<br>disaggregated by income, gender,<br>age, race, ethnicity, migratory<br>status, disability, geographic<br>location and other characteristics<br>relevant in national contexts<br>\",\"17.19 By 2030, build on existing<br>initiatives to develop measurements<br>of progress on sustainable<br>development that complement gross<br>domestic product, and support<br>statistical capacity-building in<br>developing countries<br>\",\"17.19 By 2030, build on existing<br>initiatives to develop measurements<br>of progress on sustainable<br>development that complement gross<br>domestic product, and support<br>statistical capacity-building in<br>developing countries<br>\"],\"type\":\"sunburst\"}],                        {\"height\":1200,\"hoverlabel\":{\"bgcolor\":\"#faf8de\"},\"margin\":{\"b\":0,\"l\":0,\"r\":0,\"t\":0},\"template\":{\"data\":{\"bar\":[{\"error_x\":{\"color\":\"#2a3f5f\"},\"error_y\":{\"color\":\"#2a3f5f\"},\"marker\":{\"line\":{\"color\":\"#E5ECF6\",\"width\":0.5},\"pattern\":{\"fillmode\":\"overlay\",\"size\":10,\"solidity\":0.2}},\"type\":\"bar\"}],\"barpolar\":[{\"marker\":{\"line\":{\"color\":\"#E5ECF6\",\"width\":0.5},\"pattern\":{\"fillmode\":\"overlay\",\"size\":10,\"solidity\":0.2}},\"type\":\"barpolar\"}],\"carpet\":[{\"aaxis\":{\"endlinecolor\":\"#2a3f5f\",\"gridcolor\":\"white\",\"linecolor\":\"white\",\"minorgridcolor\":\"white\",\"startlinecolor\":\"#2a3f5f\"},\"baxis\":{\"endlinecolor\":\"#2a3f5f\",\"gridcolor\":\"white\",\"linecolor\":\"white\",\"minorgridcolor\":\"white\",\"startlinecolor\":\"#2a3f5f\"},\"type\":\"carpet\"}],\"choropleth\":[{\"colorbar\":{\"outlinewidth\":0,\"ticks\":\"\"},\"type\":\"choropleth\"}],\"contour\":[{\"colorbar\":{\"outlinewidth\":0,\"ticks\":\"\"},\"colorscale\":[[0.0,\"#0d0887\"],[0.1111111111111111,\"#46039f\"],[0.2222222222222222,\"#7201a8\"],[0.3333333333333333,\"#9c179e\"],[0.4444444444444444,\"#bd3786\"],[0.5555555555555556,\"#d8576b\"],[0.6666666666666666,\"#ed7953\"],[0.7777777777777778,\"#fb9f3a\"],[0.8888888888888888,\"#fdca26\"],[1.0,\"#f0f921\"]],\"type\":\"contour\"}],\"contourcarpet\":[{\"colorbar\":{\"outlinewidth\":0,\"ticks\":\"\"},\"type\":\"contourcarpet\"}],\"heatmap\":[{\"colorbar\":{\"outlinewidth\":0,\"ticks\":\"\"},\"colorscale\":[[0.0,\"#0d0887\"],[0.1111111111111111,\"#46039f\"],[0.2222222222222222,\"#7201a8\"],[0.3333333333333333,\"#9c179e\"],[0.4444444444444444,\"#bd3786\"],[0.5555555555555556,\"#d8576b\"],[0.6666666666666666,\"#ed7953\"],[0.7777777777777778,\"#fb9f3a\"],[0.8888888888888888,\"#fdca26\"],[1.0,\"#f0f921\"]],\"type\":\"heatmap\"}],\"heatmapgl\":[{\"colorbar\":{\"outlinewidth\":0,\"ticks\":\"\"},\"colorscale\":[[0.0,\"#0d0887\"],[0.1111111111111111,\"#46039f\"],[0.2222222222222222,\"#7201a8\"],[0.3333333333333333,\"#9c179e\"],[0.4444444444444444,\"#bd3786\"],[0.5555555555555556,\"#d8576b\"],[0.6666666666666666,\"#ed7953\"],[0.7777777777777778,\"#fb9f3a\"],[0.8888888888888888,\"#fdca26\"],[1.0,\"#f0f921\"]],\"type\":\"heatmapgl\"}],\"histogram\":[{\"marker\":{\"pattern\":{\"fillmode\":\"overlay\",\"size\":10,\"solidity\":0.2}},\"type\":\"histogram\"}],\"histogram2d\":[{\"colorbar\":{\"outlinewidth\":0,\"ticks\":\"\"},\"colorscale\":[[0.0,\"#0d0887\"],[0.1111111111111111,\"#46039f\"],[0.2222222222222222,\"#7201a8\"],[0.3333333333333333,\"#9c179e\"],[0.4444444444444444,\"#bd3786\"],[0.5555555555555556,\"#d8576b\"],[0.6666666666666666,\"#ed7953\"],[0.7777777777777778,\"#fb9f3a\"],[0.8888888888888888,\"#fdca26\"],[1.0,\"#f0f921\"]],\"type\":\"histogram2d\"}],\"histogram2dcontour\":[{\"colorbar\":{\"outlinewidth\":0,\"ticks\":\"\"},\"colorscale\":[[0.0,\"#0d0887\"],[0.1111111111111111,\"#46039f\"],[0.2222222222222222,\"#7201a8\"],[0.3333333333333333,\"#9c179e\"],[0.4444444444444444,\"#bd3786\"],[0.5555555555555556,\"#d8576b\"],[0.6666666666666666,\"#ed7953\"],[0.7777777777777778,\"#fb9f3a\"],[0.8888888888888888,\"#fdca26\"],[1.0,\"#f0f921\"]],\"type\":\"histogram2dcontour\"}],\"mesh3d\":[{\"colorbar\":{\"outlinewidth\":0,\"ticks\":\"\"},\"type\":\"mesh3d\"}],\"parcoords\":[{\"line\":{\"colorbar\":{\"outlinewidth\":0,\"ticks\":\"\"}},\"type\":\"parcoords\"}],\"pie\":[{\"automargin\":true,\"type\":\"pie\"}],\"scatter\":[{\"marker\":{\"colorbar\":{\"outlinewidth\":0,\"ticks\":\"\"}},\"type\":\"scatter\"}],\"scatter3d\":[{\"line\":{\"colorbar\":{\"outlinewidth\":0,\"ticks\":\"\"}},\"marker\":{\"colorbar\":{\"outlinewidth\":0,\"ticks\":\"\"}},\"type\":\"scatter3d\"}],\"scattercarpet\":[{\"marker\":{\"colorbar\":{\"outlinewidth\":0,\"ticks\":\"\"}},\"type\":\"scattercarpet\"}],\"scattergeo\":[{\"marker\":{\"colorbar\":{\"outlinewidth\":0,\"ticks\":\"\"}},\"type\":\"scattergeo\"}],\"scattergl\":[{\"marker\":{\"colorbar\":{\"outlinewidth\":0,\"ticks\":\"\"}},\"type\":\"scattergl\"}],\"scattermapbox\":[{\"marker\":{\"colorbar\":{\"outlinewidth\":0,\"ticks\":\"\"}},\"type\":\"scattermapbox\"}],\"scatterpolar\":[{\"marker\":{\"colorbar\":{\"outlinewidth\":0,\"ticks\":\"\"}},\"type\":\"scatterpolar\"}],\"scatterpolargl\":[{\"marker\":{\"colorbar\":{\"outlinewidth\":0,\"ticks\":\"\"}},\"type\":\"scatterpolargl\"}],\"scatterternary\":[{\"marker\":{\"colorbar\":{\"outlinewidth\":0,\"ticks\":\"\"}},\"type\":\"scatterternary\"}],\"surface\":[{\"colorbar\":{\"outlinewidth\":0,\"ticks\":\"\"},\"colorscale\":[[0.0,\"#0d0887\"],[0.1111111111111111,\"#46039f\"],[0.2222222222222222,\"#7201a8\"],[0.3333333333333333,\"#9c179e\"],[0.4444444444444444,\"#bd3786\"],[0.5555555555555556,\"#d8576b\"],[0.6666666666666666,\"#ed7953\"],[0.7777777777777778,\"#fb9f3a\"],[0.8888888888888888,\"#fdca26\"],[1.0,\"#f0f921\"]],\"type\":\"surface\"}],\"table\":[{\"cells\":{\"fill\":{\"color\":\"#EBF0F8\"},\"line\":{\"color\":\"white\"}},\"header\":{\"fill\":{\"color\":\"#C8D4E3\"},\"line\":{\"color\":\"white\"}},\"type\":\"table\"}]},\"layout\":{\"annotationdefaults\":{\"arrowcolor\":\"#2a3f5f\",\"arrowhead\":0,\"arrowwidth\":1},\"autotypenumbers\":\"strict\",\"coloraxis\":{\"colorbar\":{\"outlinewidth\":0,\"ticks\":\"\"}},\"colorscale\":{\"diverging\":[[0,\"#8e0152\"],[0.1,\"#c51b7d\"],[0.2,\"#de77ae\"],[0.3,\"#f1b6da\"],[0.4,\"#fde0ef\"],[0.5,\"#f7f7f7\"],[0.6,\"#e6f5d0\"],[0.7,\"#b8e186\"],[0.8,\"#7fbc41\"],[0.9,\"#4d9221\"],[1,\"#276419\"]],\"sequential\":[[0.0,\"#0d0887\"],[0.1111111111111111,\"#46039f\"],[0.2222222222222222,\"#7201a8\"],[0.3333333333333333,\"#9c179e\"],[0.4444444444444444,\"#bd3786\"],[0.5555555555555556,\"#d8576b\"],[0.6666666666666666,\"#ed7953\"],[0.7777777777777778,\"#fb9f3a\"],[0.8888888888888888,\"#fdca26\"],[1.0,\"#f0f921\"]],\"sequentialminus\":[[0.0,\"#0d0887\"],[0.1111111111111111,\"#46039f\"],[0.2222222222222222,\"#7201a8\"],[0.3333333333333333,\"#9c179e\"],[0.4444444444444444,\"#bd3786\"],[0.5555555555555556,\"#d8576b\"],[0.6666666666666666,\"#ed7953\"],[0.7777777777777778,\"#fb9f3a\"],[0.8888888888888888,\"#fdca26\"],[1.0,\"#f0f921\"]]},\"colorway\":[\"#636efa\",\"#EF553B\",\"#00cc96\",\"#ab63fa\",\"#FFA15A\",\"#19d3f3\",\"#FF6692\",\"#B6E880\",\"#FF97FF\",\"#FECB52\"],\"font\":{\"color\":\"#2a3f5f\"},\"geo\":{\"bgcolor\":\"white\",\"lakecolor\":\"white\",\"landcolor\":\"#E5ECF6\",\"showlakes\":true,\"showland\":true,\"subunitcolor\":\"white\"},\"hoverlabel\":{\"align\":\"left\"},\"hovermode\":\"closest\",\"mapbox\":{\"style\":\"light\"},\"paper_bgcolor\":\"white\",\"plot_bgcolor\":\"#E5ECF6\",\"polar\":{\"angularaxis\":{\"gridcolor\":\"white\",\"linecolor\":\"white\",\"ticks\":\"\"},\"bgcolor\":\"#E5ECF6\",\"radialaxis\":{\"gridcolor\":\"white\",\"linecolor\":\"white\",\"ticks\":\"\"}},\"scene\":{\"xaxis\":{\"backgroundcolor\":\"#E5ECF6\",\"gridcolor\":\"white\",\"gridwidth\":2,\"linecolor\":\"white\",\"showbackground\":true,\"ticks\":\"\",\"zerolinecolor\":\"white\"},\"yaxis\":{\"backgroundcolor\":\"#E5ECF6\",\"gridcolor\":\"white\",\"gridwidth\":2,\"linecolor\":\"white\",\"showbackground\":true,\"ticks\":\"\",\"zerolinecolor\":\"white\"},\"zaxis\":{\"backgroundcolor\":\"#E5ECF6\",\"gridcolor\":\"white\",\"gridwidth\":2,\"linecolor\":\"white\",\"showbackground\":true,\"ticks\":\"\",\"zerolinecolor\":\"white\"}},\"shapedefaults\":{\"line\":{\"color\":\"#2a3f5f\"}},\"ternary\":{\"aaxis\":{\"gridcolor\":\"white\",\"linecolor\":\"white\",\"ticks\":\"\"},\"baxis\":{\"gridcolor\":\"white\",\"linecolor\":\"white\",\"ticks\":\"\"},\"bgcolor\":\"#E5ECF6\",\"caxis\":{\"gridcolor\":\"white\",\"linecolor\":\"white\",\"ticks\":\"\"}},\"title\":{\"x\":0.05},\"xaxis\":{\"automargin\":true,\"gridcolor\":\"white\",\"linecolor\":\"white\",\"ticks\":\"\",\"title\":{\"standoff\":15},\"zerolinecolor\":\"white\",\"zerolinewidth\":2},\"yaxis\":{\"automargin\":true,\"gridcolor\":\"white\",\"linecolor\":\"white\",\"ticks\":\"\",\"title\":{\"standoff\":15},\"zerolinecolor\":\"white\",\"zerolinewidth\":2}}},\"uniformtext\":{\"minsize\":12},\"width\":1800},                        {\"responsive\": true}                    ).then(function(){\n",
       "                            \n",
       "var gd = document.getElementById('f44d712f-87ec-4a63-b94f-494dfd120517');\n",
       "var x = new MutationObserver(function (mutations, observer) {{\n",
       "        var display = window.getComputedStyle(gd).display;\n",
       "        if (!display || display === 'none') {{\n",
       "            console.log([gd, 'removed!']);\n",
       "            Plotly.purge(gd);\n",
       "            observer.disconnect();\n",
       "        }}\n",
       "}});\n",
       "\n",
       "// Listen for the removal of the full notebook cells\n",
       "var notebookContainer = gd.closest('#notebook-container');\n",
       "if (notebookContainer) {{\n",
       "    x.observe(notebookContainer, {childList: true});\n",
       "}}\n",
       "\n",
       "// Listen for the clearing of the current output cell\n",
       "var outputEl = gd.closest('.output');\n",
       "if (outputEl) {{\n",
       "    x.observe(outputEl, {childList: true});\n",
       "}}\n",
       "\n",
       "                        })                };                });            </script>        </div>"
      ]
     },
     "metadata": {},
     "output_type": "display_data"
    }
   ],
   "source": [
    "# use a special line split for the sunburst chart\n",
    "my_labels=[split_every_x_words(each,35) for each in my_topics['Goals and Targets']]\n",
    "my_parents=[split_every_x_words(each,35) for each in my_topics['SDGs']]\n",
    "\n",
    "\n",
    "fig =go.Figure(go.Sunburst(\n",
    "    labels=np.array(my_labels),\n",
    "    parents=np.array(my_parents),\n",
    "    insidetextorientation='radial',\n",
    "    hoverinfo= 'text',\n",
    "    maxdepth=6, #visualize the full depth\n",
    "\n",
    "))\n",
    "\n",
    "\n",
    "fig.update_layout(margin = dict(t=0, l=0, r=0, b=0),\n",
    "                 uniformtext=dict(minsize=12, ),#mode='show'\n",
    "                 width=1800, height=1200,   # very large graphic\n",
    "                 hoverlabel = dict(\n",
    "                    bgcolor = '#faf8de' )#whatever format you want\n",
    "                 )\n",
    "\n",
    "fig.show()\n",
    "fig.write_html(\"Overview_SDGs_sunburst.html\")\n",
    "    "
   ]
  },
  {
   "cell_type": "code",
   "execution_count": 9,
   "metadata": {},
   "outputs": [],
   "source": []
  }
 ],
 "metadata": {
  "kernelspec": {
   "display_name": "Python 3",
   "language": "python",
   "name": "python3"
  },
  "language_info": {
   "codemirror_mode": {
    "name": "ipython",
    "version": 3
   },
   "file_extension": ".py",
   "mimetype": "text/x-python",
   "name": "python",
   "nbconvert_exporter": "python",
   "pygments_lexer": "ipython3",
   "version": "3.7.10"
  }
 },
 "nbformat": 4,
 "nbformat_minor": 4
}
